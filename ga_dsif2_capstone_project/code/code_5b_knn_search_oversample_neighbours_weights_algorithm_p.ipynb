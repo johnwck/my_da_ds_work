{
 "cells": [
  {
   "cell_type": "markdown",
   "id": "541e0a45",
   "metadata": {},
   "source": [
    "<br>  \n",
    "\n",
    "## <span style='color:blue'>Section 1: Import</span>  "
   ]
  },
  {
   "cell_type": "code",
   "execution_count": 1,
   "id": "f2bf7231",
   "metadata": {},
   "outputs": [],
   "source": [
    "import pandas as pd\n",
    "import numpy as np\n",
    "import copy\n",
    "\n",
    "from sklearn.model_selection import StratifiedKFold\n",
    "\n",
    "from sklearn.impute import KNNImputer\n",
    "from imblearn.over_sampling import SMOTE\n",
    "from sklearn.preprocessing import StandardScaler\n",
    "from collections import Counter\n",
    "\n",
    "from sklearn.model_selection import GridSearchCV\n",
    "from imblearn.pipeline import Pipeline\n",
    "\n",
    "from sklearn.neighbors import KNeighborsClassifier\n",
    "\n",
    "from sklearn.metrics import accuracy_score\n",
    "from sklearn.metrics import recall_score\n",
    "from sklearn.metrics import precision_score"
   ]
  },
  {
   "cell_type": "markdown",
   "id": "869b3e9d",
   "metadata": {},
   "source": [
    "<br>  \n",
    "\n",
    "## <span style='color:blue'>Section 2: Read, drop columns, form X_train and y_train</span>  "
   ]
  },
  {
   "cell_type": "code",
   "execution_count": 2,
   "id": "f55c2d65",
   "metadata": {
    "scrolled": true
   },
   "outputs": [
    {
     "name": "stdout",
     "output_type": "stream",
     "text": [
      "Before drop : (882, 51)\n",
      "After drop: (882, 42)\n",
      "\n",
      "X_train : (882, 41)\n",
      "y_train : (882,)\n",
      "\n",
      "y_train : (array([0., 1.]), array([763, 119], dtype=int64))\n",
      "y_train : Counter({0.0: 763, 1.0: 119})\n",
      "0.0    0.865079\n",
      "1.0    0.134921\n",
      "Name: outcome, dtype: float64\n"
     ]
    }
   ],
   "source": [
    "# ---------- read ----------\n",
    "\n",
    "df_1 = pd.read_csv('../data/code_3_train.csv')\n",
    "\n",
    "# ---------- drop ----------\n",
    "\n",
    "print('Before drop :', df_1.shape)\n",
    "df_1.drop(columns=['index',\n",
    "                   'pco2', 'ph', 'basophils', 'lactic_acid', 'bmi',\n",
    "                   'creatine_kinase', 'lymphocyte', 'neutrophils'], inplace=True)\n",
    "print('After drop:', df_1.shape)\n",
    "print('')\n",
    "\n",
    "# ---------- form X ----------\n",
    "\n",
    "X_train = df_1.drop(columns=['outcome'])\n",
    "print('X_train :', X_train.shape)\n",
    "\n",
    "# ---------- form y ----------\n",
    "\n",
    "y_train = df_1['outcome']\n",
    "print('y_train :', y_train.shape)\n",
    "print('')\n",
    "print('y_train :', np.unique(y_train, return_counts=True))\n",
    "print('y_train :', Counter(y_train))\n",
    "print(y_train.value_counts(normalize=True))"
   ]
  },
  {
   "cell_type": "markdown",
   "id": "b7648523",
   "metadata": {},
   "source": [
    "<br>  \n",
    "\n",
    "## <span style='color:blue'>Section 3: Set up 15-fold cross validation</span>  "
   ]
  },
  {
   "cell_type": "code",
   "execution_count": 3,
   "id": "af9e2aa6",
   "metadata": {},
   "outputs": [],
   "source": [
    "kfold_cv = StratifiedKFold(n_splits=15, shuffle=True, random_state=42)"
   ]
  },
  {
   "cell_type": "markdown",
   "id": "5912699a",
   "metadata": {},
   "source": [
    "<br>  \n",
    "\n",
    "## <span style='color:blue'>Section 4: Explore K Nearest Neighbours Classifier with oversample, neighbours, weights, algorithm, p</span>  "
   ]
  },
  {
   "cell_type": "code",
   "execution_count": 4,
   "id": "5ec9a311",
   "metadata": {
    "scrolled": false
   },
   "outputs": [
    {
     "name": "stdout",
     "output_type": "stream",
     "text": [
      "Training : [0.81751931 0.74551158 0.63807379 1.         1.         1.\n",
      " 0.93576791 0.90995817 0.84455169 1.         1.         1.\n",
      " 0.82771879 0.7521021  0.61107894 1.         1.         1.\n",
      " 0.93876019 0.90875697 0.84754397 1.         1.         1.\n",
      " 0.82951523 0.75151223 0.59484663 1.         1.         1.\n",
      " 0.94837516 0.9099689  0.82532711 1.         1.         1.\n",
      " 0.81751931 0.74551158 0.63807379 1.         1.         1.\n",
      " 0.93576791 0.90995817 0.84455169 1.         1.         1.\n",
      " 0.82771879 0.7521021  0.61107894 1.         1.         1.\n",
      " 0.93876019 0.90875697 0.84754397 1.         1.         1.\n",
      " 0.82951523 0.75151223 0.59484663 1.         1.         1.\n",
      " 0.94837516 0.9099689  0.82532711 1.         1.         1.        ]\n",
      "Validation : [0.78214286 0.66309524 0.57142857 0.78214286 0.69642857 0.57142857\n",
      " 0.9        0.89166667 0.81666667 0.9        0.89166667 0.81666667\n",
      " 0.79047619 0.70714286 0.5797619  0.79880952 0.70714286 0.5797619\n",
      " 0.9        0.88333333 0.81666667 0.9        0.88333333 0.81666667\n",
      " 0.79166667 0.69880952 0.5797619  0.79166667 0.69880952 0.58809524\n",
      " 0.91666667 0.88333333 0.81666667 0.91666667 0.9        0.825\n",
      " 0.78214286 0.66309524 0.57142857 0.78214286 0.69642857 0.57142857\n",
      " 0.9        0.89166667 0.81666667 0.9        0.89166667 0.81666667\n",
      " 0.79047619 0.70714286 0.5797619  0.79880952 0.70714286 0.5797619\n",
      " 0.9        0.88333333 0.81666667 0.9        0.88333333 0.81666667\n",
      " 0.79166667 0.69880952 0.5797619  0.79166667 0.69880952 0.58809524\n",
      " 0.91666667 0.88333333 0.81666667 0.91666667 0.9        0.825     ]\n",
      "Overfit % : [ -4.32729205 -11.05500529 -10.44475073 -21.78571429 -30.35714286\n",
      " -42.85714286  -3.82230576  -2.01014798  -3.30175501 -10.\n",
      " -10.83333333 -18.33333333  -4.49942664  -5.97781137  -5.12487495\n",
      " -20.11904762 -29.28571429 -42.02380952  -4.1288701   -2.79762783\n",
      "  -3.6431509  -10.         -11.66666667 -18.33333333  -4.56273273\n",
      "  -7.01288693  -2.53590199 -20.83333333 -30.11904762 -41.19047619\n",
      "  -3.34345473  -2.92708511  -1.04933499  -8.33333333 -10.\n",
      " -17.5         -4.32729205 -11.05500529 -10.44475073 -21.78571429\n",
      " -30.35714286 -42.85714286  -3.82230576  -2.01014798  -3.30175501\n",
      " -10.         -10.83333333 -18.33333333  -4.49942664  -5.97781137\n",
      "  -5.12487495 -20.11904762 -29.28571429 -42.02380952  -4.1288701\n",
      "  -2.79762783  -3.6431509  -10.         -11.66666667 -18.33333333\n",
      "  -4.56273273  -7.01288693  -2.53590199 -20.83333333 -30.11904762\n",
      " -41.19047619  -3.34345473  -2.92708511  -1.04933499  -8.33333333\n",
      " -10.         -17.5       ]\n",
      "\n",
      "                                             parameters  \\\n",
      "0     {'kn_class__algorithm': 'auto', 'kn_class__n_n...   \n",
      "1     {'kn_class__algorithm': 'auto', 'kn_class__n_n...   \n",
      "2     {'kn_class__algorithm': 'auto', 'kn_class__n_n...   \n",
      "3     {'kn_class__algorithm': 'auto', 'kn_class__n_n...   \n",
      "4     {'kn_class__algorithm': 'auto', 'kn_class__n_n...   \n",
      "...                                                 ...   \n",
      "1075  {'kn_class__algorithm': 'brute', 'kn_class__n_...   \n",
      "1076  {'kn_class__algorithm': 'brute', 'kn_class__n_...   \n",
      "1077  {'kn_class__algorithm': 'brute', 'kn_class__n_...   \n",
      "1078  {'kn_class__algorithm': 'brute', 'kn_class__n_...   \n",
      "1079  {'kn_class__algorithm': 'brute', 'kn_class__n_...   \n",
      "\n",
      "      oversample_SMOTE__sampling_strategy  kn_class__n_neighbors  \\\n",
      "0                                     1.0                    100   \n",
      "1                                     1.0                    100   \n",
      "2                                     1.0                    100   \n",
      "3                                     1.0                    100   \n",
      "4                                     1.0                    100   \n",
      "...                                   ...                    ...   \n",
      "1075                                  0.7                    200   \n",
      "1076                                  0.7                    200   \n",
      "1077                                  0.7                    200   \n",
      "1078                                  0.7                    200   \n",
      "1079                                  0.7                    200   \n",
      "\n",
      "     kn_class__weights kn_class__algorithm  kn_class__p  training  validation  \\\n",
      "0              uniform                auto            1  0.828829       0.625   \n",
      "1              uniform                auto            1  0.765766       0.875   \n",
      "2              uniform                auto            1  0.837838       1.000   \n",
      "3              uniform                auto            1  0.801802       0.625   \n",
      "4              uniform                auto            1  0.819820       0.625   \n",
      "...                ...                 ...          ...       ...         ...   \n",
      "1075          distance               brute            2  1.000000       1.000   \n",
      "1076          distance               brute            2  1.000000       0.875   \n",
      "1077          distance               brute            2  1.000000       0.875   \n",
      "1078          distance               brute            2  1.000000       0.750   \n",
      "1079          distance               brute            2  1.000000       1.000   \n",
      "\n",
      "      overfit_%  \n",
      "0    -24.592391  \n",
      "1     14.264706  \n",
      "2     19.354839  \n",
      "3    -22.050562  \n",
      "4    -23.763736  \n",
      "...         ...  \n",
      "1075   0.000000  \n",
      "1076 -12.500000  \n",
      "1077 -12.500000  \n",
      "1078 -25.000000  \n",
      "1079   0.000000  \n",
      "\n",
      "[1080 rows x 9 columns]\n"
     ]
    }
   ],
   "source": [
    "# ---------- make pipeline ----------\n",
    "\n",
    "pipe_line_kn = Pipeline([('knn_impute', KNNImputer(n_neighbors=5)),\n",
    "                         ('oversample_SMOTE', SMOTE(random_state=42)),\n",
    "                         ('ss_scale', StandardScaler()),\n",
    "                         ('kn_class', KNeighborsClassifier())])\n",
    "\n",
    "# ---------- tuning of hyperparameters ----------\n",
    "\n",
    "pipe_line_params_kn = {'oversample_SMOTE__sampling_strategy': [1.00, 0.85, 0.70],\n",
    "                       'kn_class__n_neighbors': [100, 150, 200],\n",
    "                       'kn_class__weights': ['uniform', 'distance'],\n",
    "                       'kn_class__algorithm': ['auto', 'brute'],\n",
    "                       'kn_class__p': [1, 2]}\n",
    "\n",
    "# ---------- instantiate gridsearchcv for recall in accordance to aim of modelling ----------\n",
    "\n",
    "search_kn = GridSearchCV(pipe_line_kn,\n",
    "                         param_grid=pipe_line_params_kn,\n",
    "                         cv=kfold_cv,\n",
    "                         return_train_score=True,\n",
    "                         scoring='recall')\n",
    "\n",
    "search_kn.fit(X_train, y_train)\n",
    "\n",
    "# ---------- quick overview of recall train score, test score and overfit ----------\n",
    "\n",
    "print('Training :', search_kn.cv_results_['mean_train_score'])\n",
    "print('Validation :', search_kn.cv_results_['mean_test_score'])\n",
    "print('Overfit % :', (search_kn.cv_results_['mean_test_score']-search_kn.cv_results_['mean_train_score'])/search_kn.cv_results_['mean_train_score']*100)\n",
    "print('')\n",
    "\n",
    "# ---------- details of recall train score and test score ----------\n",
    "\n",
    "temp_df_kn = []\n",
    "for j in range(len(search_kn.cv_results_['params'])):\n",
    "    for i in range(kfold_cv.n_splits):\n",
    "        over_fit = (search_kn.cv_results_['split'+str(i)+'_test_score'][j]-search_kn.cv_results_['split'+str(i)+'_train_score'][j])/search_kn.cv_results_['split'+str(i)+'_train_score'][j]*100\n",
    "        temp_df_kn.append([search_kn.cv_results_['params'][j],\n",
    "                           search_kn.cv_results_['params'][j]['oversample_SMOTE__sampling_strategy'],\n",
    "                           search_kn.cv_results_['params'][j]['kn_class__n_neighbors'],\n",
    "                           search_kn.cv_results_['params'][j]['kn_class__weights'],\n",
    "                           search_kn.cv_results_['params'][j]['kn_class__algorithm'],\n",
    "                           search_kn.cv_results_['params'][j]['kn_class__p'],\n",
    "                           search_kn.cv_results_['split'+str(i)+'_train_score'][j],\n",
    "                           search_kn.cv_results_['split'+str(i)+'_test_score'][j],\n",
    "                           over_fit])\n",
    "\n",
    "# ---------- save results ----------\n",
    "\n",
    "temp_df_kn = pd.DataFrame(temp_df_kn, columns=['parameters', 'oversample_SMOTE__sampling_strategy',\n",
    "                                               'kn_class__n_neighbors', 'kn_class__weights',\n",
    "                                               'kn_class__algorithm', 'kn_class__p', 'training', 'validation', 'overfit_%'])\n",
    "print(temp_df_kn)\n",
    "temp_df_kn.to_csv('../data/code_5b_kn_train_validate_recall.csv', na_rep='NaN', index_label='index')"
   ]
  },
  {
   "cell_type": "markdown",
   "id": "e88bd3c2",
   "metadata": {},
   "source": [
    "### <span style='color:green'>Refer to slides for visualisation of analysis.</span>  "
   ]
  },
  {
   "cell_type": "markdown",
   "id": "1f9b02dd",
   "metadata": {},
   "source": [
    "3 Jan 2022"
   ]
  },
  {
   "cell_type": "code",
   "execution_count": null,
   "id": "2a69506b",
   "metadata": {},
   "outputs": [],
   "source": []
  }
 ],
 "metadata": {
  "kernelspec": {
   "display_name": "Python 3",
   "language": "python",
   "name": "python3"
  },
  "language_info": {
   "codemirror_mode": {
    "name": "ipython",
    "version": 3
   },
   "file_extension": ".py",
   "mimetype": "text/x-python",
   "name": "python",
   "nbconvert_exporter": "python",
   "pygments_lexer": "ipython3",
   "version": "3.8.8"
  }
 },
 "nbformat": 4,
 "nbformat_minor": 5
}
