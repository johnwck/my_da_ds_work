{
 "cells": [
  {
   "cell_type": "markdown",
   "id": "541e0a45",
   "metadata": {},
   "source": [
    "<br>  \n",
    "\n",
    "## <span style='color:blue'>Section 1: Import</span>  "
   ]
  },
  {
   "cell_type": "code",
   "execution_count": 1,
   "id": "f2bf7231",
   "metadata": {},
   "outputs": [],
   "source": [
    "import pandas as pd\n",
    "import numpy as np\n",
    "import copy\n",
    "\n",
    "from sklearn.model_selection import StratifiedKFold\n",
    "\n",
    "from sklearn.impute import KNNImputer\n",
    "from imblearn.over_sampling import SMOTE\n",
    "from sklearn.preprocessing import StandardScaler\n",
    "from collections import Counter\n",
    "\n",
    "from sklearn.model_selection import GridSearchCV\n",
    "from imblearn.pipeline import Pipeline\n",
    "\n",
    "from sklearn.neighbors import KNeighborsClassifier\n",
    "\n",
    "from sklearn.metrics import accuracy_score\n",
    "from sklearn.metrics import recall_score\n",
    "from sklearn.metrics import precision_score"
   ]
  },
  {
   "cell_type": "markdown",
   "id": "869b3e9d",
   "metadata": {},
   "source": [
    "<br>  \n",
    "\n",
    "## <span style='color:blue'>Section 2: Read, drop columns, form X_train and y_train</span>  "
   ]
  },
  {
   "cell_type": "code",
   "execution_count": 2,
   "id": "f55c2d65",
   "metadata": {
    "scrolled": true
   },
   "outputs": [
    {
     "name": "stdout",
     "output_type": "stream",
     "text": [
      "Before drop : (882, 51)\n",
      "After drop: (882, 42)\n",
      "\n",
      "X_train : (882, 41)\n",
      "y_train : (882,)\n",
      "\n",
      "y_train : (array([0., 1.]), array([763, 119], dtype=int64))\n",
      "y_train : Counter({0.0: 763, 1.0: 119})\n",
      "0.0    0.865079\n",
      "1.0    0.134921\n",
      "Name: outcome, dtype: float64\n"
     ]
    }
   ],
   "source": [
    "# ---------- read ----------\n",
    "\n",
    "df_1 = pd.read_csv('../data/code_3_train.csv')\n",
    "\n",
    "# ---------- drop ----------\n",
    "\n",
    "print('Before drop :', df_1.shape)\n",
    "df_1.drop(columns=['index',\n",
    "                   'pco2', 'ph', 'basophils', 'lactic_acid', 'bmi',\n",
    "                   'creatine_kinase', 'lymphocyte', 'neutrophils'], inplace=True)\n",
    "print('After drop:', df_1.shape)\n",
    "print('')\n",
    "\n",
    "# ---------- form X ----------\n",
    "\n",
    "X_train = df_1.drop(columns=['outcome'])\n",
    "print('X_train :', X_train.shape)\n",
    "\n",
    "# ---------- form y ----------\n",
    "\n",
    "y_train = df_1['outcome']\n",
    "print('y_train :', y_train.shape)\n",
    "print('')\n",
    "print('y_train :', np.unique(y_train, return_counts=True))\n",
    "print('y_train :', Counter(y_train))\n",
    "print(y_train.value_counts(normalize=True))"
   ]
  },
  {
   "cell_type": "markdown",
   "id": "b7648523",
   "metadata": {},
   "source": [
    "<br>  \n",
    "\n",
    "## <span style='color:blue'>Section 3: Set up 15-fold cross validation</span>  "
   ]
  },
  {
   "cell_type": "code",
   "execution_count": 3,
   "id": "af9e2aa6",
   "metadata": {},
   "outputs": [],
   "source": [
    "kfold_cv = StratifiedKFold(n_splits=15, shuffle=True, random_state=42)"
   ]
  },
  {
   "cell_type": "markdown",
   "id": "5912699a",
   "metadata": {},
   "source": [
    "<br>  \n",
    "\n",
    "## <span style='color:blue'>Section 4: Explore K Nearest Neighbours Classifier with neighbours</span>  "
   ]
  },
  {
   "cell_type": "code",
   "execution_count": 4,
   "id": "5ec9a311",
   "metadata": {
    "scrolled": false
   },
   "outputs": [
    {
     "name": "stdout",
     "output_type": "stream",
     "text": [
      "Training : [0.94837516 0.94477692 0.94477156 0.94417632 0.94957636 0.94718468\n",
      " 0.94297512 0.93336551 0.9285607  0.91295045 0.89614436]\n",
      "Validation : [0.91666667 0.925      0.91666667 0.91666667 0.93333333 0.93333333\n",
      " 0.93333333 0.91666667 0.91666667 0.90833333 0.88333333]\n",
      "Overfit % : [-3.34345473 -2.09328989 -2.97478162 -2.9136139  -1.7105553  -1.46237071\n",
      " -1.02248558 -1.78909993 -1.28091108 -0.50573578 -1.42957161]\n",
      "\n",
      "                                            parameters  \\\n",
      "0    {'kn_class__algorithm': 'brute', 'kn_class__n_...   \n",
      "1    {'kn_class__algorithm': 'brute', 'kn_class__n_...   \n",
      "2    {'kn_class__algorithm': 'brute', 'kn_class__n_...   \n",
      "3    {'kn_class__algorithm': 'brute', 'kn_class__n_...   \n",
      "4    {'kn_class__algorithm': 'brute', 'kn_class__n_...   \n",
      "..                                                 ...   \n",
      "160  {'kn_class__algorithm': 'brute', 'kn_class__n_...   \n",
      "161  {'kn_class__algorithm': 'brute', 'kn_class__n_...   \n",
      "162  {'kn_class__algorithm': 'brute', 'kn_class__n_...   \n",
      "163  {'kn_class__algorithm': 'brute', 'kn_class__n_...   \n",
      "164  {'kn_class__algorithm': 'brute', 'kn_class__n_...   \n",
      "\n",
      "     oversample_SMOTE__sampling_strategy  kn_class__n_neighbors  \\\n",
      "0                                    1.0                    200   \n",
      "1                                    1.0                    200   \n",
      "2                                    1.0                    200   \n",
      "3                                    1.0                    200   \n",
      "4                                    1.0                    200   \n",
      "..                                   ...                    ...   \n",
      "160                                  1.0                   1200   \n",
      "161                                  1.0                   1200   \n",
      "162                                  1.0                   1200   \n",
      "163                                  1.0                   1200   \n",
      "164                                  1.0                   1200   \n",
      "\n",
      "    kn_class__weights kn_class__algorithm  kn_class__p  training  validation  \\\n",
      "0             uniform               brute            2  0.927928       1.000   \n",
      "1             uniform               brute            2  0.936937       0.875   \n",
      "2             uniform               brute            2  0.954955       1.000   \n",
      "3             uniform               brute            2  0.936937       0.750   \n",
      "4             uniform               brute            2  0.954955       0.625   \n",
      "..                ...                 ...          ...       ...         ...   \n",
      "160           uniform               brute            2  0.891892       0.875   \n",
      "161           uniform               brute            2  0.918919       1.000   \n",
      "162           uniform               brute            2  0.900901       1.000   \n",
      "163           uniform               brute            2  0.918919       0.750   \n",
      "164           uniform               brute            2  0.919643       1.000   \n",
      "\n",
      "     overfit_%  \n",
      "0     7.766990  \n",
      "1    -6.610577  \n",
      "2     4.716981  \n",
      "3   -19.951923  \n",
      "4   -34.551887  \n",
      "..         ...  \n",
      "160  -1.893939  \n",
      "161   8.823529  \n",
      "162  11.000000  \n",
      "163 -18.382353  \n",
      "164   8.737864  \n",
      "\n",
      "[165 rows x 9 columns]\n"
     ]
    }
   ],
   "source": [
    "# ---------- make pipeline ----------\n",
    "\n",
    "pipe_line_kn = Pipeline([('knn_impute', KNNImputer(n_neighbors=5)),\n",
    "                         ('oversample_SMOTE', SMOTE(random_state=42)),\n",
    "                         ('ss_scale', StandardScaler()),\n",
    "                         ('kn_class', KNeighborsClassifier())])\n",
    "\n",
    "# ---------- tuning of hyperparameters ----------\n",
    "\n",
    "pipe_line_params_kn = {'oversample_SMOTE__sampling_strategy': [1.00],\n",
    "                       'kn_class__n_neighbors': [200, 300, 400, 500, 600, 700, 800, 900, 1000, 1100, 1200],\n",
    "                       'kn_class__weights': ['uniform'],\n",
    "                       'kn_class__algorithm': ['brute'],\n",
    "                       'kn_class__p': [2]}\n",
    "\n",
    "# ---------- instantiate gridsearchcv for recall in accordance to aim of modelling ----------\n",
    "\n",
    "search_kn = GridSearchCV(pipe_line_kn,\n",
    "                         param_grid=pipe_line_params_kn,\n",
    "                         cv=kfold_cv,\n",
    "                         return_train_score=True,\n",
    "                         scoring='recall')\n",
    "\n",
    "search_kn.fit(X_train, y_train)\n",
    "\n",
    "# ---------- quick overview of recall train score, test score and overfit ----------\n",
    "\n",
    "print('Training :', search_kn.cv_results_['mean_train_score'])\n",
    "print('Validation :', search_kn.cv_results_['mean_test_score'])\n",
    "print('Overfit % :', (search_kn.cv_results_['mean_test_score']-search_kn.cv_results_['mean_train_score'])/search_kn.cv_results_['mean_train_score']*100)\n",
    "print('')\n",
    "\n",
    "# ---------- details of recall train score and test score ----------\n",
    "\n",
    "temp_df_kn = []\n",
    "for j in range(len(search_kn.cv_results_['params'])):\n",
    "    for i in range(kfold_cv.n_splits):\n",
    "        over_fit = (search_kn.cv_results_['split'+str(i)+'_test_score'][j]-search_kn.cv_results_['split'+str(i)+'_train_score'][j])/search_kn.cv_results_['split'+str(i)+'_train_score'][j]*100\n",
    "        temp_df_kn.append([search_kn.cv_results_['params'][j],\n",
    "                           search_kn.cv_results_['params'][j]['oversample_SMOTE__sampling_strategy'],\n",
    "                           search_kn.cv_results_['params'][j]['kn_class__n_neighbors'],\n",
    "                           search_kn.cv_results_['params'][j]['kn_class__weights'],\n",
    "                           search_kn.cv_results_['params'][j]['kn_class__algorithm'],\n",
    "                           search_kn.cv_results_['params'][j]['kn_class__p'],\n",
    "                           search_kn.cv_results_['split'+str(i)+'_train_score'][j],\n",
    "                           search_kn.cv_results_['split'+str(i)+'_test_score'][j],\n",
    "                           over_fit])\n",
    "\n",
    "# ---------- save results ----------\n",
    "\n",
    "temp_df_kn = pd.DataFrame(temp_df_kn, columns=['parameters', 'oversample_SMOTE__sampling_strategy',\n",
    "                                               'kn_class__n_neighbors', 'kn_class__weights',\n",
    "                                               'kn_class__algorithm', 'kn_class__p', 'training', 'validation', 'overfit_%'])\n",
    "print(temp_df_kn)\n",
    "temp_df_kn.to_csv('../data/code_5c_kn_train_validate_recall.csv', na_rep='NaN', index_label='index')"
   ]
  },
  {
   "cell_type": "markdown",
   "id": "896986a2",
   "metadata": {},
   "source": [
    "### <span style='color:green'>Refer to slides for visualisation of analysis.</span>  "
   ]
  },
  {
   "cell_type": "markdown",
   "id": "983df1db",
   "metadata": {},
   "source": [
    "3 Jan 2022"
   ]
  },
  {
   "cell_type": "code",
   "execution_count": null,
   "id": "0d3ac120",
   "metadata": {},
   "outputs": [],
   "source": []
  }
 ],
 "metadata": {
  "kernelspec": {
   "display_name": "Python 3",
   "language": "python",
   "name": "python3"
  },
  "language_info": {
   "codemirror_mode": {
    "name": "ipython",
    "version": 3
   },
   "file_extension": ".py",
   "mimetype": "text/x-python",
   "name": "python",
   "nbconvert_exporter": "python",
   "pygments_lexer": "ipython3",
   "version": "3.8.8"
  }
 },
 "nbformat": 4,
 "nbformat_minor": 5
}
