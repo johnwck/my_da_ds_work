{
 "cells": [
  {
   "cell_type": "markdown",
   "id": "541e0a45",
   "metadata": {},
   "source": [
    "<br>  \n",
    "\n",
    "## <span style='color:blue'>Section 1: Import</span>  "
   ]
  },
  {
   "cell_type": "code",
   "execution_count": 1,
   "id": "6cf0d213",
   "metadata": {},
   "outputs": [],
   "source": [
    "import pandas as pd\n",
    "import numpy as np\n",
    "import copy\n",
    "\n",
    "from sklearn.model_selection import train_test_split"
   ]
  },
  {
   "cell_type": "markdown",
   "id": "869b3e9d",
   "metadata": {},
   "source": [
    "<br>  \n",
    "\n",
    "## <span style='color:blue'>Section 2: Read and drop index column</span>  "
   ]
  },
  {
   "cell_type": "code",
   "execution_count": 2,
   "id": "3063c0e6",
   "metadata": {},
   "outputs": [
    {
     "name": "stdout",
     "output_type": "stream",
     "text": [
      "Before : (1177, 51)\n",
      "After : (1177, 50)\n"
     ]
    }
   ],
   "source": [
    "df_1 = pd.read_csv('../data/code_2_data.csv')\n",
    "\n",
    "print('Before :', df_1.shape)\n",
    "df_1.drop(columns=['index'], inplace=True)\n",
    "print('After :', df_1.shape)"
   ]
  },
  {
   "cell_type": "markdown",
   "id": "6c7ba221",
   "metadata": {},
   "source": [
    "<br>  \n",
    "\n",
    "## <span style='color:blue'>Section 3: Drop row with missing value in outcome</span>  "
   ]
  },
  {
   "cell_type": "code",
   "execution_count": 3,
   "id": "ee275c3f",
   "metadata": {},
   "outputs": [
    {
     "name": "stdout",
     "output_type": "stream",
     "text": [
      "Before : (1177, 50)\n",
      "After : (1176, 50)\n"
     ]
    }
   ],
   "source": [
    "print('Before :', df_1.shape)\n",
    "df_1 = df_1.dropna(subset=['outcome'])\n",
    "print('After :', df_1.shape)"
   ]
  },
  {
   "cell_type": "markdown",
   "id": "1383bc2d",
   "metadata": {},
   "source": [
    "<br>  \n",
    "\n",
    "## <span style='color:blue'>Section 4: Form X and y and check category distribution of y</span>  "
   ]
  },
  {
   "cell_type": "code",
   "execution_count": 4,
   "id": "ca7578ae",
   "metadata": {},
   "outputs": [
    {
     "name": "stdout",
     "output_type": "stream",
     "text": [
      "X : (1176, 49)\n",
      "y : (1176,)\n"
     ]
    }
   ],
   "source": [
    "X = df_1.drop(columns=['outcome'])\n",
    "print('X :', X.shape)\n",
    "\n",
    "y = df_1['outcome']\n",
    "print('y :', y.shape)"
   ]
  },
  {
   "cell_type": "code",
   "execution_count": 5,
   "id": "4f71e96c",
   "metadata": {},
   "outputs": [
    {
     "data": {
      "text/plain": [
       "0.0    0.864796\n",
       "1.0    0.135204\n",
       "Name: outcome, dtype: float64"
      ]
     },
     "execution_count": 5,
     "metadata": {},
     "output_type": "execute_result"
    }
   ],
   "source": [
    "y.value_counts(dropna=False, normalize=True)"
   ]
  },
  {
   "cell_type": "code",
   "execution_count": 6,
   "id": "bf533838",
   "metadata": {},
   "outputs": [
    {
     "data": {
      "text/plain": [
       "0.0    1017\n",
       "1.0     159\n",
       "Name: outcome, dtype: int64"
      ]
     },
     "execution_count": 6,
     "metadata": {},
     "output_type": "execute_result"
    }
   ],
   "source": [
    "y.value_counts(dropna=False)"
   ]
  },
  {
   "cell_type": "markdown",
   "id": "4206ae80",
   "metadata": {},
   "source": [
    "<br>  \n",
    "\n",
    "## <span style='color:blue'>Section 5: Train test split</span>  "
   ]
  },
  {
   "cell_type": "code",
   "execution_count": 7,
   "id": "0d2d696b",
   "metadata": {},
   "outputs": [
    {
     "name": "stdout",
     "output_type": "stream",
     "text": [
      "X train : (882, 49)\n",
      "y train : (882,)\n",
      "\n",
      "X test : (294, 49)\n",
      "y test : (294,)\n"
     ]
    }
   ],
   "source": [
    "X_train, X_test, y_train, y_test = train_test_split(X, y, stratify=y, random_state=42, shuffle=True, test_size=0.25)\n",
    "\n",
    "print('X train :', X_train.shape)\n",
    "print('y train :', y_train.shape)\n",
    "print('')\n",
    "\n",
    "print('X test :', X_test.shape)\n",
    "print('y test :', y_test.shape)"
   ]
  },
  {
   "cell_type": "markdown",
   "id": "5ee224a8",
   "metadata": {},
   "source": [
    "<br>  \n",
    "\n",
    "## <span style='color:blue'>Section 6: Compare category distribution of y_train and y_test</span>  "
   ]
  },
  {
   "cell_type": "code",
   "execution_count": 8,
   "id": "4216e658",
   "metadata": {},
   "outputs": [
    {
     "data": {
      "text/plain": [
       "0.0    0.865079\n",
       "1.0    0.134921\n",
       "Name: outcome, dtype: float64"
      ]
     },
     "execution_count": 8,
     "metadata": {},
     "output_type": "execute_result"
    }
   ],
   "source": [
    "y_train.value_counts(dropna=False, normalize=True)"
   ]
  },
  {
   "cell_type": "code",
   "execution_count": 9,
   "id": "c3648103",
   "metadata": {},
   "outputs": [
    {
     "data": {
      "text/plain": [
       "0.0    763\n",
       "1.0    119\n",
       "Name: outcome, dtype: int64"
      ]
     },
     "execution_count": 9,
     "metadata": {},
     "output_type": "execute_result"
    }
   ],
   "source": [
    "y_train.value_counts(dropna=False)"
   ]
  },
  {
   "cell_type": "code",
   "execution_count": 10,
   "id": "ed04f68e",
   "metadata": {},
   "outputs": [
    {
     "data": {
      "text/plain": [
       "0.0    0.863946\n",
       "1.0    0.136054\n",
       "Name: outcome, dtype: float64"
      ]
     },
     "execution_count": 10,
     "metadata": {},
     "output_type": "execute_result"
    }
   ],
   "source": [
    "y_test.value_counts(dropna=False, normalize=True)"
   ]
  },
  {
   "cell_type": "code",
   "execution_count": 11,
   "id": "44e89bd9",
   "metadata": {},
   "outputs": [
    {
     "data": {
      "text/plain": [
       "0.0    254\n",
       "1.0     40\n",
       "Name: outcome, dtype: int64"
      ]
     },
     "execution_count": 11,
     "metadata": {},
     "output_type": "execute_result"
    }
   ],
   "source": [
    "y_test.value_counts(dropna=False)"
   ]
  },
  {
   "cell_type": "markdown",
   "id": "2cc174e8",
   "metadata": {},
   "source": [
    "<br>  \n",
    "\n",
    "## <span style='color:blue'>Section 7: Merge X_train and y_train</span>  "
   ]
  },
  {
   "cell_type": "code",
   "execution_count": 12,
   "id": "3b2a2808",
   "metadata": {},
   "outputs": [],
   "source": [
    "df_train = copy.deepcopy(X_train)\n",
    "df_train['outcome'] = y_train\n",
    "df_train = pd.DataFrame(df_train)"
   ]
  },
  {
   "cell_type": "markdown",
   "id": "edc013ca",
   "metadata": {},
   "source": [
    "<br>  \n",
    "\n",
    "## <span style='color:blue'>Section 8: Merge X_test and y_test</span>  "
   ]
  },
  {
   "cell_type": "code",
   "execution_count": 13,
   "id": "7a73a7fa",
   "metadata": {},
   "outputs": [],
   "source": [
    "df_test = copy.deepcopy(X_test)\n",
    "df_test['outcome'] = y_test\n",
    "df_test = pd.DataFrame(df_test)"
   ]
  },
  {
   "cell_type": "markdown",
   "id": "e9c8ce3b",
   "metadata": {},
   "source": [
    "<br>  \n",
    "\n",
    "## <span style='color:blue'>Section 9: Save train and test datasets</span>  "
   ]
  },
  {
   "cell_type": "code",
   "execution_count": 14,
   "id": "68c61a82",
   "metadata": {},
   "outputs": [],
   "source": [
    "df_train.to_csv('../data/code_3_train.csv', na_rep='NaN', index_label='index')\n",
    "df_test.to_csv('../data/code_3_test.csv', na_rep='NaN', index_label='index')"
   ]
  },
  {
   "cell_type": "markdown",
   "id": "2df0b0c4",
   "metadata": {},
   "source": [
    "<br>  \n",
    "<br>  \n",
    "\n",
    "## <span style='color:green'>Conclusions:</span>  \n",
    "\n",
    "### <span style='color:green'>Testing dataset</span>  \n",
    "* <span style='color:green'>Is now considered as unseen.</span>  \n",
    "\n",
    "### <span style='color:green'>Section 6</span>  \n",
    "* <span style='color:green'>Dataset imbalanced with dead (\"1\") at 13.5% and alive (\"0\") at 86.5%.</span>  \n",
    "<br>  \n",
    "<br>  \n"
   ]
  },
  {
   "cell_type": "markdown",
   "id": "65182b99",
   "metadata": {},
   "source": [
    "3 Jan 2022"
   ]
  },
  {
   "cell_type": "code",
   "execution_count": null,
   "id": "8b5546b9",
   "metadata": {},
   "outputs": [],
   "source": []
  }
 ],
 "metadata": {
  "kernelspec": {
   "display_name": "Python 3",
   "language": "python",
   "name": "python3"
  },
  "language_info": {
   "codemirror_mode": {
    "name": "ipython",
    "version": 3
   },
   "file_extension": ".py",
   "mimetype": "text/x-python",
   "name": "python",
   "nbconvert_exporter": "python",
   "pygments_lexer": "ipython3",
   "version": "3.8.8"
  }
 },
 "nbformat": 4,
 "nbformat_minor": 5
}
