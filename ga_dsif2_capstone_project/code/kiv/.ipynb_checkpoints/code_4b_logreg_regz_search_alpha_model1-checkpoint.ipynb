{
 "cells": [
  {
   "cell_type": "markdown",
   "id": "541e0a45",
   "metadata": {},
   "source": [
    "<br>  \n",
    "\n",
    "## <span style='color:blue'>Section 1: Import</span>  "
   ]
  },
  {
   "cell_type": "code",
   "execution_count": 1,
   "id": "f2bf7231",
   "metadata": {},
   "outputs": [],
   "source": [
    "import pandas as pd\n",
    "import numpy as np\n",
    "import copy\n",
    "\n",
    "from sklearn.preprocessing import StandardScaler\n",
    "\n",
    "from sklearn.model_selection import StratifiedKFold\n",
    "\n",
    "from sklearn.impute import KNNImputer\n",
    "\n",
    "import statsmodels.api as sm\n",
    "\n",
    "from sklearn.metrics import confusion_matrix\n",
    "from sklearn.metrics import accuracy_score\n",
    "from sklearn.metrics import recall_score\n",
    "from sklearn.metrics import precision_score\n",
    "from sklearn.metrics import roc_curve\n",
    "from sklearn.metrics import auc\n",
    "from sklearn.metrics import roc_auc_score\n",
    "\n",
    "from imblearn.under_sampling import RandomUnderSampler\n",
    "from imblearn.over_sampling import RandomOverSampler\n",
    "from collections import Counter\n",
    "\n",
    "import matplotlib.pyplot as plt\n",
    "import seaborn as sns"
   ]
  },
  {
   "cell_type": "markdown",
   "id": "869b3e9d",
   "metadata": {},
   "source": [
    "<br>  \n",
    "\n",
    "## <span style='color:blue'>Section 2: Read, drop columns, form X_train and y_train</span>  "
   ]
  },
  {
   "cell_type": "code",
   "execution_count": 2,
   "id": "f55c2d65",
   "metadata": {
    "scrolled": true
   },
   "outputs": [
    {
     "name": "stdout",
     "output_type": "stream",
     "text": [
      "Before drop : (882, 51)\n",
      "After drop: (882, 42)\n",
      "\n",
      "X_train : (882, 41)\n",
      "y_train : (882,)\n",
      "y_train : (array([0., 1.]), array([763, 119], dtype=int64))\n",
      "y_train : Counter({0.0: 763, 1.0: 119})\n"
     ]
    }
   ],
   "source": [
    "# ---------- read ----------\n",
    "\n",
    "df_1 = pd.read_csv('../data/data_train.csv')\n",
    "\n",
    "# ---------- drop ----------\n",
    "\n",
    "print('Before drop :', df_1.shape)\n",
    "df_1.drop(columns=['index',\n",
    "                   'pco2', 'ph', 'basophils', 'lactic_acid', 'bmi',\n",
    "                   'creatine_kinase', 'lymphocyte', 'neutrophils'], inplace=True)\n",
    "print('After drop:', df_1.shape)\n",
    "print('')\n",
    "\n",
    "# ---------- form X ----------\n",
    "\n",
    "X_train = df_1.drop(columns=['outcome'])\n",
    "print('X_train :', X_train.shape)\n",
    "\n",
    "# ---------- form y ----------\n",
    "\n",
    "y_train = df_1['outcome']\n",
    "print('y_train :', y_train.shape)\n",
    "print('y_train :', np.unique(y_train, return_counts=True))\n",
    "print('y_train :', Counter(y_train))"
   ]
  },
  {
   "cell_type": "markdown",
   "id": "adf22ab5",
   "metadata": {},
   "source": [
    "<br>  \n",
    "\n",
    "## <span style='color:blue'>Section 3: Function - Impute</span>  "
   ]
  },
  {
   "cell_type": "code",
   "execution_count": 3,
   "id": "d1c50398",
   "metadata": {},
   "outputs": [],
   "source": [
    "def impute_fit_transform(to_impute, to_impute_fit_transform):\n",
    "    temp_df = []\n",
    "    temp_df = to_impute_fit_transform.fit_transform(to_impute)\n",
    "    temp_df = pd.DataFrame(temp_df, columns=to_impute.columns)\n",
    "    to_impute = copy.deepcopy(temp_df)\n",
    "    return to_impute, to_impute_fit_transform\n",
    "\n",
    "def impute_transform(to_impute, to_impute_fit_transform):\n",
    "    temp_df = []\n",
    "    temp_df = to_impute_fit_transform.transform(to_impute)\n",
    "    temp_df = pd.DataFrame(temp_df, columns=to_impute.columns)\n",
    "    to_impute = copy.deepcopy(temp_df)\n",
    "    return to_impute"
   ]
  },
  {
   "cell_type": "markdown",
   "id": "8cfdaaf2",
   "metadata": {},
   "source": [
    "<br>  \n",
    "\n",
    "## <span style='color:blue'>Section 4: Function - Oversample and undersample ratios</span>  "
   ]
  },
  {
   "cell_type": "code",
   "execution_count": 4,
   "id": "72b37c3e",
   "metadata": {},
   "outputs": [],
   "source": [
    "def over_under_sample_ratios(y, search):\n",
    "    maj_count = Counter(y).most_common()[0][1]\n",
    "    total_ratio = search[0] + search[1]                               # majority and minority\n",
    "    total_count = len(y)\n",
    "    minority_count = np.round(search[1]*total_count/total_ratio, 0)\n",
    "    minority_ratio = minority_count/maj_count\n",
    "    majority_count = np.round(search[0]*total_count/total_ratio, 0)\n",
    "    majority_ratio = minority_count/majority_count\n",
    "    return minority_ratio, majority_ratio"
   ]
  },
  {
   "cell_type": "markdown",
   "id": "de70086b",
   "metadata": {},
   "source": [
    "<br>  \n",
    "\n",
    "## <span style='color:blue'>Section 5: Function - Oversample and undersample</span>  "
   ]
  },
  {
   "cell_type": "code",
   "execution_count": 5,
   "id": "5e2c9b85",
   "metadata": {},
   "outputs": [],
   "source": [
    "def over_sample_SMOTE(X_to_oversample, y_to_oversample, o_s_ratio):\n",
    "    o_s = SMOTE(random_state=42, sampling_strategy=o_s_ratio)\n",
    "    X_to_oversample, y_to_oversample = o_s.fit_resample(X_to_oversample, y_to_oversample.ravel())\n",
    "    return X_to_oversample, y_to_oversample\n",
    "\n",
    "def over_sample(X_to_oversample, y_to_oversample, over_sample_sampling_strategy):\n",
    "    o_s = RandomOverSampler(random_state=42, sampling_strategy=over_sample_sampling_strategy)\n",
    "    X_to_oversample, y_to_oversample = o_s.fit_resample(X_to_oversample, y_to_oversample.ravel())\n",
    "    return X_to_oversample, y_to_oversample\n",
    "\n",
    "def under_sample(X_to_undersample, y_to_undersample, under_sample_sampling_strategy):\n",
    "    u_s = RandomUnderSampler(random_state=42, sampling_strategy=under_sample_sampling_strategy)\n",
    "    X_to_undersample, y_to_undersample = u_s.fit_resample(X_to_undersample, y_to_undersample.ravel())\n",
    "    return X_to_undersample, y_to_undersample"
   ]
  },
  {
   "cell_type": "markdown",
   "id": "f1a63bb2",
   "metadata": {},
   "source": [
    "<br>  \n",
    "\n",
    "## <span style='color:blue'>Section 6: Function - Scale</span>  "
   ]
  },
  {
   "cell_type": "code",
   "execution_count": 6,
   "id": "a2ee72f3",
   "metadata": {},
   "outputs": [],
   "source": [
    "def scale_fit_transform(to_scale, to_scale_fit_transform):\n",
    "    temp_df = []\n",
    "    temp_df = to_scale_fit_transform.fit_transform(to_scale)\n",
    "    temp_df = pd.DataFrame(temp_df, columns=to_scale.columns)\n",
    "    to_scale = copy.deepcopy(temp_df)\n",
    "    return to_scale, to_scale_fit_transform\n",
    "\n",
    "def scale_transform(to_scale, to_scale_fit_transform):\n",
    "    temp_df = []\n",
    "    temp_df = to_scale_fit_transform.transform(to_scale)\n",
    "    temp_df = pd.DataFrame(temp_df, columns=to_scale.columns)\n",
    "    to_scale = copy.deepcopy(temp_df)\n",
    "    return to_scale"
   ]
  },
  {
   "cell_type": "markdown",
   "id": "7592d0bb",
   "metadata": {},
   "source": [
    "<br>  \n",
    "\n",
    "## <span style='color:blue'>Section 7: Impute, oversample, scale, instantiate, fit, predict, evaluate - Full train set</span>  "
   ]
  },
  {
   "cell_type": "code",
   "execution_count": 7,
   "id": "0170faf6",
   "metadata": {},
   "outputs": [
    {
     "name": "stdout",
     "output_type": "stream",
     "text": [
      "Before : Counter({0.0: 763, 1.0: 119})\n",
      "Oversample : 0.7\n",
      "Decision boundary : 0.35\n",
      "Before_Over : Counter({0.0: 763, 1.0: 534})\n",
      "Optimization terminated successfully    (Exit mode 0)\n",
      "            Current function value: 0.6185751649239531\n",
      "            Iterations: 37\n",
      "            Function evaluations: 37\n",
      "            Gradient evaluations: 37\n",
      "alpha = 60\n"
     ]
    }
   ],
   "source": [
    "search_parameters = {'oversample': [0.70],\n",
    "                     'decision_boundary': [0.35]}\n",
    "alpha_log_reg = 60\n",
    "\n",
    "# ---------- impute on train ----------\n",
    "\n",
    "print('Before :', Counter(y_train))\n",
    "print('Oversample :', search_parameters['oversample'][0])\n",
    "print('Decision boundary :', search_parameters['decision_boundary'][0])\n",
    "\n",
    "knn_impute = KNNImputer(n_neighbors=5)\n",
    "X_train_impute, knn_impute_fit_transform = impute_fit_transform(X_train,\n",
    "                                                                knn_impute)\n",
    "\n",
    "# ---------- oversample SMOTE ----------\n",
    "                                                         \n",
    "X_train_impute_over, y_train_over = over_sample_SMOTE(X_train_impute, y_train,\n",
    "                                                      search_parameters['oversample'][0])\n",
    "print('Before_Over :', Counter(y_train_over))\n",
    "\n",
    "# ---------- scale on train ----------\n",
    "\n",
    "ss = StandardScaler()\n",
    "X_train_impute_over_scale, ss_fit_transform = scale_fit_transform(X_train_impute_over, ss)\n",
    "\n",
    "# ---------- instantiate and fit regularized on train ----------\n",
    "\n",
    "X_train_impute_over_scale = sm.add_constant(X_train_impute_over_scale)\n",
    "lr = sm.Logit(y_train_over, X_train_impute_over_scale)\n",
    "lr_result = lr.fit_regularized(maxiter=500, method='l1', alpha=alpha_log_reg)\n",
    "print('alpha =', alpha_log_reg)\n",
    "\n",
    "# ---------- predict and evaluate on train ----------\n",
    "\n",
    "y_train_over_predicted = (lr_result.predict(X_train_impute_over_scale) >= search_parameters['decision_boundary'][0]).astype(int)"
   ]
  },
  {
   "cell_type": "markdown",
   "id": "409294b4",
   "metadata": {},
   "source": [
    "<br>  \n",
    "\n",
    "## <span style='color:blue'>Section 8: Model summary</span>  "
   ]
  },
  {
   "cell_type": "code",
   "execution_count": 8,
   "id": "3063c0e6",
   "metadata": {
    "scrolled": false
   },
   "outputs": [
    {
     "name": "stdout",
     "output_type": "stream",
     "text": [
      "---------- Model Summary 1: From Statsmodels API ----------\n",
      "\n",
      "                           Logit Regression Results                           \n",
      "==============================================================================\n",
      "Dep. Variable:                      y   No. Observations:                 1297\n",
      "Model:                          Logit   Df Residuals:                     1280\n",
      "Method:                           MLE   Df Model:                           16\n",
      "Date:                Sat, 20 Nov 2021   Pseudo R-squ.:                  0.2429\n",
      "Time:                        18:17:29   Log-Likelihood:                -665.26\n",
      "converged:                       True   LL-Null:                       -878.69\n",
      "Covariance Type:            nonrobust   LLR p-value:                 8.401e-81\n",
      "============================================================================================\n",
      "                               coef    std err          z      P>|z|      [0.025      0.975]\n",
      "--------------------------------------------------------------------------------------------\n",
      "const                       -0.1892      0.060     -3.146      0.002      -0.307      -0.071\n",
      "group                             0        nan        nan        nan         nan         nan\n",
      "age                               0        nan        nan        nan         nan         nan\n",
      "gendera                           0        nan        nan        nan         nan         nan\n",
      "hypertensive                -0.0438      0.063     -0.695      0.487      -0.167       0.080\n",
      "atrialfibrillation           0.1206      0.062      1.932      0.053      -0.002       0.243\n",
      "chd_with_no_mi                    0        nan        nan        nan         nan         nan\n",
      "diabetes                          0        nan        nan        nan         nan         nan\n",
      "deficiencyanemias           -0.1272      0.063     -2.030      0.042      -0.250      -0.004\n",
      "depression                        0        nan        nan        nan         nan         nan\n",
      "hyperlipemia                      0        nan        nan        nan         nan         nan\n",
      "renal_failure               -0.2757      0.069     -3.975      0.000      -0.412      -0.140\n",
      "copd                              0        nan        nan        nan         nan         nan\n",
      "heart_rate                   0.0872      0.067      1.309      0.191      -0.043       0.218\n",
      "systolic_blood_pressure     -0.0572      0.067     -0.855      0.393      -0.188       0.074\n",
      "diastolic_blood_pressure          0        nan        nan        nan         nan         nan\n",
      "respiratory_rate             0.0405      0.066      0.610      0.542      -0.090       0.171\n",
      "temperature                       0        nan        nan        nan         nan         nan\n",
      "sp_o2                       -0.0707      0.065     -1.095      0.273      -0.197       0.056\n",
      "urine_output                -0.1836      0.069     -2.649      0.008      -0.320      -0.048\n",
      "hematocrit                        0        nan        nan        nan         nan         nan\n",
      "rbc                               0        nan        nan        nan         nan         nan\n",
      "mch                               0        nan        nan        nan         nan         nan\n",
      "mchc                              0        nan        nan        nan         nan         nan\n",
      "mcv                               0        nan        nan        nan         nan         nan\n",
      "rdw                          0.0530      0.064      0.826      0.409      -0.073       0.179\n",
      "leucocyte                    0.1607      0.072      2.232      0.026       0.020       0.302\n",
      "platelets                   -0.0552      0.066     -0.835      0.404      -0.185       0.074\n",
      "pt                                0        nan        nan        nan         nan         nan\n",
      "inr                               0        nan        nan        nan         nan         nan\n",
      "nt-probnp                         0        nan        nan        nan         nan         nan\n",
      "creatinine                        0        nan        nan        nan         nan         nan\n",
      "urea_nitrogen                0.3399      0.081      4.211      0.000       0.182       0.498\n",
      "glucose                           0        nan        nan        nan         nan         nan\n",
      "blood_potassium                   0        nan        nan        nan         nan         nan\n",
      "blood_sodium                      0        nan        nan        nan         nan         nan\n",
      "blood_calcium               -0.2365      0.071     -3.329      0.001      -0.376      -0.097\n",
      "chloride                          0        nan        nan        nan         nan         nan\n",
      "anion_gap                    0.0157      0.095      0.166      0.868      -0.170       0.201\n",
      "magnesium_ion                     0        nan        nan        nan         nan         nan\n",
      "bicarbonate                 -0.2273      0.091     -2.509      0.012      -0.405      -0.050\n",
      "ef                                0        nan        nan        nan         nan         nan\n",
      "============================================================================================\n",
      "\n",
      "---------- Model Summary 2: Sorted by ascending p ----------\n",
      "\n",
      "                     feature  std_coef      z      p\n",
      "32             urea_nitrogen    0.3399  4.211  0.000\n",
      "11             renal_failure   -0.2757 -3.975  0.000\n",
      "36             blood_calcium   -0.2365 -3.329  0.001\n",
      "0                      const   -0.1892 -3.146  0.002\n",
      "19              urine_output   -0.1836 -2.649  0.008\n",
      "40               bicarbonate   -0.2273 -2.509  0.012\n",
      "26                 leucocyte    0.1607  2.232  0.026\n",
      "8          deficiencyanemias   -0.1272 -2.030  0.042\n",
      "5         atrialfibrillation    0.1206  1.932  0.053\n",
      "13                heart_rate    0.0872  1.309  0.191\n",
      "18                     sp_o2   -0.0707 -1.095  0.273\n",
      "14   systolic_blood_pressure   -0.0572 -0.855  0.393\n",
      "27                 platelets   -0.0552 -0.835  0.404\n",
      "25                       rdw    0.0530  0.826  0.409\n",
      "4               hypertensive   -0.0438 -0.695  0.487\n",
      "16          respiratory_rate    0.0405  0.610  0.542\n",
      "38                 anion_gap    0.0157  0.166  0.868\n",
      "1                      group    0.0000    NaN    NaN\n",
      "2                        age    0.0000    NaN    NaN\n",
      "3                    gendera    0.0000    NaN    NaN\n",
      "6             chd_with_no_mi    0.0000    NaN    NaN\n",
      "7                   diabetes    0.0000    NaN    NaN\n",
      "9                 depression    0.0000    NaN    NaN\n",
      "10              hyperlipemia    0.0000    NaN    NaN\n",
      "12                      copd    0.0000    NaN    NaN\n",
      "15  diastolic_blood_pressure    0.0000    NaN    NaN\n",
      "17               temperature    0.0000    NaN    NaN\n",
      "20                hematocrit    0.0000    NaN    NaN\n",
      "21                       rbc    0.0000    NaN    NaN\n",
      "22                       mch    0.0000    NaN    NaN\n",
      "23                      mchc    0.0000    NaN    NaN\n",
      "24                       mcv    0.0000    NaN    NaN\n",
      "28                        pt    0.0000    NaN    NaN\n",
      "29                       inr    0.0000    NaN    NaN\n",
      "30                 nt-probnp    0.0000    NaN    NaN\n",
      "31                creatinine    0.0000    NaN    NaN\n",
      "33                   glucose    0.0000    NaN    NaN\n",
      "34           blood_potassium    0.0000    NaN    NaN\n",
      "35              blood_sodium    0.0000    NaN    NaN\n",
      "37                  chloride    0.0000    NaN    NaN\n",
      "39             magnesium_ion    0.0000    NaN    NaN\n",
      "41                        ef    0.0000    NaN    NaN\n",
      "\n",
      "---------- Model Summary 3: p < 0.05 sorted by coef ----------\n",
      "\n",
      "              feature  std_coef      z      p\n",
      "11      renal_failure   -0.2757 -3.975  0.000\n",
      "36      blood_calcium   -0.2365 -3.329  0.001\n",
      "40        bicarbonate   -0.2273 -2.509  0.012\n",
      "0               const   -0.1892 -3.146  0.002\n",
      "19       urine_output   -0.1836 -2.649  0.008\n",
      "8   deficiencyanemias   -0.1272 -2.030  0.042\n",
      "26          leucocyte    0.1607  2.232  0.026\n",
      "32      urea_nitrogen    0.3399  4.211  0.000\n"
     ]
    }
   ],
   "source": [
    "# ---------- model summary ----------\n",
    "\n",
    "print('---------- Model Summary 1: From Statsmodels API ----------')\n",
    "print('')\n",
    "print(lr_result.summary())\n",
    "print('')\n",
    "\n",
    "print('---------- Model Summary 2: Sorted by ascending p ----------')\n",
    "print('')\n",
    "temp_df = pd.read_html(lr_result.summary().tables[1].as_html(), header=0, index_col=0)[0]\n",
    "temp_df = pd.DataFrame(temp_df)\n",
    "temp_df.reset_index(level=0, inplace=True)\n",
    "temp_df.rename(columns={'index': 'feature', 'std err': 'std_err', 'P>|z|': 'p', 'coef': 'std_coef'}, inplace=True)\n",
    "temp_df = temp_df[['feature', 'std_coef', 'z', 'p']]\n",
    "temp_df.sort_values(by='p', ascending=True, inplace=True)\n",
    "print(temp_df)\n",
    "print('')\n",
    "\n",
    "print('---------- Model Summary 3: p < 0.05 sorted by coef ----------')\n",
    "print('')\n",
    "print(temp_df[temp_df['p']<0.05][['feature', 'std_coef', 'z', 'p']].sort_values(by='std_coef'))"
   ]
  },
  {
   "cell_type": "markdown",
   "id": "41bd2ced",
   "metadata": {},
   "source": [
    "### <span style='color:green'>Machine learning model interpretability is achieved by using these statistically significant features to predict mortality:</span>  \n",
    "* <span style='color:green'>**renal_failure**</span>  \n",
    "* <span style='color:green'>**blood_calcium**</span>  \n",
    "* <span style='color:green'>**bicarbonate**</span>  \n",
    "* <span style='color:green'>**urine_output**</span>  \n",
    "* <span style='color:green'>**deficiencyanemias**</span>  \n",
    "* <span style='color:green'>**leucocyte**</span>  \n",
    "* <span style='color:green'>**urea_nitrogen**</span>  \n",
    "<br>  \n",
    "<br>  \n"
   ]
  },
  {
   "cell_type": "markdown",
   "id": "7f44f2f4",
   "metadata": {},
   "source": [
    "<br>  \n",
    "\n",
    "## <span style='color:blue'>Section 9: Read, drop columns, form X_test and y_test</span>  "
   ]
  },
  {
   "cell_type": "code",
   "execution_count": 9,
   "id": "c4cd0ce5",
   "metadata": {},
   "outputs": [
    {
     "name": "stdout",
     "output_type": "stream",
     "text": [
      "Before drop : (294, 51)\n",
      "After drop: (294, 42)\n",
      "\n",
      "X_test : (294, 41)\n",
      "y_test : (294,)\n",
      "y_test : (array([0., 1.]), array([254,  40], dtype=int64))\n",
      "y_test : Counter({0.0: 254, 1.0: 40})\n"
     ]
    }
   ],
   "source": [
    "# ---------- read ----------\n",
    "\n",
    "df_2 = pd.read_csv('../data/data_test.csv')\n",
    "\n",
    "# ---------- drop ----------\n",
    "\n",
    "print('Before drop :', df_2.shape)\n",
    "df_2.drop(columns=['index',\n",
    "                   'pco2', 'ph', 'basophils', 'lactic_acid', 'bmi',\n",
    "                   'creatine_kinase', 'lymphocyte', 'neutrophils'], inplace=True)\n",
    "print('After drop:', df_2.shape)\n",
    "print('')\n",
    "\n",
    "# ---------- form X ----------\n",
    "\n",
    "X_test = df_2.drop(columns=['outcome'])\n",
    "print('X_test :', X_test.shape)\n",
    "\n",
    "# ---------- form y ----------\n",
    "\n",
    "y_test = df_2['outcome']\n",
    "print('y_test :', y_test.shape)\n",
    "print('y_test :', np.unique(y_test, return_counts=True))\n",
    "print('y_test :', Counter(y_test))"
   ]
  },
  {
   "cell_type": "markdown",
   "id": "5a5761c5",
   "metadata": {},
   "source": [
    "<br>  \n",
    "\n",
    "## <span style='color:blue'>Section 10: Impute, scale, predict, evaluate - Full test set</span>   "
   ]
  },
  {
   "cell_type": "code",
   "execution_count": 10,
   "id": "4ac25205",
   "metadata": {},
   "outputs": [],
   "source": [
    "# ---------- impute on full test with transform ----------\n",
    "\n",
    "X_test_impute = impute_transform(X_test, knn_impute_fit_transform)\n",
    "\n",
    "# ---------- scale on full test with transform ----------\n",
    "\n",
    "X_test_impute_scale = scale_transform(X_test_impute, ss_fit_transform)\n",
    "\n",
    "# ---------- predict and evaluate on full test ----------\n",
    "\n",
    "X_test_impute_scale = sm.add_constant(X_test_impute_scale)\n",
    "y_test_predicted = (lr_result.predict(X_test_impute_scale) >= search_parameters['decision_boundary'][0]).astype(int)"
   ]
  },
  {
   "cell_type": "code",
   "execution_count": 11,
   "id": "9ffec584",
   "metadata": {},
   "outputs": [
    {
     "name": "stdout",
     "output_type": "stream",
     "text": [
      "Train accuracy : 0.6792598303777949\n",
      "Test accuracy : 0.5748299319727891\n",
      "Overfit % = ( Test - Train ) / Train % : -15.374072443960562\n",
      "\n",
      "Train recall : 0.9344569288389513\n",
      "Test recall : 0.875\n",
      "Overfit % = ( Test - Train ) / Train % : -6.362725450901799\n",
      "\n",
      "Train precision : 0.5670454545454545\n",
      "Test precision : 0.22580645161290322\n",
      "Overfit % = ( Test - Train ) / Train % : -60.17842135884672\n",
      "\n"
     ]
    }
   ],
   "source": [
    "# ---------- overfit analysis ----------\n",
    "\n",
    "print('Train accuracy :', accuracy_score(y_train_over, y_train_over_predicted))\n",
    "print('Test accuracy :', accuracy_score(y_test, y_test_predicted))\n",
    "print('Overfit % = ( Test - Train ) / Train % :', (accuracy_score(y_test, y_test_predicted)-accuracy_score(y_train_over, y_train_over_predicted))/accuracy_score(y_train_over, y_train_over_predicted)*100)\n",
    "print('')\n",
    "print('Train recall :', recall_score(y_train_over, y_train_over_predicted))\n",
    "print('Test recall :', recall_score(y_test, y_test_predicted))\n",
    "print('Overfit % = ( Test - Train ) / Train % :', (recall_score(y_test, y_test_predicted)-recall_score(y_train_over, y_train_over_predicted))/recall_score(y_train_over, y_train_over_predicted)*100)\n",
    "print('')\n",
    "print('Train precision :', precision_score(y_train_over, y_train_over_predicted))\n",
    "print('Test precision :', precision_score(y_test, y_test_predicted))\n",
    "print('Overfit % = ( Test - Train ) / Train % :', (precision_score(y_test, y_test_predicted)-precision_score(y_train_over, y_train_over_predicted))/precision_score(y_train_over, y_train_over_predicted)*100)\n",
    "print('')"
   ]
  },
  {
   "cell_type": "markdown",
   "id": "eb1f6dfc",
   "metadata": {},
   "source": [
    "<br>  \n",
    "\n",
    "## <span style='color:blue'>Section 11: Confusion matrix and area under receiver operating characteristic curve</span>   "
   ]
  },
  {
   "cell_type": "code",
   "execution_count": 12,
   "id": "26096458",
   "metadata": {},
   "outputs": [
    {
     "name": "stdout",
     "output_type": "stream",
     "text": [
      "True positive (dead):  35\n",
      "True negative (alive):  134\n",
      "False positive (dead):  120\n",
      "False negative (alive):  5\n",
      "\n",
      "Accuracy : 0.5748299319727891\n",
      "\n",
      "Sensitivity or Recall : 0.875\n",
      "\n",
      "Precision or Positive Predictive Value : 0.22580645161290322\n",
      "\n",
      "Specificity : 0.5275590551181102\n",
      "\n",
      "Negative predictive value : 0.9640287769784173\n"
     ]
    }
   ],
   "source": [
    "# ---------- confusion matrix calculation ----------\n",
    "\n",
    "tn, fp, fn, tp = confusion_matrix(y_test, y_test_predicted).ravel()\n",
    "print('True positive (dead): ', tp)\n",
    "print('True negative (alive): ', tn)\n",
    "print('False positive (dead): ', fp)\n",
    "print('False negative (alive): ', fn)\n",
    "print('')\n",
    "\n",
    "print('Accuracy :', accuracy_score(y_test, y_test_predicted))\n",
    "print('')\n",
    "\n",
    "print('Sensitivity or Recall :', recall_score(y_test, y_test_predicted))\n",
    "print('')\n",
    "\n",
    "print('Precision or Positive Predictive Value :', precision_score(y_test, y_test_predicted))\n",
    "print('')\n",
    "\n",
    "print('Specificity :', tn/(tn+fp))\n",
    "print('')\n",
    "\n",
    "print('Negative predictive value :', tn/(tn+fn))"
   ]
  },
  {
   "cell_type": "code",
   "execution_count": 13,
   "id": "54934ea8",
   "metadata": {},
   "outputs": [
    {
     "data": {
      "text/plain": [
       "Text(69.0, 0.5, 'predicted')"
      ]
     },
     "execution_count": 13,
     "metadata": {},
     "output_type": "execute_result"
    },
    {
     "data": {
      "image/png": "[encoded data removed]",
      "text/plain": [
       "<Figure size 720x432 with 2 Axes>"
      ]
     },
     "metadata": {
      "needs_background": "light"
     },
     "output_type": "display_data"
    }
   ],
   "source": [
    "# ---------- confusion matrix visualisation ----------\n",
    "\n",
    "temp_df = [[tp, fp], [fn, tn]]\n",
    "temp_df = pd.DataFrame(temp_df, columns=['dead (positive)', 'alive (negative)'], index=['dead (positive)', 'alive (negative)'])\n",
    "temp_df\n",
    "\n",
    "fig, ax = plt.subplots(figsize=(10, 6))\n",
    "\n",
    "sns.heatmap(temp_df, annot=True, fmt='d', annot_kws={'size': 20})\n",
    "\n",
    "# Colour map labels\n",
    "\n",
    "fig.axes[-1].tick_params(labelsize=15)\n",
    "\n",
    "# X axis title\n",
    "\n",
    "ax.tick_params(axis='x', labelrotation=0, which='major', labelsize=20, top=True, labeltop=True, bottom=False, labelbottom=False)\n",
    "ax.xaxis.set_label_position('top')\n",
    "ax.set_xlabel('actual', {'fontsize': 20})\n",
    "\n",
    "# Y axis title\n",
    "\n",
    "ax.tick_params(axis='y', labelrotation=0, which='major', labelsize=20, left=True, labelleft=True)\n",
    "ax.set_ylabel('predicted', {'fontsize': 20, 'rotation': 'horizontal'})"
   ]
  },
  {
   "cell_type": "code",
   "execution_count": 14,
   "id": "55d8d5fd",
   "metadata": {
    "scrolled": false
   },
   "outputs": [
    {
     "name": "stdout",
     "output_type": "stream",
     "text": [
      "\n",
      "Area Under Curve (AUC) : 0.7711614173228346\n",
      "\n"
     ]
    },
    {
     "data": {
      "image/png": "[encoded data removed]",
      "text/plain": [
       "<Figure size 576x432 with 1 Axes>"
      ]
     },
     "metadata": {
      "needs_background": "light"
     },
     "output_type": "display_data"
    }
   ],
   "source": [
    "# ---------- area under receiver operating characteristic curve ----------\n",
    "\n",
    "y_test_predicted_prob = lr_result.predict(X_test_impute_scale)\n",
    "\n",
    "plt.figure(figsize=(8, 6))\n",
    "\n",
    "fpr, tpr, _ = roc_curve(y_test, y_test_predicted_prob, drop_intermediate=False)\n",
    "roc_auc = auc(fpr, tpr)\n",
    "\n",
    "plt.plot(fpr, tpr, label='AUC = ' + str(round(roc_auc, 3)))\n",
    "plt.plot([0, 1], [0, 1], label='baseline', linestyle='--')\n",
    "plt.legend(loc='lower right', fontsize=20)\n",
    "plt.ylabel('True Positive Rate', fontsize=20)\n",
    "plt.xlabel('False Positive Rate', fontsize=20)\n",
    "plt.tick_params(labelsize=20)\n",
    "print('')\n",
    "\n",
    "print('Area Under Curve (AUC) :', roc_auc_score(y_test, y_test_predicted_prob))\n",
    "print('')"
   ]
  },
  {
   "cell_type": "code",
   "execution_count": null,
   "id": "9c4835e8",
   "metadata": {},
   "outputs": [],
   "source": []
  }
 ],
 "metadata": {
  "kernelspec": {
   "display_name": "Python 3",
   "language": "python",
   "name": "python3"
  },
  "language_info": {
   "codemirror_mode": {
    "name": "ipython",
    "version": 3
   },
   "file_extension": ".py",
   "mimetype": "text/x-python",
   "name": "python",
   "nbconvert_exporter": "python",
   "pygments_lexer": "ipython3",
   "version": "3.8.8"
  }
 },
 "nbformat": 4,
 "nbformat_minor": 5
}
