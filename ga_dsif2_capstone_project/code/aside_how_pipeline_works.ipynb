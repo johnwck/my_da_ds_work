{
 "cells": [
  {
   "cell_type": "code",
   "execution_count": 1,
   "id": "315a903c",
   "metadata": {},
   "outputs": [],
   "source": [
    "import pandas as pd\n",
    "import numpy as np\n",
    "import copy\n",
    "\n",
    "from sklearn.impute import KNNImputer\n",
    "from imblearn.over_sampling import SMOTE\n",
    "from sklearn.preprocessing import StandardScaler\n",
    "from collections import Counter\n",
    "\n",
    "from sklearn.neighbors import KNeighborsClassifier\n",
    "from imblearn.pipeline import Pipeline\n",
    "\n",
    "from sklearn.metrics import confusion_matrix\n",
    "from sklearn.metrics import accuracy_score\n",
    "from sklearn.metrics import recall_score\n",
    "from sklearn.metrics import precision_score\n",
    "from sklearn.metrics import roc_curve\n",
    "from sklearn.metrics import precision_recall_curve\n",
    "from sklearn.metrics import auc\n",
    "from sklearn.metrics import roc_auc_score\n",
    "\n",
    "import matplotlib.pyplot as plt\n",
    "import seaborn as sns"
   ]
  },
  {
   "cell_type": "code",
   "execution_count": 2,
   "id": "5488e374",
   "metadata": {},
   "outputs": [],
   "source": [
    "df_1 = pd.read_csv('../data/code_3_train.csv')\n",
    "\n",
    "df_1.drop(columns=['index',\n",
    "                   'pco2', 'ph', 'basophils', 'lactic_acid', 'bmi',\n",
    "                   'creatine_kinase', 'lymphocyte', 'neutrophils'], inplace=True)\n",
    "\n",
    "X_train = df_1.drop(columns=['outcome'])\n",
    "\n",
    "y_train = df_1['outcome']"
   ]
  },
  {
   "cell_type": "code",
   "execution_count": 3,
   "id": "4885b34a",
   "metadata": {},
   "outputs": [],
   "source": [
    "df_2 = pd.read_csv('../data/code_3_test.csv')\n",
    "\n",
    "df_2.drop(columns=['index',\n",
    "                   'pco2', 'ph', 'basophils', 'lactic_acid', 'bmi',\n",
    "                   'creatine_kinase', 'lymphocyte', 'neutrophils'], inplace=True)\n",
    "\n",
    "X_test = df_2.drop(columns=['outcome'])\n",
    "\n",
    "y_test = df_2['outcome']"
   ]
  },
  {
   "cell_type": "markdown",
   "id": "58d452a5",
   "metadata": {},
   "source": [
    "# <font color=blue>Method 1  "
   ]
  },
  {
   "cell_type": "code",
   "execution_count": 4,
   "id": "52b085f7",
   "metadata": {},
   "outputs": [],
   "source": [
    "pipe_line_kn = Pipeline([('knn_impute', KNNImputer(n_neighbors=10)),\n",
    "                         ('oversample_SMOTE', SMOTE(random_state=42)),\n",
    "                         ('ss_scale', StandardScaler()),\n",
    "                         ('kn_class', KNeighborsClassifier())])\n",
    "\n",
    "pipe_line_kn.set_params(oversample_SMOTE__sampling_strategy=0.75,\n",
    "                        kn_class__n_neighbors=1000,\n",
    "                        kn_class__weights='uniform',\n",
    "                        kn_class__algorithm='brute',\n",
    "                        kn_class__p=2)\n",
    "\n",
    "pipe_line_kn.fit(X_train, y_train)\n",
    "\n",
    "y_train_predicted1 = pipe_line_kn.predict(X_train)\n",
    "\n",
    "y_test_predicted1 = pipe_line_kn.predict(X_test)"
   ]
  },
  {
   "cell_type": "code",
   "execution_count": 5,
   "id": "48a41467",
   "metadata": {},
   "outputs": [
    {
     "name": "stdout",
     "output_type": "stream",
     "text": [
      "Train accuracy : 0.873015873015873\n",
      "Test accuracy : 0.8673469387755102\n",
      "Train recall : 0.15966386554621848\n",
      "Test recall : 0.175\n",
      "Train precision : 0.6129032258064516\n",
      "Test precision : 0.5384615384615384\n"
     ]
    }
   ],
   "source": [
    "print('Train accuracy :', accuracy_score(y_train, y_train_predicted1))\n",
    "print('Test accuracy :', accuracy_score(y_test, y_test_predicted1))\n",
    "\n",
    "print('Train recall :', recall_score(y_train, y_train_predicted1))\n",
    "print('Test recall :', recall_score(y_test, y_test_predicted1))\n",
    "\n",
    "print('Train precision :', precision_score(y_train, y_train_predicted1))\n",
    "print('Test precision :', precision_score(y_test, y_test_predicted1))"
   ]
  },
  {
   "cell_type": "markdown",
   "id": "f2527749",
   "metadata": {},
   "source": [
    "# <font color=blue>Method 2  "
   ]
  },
  {
   "cell_type": "code",
   "execution_count": 6,
   "id": "51400ca7",
   "metadata": {},
   "outputs": [],
   "source": [
    "knn_impute = KNNImputer(n_neighbors=10)\n",
    "X_train_impute = knn_impute.fit_transform(X_train)"
   ]
  },
  {
   "cell_type": "code",
   "execution_count": 7,
   "id": "fda52e54",
   "metadata": {},
   "outputs": [],
   "source": [
    "oversample_SMOTE = SMOTE(random_state=42, sampling_strategy=0.75)\n",
    "X_train_impute_over, y_train_over = oversample_SMOTE.fit_resample(X_train_impute, y_train.ravel())"
   ]
  },
  {
   "cell_type": "code",
   "execution_count": 8,
   "id": "62269376",
   "metadata": {},
   "outputs": [],
   "source": [
    "ss_scale = StandardScaler()\n",
    "X_train_impute_over_scale = ss_scale.fit_transform(X_train_impute_over)"
   ]
  },
  {
   "cell_type": "code",
   "execution_count": 9,
   "id": "0af11e20",
   "metadata": {},
   "outputs": [
    {
     "data": {
      "text/plain": [
       "KNeighborsClassifier(algorithm='brute', n_neighbors=1000)"
      ]
     },
     "execution_count": 9,
     "metadata": {},
     "output_type": "execute_result"
    }
   ],
   "source": [
    "kn_class = KNeighborsClassifier(n_neighbors=1000, weights='uniform', algorithm='brute', p=2)\n",
    "kn_class.fit(X_train_impute_over_scale, y_train_over)"
   ]
  },
  {
   "cell_type": "code",
   "execution_count": 10,
   "id": "e3bd6e39",
   "metadata": {},
   "outputs": [],
   "source": [
    "X_train_impute = knn_impute.transform(X_train)\n",
    "\n",
    "X_train_impute_scale = ss_scale.transform(X_train_impute)\n",
    "\n",
    "y_train_predicted2 = kn_class.predict(X_train_impute_scale)"
   ]
  },
  {
   "cell_type": "code",
   "execution_count": 11,
   "id": "e2d16165",
   "metadata": {},
   "outputs": [],
   "source": [
    "X_test_impute = knn_impute.transform(X_test)\n",
    "\n",
    "X_test_impute_scale = ss_scale.transform(X_test_impute)\n",
    "\n",
    "y_test_predicted2 = kn_class.predict(X_test_impute_scale)"
   ]
  },
  {
   "cell_type": "code",
   "execution_count": 12,
   "id": "948e7fa2",
   "metadata": {},
   "outputs": [
    {
     "name": "stdout",
     "output_type": "stream",
     "text": [
      "Train accuracy : 0.873015873015873\n",
      "Test accuracy : 0.8673469387755102\n",
      "Train recall : 0.15966386554621848\n",
      "Test recall : 0.175\n",
      "Train precision : 0.6129032258064516\n",
      "Test precision : 0.5384615384615384\n"
     ]
    }
   ],
   "source": [
    "print('Train accuracy :', accuracy_score(y_train, y_train_predicted2))\n",
    "print('Test accuracy :', accuracy_score(y_test, y_test_predicted2))\n",
    "\n",
    "print('Train recall :', recall_score(y_train, y_train_predicted2))\n",
    "print('Test recall :', recall_score(y_test, y_test_predicted2))\n",
    "\n",
    "print('Train precision :', precision_score(y_train, y_train_predicted2))\n",
    "print('Test precision :', precision_score(y_test, y_test_predicted2))"
   ]
  },
  {
   "cell_type": "markdown",
   "id": "ee7eae8e",
   "metadata": {},
   "source": [
    "3 Jan 2022"
   ]
  },
  {
   "cell_type": "code",
   "execution_count": null,
   "id": "cbe138ab",
   "metadata": {},
   "outputs": [],
   "source": []
  }
 ],
 "metadata": {
  "kernelspec": {
   "display_name": "Python 3",
   "language": "python",
   "name": "python3"
  },
  "language_info": {
   "codemirror_mode": {
    "name": "ipython",
    "version": 3
   },
   "file_extension": ".py",
   "mimetype": "text/x-python",
   "name": "python",
   "nbconvert_exporter": "python",
   "pygments_lexer": "ipython3",
   "version": "3.8.8"
  }
 },
 "nbformat": 4,
 "nbformat_minor": 5
}
