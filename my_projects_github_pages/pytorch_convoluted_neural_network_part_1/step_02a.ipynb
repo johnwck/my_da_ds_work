{
 "cells": [
  {
   "cell_type": "code",
   "execution_count": 1,
   "id": "a6e78f83-bca4-4e9d-8ff6-4d710012fa85",
   "metadata": {},
   "outputs": [
    {
     "name": "stdout",
     "output_type": "stream",
     "text": [
      "WARNING:tensorflow:From C:\\Users\\chi_k\\anaconda3\\Lib\\site-packages\\keras\\src\\losses.py:2976: The name tf.losses.sparse_softmax_cross_entropy is deprecated. Please use tf.compat.v1.losses.sparse_softmax_cross_entropy instead.\n",
      "\n",
      "WARNING:tensorflow:From C:\\Users\\chi_k\\anaconda3\\Lib\\site-packages\\keras\\src\\backend.py:873: The name tf.get_default_graph is deprecated. Please use tf.compat.v1.get_default_graph instead.\n",
      "\n"
     ]
    }
   ],
   "source": [
    "from torchvision import transforms\n",
    "import torch.nn as nn\n",
    "import torch\n",
    "import numpy as np"
   ]
  },
  {
   "cell_type": "code",
   "execution_count": 2,
   "id": "9d2a7517-ca2a-4429-9b6f-820c3d97fa21",
   "metadata": {},
   "outputs": [
    {
     "data": {
      "text/plain": [
       "<torch._C.Generator at 0x1252774df70>"
      ]
     },
     "execution_count": 2,
     "metadata": {},
     "output_type": "execute_result"
    }
   ],
   "source": [
    "torch.manual_seed(2)"
   ]
  },
  {
   "cell_type": "code",
   "execution_count": 3,
   "id": "77c1c42f-d95f-43e8-9c7f-6c12cb0fdfb7",
   "metadata": {},
   "outputs": [],
   "source": [
    "image = np.array([[[1,1,1],\n",
    "                   [1,0,1],\n",
    "                   [1,1,1]],\n",
    "                  [[1,1,1],\n",
    "                   [1,0,1],\n",
    "                   [1,1,1]],\n",
    "                  [[1,1,1],\n",
    "                   [1,0,1],\n",
    "                   [1,1,1]]], dtype='float32')"
   ]
  },
  {
   "cell_type": "code",
   "execution_count": 4,
   "id": "65d6d095-cfcd-42cb-98c5-488e2481db63",
   "metadata": {},
   "outputs": [
    {
     "data": {
      "text/plain": [
       "tensor([[[1., 1., 1.],\n",
       "         [1., 1., 1.],\n",
       "         [1., 1., 1.]],\n",
       "\n",
       "        [[1., 0., 1.],\n",
       "         [1., 0., 1.],\n",
       "         [1., 0., 1.]],\n",
       "\n",
       "        [[1., 1., 1.],\n",
       "         [1., 1., 1.],\n",
       "         [1., 1., 1.]]])"
      ]
     },
     "execution_count": 4,
     "metadata": {},
     "output_type": "execute_result"
    }
   ],
   "source": [
    "# see MS Excel file column B to column F\n",
    "\n",
    "to_tensor = transforms.ToTensor()\n",
    "image_tensor = to_tensor(image)\n",
    "image_tensor"
   ]
  },
  {
   "cell_type": "code",
   "execution_count": 5,
   "id": "f38d9a62-3c35-4865-8609-471b4b79f99f",
   "metadata": {},
   "outputs": [],
   "source": [
    "conv2d_1 = nn.Conv2d(in_channels=3, out_channels=1, kernel_size=(2,2), padding=1)"
   ]
  },
  {
   "cell_type": "code",
   "execution_count": 6,
   "id": "15cb091b-e0b4-4c87-804d-0de3496ceb2b",
   "metadata": {},
   "outputs": [
    {
     "data": {
      "text/plain": [
       "tensor([[[-0.2924,  0.0249, -0.1753,  0.0204],\n",
       "         [-0.5480, -0.0439, -0.2987,  0.2759],\n",
       "         [-0.5480, -0.0439, -0.2987,  0.2759],\n",
       "         [-0.3190, -0.1323, -0.1869,  0.1920]]], grad_fn=<SqueezeBackward1>)"
      ]
     },
     "execution_count": 6,
     "metadata": {},
     "output_type": "execute_result"
    }
   ],
   "source": [
    "# see MS Excel file column R to column U\n",
    "\n",
    "output_1 = conv2d_1(image_tensor)\n",
    "output_1"
   ]
  },
  {
   "cell_type": "code",
   "execution_count": 7,
   "id": "ed12b62e-cf61-47a3-9c5b-54c24aea2154",
   "metadata": {},
   "outputs": [
    {
     "data": {
      "text/plain": [
       "tensor([[[[ 0.0662, -0.0687],\n",
       "          [ 0.0792, -0.0147]],\n",
       "\n",
       "         [[ 0.1233,  0.0687],\n",
       "          [-0.0332, -0.2334]],\n",
       "\n",
       "         [[ 0.0659, -0.2556],\n",
       "          [ 0.0379,  0.0192]]]])"
      ]
     },
     "execution_count": 7,
     "metadata": {},
     "output_type": "execute_result"
    }
   ],
   "source": [
    "# see MS Excel file column H to column I\n",
    "\n",
    "conv2d_1.weight.data"
   ]
  },
  {
   "cell_type": "code",
   "execution_count": 8,
   "id": "344d8086-c88e-4c09-8010-59e6464a065d",
   "metadata": {},
   "outputs": [
    {
     "data": {
      "text/plain": [
       "tensor([-0.0635])"
      ]
     },
     "execution_count": 8,
     "metadata": {},
     "output_type": "execute_result"
    }
   ],
   "source": [
    "# see MS Excel file column P\n",
    "\n",
    "conv2d_1.bias.data"
   ]
  },
  {
   "cell_type": "code",
   "execution_count": 9,
   "id": "90408fec-2179-4c57-8d49-bd8a2e54a81b",
   "metadata": {},
   "outputs": [],
   "source": [
    "relu_1 = nn.ReLU()"
   ]
  },
  {
   "cell_type": "code",
   "execution_count": 10,
   "id": "61025753-ee69-4040-acf4-7b3606203808",
   "metadata": {},
   "outputs": [
    {
     "data": {
      "text/plain": [
       "tensor([[[0.0000, 0.0249, 0.0000, 0.0204],\n",
       "         [0.0000, 0.0000, 0.0000, 0.2759],\n",
       "         [0.0000, 0.0000, 0.0000, 0.2759],\n",
       "         [0.0000, 0.0000, 0.0000, 0.1920]]], grad_fn=<ReluBackward0>)"
      ]
     },
     "execution_count": 10,
     "metadata": {},
     "output_type": "execute_result"
    }
   ],
   "source": [
    "# see MS Excel file column W to column Z\n",
    "\n",
    "output_2 = relu_1(output_1)\n",
    "output_2"
   ]
  },
  {
   "cell_type": "code",
   "execution_count": null,
   "id": "16baa387-43d4-46e5-8dbc-0b583f21b016",
   "metadata": {},
   "outputs": [],
   "source": []
  }
 ],
 "metadata": {
  "kernelspec": {
   "display_name": "Python 3 (ipykernel)",
   "language": "python",
   "name": "python3"
  },
  "language_info": {
   "codemirror_mode": {
    "name": "ipython",
    "version": 3
   },
   "file_extension": ".py",
   "mimetype": "text/x-python",
   "name": "python",
   "nbconvert_exporter": "python",
   "pygments_lexer": "ipython3",
   "version": "3.11.5"
  }
 },
 "nbformat": 4,
 "nbformat_minor": 5
}
