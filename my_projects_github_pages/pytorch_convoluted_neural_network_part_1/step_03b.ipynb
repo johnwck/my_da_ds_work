{
 "cells": [
  {
   "cell_type": "markdown",
   "id": "136fb264-3536-4c3a-9d9a-031a0dc1a979",
   "metadata": {},
   "source": [
    "<br>\n",
    "\n",
    "## **Step 1: Import**"
   ]
  },
  {
   "cell_type": "code",
   "execution_count": 1,
   "id": "42c645fe-9f10-4867-a3ef-6b4f6b459cbb",
   "metadata": {},
   "outputs": [],
   "source": [
    "import torch\n",
    "import numpy as np\n",
    "import pandas as pd"
   ]
  },
  {
   "cell_type": "markdown",
   "id": "005ac992-306e-415e-b686-7f745a5898c5",
   "metadata": {},
   "source": [
    "<br>\n",
    "\n",
    "## **Step 2: Read pickle file**"
   ]
  },
  {
   "cell_type": "code",
   "execution_count": 2,
   "id": "628b01cf-9680-4072-8fe4-f2205e8e2866",
   "metadata": {},
   "outputs": [],
   "source": [
    "pf1 = pd.read_pickle('./data/cifar-10-batches-py/data_batch_1')\n",
    "pf2 = pd.read_pickle('./data/cifar-10-batches-py/data_batch_2')\n",
    "pf3 = pd.read_pickle('./data/cifar-10-batches-py/data_batch_3')\n",
    "pf4 = pd.read_pickle('./data/cifar-10-batches-py/data_batch_4')\n",
    "pf5 = pd.read_pickle('./data/cifar-10-batches-py/data_batch_5')"
   ]
  },
  {
   "cell_type": "markdown",
   "id": "727358d0-6a4a-40f0-93b2-f07ecf3b5ea1",
   "metadata": {},
   "source": [
    "<br>\n",
    "\n",
    "## **Step 3: Convert dictionary to dataframe**"
   ]
  },
  {
   "cell_type": "code",
   "execution_count": 3,
   "id": "1804d659-dccc-4ebd-8861-737e83f0debc",
   "metadata": {},
   "outputs": [],
   "source": [
    "del pf1['batch_label']\n",
    "del pf2['batch_label']\n",
    "del pf3['batch_label']\n",
    "del pf4['batch_label']\n",
    "del pf5['batch_label']"
   ]
  },
  {
   "cell_type": "code",
   "execution_count": 4,
   "id": "4fe4ea05-3a88-41f7-8e36-e7981d0668fc",
   "metadata": {},
   "outputs": [],
   "source": [
    "pf1['data'] = list(pf1['data'])\n",
    "pf2['data'] = list(pf2['data'])\n",
    "pf3['data'] = list(pf3['data'])\n",
    "pf4['data'] = list(pf4['data'])\n",
    "pf5['data'] = list(pf5['data'])"
   ]
  },
  {
   "cell_type": "code",
   "execution_count": 5,
   "id": "8818a859-0f99-4f0e-a34a-f402bc65f4a3",
   "metadata": {},
   "outputs": [],
   "source": [
    "pf1_df = pd.DataFrame(pf1)\n",
    "pf2_df = pd.DataFrame(pf2)\n",
    "pf3_df = pd.DataFrame(pf3)\n",
    "pf4_df = pd.DataFrame(pf4)\n",
    "pf5_df = pd.DataFrame(pf5)"
   ]
  },
  {
   "cell_type": "code",
   "execution_count": 6,
   "id": "774defbb-5cbe-48b4-8ca3-9206908df125",
   "metadata": {},
   "outputs": [],
   "source": [
    "pf1_df['data'] = pf1_df['data'].apply(lambda x: torch.from_numpy(np.array(x).reshape(3,32,32)))\n",
    "pf2_df['data'] = pf2_df['data'].apply(lambda x: torch.from_numpy(np.array(x).reshape(3,32,32)))\n",
    "pf3_df['data'] = pf3_df['data'].apply(lambda x: torch.from_numpy(np.array(x).reshape(3,32,32)))\n",
    "pf4_df['data'] = pf4_df['data'].apply(lambda x: torch.from_numpy(np.array(x).reshape(3,32,32)))\n",
    "pf5_df['data'] = pf5_df['data'].apply(lambda x: torch.from_numpy(np.array(x).reshape(3,32,32)))"
   ]
  },
  {
   "cell_type": "markdown",
   "id": "fe82f971-1ae7-4fb3-8a13-1299d145cac6",
   "metadata": {},
   "source": [
    "<br>\n",
    "\n",
    "## **Step 4: Combine into one dataframe**"
   ]
  },
  {
   "cell_type": "code",
   "execution_count": 7,
   "id": "1d482f08-af50-4268-8750-ac32ed7cb555",
   "metadata": {},
   "outputs": [],
   "source": [
    "train_df = pd.concat([pf1_df,pf2_df,pf3_df,pf4_df,pf5_df], ignore_index=True)"
   ]
  },
  {
   "cell_type": "markdown",
   "id": "669f88cb-6b73-4ecb-9c29-c5042f9a3292",
   "metadata": {},
   "source": [
    "<br>\n",
    "\n",
    "## **Step 5: Save dataframe as pickle file**"
   ]
  },
  {
   "cell_type": "code",
   "execution_count": 8,
   "id": "86e6faf5-e3ac-487f-a1f2-dca88b870614",
   "metadata": {},
   "outputs": [],
   "source": [
    "train_df.to_pickle('train_batch')"
   ]
  },
  {
   "cell_type": "markdown",
   "id": "96cff815-9c4a-4749-bddd-5ca4a2664beb",
   "metadata": {},
   "source": [
    "<br>\n",
    "\n",
    "## **Step 6: Check train pickle file**"
   ]
  },
  {
   "cell_type": "code",
   "execution_count": 9,
   "id": "358728d3-0380-43f8-8489-562e030fe384",
   "metadata": {},
   "outputs": [],
   "source": [
    "train_pf = pd.read_pickle('train_batch')"
   ]
  },
  {
   "cell_type": "code",
   "execution_count": 10,
   "id": "732216ec-3872-4df7-bd3c-066ab563a4e6",
   "metadata": {},
   "outputs": [],
   "source": [
    "train_pf_df = pd.DataFrame(train_pf)"
   ]
  },
  {
   "cell_type": "code",
   "execution_count": 11,
   "id": "941e427b-79e4-4559-83f9-efe7c029c31c",
   "metadata": {},
   "outputs": [
    {
     "data": {
      "text/html": [
       "<div>\n",
       "<style scoped>\n",
       "    .dataframe tbody tr th:only-of-type {\n",
       "        vertical-align: middle;\n",
       "    }\n",
       "\n",
       "    .dataframe tbody tr th {\n",
       "        vertical-align: top;\n",
       "    }\n",
       "\n",
       "    .dataframe thead th {\n",
       "        text-align: right;\n",
       "    }\n",
       "</style>\n",
       "<table border=\"1\" class=\"dataframe\">\n",
       "  <thead>\n",
       "    <tr style=\"text-align: right;\">\n",
       "      <th></th>\n",
       "      <th>labels</th>\n",
       "      <th>data</th>\n",
       "      <th>filenames</th>\n",
       "    </tr>\n",
       "  </thead>\n",
       "  <tbody>\n",
       "    <tr>\n",
       "      <th>0</th>\n",
       "      <td>6</td>\n",
       "      <td>[[[tensor(59, dtype=torch.uint8), tensor(43, d...</td>\n",
       "      <td>leptodactylus_pentadactylus_s_000004.png</td>\n",
       "    </tr>\n",
       "    <tr>\n",
       "      <th>1</th>\n",
       "      <td>9</td>\n",
       "      <td>[[[tensor(154, dtype=torch.uint8), tensor(126,...</td>\n",
       "      <td>camion_s_000148.png</td>\n",
       "    </tr>\n",
       "    <tr>\n",
       "      <th>2</th>\n",
       "      <td>9</td>\n",
       "      <td>[[[tensor(255, dtype=torch.uint8), tensor(253,...</td>\n",
       "      <td>tipper_truck_s_001250.png</td>\n",
       "    </tr>\n",
       "    <tr>\n",
       "      <th>3</th>\n",
       "      <td>4</td>\n",
       "      <td>[[[tensor(28, dtype=torch.uint8), tensor(37, d...</td>\n",
       "      <td>american_elk_s_001521.png</td>\n",
       "    </tr>\n",
       "    <tr>\n",
       "      <th>4</th>\n",
       "      <td>1</td>\n",
       "      <td>[[[tensor(170, dtype=torch.uint8), tensor(168,...</td>\n",
       "      <td>station_wagon_s_000293.png</td>\n",
       "    </tr>\n",
       "    <tr>\n",
       "      <th>...</th>\n",
       "      <td>...</td>\n",
       "      <td>...</td>\n",
       "      <td>...</td>\n",
       "    </tr>\n",
       "    <tr>\n",
       "      <th>49995</th>\n",
       "      <td>2</td>\n",
       "      <td>[[[tensor(145, dtype=torch.uint8), tensor(151,...</td>\n",
       "      <td>wagtail_s_001418.png</td>\n",
       "    </tr>\n",
       "    <tr>\n",
       "      <th>49996</th>\n",
       "      <td>6</td>\n",
       "      <td>[[[tensor(255, dtype=torch.uint8), tensor(254,...</td>\n",
       "      <td>toad_s_002300.png</td>\n",
       "    </tr>\n",
       "    <tr>\n",
       "      <th>49997</th>\n",
       "      <td>9</td>\n",
       "      <td>[[[tensor(35, dtype=torch.uint8), tensor(40, d...</td>\n",
       "      <td>tipper_s_000416.png</td>\n",
       "    </tr>\n",
       "    <tr>\n",
       "      <th>49998</th>\n",
       "      <td>1</td>\n",
       "      <td>[[[tensor(189, dtype=torch.uint8), tensor(186,...</td>\n",
       "      <td>coupe_s_001887.png</td>\n",
       "    </tr>\n",
       "    <tr>\n",
       "      <th>49999</th>\n",
       "      <td>1</td>\n",
       "      <td>[[[tensor(229, dtype=torch.uint8), tensor(236,...</td>\n",
       "      <td>coupe_s_001616.png</td>\n",
       "    </tr>\n",
       "  </tbody>\n",
       "</table>\n",
       "<p>50000 rows × 3 columns</p>\n",
       "</div>"
      ],
      "text/plain": [
       "       labels                                               data  \\\n",
       "0           6  [[[tensor(59, dtype=torch.uint8), tensor(43, d...   \n",
       "1           9  [[[tensor(154, dtype=torch.uint8), tensor(126,...   \n",
       "2           9  [[[tensor(255, dtype=torch.uint8), tensor(253,...   \n",
       "3           4  [[[tensor(28, dtype=torch.uint8), tensor(37, d...   \n",
       "4           1  [[[tensor(170, dtype=torch.uint8), tensor(168,...   \n",
       "...       ...                                                ...   \n",
       "49995       2  [[[tensor(145, dtype=torch.uint8), tensor(151,...   \n",
       "49996       6  [[[tensor(255, dtype=torch.uint8), tensor(254,...   \n",
       "49997       9  [[[tensor(35, dtype=torch.uint8), tensor(40, d...   \n",
       "49998       1  [[[tensor(189, dtype=torch.uint8), tensor(186,...   \n",
       "49999       1  [[[tensor(229, dtype=torch.uint8), tensor(236,...   \n",
       "\n",
       "                                      filenames  \n",
       "0      leptodactylus_pentadactylus_s_000004.png  \n",
       "1                           camion_s_000148.png  \n",
       "2                     tipper_truck_s_001250.png  \n",
       "3                     american_elk_s_001521.png  \n",
       "4                    station_wagon_s_000293.png  \n",
       "...                                         ...  \n",
       "49995                      wagtail_s_001418.png  \n",
       "49996                         toad_s_002300.png  \n",
       "49997                       tipper_s_000416.png  \n",
       "49998                        coupe_s_001887.png  \n",
       "49999                        coupe_s_001616.png  \n",
       "\n",
       "[50000 rows x 3 columns]"
      ]
     },
     "execution_count": 11,
     "metadata": {},
     "output_type": "execute_result"
    }
   ],
   "source": [
    "train_pf_df"
   ]
  },
  {
   "cell_type": "code",
   "execution_count": 12,
   "id": "4fb84f6b-e61c-4f00-8811-d442cc24ae80",
   "metadata": {},
   "outputs": [
    {
     "data": {
      "text/plain": [
       "torch.Size([3, 32, 32])"
      ]
     },
     "execution_count": 12,
     "metadata": {},
     "output_type": "execute_result"
    }
   ],
   "source": [
    "train_pf_df.loc[0,'data'].shape"
   ]
  },
  {
   "cell_type": "markdown",
   "id": "7b660bf8-6131-4f8b-839d-fd9e6dc00756",
   "metadata": {},
   "source": [
    "<br>\n",
    "\n",
    "## **Step 7: Do the same for test batch**"
   ]
  },
  {
   "cell_type": "code",
   "execution_count": 13,
   "id": "6170a0e6-9d33-4c78-8407-b94af57211fe",
   "metadata": {},
   "outputs": [],
   "source": [
    "pf = pd.read_pickle('./data/cifar-10-batches-py/test_batch')"
   ]
  },
  {
   "cell_type": "code",
   "execution_count": 14,
   "id": "df380b4c-c2e8-44f8-81b8-064a9aacab33",
   "metadata": {},
   "outputs": [],
   "source": [
    "del pf['batch_label']"
   ]
  },
  {
   "cell_type": "code",
   "execution_count": 15,
   "id": "2b27acfc-90bd-4de8-b709-2e84edbbfbb9",
   "metadata": {},
   "outputs": [],
   "source": [
    "pf['data'] = list(pf['data'])"
   ]
  },
  {
   "cell_type": "code",
   "execution_count": 16,
   "id": "814c1776-4e59-4c71-ad0b-6bb5e84cbc99",
   "metadata": {},
   "outputs": [],
   "source": [
    "pf_df = pd.DataFrame(pf)"
   ]
  },
  {
   "cell_type": "code",
   "execution_count": 17,
   "id": "d12523c0-0c48-4180-a417-b79eb5de182b",
   "metadata": {},
   "outputs": [],
   "source": [
    "pf_df['data'] = pf_df['data'].apply(lambda x: torch.from_numpy(np.array(x).reshape(3,32,32)))"
   ]
  },
  {
   "cell_type": "code",
   "execution_count": 18,
   "id": "77db47a6-23d9-4f18-bff9-67a181102ab7",
   "metadata": {},
   "outputs": [],
   "source": [
    "pf_df.to_pickle('test_batch')"
   ]
  },
  {
   "cell_type": "code",
   "execution_count": 19,
   "id": "ed029c88-c239-4d93-baaa-7f62e1e812f4",
   "metadata": {},
   "outputs": [],
   "source": [
    "test_pf = pd.read_pickle('test_batch')"
   ]
  },
  {
   "cell_type": "code",
   "execution_count": 20,
   "id": "3a0af630-8cd6-42a7-b472-4ebb2e43ecc5",
   "metadata": {},
   "outputs": [],
   "source": [
    "test_pf_df = pd.DataFrame(test_pf)"
   ]
  },
  {
   "cell_type": "code",
   "execution_count": 21,
   "id": "86f0eb11-7d4c-4d0e-b0ef-999c1f13e284",
   "metadata": {},
   "outputs": [
    {
     "data": {
      "text/html": [
       "<div>\n",
       "<style scoped>\n",
       "    .dataframe tbody tr th:only-of-type {\n",
       "        vertical-align: middle;\n",
       "    }\n",
       "\n",
       "    .dataframe tbody tr th {\n",
       "        vertical-align: top;\n",
       "    }\n",
       "\n",
       "    .dataframe thead th {\n",
       "        text-align: right;\n",
       "    }\n",
       "</style>\n",
       "<table border=\"1\" class=\"dataframe\">\n",
       "  <thead>\n",
       "    <tr style=\"text-align: right;\">\n",
       "      <th></th>\n",
       "      <th>labels</th>\n",
       "      <th>data</th>\n",
       "      <th>filenames</th>\n",
       "    </tr>\n",
       "  </thead>\n",
       "  <tbody>\n",
       "    <tr>\n",
       "      <th>0</th>\n",
       "      <td>3</td>\n",
       "      <td>[[[tensor(158, dtype=torch.uint8), tensor(159,...</td>\n",
       "      <td>domestic_cat_s_000907.png</td>\n",
       "    </tr>\n",
       "    <tr>\n",
       "      <th>1</th>\n",
       "      <td>8</td>\n",
       "      <td>[[[tensor(235, dtype=torch.uint8), tensor(231,...</td>\n",
       "      <td>hydrofoil_s_000078.png</td>\n",
       "    </tr>\n",
       "    <tr>\n",
       "      <th>2</th>\n",
       "      <td>8</td>\n",
       "      <td>[[[tensor(158, dtype=torch.uint8), tensor(158,...</td>\n",
       "      <td>sea_boat_s_001456.png</td>\n",
       "    </tr>\n",
       "    <tr>\n",
       "      <th>3</th>\n",
       "      <td>0</td>\n",
       "      <td>[[[tensor(155, dtype=torch.uint8), tensor(167,...</td>\n",
       "      <td>jetliner_s_001705.png</td>\n",
       "    </tr>\n",
       "    <tr>\n",
       "      <th>4</th>\n",
       "      <td>6</td>\n",
       "      <td>[[[tensor(65, dtype=torch.uint8), tensor(70, d...</td>\n",
       "      <td>green_frog_s_001658.png</td>\n",
       "    </tr>\n",
       "    <tr>\n",
       "      <th>...</th>\n",
       "      <td>...</td>\n",
       "      <td>...</td>\n",
       "      <td>...</td>\n",
       "    </tr>\n",
       "    <tr>\n",
       "      <th>9995</th>\n",
       "      <td>8</td>\n",
       "      <td>[[[tensor(76, dtype=torch.uint8), tensor(76, d...</td>\n",
       "      <td>cabin_cruiser_s_000783.png</td>\n",
       "    </tr>\n",
       "    <tr>\n",
       "      <th>9996</th>\n",
       "      <td>3</td>\n",
       "      <td>[[[tensor(81, dtype=torch.uint8), tensor(91, d...</td>\n",
       "      <td>tabby_cat_s_000494.png</td>\n",
       "    </tr>\n",
       "    <tr>\n",
       "      <th>9997</th>\n",
       "      <td>5</td>\n",
       "      <td>[[[tensor(20, dtype=torch.uint8), tensor(19, d...</td>\n",
       "      <td>pekinese_s_002005.png</td>\n",
       "    </tr>\n",
       "    <tr>\n",
       "      <th>9998</th>\n",
       "      <td>1</td>\n",
       "      <td>[[[tensor(25, dtype=torch.uint8), tensor(15, d...</td>\n",
       "      <td>convertible_s_002525.png</td>\n",
       "    </tr>\n",
       "    <tr>\n",
       "      <th>9999</th>\n",
       "      <td>7</td>\n",
       "      <td>[[[tensor(73, dtype=torch.uint8), tensor(98, d...</td>\n",
       "      <td>broodmare_s_000763.png</td>\n",
       "    </tr>\n",
       "  </tbody>\n",
       "</table>\n",
       "<p>10000 rows × 3 columns</p>\n",
       "</div>"
      ],
      "text/plain": [
       "      labels                                               data  \\\n",
       "0          3  [[[tensor(158, dtype=torch.uint8), tensor(159,...   \n",
       "1          8  [[[tensor(235, dtype=torch.uint8), tensor(231,...   \n",
       "2          8  [[[tensor(158, dtype=torch.uint8), tensor(158,...   \n",
       "3          0  [[[tensor(155, dtype=torch.uint8), tensor(167,...   \n",
       "4          6  [[[tensor(65, dtype=torch.uint8), tensor(70, d...   \n",
       "...      ...                                                ...   \n",
       "9995       8  [[[tensor(76, dtype=torch.uint8), tensor(76, d...   \n",
       "9996       3  [[[tensor(81, dtype=torch.uint8), tensor(91, d...   \n",
       "9997       5  [[[tensor(20, dtype=torch.uint8), tensor(19, d...   \n",
       "9998       1  [[[tensor(25, dtype=torch.uint8), tensor(15, d...   \n",
       "9999       7  [[[tensor(73, dtype=torch.uint8), tensor(98, d...   \n",
       "\n",
       "                       filenames  \n",
       "0      domestic_cat_s_000907.png  \n",
       "1         hydrofoil_s_000078.png  \n",
       "2          sea_boat_s_001456.png  \n",
       "3          jetliner_s_001705.png  \n",
       "4        green_frog_s_001658.png  \n",
       "...                          ...  \n",
       "9995  cabin_cruiser_s_000783.png  \n",
       "9996      tabby_cat_s_000494.png  \n",
       "9997       pekinese_s_002005.png  \n",
       "9998    convertible_s_002525.png  \n",
       "9999      broodmare_s_000763.png  \n",
       "\n",
       "[10000 rows x 3 columns]"
      ]
     },
     "execution_count": 21,
     "metadata": {},
     "output_type": "execute_result"
    }
   ],
   "source": [
    "test_pf_df"
   ]
  },
  {
   "cell_type": "code",
   "execution_count": 22,
   "id": "72bbce41-a512-4ec9-9b94-e6bc27a3a6cb",
   "metadata": {},
   "outputs": [
    {
     "data": {
      "text/plain": [
       "torch.Size([3, 32, 32])"
      ]
     },
     "execution_count": 22,
     "metadata": {},
     "output_type": "execute_result"
    }
   ],
   "source": [
    "test_pf_df.loc[0,'data'].shape"
   ]
  },
  {
   "cell_type": "code",
   "execution_count": null,
   "id": "4b64226a-f673-4c66-b4c9-b4579d084f86",
   "metadata": {},
   "outputs": [],
   "source": []
  }
 ],
 "metadata": {
  "kernelspec": {
   "display_name": "Python 3 (ipykernel)",
   "language": "python",
   "name": "python3"
  },
  "language_info": {
   "codemirror_mode": {
    "name": "ipython",
    "version": 3
   },
   "file_extension": ".py",
   "mimetype": "text/x-python",
   "name": "python",
   "nbconvert_exporter": "python",
   "pygments_lexer": "ipython3",
   "version": "3.11.5"
  }
 },
 "nbformat": 4,
 "nbformat_minor": 5
}
