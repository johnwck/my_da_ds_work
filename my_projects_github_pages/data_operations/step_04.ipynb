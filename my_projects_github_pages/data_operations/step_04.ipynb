{
 "cells": [
  {
   "cell_type": "markdown",
   "id": "3ccea361",
   "metadata": {},
   "source": [
    "# **Step 4: More realistic scenario in production**"
   ]
  },
  {
   "cell_type": "markdown",
   "id": "73bad8db-a235-48ab-b382-8051a07809b8",
   "metadata": {},
   "source": [
    "<br>\n",
    "\n",
    "## **Set up scenario**"
   ]
  },
  {
   "cell_type": "code",
   "execution_count": 1,
   "id": "9ea2c13e-1951-447f-b0ec-493cef630429",
   "metadata": {},
   "outputs": [],
   "source": [
    "import pandas as pd"
   ]
  },
  {
   "cell_type": "code",
   "execution_count": 2,
   "id": "bc5866ba-826e-483a-973c-600f909c58e7",
   "metadata": {
    "tags": []
   },
   "outputs": [],
   "source": [
    "from datetime import datetime"
   ]
  },
  {
   "cell_type": "code",
   "execution_count": 3,
   "id": "541ca26a-fbaa-467c-94eb-23f713e9a256",
   "metadata": {
    "tags": []
   },
   "outputs": [],
   "source": [
    "d_dict = {'id': [1,2,3,4,5],\n",
    "          'address': ['location A','location B','location C','location D','location E'],\n",
    "          'updated_date': [datetime(2023,1,1),datetime(2023,2,2),datetime(2023,3,3),datetime(2023,4,4),datetime(2023,5,5)]}"
   ]
  },
  {
   "cell_type": "code",
   "execution_count": 4,
   "id": "6159d65d-5009-46a6-9dc2-34b5169e2450",
   "metadata": {
    "tags": []
   },
   "outputs": [],
   "source": [
    "d_frame = pd.DataFrame(d_dict)"
   ]
  },
  {
   "cell_type": "code",
   "execution_count": 5,
   "id": "efcbba62-bebf-47ae-81eb-e1a73e06491a",
   "metadata": {
    "tags": []
   },
   "outputs": [
    {
     "data": {
      "text/html": [
       "<div>\n",
       "<style scoped>\n",
       "    .dataframe tbody tr th:only-of-type {\n",
       "        vertical-align: middle;\n",
       "    }\n",
       "\n",
       "    .dataframe tbody tr th {\n",
       "        vertical-align: top;\n",
       "    }\n",
       "\n",
       "    .dataframe thead th {\n",
       "        text-align: right;\n",
       "    }\n",
       "</style>\n",
       "<table border=\"1\" class=\"dataframe\">\n",
       "  <thead>\n",
       "    <tr style=\"text-align: right;\">\n",
       "      <th></th>\n",
       "      <th>id</th>\n",
       "      <th>address</th>\n",
       "      <th>updated_date</th>\n",
       "    </tr>\n",
       "  </thead>\n",
       "  <tbody>\n",
       "    <tr>\n",
       "      <th>0</th>\n",
       "      <td>1</td>\n",
       "      <td>location A</td>\n",
       "      <td>2023-01-01</td>\n",
       "    </tr>\n",
       "    <tr>\n",
       "      <th>1</th>\n",
       "      <td>2</td>\n",
       "      <td>location B</td>\n",
       "      <td>2023-02-02</td>\n",
       "    </tr>\n",
       "    <tr>\n",
       "      <th>2</th>\n",
       "      <td>3</td>\n",
       "      <td>location C</td>\n",
       "      <td>2023-03-03</td>\n",
       "    </tr>\n",
       "    <tr>\n",
       "      <th>3</th>\n",
       "      <td>4</td>\n",
       "      <td>location D</td>\n",
       "      <td>2023-04-04</td>\n",
       "    </tr>\n",
       "    <tr>\n",
       "      <th>4</th>\n",
       "      <td>5</td>\n",
       "      <td>location E</td>\n",
       "      <td>2023-05-05</td>\n",
       "    </tr>\n",
       "  </tbody>\n",
       "</table>\n",
       "</div>"
      ],
      "text/plain": [
       "   id     address updated_date\n",
       "0   1  location A   2023-01-01\n",
       "1   2  location B   2023-02-02\n",
       "2   3  location C   2023-03-03\n",
       "3   4  location D   2023-04-04\n",
       "4   5  location E   2023-05-05"
      ]
     },
     "execution_count": 5,
     "metadata": {},
     "output_type": "execute_result"
    }
   ],
   "source": [
    "d_frame"
   ]
  },
  {
   "cell_type": "markdown",
   "id": "667e1b88-3582-4b7e-85ce-2b908b0a01c8",
   "metadata": {},
   "source": [
    "**'d_frame' could be from extract and transform process**\n",
    "\n",
    "<br>"
   ]
  },
  {
   "cell_type": "markdown",
   "id": "d7c360d0-e26d-49bb-a3ca-bb6d6dc82426",
   "metadata": {},
   "source": [
    "<br>\n",
    "\n",
    "## **Note**"
   ]
  },
  {
   "cell_type": "code",
   "execution_count": 6,
   "id": "1bd1d4a1-c9ff-48ea-be71-86bb5763b014",
   "metadata": {
    "tags": []
   },
   "outputs": [
    {
     "name": "stdout",
     "output_type": "stream",
     "text": [
      "(1, 'location A', '2023-01-01T00:00:00.000000000')\n",
      "(2, 'location B', '2023-02-02T00:00:00.000000000')\n",
      "(3, 'location C', '2023-03-03T00:00:00.000000000')\n",
      "(4, 'location D', '2023-04-04T00:00:00.000000000')\n",
      "(5, 'location E', '2023-05-05T00:00:00.000000000')\n"
     ]
    }
   ],
   "source": [
    "# 'updated_date' has time component\n",
    "\n",
    "for i in d_frame.to_records(index=False):\n",
    "    print(i)"
   ]
  },
  {
   "cell_type": "code",
   "execution_count": 7,
   "id": "d0e29d81-a124-4b40-8aa1-8c65c025d847",
   "metadata": {
    "tags": []
   },
   "outputs": [],
   "source": [
    "# Do these to remove time component\n",
    "\n",
    "# Step 1: Form new column without time component\n",
    "d_frame['updated_date_text'] = d_frame['updated_date'].dt.strftime('%Y-%m-%d')\n",
    "\n",
    "# Step 2: Drop old column\n",
    "d_frame.drop(columns=['updated_date'], inplace=True)\n",
    "\n",
    "# Step 3: Rename new column to old column\n",
    "d_frame.rename(columns={'updated_date_text': 'updated_date'}, inplace=True)"
   ]
  },
  {
   "cell_type": "code",
   "execution_count": 8,
   "id": "7df87249-6037-4beb-824b-100a849d2cc9",
   "metadata": {
    "tags": []
   },
   "outputs": [
    {
     "name": "stdout",
     "output_type": "stream",
     "text": [
      "(1, 'location A', '2023-01-01')\n",
      "(2, 'location B', '2023-02-02')\n",
      "(3, 'location C', '2023-03-03')\n",
      "(4, 'location D', '2023-04-04')\n",
      "(5, 'location E', '2023-05-05')\n"
     ]
    }
   ],
   "source": [
    "# 'updated_date' has no time component now\n",
    "\n",
    "for i in d_frame.to_records(index=False):\n",
    "    print(i)"
   ]
  },
  {
   "cell_type": "markdown",
   "id": "2b11684d-763c-4882-a618-a3b9db0f11e5",
   "metadata": {},
   "source": [
    "<br>\n",
    "\n",
    "## **Establish connection and create table**"
   ]
  },
  {
   "cell_type": "code",
   "execution_count": 9,
   "id": "d5ba43fe-b26e-4172-91f0-d0b16acad5e9",
   "metadata": {
    "tags": []
   },
   "outputs": [],
   "source": [
    "import sqlite3"
   ]
  },
  {
   "cell_type": "code",
   "execution_count": 10,
   "id": "63570e85-a4d3-4675-989f-675bad3df712",
   "metadata": {
    "tags": []
   },
   "outputs": [],
   "source": [
    "conn = sqlite3.connect('mysqlite_database.db')"
   ]
  },
  {
   "cell_type": "code",
   "execution_count": 11,
   "id": "f4d74064-40d5-4a51-a5da-b9d8dd807a70",
   "metadata": {
    "tags": []
   },
   "outputs": [],
   "source": [
    "query_string = \"\"\"\n",
    "    CREATE TABLE customer_table (\n",
    "        id             integer   primary key,\n",
    "        address        text,\n",
    "        updated_date   text\n",
    "    )\n",
    "    \"\"\""
   ]
  },
  {
   "cell_type": "code",
   "execution_count": 12,
   "id": "6468dcb7-b572-47ff-be84-f72bf6e84700",
   "metadata": {
    "tags": []
   },
   "outputs": [
    {
     "data": {
      "text/plain": [
       "<sqlite3.Cursor at 0x194ccbea5c0>"
      ]
     },
     "execution_count": 12,
     "metadata": {},
     "output_type": "execute_result"
    }
   ],
   "source": [
    "conn.execute(query_string)"
   ]
  },
  {
   "cell_type": "markdown",
   "id": "a103b80a-1ad7-4c15-966c-b762f9266292",
   "metadata": {},
   "source": [
    "<br>\n",
    "\n",
    "## **Insert data**"
   ]
  },
  {
   "cell_type": "code",
   "execution_count": 13,
   "id": "db13df8f-0701-4fbe-9f0c-a870d5a2ace3",
   "metadata": {
    "tags": []
   },
   "outputs": [
    {
     "name": "stdout",
     "output_type": "stream",
     "text": [
      "<class 'pandas.core.frame.DataFrame'>\n",
      "RangeIndex: 5 entries, 0 to 4\n",
      "Data columns (total 3 columns):\n",
      " #   Column        Non-Null Count  Dtype \n",
      "---  ------        --------------  ----- \n",
      " 0   id            5 non-null      int32 \n",
      " 1   address       5 non-null      object\n",
      " 2   updated_date  5 non-null      object\n",
      "dtypes: int32(1), object(2)\n",
      "memory usage: 232.0+ bytes\n",
      "None\n"
     ]
    }
   ],
   "source": [
    "d_frame['id'] = d_frame['id'].astype('int32')\n",
    "d_frame['address'] = d_frame['address'].astype('object')\n",
    "d_frame['updated_date'] = d_frame['updated_date'].astype('object')\n",
    "print(d_frame.info())"
   ]
  },
  {
   "cell_type": "markdown",
   "id": "bc5b7118-696f-4163-8237-94f0e12777f3",
   "metadata": {},
   "source": [
    "<br>\n",
    "\n",
    "**This step needed to ensure matching of data between Python and SQLite**"
   ]
  },
  {
   "cell_type": "code",
   "execution_count": 14,
   "id": "88e3546e-ae47-455b-8854-52d00b04ce3f",
   "metadata": {
    "tags": []
   },
   "outputs": [],
   "source": [
    "import numpy as np\n",
    "sqlite3.register_adapter(np.int32, lambda val: int(val))"
   ]
  },
  {
   "cell_type": "markdown",
   "id": "a824ae19-92a6-432a-b632-96d0af2984db",
   "metadata": {},
   "source": [
    "<br>\n",
    "\n",
    "**'data_insert' is format to insert using 'conn.executemany'**"
   ]
  },
  {
   "cell_type": "code",
   "execution_count": 15,
   "id": "2a0d263e-34c2-45bf-9389-d098f7b19947",
   "metadata": {
    "tags": []
   },
   "outputs": [],
   "source": [
    "data_insert = list(d_frame.to_records(index=False))"
   ]
  },
  {
   "cell_type": "code",
   "execution_count": 16,
   "id": "00717906-584a-4bde-bd5e-f186d7db2bb9",
   "metadata": {
    "tags": []
   },
   "outputs": [],
   "source": [
    "query_string = \"\"\"\n",
    "    INSERT OR REPLACE INTO customer_table\n",
    "        VALUES\n",
    "            (?,?,?)\n",
    "    \"\"\""
   ]
  },
  {
   "cell_type": "code",
   "execution_count": 17,
   "id": "a9ed2b90-2f81-42c8-b74e-b90694cec6dd",
   "metadata": {
    "tags": []
   },
   "outputs": [
    {
     "data": {
      "text/plain": [
       "<sqlite3.Cursor at 0x194cb3009c0>"
      ]
     },
     "execution_count": 17,
     "metadata": {},
     "output_type": "execute_result"
    }
   ],
   "source": [
    "conn.executemany(query_string, data_insert)"
   ]
  },
  {
   "cell_type": "code",
   "execution_count": 18,
   "id": "f28421bb-24ed-430d-a008-f78fc915cdeb",
   "metadata": {
    "tags": []
   },
   "outputs": [],
   "source": [
    "conn.commit()"
   ]
  },
  {
   "cell_type": "code",
   "execution_count": 19,
   "id": "7e8a3af6-b432-4ef3-803f-f564044e50d4",
   "metadata": {},
   "outputs": [
    {
     "data": {
      "text/html": [
       "<img src=\"step_04a.png\" width=\"300\" height=\"300\"/>"
      ],
      "text/plain": [
       "<IPython.core.display.Image object>"
      ]
     },
     "execution_count": 19,
     "metadata": {},
     "output_type": "execute_result"
    }
   ],
   "source": [
    "from IPython.display import Image \n",
    "Image(url='step_04a.png', width=300, height=300)"
   ]
  },
  {
   "cell_type": "markdown",
   "id": "f9aa4875-909e-4477-ae15-c2da81803965",
   "metadata": {},
   "source": [
    "<br>\n",
    "\n",
    "## **Insert new data and update existing data**"
   ]
  },
  {
   "cell_type": "code",
   "execution_count": 20,
   "id": "967b2f08-5f46-4075-b411-93d213f23faf",
   "metadata": {
    "tags": []
   },
   "outputs": [],
   "source": [
    "# id=3 has changed location\n",
    "# id=6 and id=7 are new\n",
    "\n",
    "d_dict = {'id': [3,6,7],\n",
    "          'address': ['location C1','location F','location G'],\n",
    "          'updated_date': [datetime(2023,3,10),datetime(2023,6,6),datetime(2023,7,7)]}"
   ]
  },
  {
   "cell_type": "code",
   "execution_count": 21,
   "id": "4294a790-bd77-4350-a3e2-1427a5e0b8c6",
   "metadata": {
    "tags": []
   },
   "outputs": [],
   "source": [
    "d_frame = pd.DataFrame(d_dict)"
   ]
  },
  {
   "cell_type": "code",
   "execution_count": 22,
   "id": "dd68f24f-3f97-4e70-a495-d737112496ca",
   "metadata": {
    "tags": []
   },
   "outputs": [],
   "source": [
    "d_frame['updated_date_text'] = d_frame['updated_date'].dt.strftime('%Y-%m-%d')\n",
    "d_frame.drop(columns=['updated_date'], inplace=True)\n",
    "d_frame.rename(columns={'updated_date_text': 'updated_date'}, inplace=True)"
   ]
  },
  {
   "cell_type": "code",
   "execution_count": 23,
   "id": "35bec8b9-32bf-431f-baeb-f8fc42451160",
   "metadata": {
    "tags": []
   },
   "outputs": [],
   "source": [
    "d_frame['id'] = d_frame['id'].astype('int32')\n",
    "d_frame['address'] = d_frame['address'].astype('object')\n",
    "d_frame['updated_date'] = d_frame['updated_date'].astype('object')"
   ]
  },
  {
   "cell_type": "code",
   "execution_count": 24,
   "id": "0ce02d74-5544-4818-84d6-651c7fb40d03",
   "metadata": {
    "tags": []
   },
   "outputs": [],
   "source": [
    "data_insert = list(d_frame.to_records(index=False))"
   ]
  },
  {
   "cell_type": "code",
   "execution_count": 25,
   "id": "1f9052b9-2a20-4046-b417-fecda399eb05",
   "metadata": {
    "tags": []
   },
   "outputs": [],
   "source": [
    "query_string = \"\"\"\n",
    "    INSERT OR REPLACE INTO customer_table\n",
    "        VALUES\n",
    "            (?,?,?)\n",
    "    \"\"\""
   ]
  },
  {
   "cell_type": "code",
   "execution_count": 26,
   "id": "f6894e3c-bae2-431f-a098-62bfd4b3a56c",
   "metadata": {},
   "outputs": [
    {
     "data": {
      "text/plain": [
       "<sqlite3.Cursor at 0x194ccbfcac0>"
      ]
     },
     "execution_count": 26,
     "metadata": {},
     "output_type": "execute_result"
    }
   ],
   "source": [
    "conn.executemany(query_string, data_insert)"
   ]
  },
  {
   "cell_type": "code",
   "execution_count": 27,
   "id": "aaeb6e62-f7f8-490d-986a-5afd967e6d46",
   "metadata": {},
   "outputs": [],
   "source": [
    "conn.commit()"
   ]
  },
  {
   "cell_type": "code",
   "execution_count": 28,
   "id": "797e8e6f-fcbe-41c5-8631-de9ec6dc89b0",
   "metadata": {},
   "outputs": [
    {
     "data": {
      "text/html": [
       "<img src=\"step_04b.png\" width=\"300\" height=\"300\"/>"
      ],
      "text/plain": [
       "<IPython.core.display.Image object>"
      ]
     },
     "execution_count": 28,
     "metadata": {},
     "output_type": "execute_result"
    }
   ],
   "source": [
    "from IPython.display import Image \n",
    "Image(url='step_04b.png', width=300, height=300)"
   ]
  },
  {
   "cell_type": "markdown",
   "id": "8bea32d8",
   "metadata": {},
   "source": [
    "<br>\n",
    "\n",
    "## **Close connection to database**"
   ]
  },
  {
   "cell_type": "code",
   "execution_count": 29,
   "id": "6b1ff7cf",
   "metadata": {},
   "outputs": [],
   "source": [
    "conn.close()"
   ]
  },
  {
   "cell_type": "code",
   "execution_count": null,
   "id": "c58b4020-4f38-4b2a-811d-519964df325e",
   "metadata": {},
   "outputs": [],
   "source": []
  }
 ],
 "metadata": {
  "kernelspec": {
   "display_name": "Python 3 (ipykernel)",
   "language": "python",
   "name": "python3"
  },
  "language_info": {
   "codemirror_mode": {
    "name": "ipython",
    "version": 3
   },
   "file_extension": ".py",
   "mimetype": "text/x-python",
   "name": "python",
   "nbconvert_exporter": "python",
   "pygments_lexer": "ipython3",
   "version": "3.11.5"
  }
 },
 "nbformat": 4,
 "nbformat_minor": 5
}
