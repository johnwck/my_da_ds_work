{
 "cells": [
  {
   "cell_type": "markdown",
   "id": "5158e378-538c-4553-8d37-1857cbf3b9c9",
   "metadata": {},
   "source": [
    "# **Step 1**"
   ]
  },
  {
   "cell_type": "markdown",
   "id": "d428a960-350f-4538-85fa-53280a77ee6f",
   "metadata": {},
   "source": [
    "<br>\n",
    "\n",
    "## **Download and install DB Browser for SQLite**"
   ]
  },
  {
   "cell_type": "markdown",
   "id": "4e546f24-0902-4c1f-814f-56e0f8c5de4e",
   "metadata": {},
   "source": [
    "**URL to download:**  \n",
    "https://sqlitebrowser.org/dl/"
   ]
  },
  {
   "cell_type": "code",
   "execution_count": null,
   "id": "0fa39bd9-616f-4df1-ae7d-d45024082bea",
   "metadata": {},
   "outputs": [],
   "source": []
  }
 ],
 "metadata": {
  "kernelspec": {
   "display_name": "Python 3 (ipykernel)",
   "language": "python",
   "name": "python3"
  },
  "language_info": {
   "codemirror_mode": {
    "name": "ipython",
    "version": 3
   },
   "file_extension": ".py",
   "mimetype": "text/x-python",
   "name": "python",
   "nbconvert_exporter": "python",
   "pygments_lexer": "ipython3",
   "version": "3.11.5"
  }
 },
 "nbformat": 4,
 "nbformat_minor": 5
}
