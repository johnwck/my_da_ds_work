{
 "cells": [
  {
   "cell_type": "markdown",
   "id": "3ccea361",
   "metadata": {},
   "source": [
    "# **Step 3**"
   ]
  },
  {
   "cell_type": "markdown",
   "id": "92066a81-4334-4464-9c4a-c46099e74eaa",
   "metadata": {},
   "source": [
    "<br>\n",
    "\n",
    "## **Establish connection to database**"
   ]
  },
  {
   "cell_type": "code",
   "execution_count": 1,
   "id": "db8344a8",
   "metadata": {},
   "outputs": [],
   "source": [
    "import sqlite3"
   ]
  },
  {
   "cell_type": "code",
   "execution_count": 2,
   "id": "cc329481-7b7f-4ac2-b794-eb34f6fc34c6",
   "metadata": {
    "tags": []
   },
   "outputs": [],
   "source": [
    "conn = sqlite3.connect('mysqlite_database.db')"
   ]
  },
  {
   "cell_type": "markdown",
   "id": "458b11ae-cbc6-4aee-91a2-67c9c6ebb5c6",
   "metadata": {
    "tags": []
   },
   "source": [
    "<br>\n",
    "\n",
    "## **Create table and fields in database**"
   ]
  },
  {
   "cell_type": "code",
   "execution_count": 3,
   "id": "437a3a62-0f55-4c97-8b2d-49d9417134e7",
   "metadata": {
    "tags": []
   },
   "outputs": [],
   "source": [
    "query_string = \"\"\"\n",
    "    CREATE TABLE my_table (\n",
    "        transaction_id       integer   primary key,\n",
    "        transaction_date     text,\n",
    "        transaction_amount   real\n",
    "    )\n",
    "    \"\"\""
   ]
  },
  {
   "cell_type": "code",
   "execution_count": 4,
   "id": "a7032638-7db7-4619-a5da-12de21e87c31",
   "metadata": {
    "tags": []
   },
   "outputs": [
    {
     "data": {
      "text/plain": [
       "<sqlite3.Cursor at 0x20d0bd10cc0>"
      ]
     },
     "execution_count": 4,
     "metadata": {},
     "output_type": "execute_result"
    }
   ],
   "source": [
    "conn.execute(query_string)"
   ]
  },
  {
   "cell_type": "markdown",
   "id": "0960365c-07db-4c7b-8aaf-3b576c9e3eb7",
   "metadata": {
    "tags": []
   },
   "source": [
    "<img src = 'step_03a.PNG' width='1000'>"
   ]
  },
  {
   "cell_type": "markdown",
   "id": "69616a4a-896a-4f8a-9923-ae8d7f0016eb",
   "metadata": {
    "tags": []
   },
   "source": [
    "<br>\n",
    "\n",
    "## **Insert data into table and fields**  "
   ]
  },
  {
   "cell_type": "code",
   "execution_count": 6,
   "id": "28dc74d7-fe40-438e-9122-d59e7087cf90",
   "metadata": {
    "tags": []
   },
   "outputs": [],
   "source": [
    "query_string = \"\"\"\n",
    "    INSERT INTO my_table\n",
    "        VALUES\n",
    "            (1, '2023-01-01', -100.5),\n",
    "            (2, '2023-02-01', -30.0),\n",
    "            (3, '2023-02-02', -70.2),\n",
    "            (4, '2023-02-03', 100.6),\n",
    "            (5, '2023-05-01', -30.1),\n",
    "            (6, '2023-05-02', -30.3),\n",
    "            (7, '2023-05-03', -40.9),\n",
    "            (8, '2023-05-04', 500.4)\n",
    "    \"\"\""
   ]
  },
  {
   "cell_type": "code",
   "execution_count": 7,
   "id": "24c40c48-9506-4b83-be37-1d38eb48c7b0",
   "metadata": {
    "tags": []
   },
   "outputs": [
    {
     "data": {
      "text/plain": [
       "<sqlite3.Cursor at 0x20d0bd11c40>"
      ]
     },
     "execution_count": 7,
     "metadata": {},
     "output_type": "execute_result"
    }
   ],
   "source": [
    "conn.execute(query_string)"
   ]
  },
  {
   "cell_type": "code",
   "execution_count": 8,
   "id": "a4b15eac-6c7c-431e-8b83-606e7a317d53",
   "metadata": {
    "tags": []
   },
   "outputs": [],
   "source": [
    "conn.commit()"
   ]
  },
  {
   "cell_type": "markdown",
   "id": "8bb15533-2de2-43a9-b7dd-2611c9be27b4",
   "metadata": {
    "tags": []
   },
   "source": [
    "<img src = 'step_03b.PNG' width='450'>"
   ]
  },
  {
   "cell_type": "markdown",
   "id": "eb72c8ec",
   "metadata": {},
   "source": [
    "<br>\n",
    "\n",
    "## **Insert new data and update existing data**"
   ]
  },
  {
   "cell_type": "code",
   "execution_count": 10,
   "id": "596d3144",
   "metadata": {},
   "outputs": [],
   "source": [
    "# Note: Instead of 'INSERT INTO', use 'INSERT OR REPLACE INTO'\n",
    "\n",
    "query_string = \"\"\"\n",
    "    INSERT OR REPLACE INTO my_table\n",
    "        VALUES\n",
    "            (5, '2023-05-04', 1000.25),\n",
    "            (9, '2023-06-01', 5000.35)\n",
    "    \"\"\""
   ]
  },
  {
   "cell_type": "code",
   "execution_count": 11,
   "id": "444d6605-02b6-4123-8edb-ca1bdfb923e1",
   "metadata": {
    "tags": []
   },
   "outputs": [
    {
     "data": {
      "text/plain": [
       "<sqlite3.Cursor at 0x20d0bd11340>"
      ]
     },
     "execution_count": 11,
     "metadata": {},
     "output_type": "execute_result"
    }
   ],
   "source": [
    "conn.execute(query_string)"
   ]
  },
  {
   "cell_type": "code",
   "execution_count": 12,
   "id": "bf43921c",
   "metadata": {},
   "outputs": [],
   "source": [
    "conn.commit()"
   ]
  },
  {
   "cell_type": "markdown",
   "id": "39d3a714-abce-4ca5-8f63-30ce4fa560b4",
   "metadata": {
    "tags": []
   },
   "source": [
    "<img src = 'step_03c.PNG' width='450'>"
   ]
  },
  {
   "cell_type": "markdown",
   "id": "8bea32d8",
   "metadata": {},
   "source": [
    "<br>\n",
    "\n",
    "## **Close connection to database**"
   ]
  },
  {
   "cell_type": "code",
   "execution_count": 14,
   "id": "6b1ff7cf",
   "metadata": {},
   "outputs": [],
   "source": [
    "conn.close()"
   ]
  },
  {
   "cell_type": "code",
   "execution_count": null,
   "id": "c58b4020-4f38-4b2a-811d-519964df325e",
   "metadata": {},
   "outputs": [],
   "source": []
  }
 ],
 "metadata": {
  "kernelspec": {
   "display_name": "Python 3 (ipykernel)",
   "language": "python",
   "name": "python3"
  },
  "language_info": {
   "codemirror_mode": {
    "name": "ipython",
    "version": 3
   },
   "file_extension": ".py",
   "mimetype": "text/x-python",
   "name": "python",
   "nbconvert_exporter": "python",
   "pygments_lexer": "ipython3",
   "version": "3.11.5"
  }
 },
 "nbformat": 4,
 "nbformat_minor": 5
}
