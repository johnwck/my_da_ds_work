{
 "cells": [
  {
   "cell_type": "markdown",
   "id": "5158e378-538c-4553-8d37-1857cbf3b9c9",
   "metadata": {},
   "source": [
    "# **Step 2**"
   ]
  },
  {
   "cell_type": "markdown",
   "id": "d428a960-350f-4538-85fa-53280a77ee6f",
   "metadata": {},
   "source": [
    "<br>\n",
    "\n",
    "## **Create new database**"
   ]
  },
  {
   "cell_type": "markdown",
   "id": "4e546f24-0902-4c1f-814f-56e0f8c5de4e",
   "metadata": {},
   "source": [
    "<br>\n",
    "\n",
    "**Open DB Browser for SQLite and click on new database**"
   ]
  },
  {
   "cell_type": "markdown",
   "id": "9dad8716-4e6a-4641-8a63-c911914c541a",
   "metadata": {
    "tags": []
   },
   "source": [
    "<img src='step_02a.PNG' width='600'>"
   ]
  },
  {
   "cell_type": "markdown",
   "id": "ee8cb130-e680-46b6-bac5-fb898d54efb4",
   "metadata": {
    "tags": []
   },
   "source": [
    "<br>\n",
    "\n",
    "**Give name to database and save**"
   ]
  },
  {
   "cell_type": "markdown",
   "id": "cb244a5a-da5a-4f3e-ac53-28bbaba37079",
   "metadata": {
    "tags": []
   },
   "source": [
    "<img src='step_02b.PNG' width='500'>"
   ]
  },
  {
   "cell_type": "code",
   "execution_count": null,
   "id": "5c90911a-a614-4db0-b9cb-8b0094bcec82",
   "metadata": {},
   "outputs": [],
   "source": []
  }
 ],
 "metadata": {
  "kernelspec": {
   "display_name": "Python 3 (ipykernel)",
   "language": "python",
   "name": "python3"
  },
  "language_info": {
   "codemirror_mode": {
    "name": "ipython",
    "version": 3
   },
   "file_extension": ".py",
   "mimetype": "text/x-python",
   "name": "python",
   "nbconvert_exporter": "python",
   "pygments_lexer": "ipython3",
   "version": "3.11.5"
  }
 },
 "nbformat": 4,
 "nbformat_minor": 5
}
