{
 "cells": [
  {
   "cell_type": "markdown",
   "id": "5158e378-538c-4553-8d37-1857cbf3b9c9",
   "metadata": {},
   "source": [
    "# **Step 2**"
   ]
  },
  {
   "cell_type": "markdown",
   "id": "d428a960-350f-4538-85fa-53280a77ee6f",
   "metadata": {},
   "source": [
    "<br>\n",
    "\n",
    "## **Create new database**"
   ]
  },
  {
   "cell_type": "markdown",
   "id": "4e546f24-0902-4c1f-814f-56e0f8c5de4e",
   "metadata": {},
   "source": [
    "**Open DB Browser for SQLite and click on new database**"
   ]
  },
  {
   "cell_type": "code",
   "execution_count": 1,
   "id": "c52d15d1-03c3-4a33-b3b9-6126c6a1bf00",
   "metadata": {
    "tags": []
   },
   "outputs": [
    {
     "data": {
      "text/html": [
       "<img src=\"step_02a.png\" width=\"600\" height=\"600\"/>"
      ],
      "text/plain": [
       "<IPython.core.display.Image object>"
      ]
     },
     "execution_count": 1,
     "metadata": {},
     "output_type": "execute_result"
    }
   ],
   "source": [
    "from IPython.display import Image\n",
    "Image(url='https://github.com/johnwck/my_da_ds_work/my_projects_github_pages/data_operations/step_02a.png', width=600, height=600)"
   ]
  },
  {
   "cell_type": "markdown",
   "id": "ee8cb130-e680-46b6-bac5-fb898d54efb4",
   "metadata": {
    "tags": []
   },
   "source": [
    "**Give name to database and save**"
   ]
  },
  {
   "cell_type": "code",
   "execution_count": 2,
   "id": "20087bb1-3bfb-4cc4-8ca7-c64504cfd498",
   "metadata": {
    "tags": []
   },
   "outputs": [
    {
     "data": {
      "text/html": [
       "<img src=\"step_02b.png\" width=\"600\" height=\"600\"/>"
      ],
      "text/plain": [
       "<IPython.core.display.Image object>"
      ]
     },
     "execution_count": 2,
     "metadata": {},
     "output_type": "execute_result"
    }
   ],
   "source": [
    "Image(url='https://github.com/johnwck/my_da_ds_work/my_projects_github_pages/data_operations/step_02b.png', width=600, height=600)"
   ]
  },
  {
   "cell_type": "code",
   "execution_count": null,
   "id": "5c90911a-a614-4db0-b9cb-8b0094bcec82",
   "metadata": {},
   "outputs": [],
   "source": []
  }
 ],
 "metadata": {
  "kernelspec": {
   "display_name": "Python 3 (ipykernel)",
   "language": "python",
   "name": "python3"
  },
  "language_info": {
   "codemirror_mode": {
    "name": "ipython",
    "version": 3
   },
   "file_extension": ".py",
   "mimetype": "text/x-python",
   "name": "python",
   "nbconvert_exporter": "python",
   "pygments_lexer": "ipython3",
   "version": "3.11.5"
  }
 },
 "nbformat": 4,
 "nbformat_minor": 5
}
