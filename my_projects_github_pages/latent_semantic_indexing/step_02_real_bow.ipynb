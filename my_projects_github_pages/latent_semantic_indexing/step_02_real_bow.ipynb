{
 "cells": [
  {
   "cell_type": "markdown",
   "id": "eae3cbe3-c175-4762-bc29-b34759aa818e",
   "metadata": {},
   "source": [
    "## **Step 1: Read documents from csv file** "
   ]
  },
  {
   "cell_type": "code",
   "execution_count": 1,
   "id": "88852077-1d0d-4f29-8007-d968274f4c88",
   "metadata": {
    "tags": []
   },
   "outputs": [],
   "source": [
    "import pandas as pd"
   ]
  },
  {
   "cell_type": "code",
   "execution_count": 2,
   "id": "56c4e454-a825-4ec6-ae62-1b6084be7e89",
   "metadata": {},
   "outputs": [],
   "source": [
    "corpus = pd.read_csv('data2.csv', encoding='cp1252')"
   ]
  },
  {
   "cell_type": "code",
   "execution_count": 3,
   "id": "8a25c59c-a884-4085-98e1-d3d430a3cd48",
   "metadata": {
    "tags": []
   },
   "outputs": [],
   "source": [
    "pd.set_option('display.max_colwidth', None)\n",
    "pd.set_option('display.max_columns', None)"
   ]
  },
  {
   "cell_type": "code",
   "execution_count": 4,
   "id": "4eebbcbb-6fc2-461f-a3e8-b108af9ff42b",
   "metadata": {
    "tags": []
   },
   "outputs": [
    {
     "data": {
      "text/html": [
       "<div>\n",
       "<style scoped>\n",
       "    .dataframe tbody tr th:only-of-type {\n",
       "        vertical-align: middle;\n",
       "    }\n",
       "\n",
       "    .dataframe tbody tr th {\n",
       "        vertical-align: top;\n",
       "    }\n",
       "\n",
       "    .dataframe thead th {\n",
       "        text-align: right;\n",
       "    }\n",
       "</style>\n",
       "<table border=\"1\" class=\"dataframe\">\n",
       "  <thead>\n",
       "    <tr style=\"text-align: right;\">\n",
       "      <th></th>\n",
       "      <th>topic</th>\n",
       "      <th>source</th>\n",
       "      <th>document</th>\n",
       "    </tr>\n",
       "  </thead>\n",
       "  <tbody>\n",
       "    <tr>\n",
       "      <th>0</th>\n",
       "      <td>data_science</td>\n",
       "      <td>ibm</td>\n",
       "      <td>Data science combines math and statistics, specialized programming, advanced analytics, artificial intelligence (AI), and machine learning with specific subject matter expertise to uncover actionable insights hidden in an organization’s data. These insights can be used to guide decision making and strategic planning.</td>\n",
       "    </tr>\n",
       "    <tr>\n",
       "      <th>1</th>\n",
       "      <td>data_science</td>\n",
       "      <td>aws</td>\n",
       "      <td>Data science is the study of data to extract meaningful insights for business. It is a multidisciplinary approach that combines principles and practices from the fields of mathematics, statistics, artificial intelligence, and computer engineering to analyze large amounts of data. This analysis helps data scientists to ask and answer questions like what happened, why it happened, what will happen, and what can be done with the results.</td>\n",
       "    </tr>\n",
       "    <tr>\n",
       "      <th>2</th>\n",
       "      <td>data_science</td>\n",
       "      <td>built_in</td>\n",
       "      <td>Data science is a multidisciplinary field of study that applies techniques and tools to draw meaningful information and actionable insights out of noisy data. Involving subjects like mathematics, statistics, computer science and artificial intelligence, data science is used across a variety of industries for smarter planning and decision making.</td>\n",
       "    </tr>\n",
       "    <tr>\n",
       "      <th>3</th>\n",
       "      <td>data_science</td>\n",
       "      <td>great_learning</td>\n",
       "      <td>Data Science is a combination of mathematics, statistics, machine learning, and computer science. Data Science is collecting, analyzing and interpreting data to gather insights into the data that can help decision-makers make informed decisions.</td>\n",
       "    </tr>\n",
       "    <tr>\n",
       "      <th>4</th>\n",
       "      <td>data_science</td>\n",
       "      <td>datacamp</td>\n",
       "      <td>Data science is an interdisciplinary field that uses scientific methods, processes, algorithms, and systems to extract knowledge and insights from structured and unstructured data. In simpler terms, data science is about obtaining, processing, and analyzing data to gain insights for many purposes.</td>\n",
       "    </tr>\n",
       "    <tr>\n",
       "      <th>5</th>\n",
       "      <td>mental_illness</td>\n",
       "      <td>apa</td>\n",
       "      <td>Mental illnesses are health conditions involving changes in emotion, thinking or behavior (or a combination of these). Mental illnesses can be associated with distress and/or problems functioning in social, work or family activities.</td>\n",
       "    </tr>\n",
       "    <tr>\n",
       "      <th>6</th>\n",
       "      <td>mental_illness</td>\n",
       "      <td>mayo</td>\n",
       "      <td>Mental illness, also called mental health disorders, refers to a wide range of mental health conditions — disorders that affect your mood, thinking and behavior. Examples of mental illness include depression, anxiety disorders, schizophrenia, eating disorders and addictive behaviors.</td>\n",
       "    </tr>\n",
       "    <tr>\n",
       "      <th>7</th>\n",
       "      <td>mental_illness</td>\n",
       "      <td>samh</td>\n",
       "      <td>A mental illness is a disturbance of the mind that impairs the way we think, feel and behave. It affects our daily activities, as well as impact the lives of family members and friends.</td>\n",
       "    </tr>\n",
       "    <tr>\n",
       "      <th>8</th>\n",
       "      <td>mental_illness</td>\n",
       "      <td>NIMH</td>\n",
       "      <td>Any mental illness (AMI) is defined as a mental, behavioral, or emotional disorder. AMI can vary in impact, ranging from no impairment to mild, moderate, and even severe impairment (e.g., individuals with serious mental illness as defined below).</td>\n",
       "    </tr>\n",
       "    <tr>\n",
       "      <th>9</th>\n",
       "      <td>mental_illness</td>\n",
       "      <td>nami</td>\n",
       "      <td>Mental illnesses are medical conditions that disrupt a person’s thinking, feeling, mood, ability to relate to others, and daily functioning.</td>\n",
       "    </tr>\n",
       "    <tr>\n",
       "      <th>10</th>\n",
       "      <td>fashion</td>\n",
       "      <td>google</td>\n",
       "      <td>Fashion is most often thought of as a global industry that is invested in anticipating what we wear and how we wish to appear to others. But fashion isn’t just a business. It’s also a cultural and social phenomenon, driven by the desire for the new. As such, the industry can never fully control fashion: fashion is all about being open to change.</td>\n",
       "    </tr>\n",
       "    <tr>\n",
       "      <th>11</th>\n",
       "      <td>fashion</td>\n",
       "      <td>lost_&amp;_found</td>\n",
       "      <td>Once a survival tool to shelter from the cold, fashion has evolved into an expression of our personality: not only for the choice of garments but for what each garment serves ornamentally, symbolically, and socially. Since the 13th century, fashion has influenced entire populations by allowing people to display their social status through clothing, especially the upper classes’ wealth and power. Throughout the centuries, the appreciation for fashion and beauty grew stronger. The formal dress worn in courts of the 17th century demonstrates the evolution of clothing: Creating a privileged environment where the constant creation and transformation of new trends could happen. “Pue” dolls circulated in royal palaces, dressed to reflect various trends. They were real models who informed the aristocracy about the latest fashions (the ancestors of the more accessible fashion figures in newspapers).</td>\n",
       "    </tr>\n",
       "    <tr>\n",
       "      <th>12</th>\n",
       "      <td>fashion</td>\n",
       "      <td>textile_industry</td>\n",
       "      <td>Fashion refers to how people dress, as well as the styles and designs that are popular or in trend for a specific period. It is an ever-evolving art form that can reflect the lifestyle, values, attitudes, and beliefs of a society. Different society, culture, entity, history prevails in different taste in fashion. Fashion can also be seen as a form of self-expression, allowing individuals to show up their thinking and taste in lifestyle. It also reveals one’s personality through the clothes one wears.</td>\n",
       "    </tr>\n",
       "    <tr>\n",
       "      <th>13</th>\n",
       "      <td>fashion</td>\n",
       "      <td>britannica</td>\n",
       "      <td>Fashion industry, multibillion-dollar global enterprise devoted to the business of making and selling clothes. Some observers distinguish between the fashion industry (which makes “high fashion”) and the apparel industry (which makes ordinary clothes or “mass fashion”), but by the 1970s the boundaries between them had blurred. Fashion is best defined simply as the style or styles of clothing and accessories worn at any given time by groups of people. There may appear to be differences between the expensive designer fashions shown on the runways of Paris or New York and the mass-produced sportswear and street styles sold in malls and markets around the world. However, the fashion industry encompasses the design, manufacturing, distribution, marketing, retailing, advertising, and promotion of all types of apparel (men’s, women’s, and children’s) from the most rarefied and expensive haute couture (literally, “high sewing”) and designer fashions to ordinary everyday clothing—from couture ball gowns to casual sweatpants. Sometimes the broader term “fashion industries” is used to refer to myriad industries and services that employ millions of people internationally.</td>\n",
       "    </tr>\n",
       "    <tr>\n",
       "      <th>14</th>\n",
       "      <td>fashion</td>\n",
       "      <td>sew_guide</td>\n",
       "      <td>What I know about “what is fashion” is simple – Fashion is how you present yourself. It is the art of expressing your sense of beauty through clothes. But it has more nuances than this simple definition suggests. Fashion is dressing in clothes that bring out the best of your body while impressing to others the excellent taste of the wearer. From a broader perspective, it is also a reflection of the society we live in, influenced by trends that are popular in mainstream culture.</td>\n",
       "    </tr>\n",
       "  </tbody>\n",
       "</table>\n",
       "</div>"
      ],
      "text/plain": [
       "             topic            source  \\\n",
       "0     data_science               ibm   \n",
       "1     data_science               aws   \n",
       "2     data_science          built_in   \n",
       "3     data_science    great_learning   \n",
       "4     data_science          datacamp   \n",
       "5   mental_illness               apa   \n",
       "6   mental_illness              mayo   \n",
       "7   mental_illness              samh   \n",
       "8   mental_illness              NIMH   \n",
       "9   mental_illness              nami   \n",
       "10         fashion            google   \n",
       "11         fashion      lost_&_found   \n",
       "12         fashion  textile_industry   \n",
       "13         fashion        britannica   \n",
       "14         fashion         sew_guide   \n",
       "\n",
       "                                                                                                                                                                                                                                                                                                                                                                                                                                                                                                                                                                                                                                                                                                                                                                                                                                                                                                                                                                                                                                                                                                                                                                                                                      document  \n",
       "0                                                                                                                                                                                                                                                                                                                                                                                                                                                                                                                                                                                                                                                                                                                                                                                                                                                                                               Data science combines math and statistics, specialized programming, advanced analytics, artificial intelligence (AI), and machine learning with specific subject matter expertise to uncover actionable insights hidden in an organization’s data. These insights can be used to guide decision making and strategic planning.  \n",
       "1                                                                                                                                                                                                                                                                                                                                                                                                                                                                                                                                                                                                                                                                                                                                                                       Data science is the study of data to extract meaningful insights for business. It is a multidisciplinary approach that combines principles and practices from the fields of mathematics, statistics, artificial intelligence, and computer engineering to analyze large amounts of data. This analysis helps data scientists to ask and answer questions like what happened, why it happened, what will happen, and what can be done with the results.  \n",
       "2                                                                                                                                                                                                                                                                                                                                                                                                                                                                                                                                                                                                                                                                                                                                                                                                                                                                  Data science is a multidisciplinary field of study that applies techniques and tools to draw meaningful information and actionable insights out of noisy data. Involving subjects like mathematics, statistics, computer science and artificial intelligence, data science is used across a variety of industries for smarter planning and decision making.  \n",
       "3                                                                                                                                                                                                                                                                                                                                                                                                                                                                                                                                                                                                                                                                                                                                                                                                                                                                                                                                                                        Data Science is a combination of mathematics, statistics, machine learning, and computer science. Data Science is collecting, analyzing and interpreting data to gather insights into the data that can help decision-makers make informed decisions.  \n",
       "4                                                                                                                                                                                                                                                                                                                                                                                                                                                                                                                                                                                                                                                                                                                                                                                                                                                                                                                   Data science is an interdisciplinary field that uses scientific methods, processes, algorithms, and systems to extract knowledge and insights from structured and unstructured data. In simpler terms, data science is about obtaining, processing, and analyzing data to gain insights for many purposes.  \n",
       "5                                                                                                                                                                                                                                                                                                                                                                                                                                                                                                                                                                                                                                                                                                                                                                                                                                                                                                                                                                                    Mental illnesses are health conditions involving changes in emotion, thinking or behavior (or a combination of these). Mental illnesses can be associated with distress and/or problems functioning in social, work or family activities.  \n",
       "6                                                                                                                                                                                                                                                                                                                                                                                                                                                                                                                                                                                                                                                                                                                                                                                                                                                                                                                                 Mental illness, also called mental health disorders, refers to a wide range of mental health conditions — disorders that affect your mood, thinking and behavior. Examples of mental illness include depression, anxiety disorders, schizophrenia, eating disorders and addictive behaviors.  \n",
       "7                                                                                                                                                                                                                                                                                                                                                                                                                                                                                                                                                                                                                                                                                                                                                                                                                                                                                                                                                                                                                                    A mental illness is a disturbance of the mind that impairs the way we think, feel and behave. It affects our daily activities, as well as impact the lives of family members and friends.  \n",
       "8                                                                                                                                                                                                                                                                                                                                                                                                                                                                                                                                                                                                                                                                                                                                                                                                                                                                                                                                                                       Any mental illness (AMI) is defined as a mental, behavioral, or emotional disorder. AMI can vary in impact, ranging from no impairment to mild, moderate, and even severe impairment (e.g., individuals with serious mental illness as defined below).  \n",
       "9                                                                                                                                                                                                                                                                                                                                                                                                                                                                                                                                                                                                                                                                                                                                                                                                                                                                                                                                                                                                                                                                                 Mental illnesses are medical conditions that disrupt a person’s thinking, feeling, mood, ability to relate to others, and daily functioning.  \n",
       "10                                                                                                                                                                                                                                                                                                                                                                                                                                                                                                                                                                                                                                                                                                                                                                                                                                                                 Fashion is most often thought of as a global industry that is invested in anticipating what we wear and how we wish to appear to others. But fashion isn’t just a business. It’s also a cultural and social phenomenon, driven by the desire for the new. As such, the industry can never fully control fashion: fashion is all about being open to change.  \n",
       "11                                                                                                                                                                                                                                                                                     Once a survival tool to shelter from the cold, fashion has evolved into an expression of our personality: not only for the choice of garments but for what each garment serves ornamentally, symbolically, and socially. Since the 13th century, fashion has influenced entire populations by allowing people to display their social status through clothing, especially the upper classes’ wealth and power. Throughout the centuries, the appreciation for fashion and beauty grew stronger. The formal dress worn in courts of the 17th century demonstrates the evolution of clothing: Creating a privileged environment where the constant creation and transformation of new trends could happen. “Pue” dolls circulated in royal palaces, dressed to reflect various trends. They were real models who informed the aristocracy about the latest fashions (the ancestors of the more accessible fashion figures in newspapers).  \n",
       "12                                                                                                                                                                                                                                                                                                                                                                                                                                                                                                                                                                                                                                                                                                   Fashion refers to how people dress, as well as the styles and designs that are popular or in trend for a specific period. It is an ever-evolving art form that can reflect the lifestyle, values, attitudes, and beliefs of a society. Different society, culture, entity, history prevails in different taste in fashion. Fashion can also be seen as a form of self-expression, allowing individuals to show up their thinking and taste in lifestyle. It also reveals one’s personality through the clothes one wears.  \n",
       "13  Fashion industry, multibillion-dollar global enterprise devoted to the business of making and selling clothes. Some observers distinguish between the fashion industry (which makes “high fashion”) and the apparel industry (which makes ordinary clothes or “mass fashion”), but by the 1970s the boundaries between them had blurred. Fashion is best defined simply as the style or styles of clothing and accessories worn at any given time by groups of people. There may appear to be differences between the expensive designer fashions shown on the runways of Paris or New York and the mass-produced sportswear and street styles sold in malls and markets around the world. However, the fashion industry encompasses the design, manufacturing, distribution, marketing, retailing, advertising, and promotion of all types of apparel (men’s, women’s, and children’s) from the most rarefied and expensive haute couture (literally, “high sewing”) and designer fashions to ordinary everyday clothing—from couture ball gowns to casual sweatpants. Sometimes the broader term “fashion industries” is used to refer to myriad industries and services that employ millions of people internationally.  \n",
       "14                                                                                                                                                                                                                                                                                                                                                                                                                                                                                                                                                                                                                                                                                                                          What I know about “what is fashion” is simple – Fashion is how you present yourself. It is the art of expressing your sense of beauty through clothes. But it has more nuances than this simple definition suggests. Fashion is dressing in clothes that bring out the best of your body while impressing to others the excellent taste of the wearer. From a broader perspective, it is also a reflection of the society we live in, influenced by trends that are popular in mainstream culture.  "
      ]
     },
     "execution_count": 4,
     "metadata": {},
     "output_type": "execute_result"
    }
   ],
   "source": [
    "corpus"
   ]
  },
  {
   "cell_type": "markdown",
   "id": "126838ad-7171-4697-82cc-6210cd6bd7ba",
   "metadata": {},
   "source": [
    "<br>\n",
    "\n",
    "## **Step 2: Remove non alphanumeric characters in documents**"
   ]
  },
  {
   "cell_type": "code",
   "execution_count": 5,
   "id": "939c80c0-3cdd-4ac4-a67f-eaf746153d54",
   "metadata": {
    "tags": []
   },
   "outputs": [],
   "source": [
    "corpus['document_cleaned'] = corpus['document'].replace('[^A-Za-z0-9]', ' ', regex=True)"
   ]
  },
  {
   "cell_type": "code",
   "execution_count": 6,
   "id": "8eb6d52b-f12a-4351-b42d-d8ce7cc10b75",
   "metadata": {
    "tags": []
   },
   "outputs": [
    {
     "data": {
      "text/html": [
       "<div>\n",
       "<style scoped>\n",
       "    .dataframe tbody tr th:only-of-type {\n",
       "        vertical-align: middle;\n",
       "    }\n",
       "\n",
       "    .dataframe tbody tr th {\n",
       "        vertical-align: top;\n",
       "    }\n",
       "\n",
       "    .dataframe thead th {\n",
       "        text-align: right;\n",
       "    }\n",
       "</style>\n",
       "<table border=\"1\" class=\"dataframe\">\n",
       "  <thead>\n",
       "    <tr style=\"text-align: right;\">\n",
       "      <th></th>\n",
       "      <th>topic</th>\n",
       "      <th>source</th>\n",
       "      <th>document</th>\n",
       "      <th>document_cleaned</th>\n",
       "    </tr>\n",
       "  </thead>\n",
       "  <tbody>\n",
       "    <tr>\n",
       "      <th>0</th>\n",
       "      <td>data_science</td>\n",
       "      <td>ibm</td>\n",
       "      <td>Data science combines math and statistics, specialized programming, advanced analytics, artificial intelligence (AI), and machine learning with specific subject matter expertise to uncover actionable insights hidden in an organization’s data. These insights can be used to guide decision making and strategic planning.</td>\n",
       "      <td>Data science combines math and statistics  specialized programming  advanced analytics  artificial intelligence  AI   and machine learning with specific subject matter expertise to uncover actionable insights hidden in an organization s data  These insights can be used to guide decision making and strategic planning</td>\n",
       "    </tr>\n",
       "    <tr>\n",
       "      <th>1</th>\n",
       "      <td>data_science</td>\n",
       "      <td>aws</td>\n",
       "      <td>Data science is the study of data to extract meaningful insights for business. It is a multidisciplinary approach that combines principles and practices from the fields of mathematics, statistics, artificial intelligence, and computer engineering to analyze large amounts of data. This analysis helps data scientists to ask and answer questions like what happened, why it happened, what will happen, and what can be done with the results.</td>\n",
       "      <td>Data science is the study of data to extract meaningful insights for business  It is a multidisciplinary approach that combines principles and practices from the fields of mathematics  statistics  artificial intelligence  and computer engineering to analyze large amounts of data  This analysis helps data scientists to ask and answer questions like what happened  why it happened  what will happen  and what can be done with the results</td>\n",
       "    </tr>\n",
       "    <tr>\n",
       "      <th>2</th>\n",
       "      <td>data_science</td>\n",
       "      <td>built_in</td>\n",
       "      <td>Data science is a multidisciplinary field of study that applies techniques and tools to draw meaningful information and actionable insights out of noisy data. Involving subjects like mathematics, statistics, computer science and artificial intelligence, data science is used across a variety of industries for smarter planning and decision making.</td>\n",
       "      <td>Data science is a multidisciplinary field of study that applies techniques and tools to draw meaningful information and actionable insights out of noisy data  Involving subjects like mathematics  statistics  computer science and artificial intelligence  data science is used across a variety of industries for smarter planning and decision making</td>\n",
       "    </tr>\n",
       "    <tr>\n",
       "      <th>3</th>\n",
       "      <td>data_science</td>\n",
       "      <td>great_learning</td>\n",
       "      <td>Data Science is a combination of mathematics, statistics, machine learning, and computer science. Data Science is collecting, analyzing and interpreting data to gather insights into the data that can help decision-makers make informed decisions.</td>\n",
       "      <td>Data Science is a combination of mathematics  statistics  machine learning  and computer science  Data Science is collecting  analyzing and interpreting data to gather insights into the data that can help decision makers make informed decisions</td>\n",
       "    </tr>\n",
       "    <tr>\n",
       "      <th>4</th>\n",
       "      <td>data_science</td>\n",
       "      <td>datacamp</td>\n",
       "      <td>Data science is an interdisciplinary field that uses scientific methods, processes, algorithms, and systems to extract knowledge and insights from structured and unstructured data. In simpler terms, data science is about obtaining, processing, and analyzing data to gain insights for many purposes.</td>\n",
       "      <td>Data science is an interdisciplinary field that uses scientific methods  processes  algorithms  and systems to extract knowledge and insights from structured and unstructured data  In simpler terms  data science is about obtaining  processing  and analyzing data to gain insights for many purposes</td>\n",
       "    </tr>\n",
       "    <tr>\n",
       "      <th>5</th>\n",
       "      <td>mental_illness</td>\n",
       "      <td>apa</td>\n",
       "      <td>Mental illnesses are health conditions involving changes in emotion, thinking or behavior (or a combination of these). Mental illnesses can be associated with distress and/or problems functioning in social, work or family activities.</td>\n",
       "      <td>Mental illnesses are health conditions involving changes in emotion  thinking or behavior  or a combination of these   Mental illnesses can be associated with distress and or problems functioning in social  work or family activities</td>\n",
       "    </tr>\n",
       "    <tr>\n",
       "      <th>6</th>\n",
       "      <td>mental_illness</td>\n",
       "      <td>mayo</td>\n",
       "      <td>Mental illness, also called mental health disorders, refers to a wide range of mental health conditions — disorders that affect your mood, thinking and behavior. Examples of mental illness include depression, anxiety disorders, schizophrenia, eating disorders and addictive behaviors.</td>\n",
       "      <td>Mental illness  also called mental health disorders  refers to a wide range of mental health conditions   disorders that affect your mood  thinking and behavior  Examples of mental illness include depression  anxiety disorders  schizophrenia  eating disorders and addictive behaviors</td>\n",
       "    </tr>\n",
       "    <tr>\n",
       "      <th>7</th>\n",
       "      <td>mental_illness</td>\n",
       "      <td>samh</td>\n",
       "      <td>A mental illness is a disturbance of the mind that impairs the way we think, feel and behave. It affects our daily activities, as well as impact the lives of family members and friends.</td>\n",
       "      <td>A mental illness is a disturbance of the mind that impairs the way we think  feel and behave  It affects our daily activities  as well as impact the lives of family members and friends</td>\n",
       "    </tr>\n",
       "    <tr>\n",
       "      <th>8</th>\n",
       "      <td>mental_illness</td>\n",
       "      <td>NIMH</td>\n",
       "      <td>Any mental illness (AMI) is defined as a mental, behavioral, or emotional disorder. AMI can vary in impact, ranging from no impairment to mild, moderate, and even severe impairment (e.g., individuals with serious mental illness as defined below).</td>\n",
       "      <td>Any mental illness  AMI  is defined as a mental  behavioral  or emotional disorder  AMI can vary in impact  ranging from no impairment to mild  moderate  and even severe impairment  e g   individuals with serious mental illness as defined below</td>\n",
       "    </tr>\n",
       "    <tr>\n",
       "      <th>9</th>\n",
       "      <td>mental_illness</td>\n",
       "      <td>nami</td>\n",
       "      <td>Mental illnesses are medical conditions that disrupt a person’s thinking, feeling, mood, ability to relate to others, and daily functioning.</td>\n",
       "      <td>Mental illnesses are medical conditions that disrupt a person s thinking  feeling  mood  ability to relate to others  and daily functioning</td>\n",
       "    </tr>\n",
       "    <tr>\n",
       "      <th>10</th>\n",
       "      <td>fashion</td>\n",
       "      <td>google</td>\n",
       "      <td>Fashion is most often thought of as a global industry that is invested in anticipating what we wear and how we wish to appear to others. But fashion isn’t just a business. It’s also a cultural and social phenomenon, driven by the desire for the new. As such, the industry can never fully control fashion: fashion is all about being open to change.</td>\n",
       "      <td>Fashion is most often thought of as a global industry that is invested in anticipating what we wear and how we wish to appear to others  But fashion isn t just a business  It s also a cultural and social phenomenon  driven by the desire for the new  As such  the industry can never fully control fashion  fashion is all about being open to change</td>\n",
       "    </tr>\n",
       "    <tr>\n",
       "      <th>11</th>\n",
       "      <td>fashion</td>\n",
       "      <td>lost_&amp;_found</td>\n",
       "      <td>Once a survival tool to shelter from the cold, fashion has evolved into an expression of our personality: not only for the choice of garments but for what each garment serves ornamentally, symbolically, and socially. Since the 13th century, fashion has influenced entire populations by allowing people to display their social status through clothing, especially the upper classes’ wealth and power. Throughout the centuries, the appreciation for fashion and beauty grew stronger. The formal dress worn in courts of the 17th century demonstrates the evolution of clothing: Creating a privileged environment where the constant creation and transformation of new trends could happen. “Pue” dolls circulated in royal palaces, dressed to reflect various trends. They were real models who informed the aristocracy about the latest fashions (the ancestors of the more accessible fashion figures in newspapers).</td>\n",
       "      <td>Once a survival tool to shelter from the cold  fashion has evolved into an expression of our personality  not only for the choice of garments but for what each garment serves ornamentally  symbolically  and socially  Since the 13th century  fashion has influenced entire populations by allowing people to display their social status through clothing  especially the upper classes  wealth and power  Throughout the centuries  the appreciation for fashion and beauty grew stronger  The formal dress worn in courts of the 17th century demonstrates the evolution of clothing  Creating a privileged environment where the constant creation and transformation of new trends could happen   Pue  dolls circulated in royal palaces  dressed to reflect various trends  They were real models who informed the aristocracy about the latest fashions  the ancestors of the more accessible fashion figures in newspapers</td>\n",
       "    </tr>\n",
       "    <tr>\n",
       "      <th>12</th>\n",
       "      <td>fashion</td>\n",
       "      <td>textile_industry</td>\n",
       "      <td>Fashion refers to how people dress, as well as the styles and designs that are popular or in trend for a specific period. It is an ever-evolving art form that can reflect the lifestyle, values, attitudes, and beliefs of a society. Different society, culture, entity, history prevails in different taste in fashion. Fashion can also be seen as a form of self-expression, allowing individuals to show up their thinking and taste in lifestyle. It also reveals one’s personality through the clothes one wears.</td>\n",
       "      <td>Fashion refers to how people dress  as well as the styles and designs that are popular or in trend for a specific period  It is an ever evolving art form that can reflect the lifestyle  values  attitudes  and beliefs of a society  Different society  culture  entity  history prevails in different taste in fashion  Fashion can also be seen as a form of self expression  allowing individuals to show up their thinking and taste in lifestyle  It also reveals one s personality through the clothes one wears</td>\n",
       "    </tr>\n",
       "    <tr>\n",
       "      <th>13</th>\n",
       "      <td>fashion</td>\n",
       "      <td>britannica</td>\n",
       "      <td>Fashion industry, multibillion-dollar global enterprise devoted to the business of making and selling clothes. Some observers distinguish between the fashion industry (which makes “high fashion”) and the apparel industry (which makes ordinary clothes or “mass fashion”), but by the 1970s the boundaries between them had blurred. Fashion is best defined simply as the style or styles of clothing and accessories worn at any given time by groups of people. There may appear to be differences between the expensive designer fashions shown on the runways of Paris or New York and the mass-produced sportswear and street styles sold in malls and markets around the world. However, the fashion industry encompasses the design, manufacturing, distribution, marketing, retailing, advertising, and promotion of all types of apparel (men’s, women’s, and children’s) from the most rarefied and expensive haute couture (literally, “high sewing”) and designer fashions to ordinary everyday clothing—from couture ball gowns to casual sweatpants. Sometimes the broader term “fashion industries” is used to refer to myriad industries and services that employ millions of people internationally.</td>\n",
       "      <td>Fashion industry  multibillion dollar global enterprise devoted to the business of making and selling clothes  Some observers distinguish between the fashion industry  which makes  high fashion   and the apparel industry  which makes ordinary clothes or  mass fashion    but by the 1970s the boundaries between them had blurred  Fashion is best defined simply as the style or styles of clothing and accessories worn at any given time by groups of people  There may appear to be differences between the expensive designer fashions shown on the runways of Paris or New York and the mass produced sportswear and street styles sold in malls and markets around the world  However  the fashion industry encompasses the design  manufacturing  distribution  marketing  retailing  advertising  and promotion of all types of apparel  men s  women s  and children s  from the most rarefied and expensive haute couture  literally   high sewing   and designer fashions to ordinary everyday clothing from couture ball gowns to casual sweatpants  Sometimes the broader term  fashion industries  is used to refer to myriad industries and services that employ millions of people internationally</td>\n",
       "    </tr>\n",
       "    <tr>\n",
       "      <th>14</th>\n",
       "      <td>fashion</td>\n",
       "      <td>sew_guide</td>\n",
       "      <td>What I know about “what is fashion” is simple – Fashion is how you present yourself. It is the art of expressing your sense of beauty through clothes. But it has more nuances than this simple definition suggests. Fashion is dressing in clothes that bring out the best of your body while impressing to others the excellent taste of the wearer. From a broader perspective, it is also a reflection of the society we live in, influenced by trends that are popular in mainstream culture.</td>\n",
       "      <td>What I know about  what is fashion  is simple   Fashion is how you present yourself  It is the art of expressing your sense of beauty through clothes  But it has more nuances than this simple definition suggests  Fashion is dressing in clothes that bring out the best of your body while impressing to others the excellent taste of the wearer  From a broader perspective  it is also a reflection of the society we live in  influenced by trends that are popular in mainstream culture</td>\n",
       "    </tr>\n",
       "  </tbody>\n",
       "</table>\n",
       "</div>"
      ],
      "text/plain": [
       "             topic            source  \\\n",
       "0     data_science               ibm   \n",
       "1     data_science               aws   \n",
       "2     data_science          built_in   \n",
       "3     data_science    great_learning   \n",
       "4     data_science          datacamp   \n",
       "5   mental_illness               apa   \n",
       "6   mental_illness              mayo   \n",
       "7   mental_illness              samh   \n",
       "8   mental_illness              NIMH   \n",
       "9   mental_illness              nami   \n",
       "10         fashion            google   \n",
       "11         fashion      lost_&_found   \n",
       "12         fashion  textile_industry   \n",
       "13         fashion        britannica   \n",
       "14         fashion         sew_guide   \n",
       "\n",
       "                                                                                                                                                                                                                                                                                                                                                                                                                                                                                                                                                                                                                                                                                                                                                                                                                                                                                                                                                                                                                                                                                                                                                                                                                      document  \\\n",
       "0                                                                                                                                                                                                                                                                                                                                                                                                                                                                                                                                                                                                                                                                                                                                                                                                                                                                                               Data science combines math and statistics, specialized programming, advanced analytics, artificial intelligence (AI), and machine learning with specific subject matter expertise to uncover actionable insights hidden in an organization’s data. These insights can be used to guide decision making and strategic planning.   \n",
       "1                                                                                                                                                                                                                                                                                                                                                                                                                                                                                                                                                                                                                                                                                                                                                                       Data science is the study of data to extract meaningful insights for business. It is a multidisciplinary approach that combines principles and practices from the fields of mathematics, statistics, artificial intelligence, and computer engineering to analyze large amounts of data. This analysis helps data scientists to ask and answer questions like what happened, why it happened, what will happen, and what can be done with the results.   \n",
       "2                                                                                                                                                                                                                                                                                                                                                                                                                                                                                                                                                                                                                                                                                                                                                                                                                                                                  Data science is a multidisciplinary field of study that applies techniques and tools to draw meaningful information and actionable insights out of noisy data. Involving subjects like mathematics, statistics, computer science and artificial intelligence, data science is used across a variety of industries for smarter planning and decision making.   \n",
       "3                                                                                                                                                                                                                                                                                                                                                                                                                                                                                                                                                                                                                                                                                                                                                                                                                                                                                                                                                                        Data Science is a combination of mathematics, statistics, machine learning, and computer science. Data Science is collecting, analyzing and interpreting data to gather insights into the data that can help decision-makers make informed decisions.   \n",
       "4                                                                                                                                                                                                                                                                                                                                                                                                                                                                                                                                                                                                                                                                                                                                                                                                                                                                                                                   Data science is an interdisciplinary field that uses scientific methods, processes, algorithms, and systems to extract knowledge and insights from structured and unstructured data. In simpler terms, data science is about obtaining, processing, and analyzing data to gain insights for many purposes.   \n",
       "5                                                                                                                                                                                                                                                                                                                                                                                                                                                                                                                                                                                                                                                                                                                                                                                                                                                                                                                                                                                    Mental illnesses are health conditions involving changes in emotion, thinking or behavior (or a combination of these). Mental illnesses can be associated with distress and/or problems functioning in social, work or family activities.   \n",
       "6                                                                                                                                                                                                                                                                                                                                                                                                                                                                                                                                                                                                                                                                                                                                                                                                                                                                                                                                 Mental illness, also called mental health disorders, refers to a wide range of mental health conditions — disorders that affect your mood, thinking and behavior. Examples of mental illness include depression, anxiety disorders, schizophrenia, eating disorders and addictive behaviors.   \n",
       "7                                                                                                                                                                                                                                                                                                                                                                                                                                                                                                                                                                                                                                                                                                                                                                                                                                                                                                                                                                                                                                    A mental illness is a disturbance of the mind that impairs the way we think, feel and behave. It affects our daily activities, as well as impact the lives of family members and friends.   \n",
       "8                                                                                                                                                                                                                                                                                                                                                                                                                                                                                                                                                                                                                                                                                                                                                                                                                                                                                                                                                                       Any mental illness (AMI) is defined as a mental, behavioral, or emotional disorder. AMI can vary in impact, ranging from no impairment to mild, moderate, and even severe impairment (e.g., individuals with serious mental illness as defined below).   \n",
       "9                                                                                                                                                                                                                                                                                                                                                                                                                                                                                                                                                                                                                                                                                                                                                                                                                                                                                                                                                                                                                                                                                 Mental illnesses are medical conditions that disrupt a person’s thinking, feeling, mood, ability to relate to others, and daily functioning.   \n",
       "10                                                                                                                                                                                                                                                                                                                                                                                                                                                                                                                                                                                                                                                                                                                                                                                                                                                                 Fashion is most often thought of as a global industry that is invested in anticipating what we wear and how we wish to appear to others. But fashion isn’t just a business. It’s also a cultural and social phenomenon, driven by the desire for the new. As such, the industry can never fully control fashion: fashion is all about being open to change.   \n",
       "11                                                                                                                                                                                                                                                                                     Once a survival tool to shelter from the cold, fashion has evolved into an expression of our personality: not only for the choice of garments but for what each garment serves ornamentally, symbolically, and socially. Since the 13th century, fashion has influenced entire populations by allowing people to display their social status through clothing, especially the upper classes’ wealth and power. Throughout the centuries, the appreciation for fashion and beauty grew stronger. The formal dress worn in courts of the 17th century demonstrates the evolution of clothing: Creating a privileged environment where the constant creation and transformation of new trends could happen. “Pue” dolls circulated in royal palaces, dressed to reflect various trends. They were real models who informed the aristocracy about the latest fashions (the ancestors of the more accessible fashion figures in newspapers).   \n",
       "12                                                                                                                                                                                                                                                                                                                                                                                                                                                                                                                                                                                                                                                                                                   Fashion refers to how people dress, as well as the styles and designs that are popular or in trend for a specific period. It is an ever-evolving art form that can reflect the lifestyle, values, attitudes, and beliefs of a society. Different society, culture, entity, history prevails in different taste in fashion. Fashion can also be seen as a form of self-expression, allowing individuals to show up their thinking and taste in lifestyle. It also reveals one’s personality through the clothes one wears.   \n",
       "13  Fashion industry, multibillion-dollar global enterprise devoted to the business of making and selling clothes. Some observers distinguish between the fashion industry (which makes “high fashion”) and the apparel industry (which makes ordinary clothes or “mass fashion”), but by the 1970s the boundaries between them had blurred. Fashion is best defined simply as the style or styles of clothing and accessories worn at any given time by groups of people. There may appear to be differences between the expensive designer fashions shown on the runways of Paris or New York and the mass-produced sportswear and street styles sold in malls and markets around the world. However, the fashion industry encompasses the design, manufacturing, distribution, marketing, retailing, advertising, and promotion of all types of apparel (men’s, women’s, and children’s) from the most rarefied and expensive haute couture (literally, “high sewing”) and designer fashions to ordinary everyday clothing—from couture ball gowns to casual sweatpants. Sometimes the broader term “fashion industries” is used to refer to myriad industries and services that employ millions of people internationally.   \n",
       "14                                                                                                                                                                                                                                                                                                                                                                                                                                                                                                                                                                                                                                                                                                                          What I know about “what is fashion” is simple – Fashion is how you present yourself. It is the art of expressing your sense of beauty through clothes. But it has more nuances than this simple definition suggests. Fashion is dressing in clothes that bring out the best of your body while impressing to others the excellent taste of the wearer. From a broader perspective, it is also a reflection of the society we live in, influenced by trends that are popular in mainstream culture.   \n",
       "\n",
       "                                                                                                                                                                                                                                                                                                                                                                                                                                                                                                                                                                                                                                                                                                                                                                                                                                                                                                                                                                                                                                                                                                                                                                                                              document_cleaned  \n",
       "0                                                                                                                                                                                                                                                                                                                                                                                                                                                                                                                                                                                                                                                                                                                                                                                                                                                                                               Data science combines math and statistics  specialized programming  advanced analytics  artificial intelligence  AI   and machine learning with specific subject matter expertise to uncover actionable insights hidden in an organization s data  These insights can be used to guide decision making and strategic planning   \n",
       "1                                                                                                                                                                                                                                                                                                                                                                                                                                                                                                                                                                                                                                                                                                                                                                       Data science is the study of data to extract meaningful insights for business  It is a multidisciplinary approach that combines principles and practices from the fields of mathematics  statistics  artificial intelligence  and computer engineering to analyze large amounts of data  This analysis helps data scientists to ask and answer questions like what happened  why it happened  what will happen  and what can be done with the results   \n",
       "2                                                                                                                                                                                                                                                                                                                                                                                                                                                                                                                                                                                                                                                                                                                                                                                                                                                                  Data science is a multidisciplinary field of study that applies techniques and tools to draw meaningful information and actionable insights out of noisy data  Involving subjects like mathematics  statistics  computer science and artificial intelligence  data science is used across a variety of industries for smarter planning and decision making   \n",
       "3                                                                                                                                                                                                                                                                                                                                                                                                                                                                                                                                                                                                                                                                                                                                                                                                                                                                                                                                                                        Data Science is a combination of mathematics  statistics  machine learning  and computer science  Data Science is collecting  analyzing and interpreting data to gather insights into the data that can help decision makers make informed decisions   \n",
       "4                                                                                                                                                                                                                                                                                                                                                                                                                                                                                                                                                                                                                                                                                                                                                                                                                                                                                                                   Data science is an interdisciplinary field that uses scientific methods  processes  algorithms  and systems to extract knowledge and insights from structured and unstructured data  In simpler terms  data science is about obtaining  processing  and analyzing data to gain insights for many purposes   \n",
       "5                                                                                                                                                                                                                                                                                                                                                                                                                                                                                                                                                                                                                                                                                                                                                                                                                                                                                                                                                                                    Mental illnesses are health conditions involving changes in emotion  thinking or behavior  or a combination of these   Mental illnesses can be associated with distress and or problems functioning in social  work or family activities   \n",
       "6                                                                                                                                                                                                                                                                                                                                                                                                                                                                                                                                                                                                                                                                                                                                                                                                                                                                                                                                 Mental illness  also called mental health disorders  refers to a wide range of mental health conditions   disorders that affect your mood  thinking and behavior  Examples of mental illness include depression  anxiety disorders  schizophrenia  eating disorders and addictive behaviors   \n",
       "7                                                                                                                                                                                                                                                                                                                                                                                                                                                                                                                                                                                                                                                                                                                                                                                                                                                                                                                                                                                                                                    A mental illness is a disturbance of the mind that impairs the way we think  feel and behave  It affects our daily activities  as well as impact the lives of family members and friends   \n",
       "8                                                                                                                                                                                                                                                                                                                                                                                                                                                                                                                                                                                                                                                                                                                                                                                                                                                                                                                                                                       Any mental illness  AMI  is defined as a mental  behavioral  or emotional disorder  AMI can vary in impact  ranging from no impairment to mild  moderate  and even severe impairment  e g   individuals with serious mental illness as defined below    \n",
       "9                                                                                                                                                                                                                                                                                                                                                                                                                                                                                                                                                                                                                                                                                                                                                                                                                                                                                                                                                                                                                                                                                 Mental illnesses are medical conditions that disrupt a person s thinking  feeling  mood  ability to relate to others  and daily functioning   \n",
       "10                                                                                                                                                                                                                                                                                                                                                                                                                                                                                                                                                                                                                                                                                                                                                                                                                                                                 Fashion is most often thought of as a global industry that is invested in anticipating what we wear and how we wish to appear to others  But fashion isn t just a business  It s also a cultural and social phenomenon  driven by the desire for the new  As such  the industry can never fully control fashion  fashion is all about being open to change   \n",
       "11                                                                                                                                                                                                                                                                                     Once a survival tool to shelter from the cold  fashion has evolved into an expression of our personality  not only for the choice of garments but for what each garment serves ornamentally  symbolically  and socially  Since the 13th century  fashion has influenced entire populations by allowing people to display their social status through clothing  especially the upper classes  wealth and power  Throughout the centuries  the appreciation for fashion and beauty grew stronger  The formal dress worn in courts of the 17th century demonstrates the evolution of clothing  Creating a privileged environment where the constant creation and transformation of new trends could happen   Pue  dolls circulated in royal palaces  dressed to reflect various trends  They were real models who informed the aristocracy about the latest fashions  the ancestors of the more accessible fashion figures in newspapers    \n",
       "12                                                                                                                                                                                                                                                                                                                                                                                                                                                                                                                                                                                                                                                                                                   Fashion refers to how people dress  as well as the styles and designs that are popular or in trend for a specific period  It is an ever evolving art form that can reflect the lifestyle  values  attitudes  and beliefs of a society  Different society  culture  entity  history prevails in different taste in fashion  Fashion can also be seen as a form of self expression  allowing individuals to show up their thinking and taste in lifestyle  It also reveals one s personality through the clothes one wears   \n",
       "13  Fashion industry  multibillion dollar global enterprise devoted to the business of making and selling clothes  Some observers distinguish between the fashion industry  which makes  high fashion   and the apparel industry  which makes ordinary clothes or  mass fashion    but by the 1970s the boundaries between them had blurred  Fashion is best defined simply as the style or styles of clothing and accessories worn at any given time by groups of people  There may appear to be differences between the expensive designer fashions shown on the runways of Paris or New York and the mass produced sportswear and street styles sold in malls and markets around the world  However  the fashion industry encompasses the design  manufacturing  distribution  marketing  retailing  advertising  and promotion of all types of apparel  men s  women s  and children s  from the most rarefied and expensive haute couture  literally   high sewing   and designer fashions to ordinary everyday clothing from couture ball gowns to casual sweatpants  Sometimes the broader term  fashion industries  is used to refer to myriad industries and services that employ millions of people internationally   \n",
       "14                                                                                                                                                                                                                                                                                                                                                                                                                                                                                                                                                                                                                                                                                                                          What I know about  what is fashion  is simple   Fashion is how you present yourself  It is the art of expressing your sense of beauty through clothes  But it has more nuances than this simple definition suggests  Fashion is dressing in clothes that bring out the best of your body while impressing to others the excellent taste of the wearer  From a broader perspective  it is also a reflection of the society we live in  influenced by trends that are popular in mainstream culture   "
      ]
     },
     "execution_count": 6,
     "metadata": {},
     "output_type": "execute_result"
    }
   ],
   "source": [
    "corpus"
   ]
  },
  {
   "cell_type": "markdown",
   "id": "0e650e16-1086-48a2-9fc7-484a0b75d870",
   "metadata": {},
   "source": [
    "<br>\n",
    "\n",
    "## **Step 3: Change characters in documents to lower case**"
   ]
  },
  {
   "cell_type": "code",
   "execution_count": 7,
   "id": "e47b7a6f-83a7-454c-a3be-3d12afff65c4",
   "metadata": {
    "tags": []
   },
   "outputs": [],
   "source": [
    "corpus['document_cleaned'] = corpus['document_cleaned'].str.lower()"
   ]
  },
  {
   "cell_type": "code",
   "execution_count": 8,
   "id": "b4fe663e-bf28-4a81-afc8-3110c9dc3b6c",
   "metadata": {
    "tags": []
   },
   "outputs": [
    {
     "data": {
      "text/html": [
       "<div>\n",
       "<style scoped>\n",
       "    .dataframe tbody tr th:only-of-type {\n",
       "        vertical-align: middle;\n",
       "    }\n",
       "\n",
       "    .dataframe tbody tr th {\n",
       "        vertical-align: top;\n",
       "    }\n",
       "\n",
       "    .dataframe thead th {\n",
       "        text-align: right;\n",
       "    }\n",
       "</style>\n",
       "<table border=\"1\" class=\"dataframe\">\n",
       "  <thead>\n",
       "    <tr style=\"text-align: right;\">\n",
       "      <th></th>\n",
       "      <th>topic</th>\n",
       "      <th>source</th>\n",
       "      <th>document</th>\n",
       "      <th>document_cleaned</th>\n",
       "    </tr>\n",
       "  </thead>\n",
       "  <tbody>\n",
       "    <tr>\n",
       "      <th>0</th>\n",
       "      <td>data_science</td>\n",
       "      <td>ibm</td>\n",
       "      <td>Data science combines math and statistics, specialized programming, advanced analytics, artificial intelligence (AI), and machine learning with specific subject matter expertise to uncover actionable insights hidden in an organization’s data. These insights can be used to guide decision making and strategic planning.</td>\n",
       "      <td>data science combines math and statistics  specialized programming  advanced analytics  artificial intelligence  ai   and machine learning with specific subject matter expertise to uncover actionable insights hidden in an organization s data  these insights can be used to guide decision making and strategic planning</td>\n",
       "    </tr>\n",
       "    <tr>\n",
       "      <th>1</th>\n",
       "      <td>data_science</td>\n",
       "      <td>aws</td>\n",
       "      <td>Data science is the study of data to extract meaningful insights for business. It is a multidisciplinary approach that combines principles and practices from the fields of mathematics, statistics, artificial intelligence, and computer engineering to analyze large amounts of data. This analysis helps data scientists to ask and answer questions like what happened, why it happened, what will happen, and what can be done with the results.</td>\n",
       "      <td>data science is the study of data to extract meaningful insights for business  it is a multidisciplinary approach that combines principles and practices from the fields of mathematics  statistics  artificial intelligence  and computer engineering to analyze large amounts of data  this analysis helps data scientists to ask and answer questions like what happened  why it happened  what will happen  and what can be done with the results</td>\n",
       "    </tr>\n",
       "    <tr>\n",
       "      <th>2</th>\n",
       "      <td>data_science</td>\n",
       "      <td>built_in</td>\n",
       "      <td>Data science is a multidisciplinary field of study that applies techniques and tools to draw meaningful information and actionable insights out of noisy data. Involving subjects like mathematics, statistics, computer science and artificial intelligence, data science is used across a variety of industries for smarter planning and decision making.</td>\n",
       "      <td>data science is a multidisciplinary field of study that applies techniques and tools to draw meaningful information and actionable insights out of noisy data  involving subjects like mathematics  statistics  computer science and artificial intelligence  data science is used across a variety of industries for smarter planning and decision making</td>\n",
       "    </tr>\n",
       "    <tr>\n",
       "      <th>3</th>\n",
       "      <td>data_science</td>\n",
       "      <td>great_learning</td>\n",
       "      <td>Data Science is a combination of mathematics, statistics, machine learning, and computer science. Data Science is collecting, analyzing and interpreting data to gather insights into the data that can help decision-makers make informed decisions.</td>\n",
       "      <td>data science is a combination of mathematics  statistics  machine learning  and computer science  data science is collecting  analyzing and interpreting data to gather insights into the data that can help decision makers make informed decisions</td>\n",
       "    </tr>\n",
       "    <tr>\n",
       "      <th>4</th>\n",
       "      <td>data_science</td>\n",
       "      <td>datacamp</td>\n",
       "      <td>Data science is an interdisciplinary field that uses scientific methods, processes, algorithms, and systems to extract knowledge and insights from structured and unstructured data. In simpler terms, data science is about obtaining, processing, and analyzing data to gain insights for many purposes.</td>\n",
       "      <td>data science is an interdisciplinary field that uses scientific methods  processes  algorithms  and systems to extract knowledge and insights from structured and unstructured data  in simpler terms  data science is about obtaining  processing  and analyzing data to gain insights for many purposes</td>\n",
       "    </tr>\n",
       "    <tr>\n",
       "      <th>5</th>\n",
       "      <td>mental_illness</td>\n",
       "      <td>apa</td>\n",
       "      <td>Mental illnesses are health conditions involving changes in emotion, thinking or behavior (or a combination of these). Mental illnesses can be associated with distress and/or problems functioning in social, work or family activities.</td>\n",
       "      <td>mental illnesses are health conditions involving changes in emotion  thinking or behavior  or a combination of these   mental illnesses can be associated with distress and or problems functioning in social  work or family activities</td>\n",
       "    </tr>\n",
       "    <tr>\n",
       "      <th>6</th>\n",
       "      <td>mental_illness</td>\n",
       "      <td>mayo</td>\n",
       "      <td>Mental illness, also called mental health disorders, refers to a wide range of mental health conditions — disorders that affect your mood, thinking and behavior. Examples of mental illness include depression, anxiety disorders, schizophrenia, eating disorders and addictive behaviors.</td>\n",
       "      <td>mental illness  also called mental health disorders  refers to a wide range of mental health conditions   disorders that affect your mood  thinking and behavior  examples of mental illness include depression  anxiety disorders  schizophrenia  eating disorders and addictive behaviors</td>\n",
       "    </tr>\n",
       "    <tr>\n",
       "      <th>7</th>\n",
       "      <td>mental_illness</td>\n",
       "      <td>samh</td>\n",
       "      <td>A mental illness is a disturbance of the mind that impairs the way we think, feel and behave. It affects our daily activities, as well as impact the lives of family members and friends.</td>\n",
       "      <td>a mental illness is a disturbance of the mind that impairs the way we think  feel and behave  it affects our daily activities  as well as impact the lives of family members and friends</td>\n",
       "    </tr>\n",
       "    <tr>\n",
       "      <th>8</th>\n",
       "      <td>mental_illness</td>\n",
       "      <td>NIMH</td>\n",
       "      <td>Any mental illness (AMI) is defined as a mental, behavioral, or emotional disorder. AMI can vary in impact, ranging from no impairment to mild, moderate, and even severe impairment (e.g., individuals with serious mental illness as defined below).</td>\n",
       "      <td>any mental illness  ami  is defined as a mental  behavioral  or emotional disorder  ami can vary in impact  ranging from no impairment to mild  moderate  and even severe impairment  e g   individuals with serious mental illness as defined below</td>\n",
       "    </tr>\n",
       "    <tr>\n",
       "      <th>9</th>\n",
       "      <td>mental_illness</td>\n",
       "      <td>nami</td>\n",
       "      <td>Mental illnesses are medical conditions that disrupt a person’s thinking, feeling, mood, ability to relate to others, and daily functioning.</td>\n",
       "      <td>mental illnesses are medical conditions that disrupt a person s thinking  feeling  mood  ability to relate to others  and daily functioning</td>\n",
       "    </tr>\n",
       "    <tr>\n",
       "      <th>10</th>\n",
       "      <td>fashion</td>\n",
       "      <td>google</td>\n",
       "      <td>Fashion is most often thought of as a global industry that is invested in anticipating what we wear and how we wish to appear to others. But fashion isn’t just a business. It’s also a cultural and social phenomenon, driven by the desire for the new. As such, the industry can never fully control fashion: fashion is all about being open to change.</td>\n",
       "      <td>fashion is most often thought of as a global industry that is invested in anticipating what we wear and how we wish to appear to others  but fashion isn t just a business  it s also a cultural and social phenomenon  driven by the desire for the new  as such  the industry can never fully control fashion  fashion is all about being open to change</td>\n",
       "    </tr>\n",
       "    <tr>\n",
       "      <th>11</th>\n",
       "      <td>fashion</td>\n",
       "      <td>lost_&amp;_found</td>\n",
       "      <td>Once a survival tool to shelter from the cold, fashion has evolved into an expression of our personality: not only for the choice of garments but for what each garment serves ornamentally, symbolically, and socially. Since the 13th century, fashion has influenced entire populations by allowing people to display their social status through clothing, especially the upper classes’ wealth and power. Throughout the centuries, the appreciation for fashion and beauty grew stronger. The formal dress worn in courts of the 17th century demonstrates the evolution of clothing: Creating a privileged environment where the constant creation and transformation of new trends could happen. “Pue” dolls circulated in royal palaces, dressed to reflect various trends. They were real models who informed the aristocracy about the latest fashions (the ancestors of the more accessible fashion figures in newspapers).</td>\n",
       "      <td>once a survival tool to shelter from the cold  fashion has evolved into an expression of our personality  not only for the choice of garments but for what each garment serves ornamentally  symbolically  and socially  since the 13th century  fashion has influenced entire populations by allowing people to display their social status through clothing  especially the upper classes  wealth and power  throughout the centuries  the appreciation for fashion and beauty grew stronger  the formal dress worn in courts of the 17th century demonstrates the evolution of clothing  creating a privileged environment where the constant creation and transformation of new trends could happen   pue  dolls circulated in royal palaces  dressed to reflect various trends  they were real models who informed the aristocracy about the latest fashions  the ancestors of the more accessible fashion figures in newspapers</td>\n",
       "    </tr>\n",
       "    <tr>\n",
       "      <th>12</th>\n",
       "      <td>fashion</td>\n",
       "      <td>textile_industry</td>\n",
       "      <td>Fashion refers to how people dress, as well as the styles and designs that are popular or in trend for a specific period. It is an ever-evolving art form that can reflect the lifestyle, values, attitudes, and beliefs of a society. Different society, culture, entity, history prevails in different taste in fashion. Fashion can also be seen as a form of self-expression, allowing individuals to show up their thinking and taste in lifestyle. It also reveals one’s personality through the clothes one wears.</td>\n",
       "      <td>fashion refers to how people dress  as well as the styles and designs that are popular or in trend for a specific period  it is an ever evolving art form that can reflect the lifestyle  values  attitudes  and beliefs of a society  different society  culture  entity  history prevails in different taste in fashion  fashion can also be seen as a form of self expression  allowing individuals to show up their thinking and taste in lifestyle  it also reveals one s personality through the clothes one wears</td>\n",
       "    </tr>\n",
       "    <tr>\n",
       "      <th>13</th>\n",
       "      <td>fashion</td>\n",
       "      <td>britannica</td>\n",
       "      <td>Fashion industry, multibillion-dollar global enterprise devoted to the business of making and selling clothes. Some observers distinguish between the fashion industry (which makes “high fashion”) and the apparel industry (which makes ordinary clothes or “mass fashion”), but by the 1970s the boundaries between them had blurred. Fashion is best defined simply as the style or styles of clothing and accessories worn at any given time by groups of people. There may appear to be differences between the expensive designer fashions shown on the runways of Paris or New York and the mass-produced sportswear and street styles sold in malls and markets around the world. However, the fashion industry encompasses the design, manufacturing, distribution, marketing, retailing, advertising, and promotion of all types of apparel (men’s, women’s, and children’s) from the most rarefied and expensive haute couture (literally, “high sewing”) and designer fashions to ordinary everyday clothing—from couture ball gowns to casual sweatpants. Sometimes the broader term “fashion industries” is used to refer to myriad industries and services that employ millions of people internationally.</td>\n",
       "      <td>fashion industry  multibillion dollar global enterprise devoted to the business of making and selling clothes  some observers distinguish between the fashion industry  which makes  high fashion   and the apparel industry  which makes ordinary clothes or  mass fashion    but by the 1970s the boundaries between them had blurred  fashion is best defined simply as the style or styles of clothing and accessories worn at any given time by groups of people  there may appear to be differences between the expensive designer fashions shown on the runways of paris or new york and the mass produced sportswear and street styles sold in malls and markets around the world  however  the fashion industry encompasses the design  manufacturing  distribution  marketing  retailing  advertising  and promotion of all types of apparel  men s  women s  and children s  from the most rarefied and expensive haute couture  literally   high sewing   and designer fashions to ordinary everyday clothing from couture ball gowns to casual sweatpants  sometimes the broader term  fashion industries  is used to refer to myriad industries and services that employ millions of people internationally</td>\n",
       "    </tr>\n",
       "    <tr>\n",
       "      <th>14</th>\n",
       "      <td>fashion</td>\n",
       "      <td>sew_guide</td>\n",
       "      <td>What I know about “what is fashion” is simple – Fashion is how you present yourself. It is the art of expressing your sense of beauty through clothes. But it has more nuances than this simple definition suggests. Fashion is dressing in clothes that bring out the best of your body while impressing to others the excellent taste of the wearer. From a broader perspective, it is also a reflection of the society we live in, influenced by trends that are popular in mainstream culture.</td>\n",
       "      <td>what i know about  what is fashion  is simple   fashion is how you present yourself  it is the art of expressing your sense of beauty through clothes  but it has more nuances than this simple definition suggests  fashion is dressing in clothes that bring out the best of your body while impressing to others the excellent taste of the wearer  from a broader perspective  it is also a reflection of the society we live in  influenced by trends that are popular in mainstream culture</td>\n",
       "    </tr>\n",
       "  </tbody>\n",
       "</table>\n",
       "</div>"
      ],
      "text/plain": [
       "             topic            source  \\\n",
       "0     data_science               ibm   \n",
       "1     data_science               aws   \n",
       "2     data_science          built_in   \n",
       "3     data_science    great_learning   \n",
       "4     data_science          datacamp   \n",
       "5   mental_illness               apa   \n",
       "6   mental_illness              mayo   \n",
       "7   mental_illness              samh   \n",
       "8   mental_illness              NIMH   \n",
       "9   mental_illness              nami   \n",
       "10         fashion            google   \n",
       "11         fashion      lost_&_found   \n",
       "12         fashion  textile_industry   \n",
       "13         fashion        britannica   \n",
       "14         fashion         sew_guide   \n",
       "\n",
       "                                                                                                                                                                                                                                                                                                                                                                                                                                                                                                                                                                                                                                                                                                                                                                                                                                                                                                                                                                                                                                                                                                                                                                                                                      document  \\\n",
       "0                                                                                                                                                                                                                                                                                                                                                                                                                                                                                                                                                                                                                                                                                                                                                                                                                                                                                               Data science combines math and statistics, specialized programming, advanced analytics, artificial intelligence (AI), and machine learning with specific subject matter expertise to uncover actionable insights hidden in an organization’s data. These insights can be used to guide decision making and strategic planning.   \n",
       "1                                                                                                                                                                                                                                                                                                                                                                                                                                                                                                                                                                                                                                                                                                                                                                       Data science is the study of data to extract meaningful insights for business. It is a multidisciplinary approach that combines principles and practices from the fields of mathematics, statistics, artificial intelligence, and computer engineering to analyze large amounts of data. This analysis helps data scientists to ask and answer questions like what happened, why it happened, what will happen, and what can be done with the results.   \n",
       "2                                                                                                                                                                                                                                                                                                                                                                                                                                                                                                                                                                                                                                                                                                                                                                                                                                                                  Data science is a multidisciplinary field of study that applies techniques and tools to draw meaningful information and actionable insights out of noisy data. Involving subjects like mathematics, statistics, computer science and artificial intelligence, data science is used across a variety of industries for smarter planning and decision making.   \n",
       "3                                                                                                                                                                                                                                                                                                                                                                                                                                                                                                                                                                                                                                                                                                                                                                                                                                                                                                                                                                        Data Science is a combination of mathematics, statistics, machine learning, and computer science. Data Science is collecting, analyzing and interpreting data to gather insights into the data that can help decision-makers make informed decisions.   \n",
       "4                                                                                                                                                                                                                                                                                                                                                                                                                                                                                                                                                                                                                                                                                                                                                                                                                                                                                                                   Data science is an interdisciplinary field that uses scientific methods, processes, algorithms, and systems to extract knowledge and insights from structured and unstructured data. In simpler terms, data science is about obtaining, processing, and analyzing data to gain insights for many purposes.   \n",
       "5                                                                                                                                                                                                                                                                                                                                                                                                                                                                                                                                                                                                                                                                                                                                                                                                                                                                                                                                                                                    Mental illnesses are health conditions involving changes in emotion, thinking or behavior (or a combination of these). Mental illnesses can be associated with distress and/or problems functioning in social, work or family activities.   \n",
       "6                                                                                                                                                                                                                                                                                                                                                                                                                                                                                                                                                                                                                                                                                                                                                                                                                                                                                                                                 Mental illness, also called mental health disorders, refers to a wide range of mental health conditions — disorders that affect your mood, thinking and behavior. Examples of mental illness include depression, anxiety disorders, schizophrenia, eating disorders and addictive behaviors.   \n",
       "7                                                                                                                                                                                                                                                                                                                                                                                                                                                                                                                                                                                                                                                                                                                                                                                                                                                                                                                                                                                                                                    A mental illness is a disturbance of the mind that impairs the way we think, feel and behave. It affects our daily activities, as well as impact the lives of family members and friends.   \n",
       "8                                                                                                                                                                                                                                                                                                                                                                                                                                                                                                                                                                                                                                                                                                                                                                                                                                                                                                                                                                       Any mental illness (AMI) is defined as a mental, behavioral, or emotional disorder. AMI can vary in impact, ranging from no impairment to mild, moderate, and even severe impairment (e.g., individuals with serious mental illness as defined below).   \n",
       "9                                                                                                                                                                                                                                                                                                                                                                                                                                                                                                                                                                                                                                                                                                                                                                                                                                                                                                                                                                                                                                                                                 Mental illnesses are medical conditions that disrupt a person’s thinking, feeling, mood, ability to relate to others, and daily functioning.   \n",
       "10                                                                                                                                                                                                                                                                                                                                                                                                                                                                                                                                                                                                                                                                                                                                                                                                                                                                 Fashion is most often thought of as a global industry that is invested in anticipating what we wear and how we wish to appear to others. But fashion isn’t just a business. It’s also a cultural and social phenomenon, driven by the desire for the new. As such, the industry can never fully control fashion: fashion is all about being open to change.   \n",
       "11                                                                                                                                                                                                                                                                                     Once a survival tool to shelter from the cold, fashion has evolved into an expression of our personality: not only for the choice of garments but for what each garment serves ornamentally, symbolically, and socially. Since the 13th century, fashion has influenced entire populations by allowing people to display their social status through clothing, especially the upper classes’ wealth and power. Throughout the centuries, the appreciation for fashion and beauty grew stronger. The formal dress worn in courts of the 17th century demonstrates the evolution of clothing: Creating a privileged environment where the constant creation and transformation of new trends could happen. “Pue” dolls circulated in royal palaces, dressed to reflect various trends. They were real models who informed the aristocracy about the latest fashions (the ancestors of the more accessible fashion figures in newspapers).   \n",
       "12                                                                                                                                                                                                                                                                                                                                                                                                                                                                                                                                                                                                                                                                                                   Fashion refers to how people dress, as well as the styles and designs that are popular or in trend for a specific period. It is an ever-evolving art form that can reflect the lifestyle, values, attitudes, and beliefs of a society. Different society, culture, entity, history prevails in different taste in fashion. Fashion can also be seen as a form of self-expression, allowing individuals to show up their thinking and taste in lifestyle. It also reveals one’s personality through the clothes one wears.   \n",
       "13  Fashion industry, multibillion-dollar global enterprise devoted to the business of making and selling clothes. Some observers distinguish between the fashion industry (which makes “high fashion”) and the apparel industry (which makes ordinary clothes or “mass fashion”), but by the 1970s the boundaries between them had blurred. Fashion is best defined simply as the style or styles of clothing and accessories worn at any given time by groups of people. There may appear to be differences between the expensive designer fashions shown on the runways of Paris or New York and the mass-produced sportswear and street styles sold in malls and markets around the world. However, the fashion industry encompasses the design, manufacturing, distribution, marketing, retailing, advertising, and promotion of all types of apparel (men’s, women’s, and children’s) from the most rarefied and expensive haute couture (literally, “high sewing”) and designer fashions to ordinary everyday clothing—from couture ball gowns to casual sweatpants. Sometimes the broader term “fashion industries” is used to refer to myriad industries and services that employ millions of people internationally.   \n",
       "14                                                                                                                                                                                                                                                                                                                                                                                                                                                                                                                                                                                                                                                                                                                          What I know about “what is fashion” is simple – Fashion is how you present yourself. It is the art of expressing your sense of beauty through clothes. But it has more nuances than this simple definition suggests. Fashion is dressing in clothes that bring out the best of your body while impressing to others the excellent taste of the wearer. From a broader perspective, it is also a reflection of the society we live in, influenced by trends that are popular in mainstream culture.   \n",
       "\n",
       "                                                                                                                                                                                                                                                                                                                                                                                                                                                                                                                                                                                                                                                                                                                                                                                                                                                                                                                                                                                                                                                                                                                                                                                                              document_cleaned  \n",
       "0                                                                                                                                                                                                                                                                                                                                                                                                                                                                                                                                                                                                                                                                                                                                                                                                                                                                                               data science combines math and statistics  specialized programming  advanced analytics  artificial intelligence  ai   and machine learning with specific subject matter expertise to uncover actionable insights hidden in an organization s data  these insights can be used to guide decision making and strategic planning   \n",
       "1                                                                                                                                                                                                                                                                                                                                                                                                                                                                                                                                                                                                                                                                                                                                                                       data science is the study of data to extract meaningful insights for business  it is a multidisciplinary approach that combines principles and practices from the fields of mathematics  statistics  artificial intelligence  and computer engineering to analyze large amounts of data  this analysis helps data scientists to ask and answer questions like what happened  why it happened  what will happen  and what can be done with the results   \n",
       "2                                                                                                                                                                                                                                                                                                                                                                                                                                                                                                                                                                                                                                                                                                                                                                                                                                                                  data science is a multidisciplinary field of study that applies techniques and tools to draw meaningful information and actionable insights out of noisy data  involving subjects like mathematics  statistics  computer science and artificial intelligence  data science is used across a variety of industries for smarter planning and decision making   \n",
       "3                                                                                                                                                                                                                                                                                                                                                                                                                                                                                                                                                                                                                                                                                                                                                                                                                                                                                                                                                                        data science is a combination of mathematics  statistics  machine learning  and computer science  data science is collecting  analyzing and interpreting data to gather insights into the data that can help decision makers make informed decisions   \n",
       "4                                                                                                                                                                                                                                                                                                                                                                                                                                                                                                                                                                                                                                                                                                                                                                                                                                                                                                                   data science is an interdisciplinary field that uses scientific methods  processes  algorithms  and systems to extract knowledge and insights from structured and unstructured data  in simpler terms  data science is about obtaining  processing  and analyzing data to gain insights for many purposes   \n",
       "5                                                                                                                                                                                                                                                                                                                                                                                                                                                                                                                                                                                                                                                                                                                                                                                                                                                                                                                                                                                    mental illnesses are health conditions involving changes in emotion  thinking or behavior  or a combination of these   mental illnesses can be associated with distress and or problems functioning in social  work or family activities   \n",
       "6                                                                                                                                                                                                                                                                                                                                                                                                                                                                                                                                                                                                                                                                                                                                                                                                                                                                                                                                 mental illness  also called mental health disorders  refers to a wide range of mental health conditions   disorders that affect your mood  thinking and behavior  examples of mental illness include depression  anxiety disorders  schizophrenia  eating disorders and addictive behaviors   \n",
       "7                                                                                                                                                                                                                                                                                                                                                                                                                                                                                                                                                                                                                                                                                                                                                                                                                                                                                                                                                                                                                                    a mental illness is a disturbance of the mind that impairs the way we think  feel and behave  it affects our daily activities  as well as impact the lives of family members and friends   \n",
       "8                                                                                                                                                                                                                                                                                                                                                                                                                                                                                                                                                                                                                                                                                                                                                                                                                                                                                                                                                                       any mental illness  ami  is defined as a mental  behavioral  or emotional disorder  ami can vary in impact  ranging from no impairment to mild  moderate  and even severe impairment  e g   individuals with serious mental illness as defined below    \n",
       "9                                                                                                                                                                                                                                                                                                                                                                                                                                                                                                                                                                                                                                                                                                                                                                                                                                                                                                                                                                                                                                                                                 mental illnesses are medical conditions that disrupt a person s thinking  feeling  mood  ability to relate to others  and daily functioning   \n",
       "10                                                                                                                                                                                                                                                                                                                                                                                                                                                                                                                                                                                                                                                                                                                                                                                                                                                                 fashion is most often thought of as a global industry that is invested in anticipating what we wear and how we wish to appear to others  but fashion isn t just a business  it s also a cultural and social phenomenon  driven by the desire for the new  as such  the industry can never fully control fashion  fashion is all about being open to change   \n",
       "11                                                                                                                                                                                                                                                                                     once a survival tool to shelter from the cold  fashion has evolved into an expression of our personality  not only for the choice of garments but for what each garment serves ornamentally  symbolically  and socially  since the 13th century  fashion has influenced entire populations by allowing people to display their social status through clothing  especially the upper classes  wealth and power  throughout the centuries  the appreciation for fashion and beauty grew stronger  the formal dress worn in courts of the 17th century demonstrates the evolution of clothing  creating a privileged environment where the constant creation and transformation of new trends could happen   pue  dolls circulated in royal palaces  dressed to reflect various trends  they were real models who informed the aristocracy about the latest fashions  the ancestors of the more accessible fashion figures in newspapers    \n",
       "12                                                                                                                                                                                                                                                                                                                                                                                                                                                                                                                                                                                                                                                                                                   fashion refers to how people dress  as well as the styles and designs that are popular or in trend for a specific period  it is an ever evolving art form that can reflect the lifestyle  values  attitudes  and beliefs of a society  different society  culture  entity  history prevails in different taste in fashion  fashion can also be seen as a form of self expression  allowing individuals to show up their thinking and taste in lifestyle  it also reveals one s personality through the clothes one wears   \n",
       "13  fashion industry  multibillion dollar global enterprise devoted to the business of making and selling clothes  some observers distinguish between the fashion industry  which makes  high fashion   and the apparel industry  which makes ordinary clothes or  mass fashion    but by the 1970s the boundaries between them had blurred  fashion is best defined simply as the style or styles of clothing and accessories worn at any given time by groups of people  there may appear to be differences between the expensive designer fashions shown on the runways of paris or new york and the mass produced sportswear and street styles sold in malls and markets around the world  however  the fashion industry encompasses the design  manufacturing  distribution  marketing  retailing  advertising  and promotion of all types of apparel  men s  women s  and children s  from the most rarefied and expensive haute couture  literally   high sewing   and designer fashions to ordinary everyday clothing from couture ball gowns to casual sweatpants  sometimes the broader term  fashion industries  is used to refer to myriad industries and services that employ millions of people internationally   \n",
       "14                                                                                                                                                                                                                                                                                                                                                                                                                                                                                                                                                                                                                                                                                                                          what i know about  what is fashion  is simple   fashion is how you present yourself  it is the art of expressing your sense of beauty through clothes  but it has more nuances than this simple definition suggests  fashion is dressing in clothes that bring out the best of your body while impressing to others the excellent taste of the wearer  from a broader perspective  it is also a reflection of the society we live in  influenced by trends that are popular in mainstream culture   "
      ]
     },
     "execution_count": 8,
     "metadata": {},
     "output_type": "execute_result"
    }
   ],
   "source": [
    "corpus"
   ]
  },
  {
   "cell_type": "markdown",
   "id": "a8cffc7b-f351-428e-adae-94220c8a8413",
   "metadata": {},
   "source": [
    "<br>\n",
    "\n",
    "## **Step 4: Get stopwords from NLTK**"
   ]
  },
  {
   "cell_type": "code",
   "execution_count": 9,
   "id": "3f13ff0a-4c35-40c4-bdab-2ea36373a3f8",
   "metadata": {
    "tags": []
   },
   "outputs": [],
   "source": [
    "from nltk.corpus import stopwords"
   ]
  },
  {
   "cell_type": "code",
   "execution_count": 10,
   "id": "2e2b86b2-ed41-4efe-a6b7-9cd488ff0714",
   "metadata": {},
   "outputs": [
    {
     "name": "stdout",
     "output_type": "stream",
     "text": [
      "['i', 'me', 'my', 'myself', 'we', 'our', 'ours', 'ourselves', 'you', \"you're\", \"you've\", \"you'll\", \"you'd\", 'your', 'yours', 'yourself', 'yourselves', 'he', 'him', 'his', 'himself', 'she', \"she's\", 'her', 'hers', 'herself', 'it', \"it's\", 'its', 'itself', 'they', 'them', 'their', 'theirs', 'themselves', 'what', 'which', 'who', 'whom', 'this', 'that', \"that'll\", 'these', 'those', 'am', 'is', 'are', 'was', 'were', 'be', 'been', 'being', 'have', 'has', 'had', 'having', 'do', 'does', 'did', 'doing', 'a', 'an', 'the', 'and', 'but', 'if', 'or', 'because', 'as', 'until', 'while', 'of', 'at', 'by', 'for', 'with', 'about', 'against', 'between', 'into', 'through', 'during', 'before', 'after', 'above', 'below', 'to', 'from', 'up', 'down', 'in', 'out', 'on', 'off', 'over', 'under', 'again', 'further', 'then', 'once', 'here', 'there', 'when', 'where', 'why', 'how', 'all', 'any', 'both', 'each', 'few', 'more', 'most', 'other', 'some', 'such', 'no', 'nor', 'not', 'only', 'own', 'same', 'so', 'than', 'too', 'very', 's', 't', 'can', 'will', 'just', 'don', \"don't\", 'should', \"should've\", 'now', 'd', 'll', 'm', 'o', 're', 've', 'y', 'ain', 'aren', \"aren't\", 'couldn', \"couldn't\", 'didn', \"didn't\", 'doesn', \"doesn't\", 'hadn', \"hadn't\", 'hasn', \"hasn't\", 'haven', \"haven't\", 'isn', \"isn't\", 'ma', 'mightn', \"mightn't\", 'mustn', \"mustn't\", 'needn', \"needn't\", 'shan', \"shan't\", 'shouldn', \"shouldn't\", 'wasn', \"wasn't\", 'weren', \"weren't\", 'won', \"won't\", 'wouldn', \"wouldn't\"]\n"
     ]
    }
   ],
   "source": [
    "print(stopwords.words('english'))"
   ]
  },
  {
   "cell_type": "markdown",
   "id": "3ebc6030-31b6-41ce-b92c-48451264424f",
   "metadata": {},
   "source": [
    "<br>\n",
    "\n",
    "## **Step 5: Split documents from Step 3 and Step 4 into list of tokens (words) without stopwords**"
   ]
  },
  {
   "cell_type": "code",
   "execution_count": 11,
   "id": "ac182a8b-6a52-451e-9f83-771016c9cd47",
   "metadata": {
    "tags": []
   },
   "outputs": [],
   "source": [
    "corpus['token_list'] = corpus['document_cleaned'].apply(lambda x: [word for word in x.split() if word not in stopwords.words('english')])"
   ]
  },
  {
   "cell_type": "code",
   "execution_count": 12,
   "id": "0acfdbd1-777f-4f56-b325-5c08f998070c",
   "metadata": {
    "tags": []
   },
   "outputs": [
    {
     "data": {
      "text/html": [
       "<div>\n",
       "<style scoped>\n",
       "    .dataframe tbody tr th:only-of-type {\n",
       "        vertical-align: middle;\n",
       "    }\n",
       "\n",
       "    .dataframe tbody tr th {\n",
       "        vertical-align: top;\n",
       "    }\n",
       "\n",
       "    .dataframe thead th {\n",
       "        text-align: right;\n",
       "    }\n",
       "</style>\n",
       "<table border=\"1\" class=\"dataframe\">\n",
       "  <thead>\n",
       "    <tr style=\"text-align: right;\">\n",
       "      <th></th>\n",
       "      <th>topic</th>\n",
       "      <th>source</th>\n",
       "      <th>document</th>\n",
       "      <th>document_cleaned</th>\n",
       "      <th>token_list</th>\n",
       "    </tr>\n",
       "  </thead>\n",
       "  <tbody>\n",
       "    <tr>\n",
       "      <th>0</th>\n",
       "      <td>data_science</td>\n",
       "      <td>ibm</td>\n",
       "      <td>Data science combines math and statistics, specialized programming, advanced analytics, artificial intelligence (AI), and machine learning with specific subject matter expertise to uncover actionable insights hidden in an organization’s data. These insights can be used to guide decision making and strategic planning.</td>\n",
       "      <td>data science combines math and statistics  specialized programming  advanced analytics  artificial intelligence  ai   and machine learning with specific subject matter expertise to uncover actionable insights hidden in an organization s data  these insights can be used to guide decision making and strategic planning</td>\n",
       "      <td>[data, science, combines, math, statistics, specialized, programming, advanced, analytics, artificial, intelligence, ai, machine, learning, specific, subject, matter, expertise, uncover, actionable, insights, hidden, organization, data, insights, used, guide, decision, making, strategic, planning]</td>\n",
       "    </tr>\n",
       "    <tr>\n",
       "      <th>1</th>\n",
       "      <td>data_science</td>\n",
       "      <td>aws</td>\n",
       "      <td>Data science is the study of data to extract meaningful insights for business. It is a multidisciplinary approach that combines principles and practices from the fields of mathematics, statistics, artificial intelligence, and computer engineering to analyze large amounts of data. This analysis helps data scientists to ask and answer questions like what happened, why it happened, what will happen, and what can be done with the results.</td>\n",
       "      <td>data science is the study of data to extract meaningful insights for business  it is a multidisciplinary approach that combines principles and practices from the fields of mathematics  statistics  artificial intelligence  and computer engineering to analyze large amounts of data  this analysis helps data scientists to ask and answer questions like what happened  why it happened  what will happen  and what can be done with the results</td>\n",
       "      <td>[data, science, study, data, extract, meaningful, insights, business, multidisciplinary, approach, combines, principles, practices, fields, mathematics, statistics, artificial, intelligence, computer, engineering, analyze, large, amounts, data, analysis, helps, data, scientists, ask, answer, questions, like, happened, happened, happen, done, results]</td>\n",
       "    </tr>\n",
       "    <tr>\n",
       "      <th>2</th>\n",
       "      <td>data_science</td>\n",
       "      <td>built_in</td>\n",
       "      <td>Data science is a multidisciplinary field of study that applies techniques and tools to draw meaningful information and actionable insights out of noisy data. Involving subjects like mathematics, statistics, computer science and artificial intelligence, data science is used across a variety of industries for smarter planning and decision making.</td>\n",
       "      <td>data science is a multidisciplinary field of study that applies techniques and tools to draw meaningful information and actionable insights out of noisy data  involving subjects like mathematics  statistics  computer science and artificial intelligence  data science is used across a variety of industries for smarter planning and decision making</td>\n",
       "      <td>[data, science, multidisciplinary, field, study, applies, techniques, tools, draw, meaningful, information, actionable, insights, noisy, data, involving, subjects, like, mathematics, statistics, computer, science, artificial, intelligence, data, science, used, across, variety, industries, smarter, planning, decision, making]</td>\n",
       "    </tr>\n",
       "    <tr>\n",
       "      <th>3</th>\n",
       "      <td>data_science</td>\n",
       "      <td>great_learning</td>\n",
       "      <td>Data Science is a combination of mathematics, statistics, machine learning, and computer science. Data Science is collecting, analyzing and interpreting data to gather insights into the data that can help decision-makers make informed decisions.</td>\n",
       "      <td>data science is a combination of mathematics  statistics  machine learning  and computer science  data science is collecting  analyzing and interpreting data to gather insights into the data that can help decision makers make informed decisions</td>\n",
       "      <td>[data, science, combination, mathematics, statistics, machine, learning, computer, science, data, science, collecting, analyzing, interpreting, data, gather, insights, data, help, decision, makers, make, informed, decisions]</td>\n",
       "    </tr>\n",
       "    <tr>\n",
       "      <th>4</th>\n",
       "      <td>data_science</td>\n",
       "      <td>datacamp</td>\n",
       "      <td>Data science is an interdisciplinary field that uses scientific methods, processes, algorithms, and systems to extract knowledge and insights from structured and unstructured data. In simpler terms, data science is about obtaining, processing, and analyzing data to gain insights for many purposes.</td>\n",
       "      <td>data science is an interdisciplinary field that uses scientific methods  processes  algorithms  and systems to extract knowledge and insights from structured and unstructured data  in simpler terms  data science is about obtaining  processing  and analyzing data to gain insights for many purposes</td>\n",
       "      <td>[data, science, interdisciplinary, field, uses, scientific, methods, processes, algorithms, systems, extract, knowledge, insights, structured, unstructured, data, simpler, terms, data, science, obtaining, processing, analyzing, data, gain, insights, many, purposes]</td>\n",
       "    </tr>\n",
       "    <tr>\n",
       "      <th>5</th>\n",
       "      <td>mental_illness</td>\n",
       "      <td>apa</td>\n",
       "      <td>Mental illnesses are health conditions involving changes in emotion, thinking or behavior (or a combination of these). Mental illnesses can be associated with distress and/or problems functioning in social, work or family activities.</td>\n",
       "      <td>mental illnesses are health conditions involving changes in emotion  thinking or behavior  or a combination of these   mental illnesses can be associated with distress and or problems functioning in social  work or family activities</td>\n",
       "      <td>[mental, illnesses, health, conditions, involving, changes, emotion, thinking, behavior, combination, mental, illnesses, associated, distress, problems, functioning, social, work, family, activities]</td>\n",
       "    </tr>\n",
       "    <tr>\n",
       "      <th>6</th>\n",
       "      <td>mental_illness</td>\n",
       "      <td>mayo</td>\n",
       "      <td>Mental illness, also called mental health disorders, refers to a wide range of mental health conditions — disorders that affect your mood, thinking and behavior. Examples of mental illness include depression, anxiety disorders, schizophrenia, eating disorders and addictive behaviors.</td>\n",
       "      <td>mental illness  also called mental health disorders  refers to a wide range of mental health conditions   disorders that affect your mood  thinking and behavior  examples of mental illness include depression  anxiety disorders  schizophrenia  eating disorders and addictive behaviors</td>\n",
       "      <td>[mental, illness, also, called, mental, health, disorders, refers, wide, range, mental, health, conditions, disorders, affect, mood, thinking, behavior, examples, mental, illness, include, depression, anxiety, disorders, schizophrenia, eating, disorders, addictive, behaviors]</td>\n",
       "    </tr>\n",
       "    <tr>\n",
       "      <th>7</th>\n",
       "      <td>mental_illness</td>\n",
       "      <td>samh</td>\n",
       "      <td>A mental illness is a disturbance of the mind that impairs the way we think, feel and behave. It affects our daily activities, as well as impact the lives of family members and friends.</td>\n",
       "      <td>a mental illness is a disturbance of the mind that impairs the way we think  feel and behave  it affects our daily activities  as well as impact the lives of family members and friends</td>\n",
       "      <td>[mental, illness, disturbance, mind, impairs, way, think, feel, behave, affects, daily, activities, well, impact, lives, family, members, friends]</td>\n",
       "    </tr>\n",
       "    <tr>\n",
       "      <th>8</th>\n",
       "      <td>mental_illness</td>\n",
       "      <td>NIMH</td>\n",
       "      <td>Any mental illness (AMI) is defined as a mental, behavioral, or emotional disorder. AMI can vary in impact, ranging from no impairment to mild, moderate, and even severe impairment (e.g., individuals with serious mental illness as defined below).</td>\n",
       "      <td>any mental illness  ami  is defined as a mental  behavioral  or emotional disorder  ami can vary in impact  ranging from no impairment to mild  moderate  and even severe impairment  e g   individuals with serious mental illness as defined below</td>\n",
       "      <td>[mental, illness, ami, defined, mental, behavioral, emotional, disorder, ami, vary, impact, ranging, impairment, mild, moderate, even, severe, impairment, e, g, individuals, serious, mental, illness, defined]</td>\n",
       "    </tr>\n",
       "    <tr>\n",
       "      <th>9</th>\n",
       "      <td>mental_illness</td>\n",
       "      <td>nami</td>\n",
       "      <td>Mental illnesses are medical conditions that disrupt a person’s thinking, feeling, mood, ability to relate to others, and daily functioning.</td>\n",
       "      <td>mental illnesses are medical conditions that disrupt a person s thinking  feeling  mood  ability to relate to others  and daily functioning</td>\n",
       "      <td>[mental, illnesses, medical, conditions, disrupt, person, thinking, feeling, mood, ability, relate, others, daily, functioning]</td>\n",
       "    </tr>\n",
       "    <tr>\n",
       "      <th>10</th>\n",
       "      <td>fashion</td>\n",
       "      <td>google</td>\n",
       "      <td>Fashion is most often thought of as a global industry that is invested in anticipating what we wear and how we wish to appear to others. But fashion isn’t just a business. It’s also a cultural and social phenomenon, driven by the desire for the new. As such, the industry can never fully control fashion: fashion is all about being open to change.</td>\n",
       "      <td>fashion is most often thought of as a global industry that is invested in anticipating what we wear and how we wish to appear to others  but fashion isn t just a business  it s also a cultural and social phenomenon  driven by the desire for the new  as such  the industry can never fully control fashion  fashion is all about being open to change</td>\n",
       "      <td>[fashion, often, thought, global, industry, invested, anticipating, wear, wish, appear, others, fashion, business, also, cultural, social, phenomenon, driven, desire, new, industry, never, fully, control, fashion, fashion, open, change]</td>\n",
       "    </tr>\n",
       "    <tr>\n",
       "      <th>11</th>\n",
       "      <td>fashion</td>\n",
       "      <td>lost_&amp;_found</td>\n",
       "      <td>Once a survival tool to shelter from the cold, fashion has evolved into an expression of our personality: not only for the choice of garments but for what each garment serves ornamentally, symbolically, and socially. Since the 13th century, fashion has influenced entire populations by allowing people to display their social status through clothing, especially the upper classes’ wealth and power. Throughout the centuries, the appreciation for fashion and beauty grew stronger. The formal dress worn in courts of the 17th century demonstrates the evolution of clothing: Creating a privileged environment where the constant creation and transformation of new trends could happen. “Pue” dolls circulated in royal palaces, dressed to reflect various trends. They were real models who informed the aristocracy about the latest fashions (the ancestors of the more accessible fashion figures in newspapers).</td>\n",
       "      <td>once a survival tool to shelter from the cold  fashion has evolved into an expression of our personality  not only for the choice of garments but for what each garment serves ornamentally  symbolically  and socially  since the 13th century  fashion has influenced entire populations by allowing people to display their social status through clothing  especially the upper classes  wealth and power  throughout the centuries  the appreciation for fashion and beauty grew stronger  the formal dress worn in courts of the 17th century demonstrates the evolution of clothing  creating a privileged environment where the constant creation and transformation of new trends could happen   pue  dolls circulated in royal palaces  dressed to reflect various trends  they were real models who informed the aristocracy about the latest fashions  the ancestors of the more accessible fashion figures in newspapers</td>\n",
       "      <td>[survival, tool, shelter, cold, fashion, evolved, expression, personality, choice, garments, garment, serves, ornamentally, symbolically, socially, since, 13th, century, fashion, influenced, entire, populations, allowing, people, display, social, status, clothing, especially, upper, classes, wealth, power, throughout, centuries, appreciation, fashion, beauty, grew, stronger, formal, dress, worn, courts, 17th, century, demonstrates, evolution, clothing, creating, privileged, environment, constant, creation, transformation, new, trends, could, happen, pue, dolls, circulated, royal, palaces, dressed, reflect, various, trends, real, models, informed, aristocracy, latest, fashions, ancestors, accessible, fashion, figures, newspapers]</td>\n",
       "    </tr>\n",
       "    <tr>\n",
       "      <th>12</th>\n",
       "      <td>fashion</td>\n",
       "      <td>textile_industry</td>\n",
       "      <td>Fashion refers to how people dress, as well as the styles and designs that are popular or in trend for a specific period. It is an ever-evolving art form that can reflect the lifestyle, values, attitudes, and beliefs of a society. Different society, culture, entity, history prevails in different taste in fashion. Fashion can also be seen as a form of self-expression, allowing individuals to show up their thinking and taste in lifestyle. It also reveals one’s personality through the clothes one wears.</td>\n",
       "      <td>fashion refers to how people dress  as well as the styles and designs that are popular or in trend for a specific period  it is an ever evolving art form that can reflect the lifestyle  values  attitudes  and beliefs of a society  different society  culture  entity  history prevails in different taste in fashion  fashion can also be seen as a form of self expression  allowing individuals to show up their thinking and taste in lifestyle  it also reveals one s personality through the clothes one wears</td>\n",
       "      <td>[fashion, refers, people, dress, well, styles, designs, popular, trend, specific, period, ever, evolving, art, form, reflect, lifestyle, values, attitudes, beliefs, society, different, society, culture, entity, history, prevails, different, taste, fashion, fashion, also, seen, form, self, expression, allowing, individuals, show, thinking, taste, lifestyle, also, reveals, one, personality, clothes, one, wears]</td>\n",
       "    </tr>\n",
       "    <tr>\n",
       "      <th>13</th>\n",
       "      <td>fashion</td>\n",
       "      <td>britannica</td>\n",
       "      <td>Fashion industry, multibillion-dollar global enterprise devoted to the business of making and selling clothes. Some observers distinguish between the fashion industry (which makes “high fashion”) and the apparel industry (which makes ordinary clothes or “mass fashion”), but by the 1970s the boundaries between them had blurred. Fashion is best defined simply as the style or styles of clothing and accessories worn at any given time by groups of people. There may appear to be differences between the expensive designer fashions shown on the runways of Paris or New York and the mass-produced sportswear and street styles sold in malls and markets around the world. However, the fashion industry encompasses the design, manufacturing, distribution, marketing, retailing, advertising, and promotion of all types of apparel (men’s, women’s, and children’s) from the most rarefied and expensive haute couture (literally, “high sewing”) and designer fashions to ordinary everyday clothing—from couture ball gowns to casual sweatpants. Sometimes the broader term “fashion industries” is used to refer to myriad industries and services that employ millions of people internationally.</td>\n",
       "      <td>fashion industry  multibillion dollar global enterprise devoted to the business of making and selling clothes  some observers distinguish between the fashion industry  which makes  high fashion   and the apparel industry  which makes ordinary clothes or  mass fashion    but by the 1970s the boundaries between them had blurred  fashion is best defined simply as the style or styles of clothing and accessories worn at any given time by groups of people  there may appear to be differences between the expensive designer fashions shown on the runways of paris or new york and the mass produced sportswear and street styles sold in malls and markets around the world  however  the fashion industry encompasses the design  manufacturing  distribution  marketing  retailing  advertising  and promotion of all types of apparel  men s  women s  and children s  from the most rarefied and expensive haute couture  literally   high sewing   and designer fashions to ordinary everyday clothing from couture ball gowns to casual sweatpants  sometimes the broader term  fashion industries  is used to refer to myriad industries and services that employ millions of people internationally</td>\n",
       "      <td>[fashion, industry, multibillion, dollar, global, enterprise, devoted, business, making, selling, clothes, observers, distinguish, fashion, industry, makes, high, fashion, apparel, industry, makes, ordinary, clothes, mass, fashion, 1970s, boundaries, blurred, fashion, best, defined, simply, style, styles, clothing, accessories, worn, given, time, groups, people, may, appear, differences, expensive, designer, fashions, shown, runways, paris, new, york, mass, produced, sportswear, street, styles, sold, malls, markets, around, world, however, fashion, industry, encompasses, design, manufacturing, distribution, marketing, retailing, advertising, promotion, types, apparel, men, women, children, rarefied, expensive, haute, couture, literally, high, sewing, designer, fashions, ordinary, everyday, clothing, couture, ball, gowns, casual, sweatpants, sometimes, broader, term, fashion, industries, ...]</td>\n",
       "    </tr>\n",
       "    <tr>\n",
       "      <th>14</th>\n",
       "      <td>fashion</td>\n",
       "      <td>sew_guide</td>\n",
       "      <td>What I know about “what is fashion” is simple – Fashion is how you present yourself. It is the art of expressing your sense of beauty through clothes. But it has more nuances than this simple definition suggests. Fashion is dressing in clothes that bring out the best of your body while impressing to others the excellent taste of the wearer. From a broader perspective, it is also a reflection of the society we live in, influenced by trends that are popular in mainstream culture.</td>\n",
       "      <td>what i know about  what is fashion  is simple   fashion is how you present yourself  it is the art of expressing your sense of beauty through clothes  but it has more nuances than this simple definition suggests  fashion is dressing in clothes that bring out the best of your body while impressing to others the excellent taste of the wearer  from a broader perspective  it is also a reflection of the society we live in  influenced by trends that are popular in mainstream culture</td>\n",
       "      <td>[know, fashion, simple, fashion, present, art, expressing, sense, beauty, clothes, nuances, simple, definition, suggests, fashion, dressing, clothes, bring, best, body, impressing, others, excellent, taste, wearer, broader, perspective, also, reflection, society, live, influenced, trends, popular, mainstream, culture]</td>\n",
       "    </tr>\n",
       "  </tbody>\n",
       "</table>\n",
       "</div>"
      ],
      "text/plain": [
       "             topic            source  \\\n",
       "0     data_science               ibm   \n",
       "1     data_science               aws   \n",
       "2     data_science          built_in   \n",
       "3     data_science    great_learning   \n",
       "4     data_science          datacamp   \n",
       "5   mental_illness               apa   \n",
       "6   mental_illness              mayo   \n",
       "7   mental_illness              samh   \n",
       "8   mental_illness              NIMH   \n",
       "9   mental_illness              nami   \n",
       "10         fashion            google   \n",
       "11         fashion      lost_&_found   \n",
       "12         fashion  textile_industry   \n",
       "13         fashion        britannica   \n",
       "14         fashion         sew_guide   \n",
       "\n",
       "                                                                                                                                                                                                                                                                                                                                                                                                                                                                                                                                                                                                                                                                                                                                                                                                                                                                                                                                                                                                                                                                                                                                                                                                                      document  \\\n",
       "0                                                                                                                                                                                                                                                                                                                                                                                                                                                                                                                                                                                                                                                                                                                                                                                                                                                                                               Data science combines math and statistics, specialized programming, advanced analytics, artificial intelligence (AI), and machine learning with specific subject matter expertise to uncover actionable insights hidden in an organization’s data. These insights can be used to guide decision making and strategic planning.   \n",
       "1                                                                                                                                                                                                                                                                                                                                                                                                                                                                                                                                                                                                                                                                                                                                                                       Data science is the study of data to extract meaningful insights for business. It is a multidisciplinary approach that combines principles and practices from the fields of mathematics, statistics, artificial intelligence, and computer engineering to analyze large amounts of data. This analysis helps data scientists to ask and answer questions like what happened, why it happened, what will happen, and what can be done with the results.   \n",
       "2                                                                                                                                                                                                                                                                                                                                                                                                                                                                                                                                                                                                                                                                                                                                                                                                                                                                  Data science is a multidisciplinary field of study that applies techniques and tools to draw meaningful information and actionable insights out of noisy data. Involving subjects like mathematics, statistics, computer science and artificial intelligence, data science is used across a variety of industries for smarter planning and decision making.   \n",
       "3                                                                                                                                                                                                                                                                                                                                                                                                                                                                                                                                                                                                                                                                                                                                                                                                                                                                                                                                                                        Data Science is a combination of mathematics, statistics, machine learning, and computer science. Data Science is collecting, analyzing and interpreting data to gather insights into the data that can help decision-makers make informed decisions.   \n",
       "4                                                                                                                                                                                                                                                                                                                                                                                                                                                                                                                                                                                                                                                                                                                                                                                                                                                                                                                   Data science is an interdisciplinary field that uses scientific methods, processes, algorithms, and systems to extract knowledge and insights from structured and unstructured data. In simpler terms, data science is about obtaining, processing, and analyzing data to gain insights for many purposes.   \n",
       "5                                                                                                                                                                                                                                                                                                                                                                                                                                                                                                                                                                                                                                                                                                                                                                                                                                                                                                                                                                                    Mental illnesses are health conditions involving changes in emotion, thinking or behavior (or a combination of these). Mental illnesses can be associated with distress and/or problems functioning in social, work or family activities.   \n",
       "6                                                                                                                                                                                                                                                                                                                                                                                                                                                                                                                                                                                                                                                                                                                                                                                                                                                                                                                                 Mental illness, also called mental health disorders, refers to a wide range of mental health conditions — disorders that affect your mood, thinking and behavior. Examples of mental illness include depression, anxiety disorders, schizophrenia, eating disorders and addictive behaviors.   \n",
       "7                                                                                                                                                                                                                                                                                                                                                                                                                                                                                                                                                                                                                                                                                                                                                                                                                                                                                                                                                                                                                                    A mental illness is a disturbance of the mind that impairs the way we think, feel and behave. It affects our daily activities, as well as impact the lives of family members and friends.   \n",
       "8                                                                                                                                                                                                                                                                                                                                                                                                                                                                                                                                                                                                                                                                                                                                                                                                                                                                                                                                                                       Any mental illness (AMI) is defined as a mental, behavioral, or emotional disorder. AMI can vary in impact, ranging from no impairment to mild, moderate, and even severe impairment (e.g., individuals with serious mental illness as defined below).   \n",
       "9                                                                                                                                                                                                                                                                                                                                                                                                                                                                                                                                                                                                                                                                                                                                                                                                                                                                                                                                                                                                                                                                                 Mental illnesses are medical conditions that disrupt a person’s thinking, feeling, mood, ability to relate to others, and daily functioning.   \n",
       "10                                                                                                                                                                                                                                                                                                                                                                                                                                                                                                                                                                                                                                                                                                                                                                                                                                                                 Fashion is most often thought of as a global industry that is invested in anticipating what we wear and how we wish to appear to others. But fashion isn’t just a business. It’s also a cultural and social phenomenon, driven by the desire for the new. As such, the industry can never fully control fashion: fashion is all about being open to change.   \n",
       "11                                                                                                                                                                                                                                                                                     Once a survival tool to shelter from the cold, fashion has evolved into an expression of our personality: not only for the choice of garments but for what each garment serves ornamentally, symbolically, and socially. Since the 13th century, fashion has influenced entire populations by allowing people to display their social status through clothing, especially the upper classes’ wealth and power. Throughout the centuries, the appreciation for fashion and beauty grew stronger. The formal dress worn in courts of the 17th century demonstrates the evolution of clothing: Creating a privileged environment where the constant creation and transformation of new trends could happen. “Pue” dolls circulated in royal palaces, dressed to reflect various trends. They were real models who informed the aristocracy about the latest fashions (the ancestors of the more accessible fashion figures in newspapers).   \n",
       "12                                                                                                                                                                                                                                                                                                                                                                                                                                                                                                                                                                                                                                                                                                   Fashion refers to how people dress, as well as the styles and designs that are popular or in trend for a specific period. It is an ever-evolving art form that can reflect the lifestyle, values, attitudes, and beliefs of a society. Different society, culture, entity, history prevails in different taste in fashion. Fashion can also be seen as a form of self-expression, allowing individuals to show up their thinking and taste in lifestyle. It also reveals one’s personality through the clothes one wears.   \n",
       "13  Fashion industry, multibillion-dollar global enterprise devoted to the business of making and selling clothes. Some observers distinguish between the fashion industry (which makes “high fashion”) and the apparel industry (which makes ordinary clothes or “mass fashion”), but by the 1970s the boundaries between them had blurred. Fashion is best defined simply as the style or styles of clothing and accessories worn at any given time by groups of people. There may appear to be differences between the expensive designer fashions shown on the runways of Paris or New York and the mass-produced sportswear and street styles sold in malls and markets around the world. However, the fashion industry encompasses the design, manufacturing, distribution, marketing, retailing, advertising, and promotion of all types of apparel (men’s, women’s, and children’s) from the most rarefied and expensive haute couture (literally, “high sewing”) and designer fashions to ordinary everyday clothing—from couture ball gowns to casual sweatpants. Sometimes the broader term “fashion industries” is used to refer to myriad industries and services that employ millions of people internationally.   \n",
       "14                                                                                                                                                                                                                                                                                                                                                                                                                                                                                                                                                                                                                                                                                                                          What I know about “what is fashion” is simple – Fashion is how you present yourself. It is the art of expressing your sense of beauty through clothes. But it has more nuances than this simple definition suggests. Fashion is dressing in clothes that bring out the best of your body while impressing to others the excellent taste of the wearer. From a broader perspective, it is also a reflection of the society we live in, influenced by trends that are popular in mainstream culture.   \n",
       "\n",
       "                                                                                                                                                                                                                                                                                                                                                                                                                                                                                                                                                                                                                                                                                                                                                                                                                                                                                                                                                                                                                                                                                                                                                                                                              document_cleaned  \\\n",
       "0                                                                                                                                                                                                                                                                                                                                                                                                                                                                                                                                                                                                                                                                                                                                                                                                                                                                                               data science combines math and statistics  specialized programming  advanced analytics  artificial intelligence  ai   and machine learning with specific subject matter expertise to uncover actionable insights hidden in an organization s data  these insights can be used to guide decision making and strategic planning    \n",
       "1                                                                                                                                                                                                                                                                                                                                                                                                                                                                                                                                                                                                                                                                                                                                                                       data science is the study of data to extract meaningful insights for business  it is a multidisciplinary approach that combines principles and practices from the fields of mathematics  statistics  artificial intelligence  and computer engineering to analyze large amounts of data  this analysis helps data scientists to ask and answer questions like what happened  why it happened  what will happen  and what can be done with the results    \n",
       "2                                                                                                                                                                                                                                                                                                                                                                                                                                                                                                                                                                                                                                                                                                                                                                                                                                                                  data science is a multidisciplinary field of study that applies techniques and tools to draw meaningful information and actionable insights out of noisy data  involving subjects like mathematics  statistics  computer science and artificial intelligence  data science is used across a variety of industries for smarter planning and decision making    \n",
       "3                                                                                                                                                                                                                                                                                                                                                                                                                                                                                                                                                                                                                                                                                                                                                                                                                                                                                                                                                                        data science is a combination of mathematics  statistics  machine learning  and computer science  data science is collecting  analyzing and interpreting data to gather insights into the data that can help decision makers make informed decisions    \n",
       "4                                                                                                                                                                                                                                                                                                                                                                                                                                                                                                                                                                                                                                                                                                                                                                                                                                                                                                                   data science is an interdisciplinary field that uses scientific methods  processes  algorithms  and systems to extract knowledge and insights from structured and unstructured data  in simpler terms  data science is about obtaining  processing  and analyzing data to gain insights for many purposes    \n",
       "5                                                                                                                                                                                                                                                                                                                                                                                                                                                                                                                                                                                                                                                                                                                                                                                                                                                                                                                                                                                    mental illnesses are health conditions involving changes in emotion  thinking or behavior  or a combination of these   mental illnesses can be associated with distress and or problems functioning in social  work or family activities    \n",
       "6                                                                                                                                                                                                                                                                                                                                                                                                                                                                                                                                                                                                                                                                                                                                                                                                                                                                                                                                 mental illness  also called mental health disorders  refers to a wide range of mental health conditions   disorders that affect your mood  thinking and behavior  examples of mental illness include depression  anxiety disorders  schizophrenia  eating disorders and addictive behaviors    \n",
       "7                                                                                                                                                                                                                                                                                                                                                                                                                                                                                                                                                                                                                                                                                                                                                                                                                                                                                                                                                                                                                                    a mental illness is a disturbance of the mind that impairs the way we think  feel and behave  it affects our daily activities  as well as impact the lives of family members and friends    \n",
       "8                                                                                                                                                                                                                                                                                                                                                                                                                                                                                                                                                                                                                                                                                                                                                                                                                                                                                                                                                                       any mental illness  ami  is defined as a mental  behavioral  or emotional disorder  ami can vary in impact  ranging from no impairment to mild  moderate  and even severe impairment  e g   individuals with serious mental illness as defined below     \n",
       "9                                                                                                                                                                                                                                                                                                                                                                                                                                                                                                                                                                                                                                                                                                                                                                                                                                                                                                                                                                                                                                                                                 mental illnesses are medical conditions that disrupt a person s thinking  feeling  mood  ability to relate to others  and daily functioning    \n",
       "10                                                                                                                                                                                                                                                                                                                                                                                                                                                                                                                                                                                                                                                                                                                                                                                                                                                                 fashion is most often thought of as a global industry that is invested in anticipating what we wear and how we wish to appear to others  but fashion isn t just a business  it s also a cultural and social phenomenon  driven by the desire for the new  as such  the industry can never fully control fashion  fashion is all about being open to change    \n",
       "11                                                                                                                                                                                                                                                                                     once a survival tool to shelter from the cold  fashion has evolved into an expression of our personality  not only for the choice of garments but for what each garment serves ornamentally  symbolically  and socially  since the 13th century  fashion has influenced entire populations by allowing people to display their social status through clothing  especially the upper classes  wealth and power  throughout the centuries  the appreciation for fashion and beauty grew stronger  the formal dress worn in courts of the 17th century demonstrates the evolution of clothing  creating a privileged environment where the constant creation and transformation of new trends could happen   pue  dolls circulated in royal palaces  dressed to reflect various trends  they were real models who informed the aristocracy about the latest fashions  the ancestors of the more accessible fashion figures in newspapers     \n",
       "12                                                                                                                                                                                                                                                                                                                                                                                                                                                                                                                                                                                                                                                                                                   fashion refers to how people dress  as well as the styles and designs that are popular or in trend for a specific period  it is an ever evolving art form that can reflect the lifestyle  values  attitudes  and beliefs of a society  different society  culture  entity  history prevails in different taste in fashion  fashion can also be seen as a form of self expression  allowing individuals to show up their thinking and taste in lifestyle  it also reveals one s personality through the clothes one wears    \n",
       "13  fashion industry  multibillion dollar global enterprise devoted to the business of making and selling clothes  some observers distinguish between the fashion industry  which makes  high fashion   and the apparel industry  which makes ordinary clothes or  mass fashion    but by the 1970s the boundaries between them had blurred  fashion is best defined simply as the style or styles of clothing and accessories worn at any given time by groups of people  there may appear to be differences between the expensive designer fashions shown on the runways of paris or new york and the mass produced sportswear and street styles sold in malls and markets around the world  however  the fashion industry encompasses the design  manufacturing  distribution  marketing  retailing  advertising  and promotion of all types of apparel  men s  women s  and children s  from the most rarefied and expensive haute couture  literally   high sewing   and designer fashions to ordinary everyday clothing from couture ball gowns to casual sweatpants  sometimes the broader term  fashion industries  is used to refer to myriad industries and services that employ millions of people internationally    \n",
       "14                                                                                                                                                                                                                                                                                                                                                                                                                                                                                                                                                                                                                                                                                                                          what i know about  what is fashion  is simple   fashion is how you present yourself  it is the art of expressing your sense of beauty through clothes  but it has more nuances than this simple definition suggests  fashion is dressing in clothes that bring out the best of your body while impressing to others the excellent taste of the wearer  from a broader perspective  it is also a reflection of the society we live in  influenced by trends that are popular in mainstream culture    \n",
       "\n",
       "                                                                                                                                                                                                                                                                                                                                                                                                                                                                                                                                                                                                                                                                                                                                                                                                                                                                                                                                  token_list  \n",
       "0                                                                                                                                                                                                                                                                                                                                                                                                                                                                                                                                                                                                                                 [data, science, combines, math, statistics, specialized, programming, advanced, analytics, artificial, intelligence, ai, machine, learning, specific, subject, matter, expertise, uncover, actionable, insights, hidden, organization, data, insights, used, guide, decision, making, strategic, planning]  \n",
       "1                                                                                                                                                                                                                                                                                                                                                                                                                                                                                                                                                                           [data, science, study, data, extract, meaningful, insights, business, multidisciplinary, approach, combines, principles, practices, fields, mathematics, statistics, artificial, intelligence, computer, engineering, analyze, large, amounts, data, analysis, helps, data, scientists, ask, answer, questions, like, happened, happened, happen, done, results]  \n",
       "2                                                                                                                                                                                                                                                                                                                                                                                                                                                                                                                                                                                                     [data, science, multidisciplinary, field, study, applies, techniques, tools, draw, meaningful, information, actionable, insights, noisy, data, involving, subjects, like, mathematics, statistics, computer, science, artificial, intelligence, data, science, used, across, variety, industries, smarter, planning, decision, making]  \n",
       "3                                                                                                                                                                                                                                                                                                                                                                                                                                                                                                                                                                                                                                                                                                           [data, science, combination, mathematics, statistics, machine, learning, computer, science, data, science, collecting, analyzing, interpreting, data, gather, insights, data, help, decision, makers, make, informed, decisions]  \n",
       "4                                                                                                                                                                                                                                                                                                                                                                                                                                                                                                                                                                                                                                                                  [data, science, interdisciplinary, field, uses, scientific, methods, processes, algorithms, systems, extract, knowledge, insights, structured, unstructured, data, simpler, terms, data, science, obtaining, processing, analyzing, data, gain, insights, many, purposes]  \n",
       "5                                                                                                                                                                                                                                                                                                                                                                                                                                                                                                                                                                                                                                                                                                                                    [mental, illnesses, health, conditions, involving, changes, emotion, thinking, behavior, combination, mental, illnesses, associated, distress, problems, functioning, social, work, family, activities]  \n",
       "6                                                                                                                                                                                                                                                                                                                                                                                                                                                                                                                                                                                                                                                       [mental, illness, also, called, mental, health, disorders, refers, wide, range, mental, health, conditions, disorders, affect, mood, thinking, behavior, examples, mental, illness, include, depression, anxiety, disorders, schizophrenia, eating, disorders, addictive, behaviors]  \n",
       "7                                                                                                                                                                                                                                                                                                                                                                                                                                                                                                                                                                                                                                                                                                                                                                                         [mental, illness, disturbance, mind, impairs, way, think, feel, behave, affects, daily, activities, well, impact, lives, family, members, friends]  \n",
       "8                                                                                                                                                                                                                                                                                                                                                                                                                                                                                                                                                                                                                                                                                                                           [mental, illness, ami, defined, mental, behavioral, emotional, disorder, ami, vary, impact, ranging, impairment, mild, moderate, even, severe, impairment, e, g, individuals, serious, mental, illness, defined]  \n",
       "9                                                                                                                                                                                                                                                                                                                                                                                                                                                                                                                                                                                                                                                                                                                                                                                                            [mental, illnesses, medical, conditions, disrupt, person, thinking, feeling, mood, ability, relate, others, daily, functioning]  \n",
       "10                                                                                                                                                                                                                                                                                                                                                                                                                                                                                                                                                                                                                                                                                              [fashion, often, thought, global, industry, invested, anticipating, wear, wish, appear, others, fashion, business, also, cultural, social, phenomenon, driven, desire, new, industry, never, fully, control, fashion, fashion, open, change]  \n",
       "11                                                                                                                                                                        [survival, tool, shelter, cold, fashion, evolved, expression, personality, choice, garments, garment, serves, ornamentally, symbolically, socially, since, 13th, century, fashion, influenced, entire, populations, allowing, people, display, social, status, clothing, especially, upper, classes, wealth, power, throughout, centuries, appreciation, fashion, beauty, grew, stronger, formal, dress, worn, courts, 17th, century, demonstrates, evolution, clothing, creating, privileged, environment, constant, creation, transformation, new, trends, could, happen, pue, dolls, circulated, royal, palaces, dressed, reflect, various, trends, real, models, informed, aristocracy, latest, fashions, ancestors, accessible, fashion, figures, newspapers]  \n",
       "12                                                                                                                                                                                                                                                                                                                                                                                                                                                                                                              [fashion, refers, people, dress, well, styles, designs, popular, trend, specific, period, ever, evolving, art, form, reflect, lifestyle, values, attitudes, beliefs, society, different, society, culture, entity, history, prevails, different, taste, fashion, fashion, also, seen, form, self, expression, allowing, individuals, show, thinking, taste, lifestyle, also, reveals, one, personality, clothes, one, wears]  \n",
       "13  [fashion, industry, multibillion, dollar, global, enterprise, devoted, business, making, selling, clothes, observers, distinguish, fashion, industry, makes, high, fashion, apparel, industry, makes, ordinary, clothes, mass, fashion, 1970s, boundaries, blurred, fashion, best, defined, simply, style, styles, clothing, accessories, worn, given, time, groups, people, may, appear, differences, expensive, designer, fashions, shown, runways, paris, new, york, mass, produced, sportswear, street, styles, sold, malls, markets, around, world, however, fashion, industry, encompasses, design, manufacturing, distribution, marketing, retailing, advertising, promotion, types, apparel, men, women, children, rarefied, expensive, haute, couture, literally, high, sewing, designer, fashions, ordinary, everyday, clothing, couture, ball, gowns, casual, sweatpants, sometimes, broader, term, fashion, industries, ...]  \n",
       "14                                                                                                                                                                                                                                                                                                                                                                                                                                                                                                                                                                                                           [know, fashion, simple, fashion, present, art, expressing, sense, beauty, clothes, nuances, simple, definition, suggests, fashion, dressing, clothes, bring, best, body, impressing, others, excellent, taste, wearer, broader, perspective, also, reflection, society, live, influenced, trends, popular, mainstream, culture]  "
      ]
     },
     "execution_count": 12,
     "metadata": {},
     "output_type": "execute_result"
    }
   ],
   "source": [
    "corpus"
   ]
  },
  {
   "cell_type": "markdown",
   "id": "0d83cc74-013c-4c7f-a9be-b310cea16d33",
   "metadata": {},
   "source": [
    "<br>\n",
    "\n",
    "## **Step 6: Count each and every token from Step 5**"
   ]
  },
  {
   "cell_type": "code",
   "execution_count": 13,
   "id": "fbfb3d82-e19c-4bf8-9b05-acf3cf032d89",
   "metadata": {
    "tags": []
   },
   "outputs": [],
   "source": [
    "from collections import defaultdict"
   ]
  },
  {
   "cell_type": "code",
   "execution_count": 14,
   "id": "3e6bba60-e19a-4820-b7c0-e5526212eb7e",
   "metadata": {},
   "outputs": [],
   "source": [
    "token_frequency = defaultdict(int)\n",
    "\n",
    "for each_token_list in corpus['token_list']:\n",
    "    for token in each_token_list:\n",
    "        token_frequency[token] = token_frequency[token] + 1"
   ]
  },
  {
   "cell_type": "markdown",
   "id": "e3049e91-3af5-4438-8241-0865740472e4",
   "metadata": {},
   "source": [
    "<br>\n",
    "\n",
    "## **Step 7: Form list of tokens with more than count of 1 from Step 6**"
   ]
  },
  {
   "cell_type": "code",
   "execution_count": 15,
   "id": "46bf1721-74a6-4974-977d-6f382eb2bcec",
   "metadata": {
    "tags": []
   },
   "outputs": [],
   "source": [
    "corpus['token_list_new'] = corpus['token_list'].apply(lambda x: [i for i in x if token_frequency[i]>1])"
   ]
  },
  {
   "cell_type": "code",
   "execution_count": 16,
   "id": "940b9917-5ead-407f-b812-9150a76572f1",
   "metadata": {
    "tags": []
   },
   "outputs": [
    {
     "data": {
      "text/html": [
       "<div>\n",
       "<style scoped>\n",
       "    .dataframe tbody tr th:only-of-type {\n",
       "        vertical-align: middle;\n",
       "    }\n",
       "\n",
       "    .dataframe tbody tr th {\n",
       "        vertical-align: top;\n",
       "    }\n",
       "\n",
       "    .dataframe thead th {\n",
       "        text-align: right;\n",
       "    }\n",
       "</style>\n",
       "<table border=\"1\" class=\"dataframe\">\n",
       "  <thead>\n",
       "    <tr style=\"text-align: right;\">\n",
       "      <th></th>\n",
       "      <th>topic</th>\n",
       "      <th>source</th>\n",
       "      <th>document</th>\n",
       "      <th>document_cleaned</th>\n",
       "      <th>token_list</th>\n",
       "      <th>token_list_new</th>\n",
       "    </tr>\n",
       "  </thead>\n",
       "  <tbody>\n",
       "    <tr>\n",
       "      <th>0</th>\n",
       "      <td>data_science</td>\n",
       "      <td>ibm</td>\n",
       "      <td>Data science combines math and statistics, specialized programming, advanced analytics, artificial intelligence (AI), and machine learning with specific subject matter expertise to uncover actionable insights hidden in an organization’s data. These insights can be used to guide decision making and strategic planning.</td>\n",
       "      <td>data science combines math and statistics  specialized programming  advanced analytics  artificial intelligence  ai   and machine learning with specific subject matter expertise to uncover actionable insights hidden in an organization s data  these insights can be used to guide decision making and strategic planning</td>\n",
       "      <td>[data, science, combines, math, statistics, specialized, programming, advanced, analytics, artificial, intelligence, ai, machine, learning, specific, subject, matter, expertise, uncover, actionable, insights, hidden, organization, data, insights, used, guide, decision, making, strategic, planning]</td>\n",
       "      <td>[data, science, combines, statistics, artificial, intelligence, machine, learning, specific, actionable, insights, data, insights, used, decision, making, planning]</td>\n",
       "    </tr>\n",
       "    <tr>\n",
       "      <th>1</th>\n",
       "      <td>data_science</td>\n",
       "      <td>aws</td>\n",
       "      <td>Data science is the study of data to extract meaningful insights for business. It is a multidisciplinary approach that combines principles and practices from the fields of mathematics, statistics, artificial intelligence, and computer engineering to analyze large amounts of data. This analysis helps data scientists to ask and answer questions like what happened, why it happened, what will happen, and what can be done with the results.</td>\n",
       "      <td>data science is the study of data to extract meaningful insights for business  it is a multidisciplinary approach that combines principles and practices from the fields of mathematics  statistics  artificial intelligence  and computer engineering to analyze large amounts of data  this analysis helps data scientists to ask and answer questions like what happened  why it happened  what will happen  and what can be done with the results</td>\n",
       "      <td>[data, science, study, data, extract, meaningful, insights, business, multidisciplinary, approach, combines, principles, practices, fields, mathematics, statistics, artificial, intelligence, computer, engineering, analyze, large, amounts, data, analysis, helps, data, scientists, ask, answer, questions, like, happened, happened, happen, done, results]</td>\n",
       "      <td>[data, science, study, data, extract, meaningful, insights, business, multidisciplinary, combines, mathematics, statistics, artificial, intelligence, computer, data, data, like, happened, happened, happen]</td>\n",
       "    </tr>\n",
       "    <tr>\n",
       "      <th>2</th>\n",
       "      <td>data_science</td>\n",
       "      <td>built_in</td>\n",
       "      <td>Data science is a multidisciplinary field of study that applies techniques and tools to draw meaningful information and actionable insights out of noisy data. Involving subjects like mathematics, statistics, computer science and artificial intelligence, data science is used across a variety of industries for smarter planning and decision making.</td>\n",
       "      <td>data science is a multidisciplinary field of study that applies techniques and tools to draw meaningful information and actionable insights out of noisy data  involving subjects like mathematics  statistics  computer science and artificial intelligence  data science is used across a variety of industries for smarter planning and decision making</td>\n",
       "      <td>[data, science, multidisciplinary, field, study, applies, techniques, tools, draw, meaningful, information, actionable, insights, noisy, data, involving, subjects, like, mathematics, statistics, computer, science, artificial, intelligence, data, science, used, across, variety, industries, smarter, planning, decision, making]</td>\n",
       "      <td>[data, science, multidisciplinary, field, study, meaningful, actionable, insights, data, involving, like, mathematics, statistics, computer, science, artificial, intelligence, data, science, used, industries, planning, decision, making]</td>\n",
       "    </tr>\n",
       "    <tr>\n",
       "      <th>3</th>\n",
       "      <td>data_science</td>\n",
       "      <td>great_learning</td>\n",
       "      <td>Data Science is a combination of mathematics, statistics, machine learning, and computer science. Data Science is collecting, analyzing and interpreting data to gather insights into the data that can help decision-makers make informed decisions.</td>\n",
       "      <td>data science is a combination of mathematics  statistics  machine learning  and computer science  data science is collecting  analyzing and interpreting data to gather insights into the data that can help decision makers make informed decisions</td>\n",
       "      <td>[data, science, combination, mathematics, statistics, machine, learning, computer, science, data, science, collecting, analyzing, interpreting, data, gather, insights, data, help, decision, makers, make, informed, decisions]</td>\n",
       "      <td>[data, science, combination, mathematics, statistics, machine, learning, computer, science, data, science, analyzing, data, insights, data, decision, informed]</td>\n",
       "    </tr>\n",
       "    <tr>\n",
       "      <th>4</th>\n",
       "      <td>data_science</td>\n",
       "      <td>datacamp</td>\n",
       "      <td>Data science is an interdisciplinary field that uses scientific methods, processes, algorithms, and systems to extract knowledge and insights from structured and unstructured data. In simpler terms, data science is about obtaining, processing, and analyzing data to gain insights for many purposes.</td>\n",
       "      <td>data science is an interdisciplinary field that uses scientific methods  processes  algorithms  and systems to extract knowledge and insights from structured and unstructured data  in simpler terms  data science is about obtaining  processing  and analyzing data to gain insights for many purposes</td>\n",
       "      <td>[data, science, interdisciplinary, field, uses, scientific, methods, processes, algorithms, systems, extract, knowledge, insights, structured, unstructured, data, simpler, terms, data, science, obtaining, processing, analyzing, data, gain, insights, many, purposes]</td>\n",
       "      <td>[data, science, field, extract, insights, data, data, science, analyzing, data, insights]</td>\n",
       "    </tr>\n",
       "    <tr>\n",
       "      <th>5</th>\n",
       "      <td>mental_illness</td>\n",
       "      <td>apa</td>\n",
       "      <td>Mental illnesses are health conditions involving changes in emotion, thinking or behavior (or a combination of these). Mental illnesses can be associated with distress and/or problems functioning in social, work or family activities.</td>\n",
       "      <td>mental illnesses are health conditions involving changes in emotion  thinking or behavior  or a combination of these   mental illnesses can be associated with distress and or problems functioning in social  work or family activities</td>\n",
       "      <td>[mental, illnesses, health, conditions, involving, changes, emotion, thinking, behavior, combination, mental, illnesses, associated, distress, problems, functioning, social, work, family, activities]</td>\n",
       "      <td>[mental, illnesses, health, conditions, involving, thinking, behavior, combination, mental, illnesses, functioning, social, family, activities]</td>\n",
       "    </tr>\n",
       "    <tr>\n",
       "      <th>6</th>\n",
       "      <td>mental_illness</td>\n",
       "      <td>mayo</td>\n",
       "      <td>Mental illness, also called mental health disorders, refers to a wide range of mental health conditions — disorders that affect your mood, thinking and behavior. Examples of mental illness include depression, anxiety disorders, schizophrenia, eating disorders and addictive behaviors.</td>\n",
       "      <td>mental illness  also called mental health disorders  refers to a wide range of mental health conditions   disorders that affect your mood  thinking and behavior  examples of mental illness include depression  anxiety disorders  schizophrenia  eating disorders and addictive behaviors</td>\n",
       "      <td>[mental, illness, also, called, mental, health, disorders, refers, wide, range, mental, health, conditions, disorders, affect, mood, thinking, behavior, examples, mental, illness, include, depression, anxiety, disorders, schizophrenia, eating, disorders, addictive, behaviors]</td>\n",
       "      <td>[mental, illness, also, mental, health, disorders, refers, mental, health, conditions, disorders, mood, thinking, behavior, mental, illness, disorders, disorders]</td>\n",
       "    </tr>\n",
       "    <tr>\n",
       "      <th>7</th>\n",
       "      <td>mental_illness</td>\n",
       "      <td>samh</td>\n",
       "      <td>A mental illness is a disturbance of the mind that impairs the way we think, feel and behave. It affects our daily activities, as well as impact the lives of family members and friends.</td>\n",
       "      <td>a mental illness is a disturbance of the mind that impairs the way we think  feel and behave  it affects our daily activities  as well as impact the lives of family members and friends</td>\n",
       "      <td>[mental, illness, disturbance, mind, impairs, way, think, feel, behave, affects, daily, activities, well, impact, lives, family, members, friends]</td>\n",
       "      <td>[mental, illness, daily, activities, well, impact, family]</td>\n",
       "    </tr>\n",
       "    <tr>\n",
       "      <th>8</th>\n",
       "      <td>mental_illness</td>\n",
       "      <td>NIMH</td>\n",
       "      <td>Any mental illness (AMI) is defined as a mental, behavioral, or emotional disorder. AMI can vary in impact, ranging from no impairment to mild, moderate, and even severe impairment (e.g., individuals with serious mental illness as defined below).</td>\n",
       "      <td>any mental illness  ami  is defined as a mental  behavioral  or emotional disorder  ami can vary in impact  ranging from no impairment to mild  moderate  and even severe impairment  e g   individuals with serious mental illness as defined below</td>\n",
       "      <td>[mental, illness, ami, defined, mental, behavioral, emotional, disorder, ami, vary, impact, ranging, impairment, mild, moderate, even, severe, impairment, e, g, individuals, serious, mental, illness, defined]</td>\n",
       "      <td>[mental, illness, ami, defined, mental, ami, impact, impairment, impairment, individuals, mental, illness, defined]</td>\n",
       "    </tr>\n",
       "    <tr>\n",
       "      <th>9</th>\n",
       "      <td>mental_illness</td>\n",
       "      <td>nami</td>\n",
       "      <td>Mental illnesses are medical conditions that disrupt a person’s thinking, feeling, mood, ability to relate to others, and daily functioning.</td>\n",
       "      <td>mental illnesses are medical conditions that disrupt a person s thinking  feeling  mood  ability to relate to others  and daily functioning</td>\n",
       "      <td>[mental, illnesses, medical, conditions, disrupt, person, thinking, feeling, mood, ability, relate, others, daily, functioning]</td>\n",
       "      <td>[mental, illnesses, conditions, thinking, mood, others, daily, functioning]</td>\n",
       "    </tr>\n",
       "    <tr>\n",
       "      <th>10</th>\n",
       "      <td>fashion</td>\n",
       "      <td>google</td>\n",
       "      <td>Fashion is most often thought of as a global industry that is invested in anticipating what we wear and how we wish to appear to others. But fashion isn’t just a business. It’s also a cultural and social phenomenon, driven by the desire for the new. As such, the industry can never fully control fashion: fashion is all about being open to change.</td>\n",
       "      <td>fashion is most often thought of as a global industry that is invested in anticipating what we wear and how we wish to appear to others  but fashion isn t just a business  it s also a cultural and social phenomenon  driven by the desire for the new  as such  the industry can never fully control fashion  fashion is all about being open to change</td>\n",
       "      <td>[fashion, often, thought, global, industry, invested, anticipating, wear, wish, appear, others, fashion, business, also, cultural, social, phenomenon, driven, desire, new, industry, never, fully, control, fashion, fashion, open, change]</td>\n",
       "      <td>[fashion, global, industry, appear, others, fashion, business, also, social, new, industry, fashion, fashion]</td>\n",
       "    </tr>\n",
       "    <tr>\n",
       "      <th>11</th>\n",
       "      <td>fashion</td>\n",
       "      <td>lost_&amp;_found</td>\n",
       "      <td>Once a survival tool to shelter from the cold, fashion has evolved into an expression of our personality: not only for the choice of garments but for what each garment serves ornamentally, symbolically, and socially. Since the 13th century, fashion has influenced entire populations by allowing people to display their social status through clothing, especially the upper classes’ wealth and power. Throughout the centuries, the appreciation for fashion and beauty grew stronger. The formal dress worn in courts of the 17th century demonstrates the evolution of clothing: Creating a privileged environment where the constant creation and transformation of new trends could happen. “Pue” dolls circulated in royal palaces, dressed to reflect various trends. They were real models who informed the aristocracy about the latest fashions (the ancestors of the more accessible fashion figures in newspapers).</td>\n",
       "      <td>once a survival tool to shelter from the cold  fashion has evolved into an expression of our personality  not only for the choice of garments but for what each garment serves ornamentally  symbolically  and socially  since the 13th century  fashion has influenced entire populations by allowing people to display their social status through clothing  especially the upper classes  wealth and power  throughout the centuries  the appreciation for fashion and beauty grew stronger  the formal dress worn in courts of the 17th century demonstrates the evolution of clothing  creating a privileged environment where the constant creation and transformation of new trends could happen   pue  dolls circulated in royal palaces  dressed to reflect various trends  they were real models who informed the aristocracy about the latest fashions  the ancestors of the more accessible fashion figures in newspapers</td>\n",
       "      <td>[survival, tool, shelter, cold, fashion, evolved, expression, personality, choice, garments, garment, serves, ornamentally, symbolically, socially, since, 13th, century, fashion, influenced, entire, populations, allowing, people, display, social, status, clothing, especially, upper, classes, wealth, power, throughout, centuries, appreciation, fashion, beauty, grew, stronger, formal, dress, worn, courts, 17th, century, demonstrates, evolution, clothing, creating, privileged, environment, constant, creation, transformation, new, trends, could, happen, pue, dolls, circulated, royal, palaces, dressed, reflect, various, trends, real, models, informed, aristocracy, latest, fashions, ancestors, accessible, fashion, figures, newspapers]</td>\n",
       "      <td>[fashion, expression, personality, century, fashion, influenced, allowing, people, social, clothing, fashion, beauty, dress, worn, century, clothing, new, trends, happen, reflect, trends, informed, fashions, fashion]</td>\n",
       "    </tr>\n",
       "    <tr>\n",
       "      <th>12</th>\n",
       "      <td>fashion</td>\n",
       "      <td>textile_industry</td>\n",
       "      <td>Fashion refers to how people dress, as well as the styles and designs that are popular or in trend for a specific period. It is an ever-evolving art form that can reflect the lifestyle, values, attitudes, and beliefs of a society. Different society, culture, entity, history prevails in different taste in fashion. Fashion can also be seen as a form of self-expression, allowing individuals to show up their thinking and taste in lifestyle. It also reveals one’s personality through the clothes one wears.</td>\n",
       "      <td>fashion refers to how people dress  as well as the styles and designs that are popular or in trend for a specific period  it is an ever evolving art form that can reflect the lifestyle  values  attitudes  and beliefs of a society  different society  culture  entity  history prevails in different taste in fashion  fashion can also be seen as a form of self expression  allowing individuals to show up their thinking and taste in lifestyle  it also reveals one s personality through the clothes one wears</td>\n",
       "      <td>[fashion, refers, people, dress, well, styles, designs, popular, trend, specific, period, ever, evolving, art, form, reflect, lifestyle, values, attitudes, beliefs, society, different, society, culture, entity, history, prevails, different, taste, fashion, fashion, also, seen, form, self, expression, allowing, individuals, show, thinking, taste, lifestyle, also, reveals, one, personality, clothes, one, wears]</td>\n",
       "      <td>[fashion, refers, people, dress, well, styles, popular, specific, art, form, reflect, lifestyle, society, different, society, culture, different, taste, fashion, fashion, also, form, expression, allowing, individuals, thinking, taste, lifestyle, also, one, personality, clothes, one]</td>\n",
       "    </tr>\n",
       "    <tr>\n",
       "      <th>13</th>\n",
       "      <td>fashion</td>\n",
       "      <td>britannica</td>\n",
       "      <td>Fashion industry, multibillion-dollar global enterprise devoted to the business of making and selling clothes. Some observers distinguish between the fashion industry (which makes “high fashion”) and the apparel industry (which makes ordinary clothes or “mass fashion”), but by the 1970s the boundaries between them had blurred. Fashion is best defined simply as the style or styles of clothing and accessories worn at any given time by groups of people. There may appear to be differences between the expensive designer fashions shown on the runways of Paris or New York and the mass-produced sportswear and street styles sold in malls and markets around the world. However, the fashion industry encompasses the design, manufacturing, distribution, marketing, retailing, advertising, and promotion of all types of apparel (men’s, women’s, and children’s) from the most rarefied and expensive haute couture (literally, “high sewing”) and designer fashions to ordinary everyday clothing—from couture ball gowns to casual sweatpants. Sometimes the broader term “fashion industries” is used to refer to myriad industries and services that employ millions of people internationally.</td>\n",
       "      <td>fashion industry  multibillion dollar global enterprise devoted to the business of making and selling clothes  some observers distinguish between the fashion industry  which makes  high fashion   and the apparel industry  which makes ordinary clothes or  mass fashion    but by the 1970s the boundaries between them had blurred  fashion is best defined simply as the style or styles of clothing and accessories worn at any given time by groups of people  there may appear to be differences between the expensive designer fashions shown on the runways of paris or new york and the mass produced sportswear and street styles sold in malls and markets around the world  however  the fashion industry encompasses the design  manufacturing  distribution  marketing  retailing  advertising  and promotion of all types of apparel  men s  women s  and children s  from the most rarefied and expensive haute couture  literally   high sewing   and designer fashions to ordinary everyday clothing from couture ball gowns to casual sweatpants  sometimes the broader term  fashion industries  is used to refer to myriad industries and services that employ millions of people internationally</td>\n",
       "      <td>[fashion, industry, multibillion, dollar, global, enterprise, devoted, business, making, selling, clothes, observers, distinguish, fashion, industry, makes, high, fashion, apparel, industry, makes, ordinary, clothes, mass, fashion, 1970s, boundaries, blurred, fashion, best, defined, simply, style, styles, clothing, accessories, worn, given, time, groups, people, may, appear, differences, expensive, designer, fashions, shown, runways, paris, new, york, mass, produced, sportswear, street, styles, sold, malls, markets, around, world, however, fashion, industry, encompasses, design, manufacturing, distribution, marketing, retailing, advertising, promotion, types, apparel, men, women, children, rarefied, expensive, haute, couture, literally, high, sewing, designer, fashions, ordinary, everyday, clothing, couture, ball, gowns, casual, sweatpants, sometimes, broader, term, fashion, industries, ...]</td>\n",
       "      <td>[fashion, industry, global, business, making, clothes, fashion, industry, makes, high, fashion, apparel, industry, makes, ordinary, clothes, mass, fashion, fashion, best, defined, styles, clothing, worn, people, appear, expensive, designer, fashions, new, mass, styles, fashion, industry, apparel, expensive, couture, high, designer, fashions, ordinary, clothing, couture, broader, fashion, industries, used, industries, people]</td>\n",
       "    </tr>\n",
       "    <tr>\n",
       "      <th>14</th>\n",
       "      <td>fashion</td>\n",
       "      <td>sew_guide</td>\n",
       "      <td>What I know about “what is fashion” is simple – Fashion is how you present yourself. It is the art of expressing your sense of beauty through clothes. But it has more nuances than this simple definition suggests. Fashion is dressing in clothes that bring out the best of your body while impressing to others the excellent taste of the wearer. From a broader perspective, it is also a reflection of the society we live in, influenced by trends that are popular in mainstream culture.</td>\n",
       "      <td>what i know about  what is fashion  is simple   fashion is how you present yourself  it is the art of expressing your sense of beauty through clothes  but it has more nuances than this simple definition suggests  fashion is dressing in clothes that bring out the best of your body while impressing to others the excellent taste of the wearer  from a broader perspective  it is also a reflection of the society we live in  influenced by trends that are popular in mainstream culture</td>\n",
       "      <td>[know, fashion, simple, fashion, present, art, expressing, sense, beauty, clothes, nuances, simple, definition, suggests, fashion, dressing, clothes, bring, best, body, impressing, others, excellent, taste, wearer, broader, perspective, also, reflection, society, live, influenced, trends, popular, mainstream, culture]</td>\n",
       "      <td>[fashion, simple, fashion, art, beauty, clothes, simple, fashion, clothes, best, others, taste, broader, also, society, influenced, trends, popular, culture]</td>\n",
       "    </tr>\n",
       "  </tbody>\n",
       "</table>\n",
       "</div>"
      ],
      "text/plain": [
       "             topic            source  \\\n",
       "0     data_science               ibm   \n",
       "1     data_science               aws   \n",
       "2     data_science          built_in   \n",
       "3     data_science    great_learning   \n",
       "4     data_science          datacamp   \n",
       "5   mental_illness               apa   \n",
       "6   mental_illness              mayo   \n",
       "7   mental_illness              samh   \n",
       "8   mental_illness              NIMH   \n",
       "9   mental_illness              nami   \n",
       "10         fashion            google   \n",
       "11         fashion      lost_&_found   \n",
       "12         fashion  textile_industry   \n",
       "13         fashion        britannica   \n",
       "14         fashion         sew_guide   \n",
       "\n",
       "                                                                                                                                                                                                                                                                                                                                                                                                                                                                                                                                                                                                                                                                                                                                                                                                                                                                                                                                                                                                                                                                                                                                                                                                                      document  \\\n",
       "0                                                                                                                                                                                                                                                                                                                                                                                                                                                                                                                                                                                                                                                                                                                                                                                                                                                                                               Data science combines math and statistics, specialized programming, advanced analytics, artificial intelligence (AI), and machine learning with specific subject matter expertise to uncover actionable insights hidden in an organization’s data. These insights can be used to guide decision making and strategic planning.   \n",
       "1                                                                                                                                                                                                                                                                                                                                                                                                                                                                                                                                                                                                                                                                                                                                                                       Data science is the study of data to extract meaningful insights for business. It is a multidisciplinary approach that combines principles and practices from the fields of mathematics, statistics, artificial intelligence, and computer engineering to analyze large amounts of data. This analysis helps data scientists to ask and answer questions like what happened, why it happened, what will happen, and what can be done with the results.   \n",
       "2                                                                                                                                                                                                                                                                                                                                                                                                                                                                                                                                                                                                                                                                                                                                                                                                                                                                  Data science is a multidisciplinary field of study that applies techniques and tools to draw meaningful information and actionable insights out of noisy data. Involving subjects like mathematics, statistics, computer science and artificial intelligence, data science is used across a variety of industries for smarter planning and decision making.   \n",
       "3                                                                                                                                                                                                                                                                                                                                                                                                                                                                                                                                                                                                                                                                                                                                                                                                                                                                                                                                                                        Data Science is a combination of mathematics, statistics, machine learning, and computer science. Data Science is collecting, analyzing and interpreting data to gather insights into the data that can help decision-makers make informed decisions.   \n",
       "4                                                                                                                                                                                                                                                                                                                                                                                                                                                                                                                                                                                                                                                                                                                                                                                                                                                                                                                   Data science is an interdisciplinary field that uses scientific methods, processes, algorithms, and systems to extract knowledge and insights from structured and unstructured data. In simpler terms, data science is about obtaining, processing, and analyzing data to gain insights for many purposes.   \n",
       "5                                                                                                                                                                                                                                                                                                                                                                                                                                                                                                                                                                                                                                                                                                                                                                                                                                                                                                                                                                                    Mental illnesses are health conditions involving changes in emotion, thinking or behavior (or a combination of these). Mental illnesses can be associated with distress and/or problems functioning in social, work or family activities.   \n",
       "6                                                                                                                                                                                                                                                                                                                                                                                                                                                                                                                                                                                                                                                                                                                                                                                                                                                                                                                                 Mental illness, also called mental health disorders, refers to a wide range of mental health conditions — disorders that affect your mood, thinking and behavior. Examples of mental illness include depression, anxiety disorders, schizophrenia, eating disorders and addictive behaviors.   \n",
       "7                                                                                                                                                                                                                                                                                                                                                                                                                                                                                                                                                                                                                                                                                                                                                                                                                                                                                                                                                                                                                                    A mental illness is a disturbance of the mind that impairs the way we think, feel and behave. It affects our daily activities, as well as impact the lives of family members and friends.   \n",
       "8                                                                                                                                                                                                                                                                                                                                                                                                                                                                                                                                                                                                                                                                                                                                                                                                                                                                                                                                                                       Any mental illness (AMI) is defined as a mental, behavioral, or emotional disorder. AMI can vary in impact, ranging from no impairment to mild, moderate, and even severe impairment (e.g., individuals with serious mental illness as defined below).   \n",
       "9                                                                                                                                                                                                                                                                                                                                                                                                                                                                                                                                                                                                                                                                                                                                                                                                                                                                                                                                                                                                                                                                                 Mental illnesses are medical conditions that disrupt a person’s thinking, feeling, mood, ability to relate to others, and daily functioning.   \n",
       "10                                                                                                                                                                                                                                                                                                                                                                                                                                                                                                                                                                                                                                                                                                                                                                                                                                                                 Fashion is most often thought of as a global industry that is invested in anticipating what we wear and how we wish to appear to others. But fashion isn’t just a business. It’s also a cultural and social phenomenon, driven by the desire for the new. As such, the industry can never fully control fashion: fashion is all about being open to change.   \n",
       "11                                                                                                                                                                                                                                                                                     Once a survival tool to shelter from the cold, fashion has evolved into an expression of our personality: not only for the choice of garments but for what each garment serves ornamentally, symbolically, and socially. Since the 13th century, fashion has influenced entire populations by allowing people to display their social status through clothing, especially the upper classes’ wealth and power. Throughout the centuries, the appreciation for fashion and beauty grew stronger. The formal dress worn in courts of the 17th century demonstrates the evolution of clothing: Creating a privileged environment where the constant creation and transformation of new trends could happen. “Pue” dolls circulated in royal palaces, dressed to reflect various trends. They were real models who informed the aristocracy about the latest fashions (the ancestors of the more accessible fashion figures in newspapers).   \n",
       "12                                                                                                                                                                                                                                                                                                                                                                                                                                                                                                                                                                                                                                                                                                   Fashion refers to how people dress, as well as the styles and designs that are popular or in trend for a specific period. It is an ever-evolving art form that can reflect the lifestyle, values, attitudes, and beliefs of a society. Different society, culture, entity, history prevails in different taste in fashion. Fashion can also be seen as a form of self-expression, allowing individuals to show up their thinking and taste in lifestyle. It also reveals one’s personality through the clothes one wears.   \n",
       "13  Fashion industry, multibillion-dollar global enterprise devoted to the business of making and selling clothes. Some observers distinguish between the fashion industry (which makes “high fashion”) and the apparel industry (which makes ordinary clothes or “mass fashion”), but by the 1970s the boundaries between them had blurred. Fashion is best defined simply as the style or styles of clothing and accessories worn at any given time by groups of people. There may appear to be differences between the expensive designer fashions shown on the runways of Paris or New York and the mass-produced sportswear and street styles sold in malls and markets around the world. However, the fashion industry encompasses the design, manufacturing, distribution, marketing, retailing, advertising, and promotion of all types of apparel (men’s, women’s, and children’s) from the most rarefied and expensive haute couture (literally, “high sewing”) and designer fashions to ordinary everyday clothing—from couture ball gowns to casual sweatpants. Sometimes the broader term “fashion industries” is used to refer to myriad industries and services that employ millions of people internationally.   \n",
       "14                                                                                                                                                                                                                                                                                                                                                                                                                                                                                                                                                                                                                                                                                                                          What I know about “what is fashion” is simple – Fashion is how you present yourself. It is the art of expressing your sense of beauty through clothes. But it has more nuances than this simple definition suggests. Fashion is dressing in clothes that bring out the best of your body while impressing to others the excellent taste of the wearer. From a broader perspective, it is also a reflection of the society we live in, influenced by trends that are popular in mainstream culture.   \n",
       "\n",
       "                                                                                                                                                                                                                                                                                                                                                                                                                                                                                                                                                                                                                                                                                                                                                                                                                                                                                                                                                                                                                                                                                                                                                                                                              document_cleaned  \\\n",
       "0                                                                                                                                                                                                                                                                                                                                                                                                                                                                                                                                                                                                                                                                                                                                                                                                                                                                                               data science combines math and statistics  specialized programming  advanced analytics  artificial intelligence  ai   and machine learning with specific subject matter expertise to uncover actionable insights hidden in an organization s data  these insights can be used to guide decision making and strategic planning    \n",
       "1                                                                                                                                                                                                                                                                                                                                                                                                                                                                                                                                                                                                                                                                                                                                                                       data science is the study of data to extract meaningful insights for business  it is a multidisciplinary approach that combines principles and practices from the fields of mathematics  statistics  artificial intelligence  and computer engineering to analyze large amounts of data  this analysis helps data scientists to ask and answer questions like what happened  why it happened  what will happen  and what can be done with the results    \n",
       "2                                                                                                                                                                                                                                                                                                                                                                                                                                                                                                                                                                                                                                                                                                                                                                                                                                                                  data science is a multidisciplinary field of study that applies techniques and tools to draw meaningful information and actionable insights out of noisy data  involving subjects like mathematics  statistics  computer science and artificial intelligence  data science is used across a variety of industries for smarter planning and decision making    \n",
       "3                                                                                                                                                                                                                                                                                                                                                                                                                                                                                                                                                                                                                                                                                                                                                                                                                                                                                                                                                                        data science is a combination of mathematics  statistics  machine learning  and computer science  data science is collecting  analyzing and interpreting data to gather insights into the data that can help decision makers make informed decisions    \n",
       "4                                                                                                                                                                                                                                                                                                                                                                                                                                                                                                                                                                                                                                                                                                                                                                                                                                                                                                                   data science is an interdisciplinary field that uses scientific methods  processes  algorithms  and systems to extract knowledge and insights from structured and unstructured data  in simpler terms  data science is about obtaining  processing  and analyzing data to gain insights for many purposes    \n",
       "5                                                                                                                                                                                                                                                                                                                                                                                                                                                                                                                                                                                                                                                                                                                                                                                                                                                                                                                                                                                    mental illnesses are health conditions involving changes in emotion  thinking or behavior  or a combination of these   mental illnesses can be associated with distress and or problems functioning in social  work or family activities    \n",
       "6                                                                                                                                                                                                                                                                                                                                                                                                                                                                                                                                                                                                                                                                                                                                                                                                                                                                                                                                 mental illness  also called mental health disorders  refers to a wide range of mental health conditions   disorders that affect your mood  thinking and behavior  examples of mental illness include depression  anxiety disorders  schizophrenia  eating disorders and addictive behaviors    \n",
       "7                                                                                                                                                                                                                                                                                                                                                                                                                                                                                                                                                                                                                                                                                                                                                                                                                                                                                                                                                                                                                                    a mental illness is a disturbance of the mind that impairs the way we think  feel and behave  it affects our daily activities  as well as impact the lives of family members and friends    \n",
       "8                                                                                                                                                                                                                                                                                                                                                                                                                                                                                                                                                                                                                                                                                                                                                                                                                                                                                                                                                                       any mental illness  ami  is defined as a mental  behavioral  or emotional disorder  ami can vary in impact  ranging from no impairment to mild  moderate  and even severe impairment  e g   individuals with serious mental illness as defined below     \n",
       "9                                                                                                                                                                                                                                                                                                                                                                                                                                                                                                                                                                                                                                                                                                                                                                                                                                                                                                                                                                                                                                                                                 mental illnesses are medical conditions that disrupt a person s thinking  feeling  mood  ability to relate to others  and daily functioning    \n",
       "10                                                                                                                                                                                                                                                                                                                                                                                                                                                                                                                                                                                                                                                                                                                                                                                                                                                                 fashion is most often thought of as a global industry that is invested in anticipating what we wear and how we wish to appear to others  but fashion isn t just a business  it s also a cultural and social phenomenon  driven by the desire for the new  as such  the industry can never fully control fashion  fashion is all about being open to change    \n",
       "11                                                                                                                                                                                                                                                                                     once a survival tool to shelter from the cold  fashion has evolved into an expression of our personality  not only for the choice of garments but for what each garment serves ornamentally  symbolically  and socially  since the 13th century  fashion has influenced entire populations by allowing people to display their social status through clothing  especially the upper classes  wealth and power  throughout the centuries  the appreciation for fashion and beauty grew stronger  the formal dress worn in courts of the 17th century demonstrates the evolution of clothing  creating a privileged environment where the constant creation and transformation of new trends could happen   pue  dolls circulated in royal palaces  dressed to reflect various trends  they were real models who informed the aristocracy about the latest fashions  the ancestors of the more accessible fashion figures in newspapers     \n",
       "12                                                                                                                                                                                                                                                                                                                                                                                                                                                                                                                                                                                                                                                                                                   fashion refers to how people dress  as well as the styles and designs that are popular or in trend for a specific period  it is an ever evolving art form that can reflect the lifestyle  values  attitudes  and beliefs of a society  different society  culture  entity  history prevails in different taste in fashion  fashion can also be seen as a form of self expression  allowing individuals to show up their thinking and taste in lifestyle  it also reveals one s personality through the clothes one wears    \n",
       "13  fashion industry  multibillion dollar global enterprise devoted to the business of making and selling clothes  some observers distinguish between the fashion industry  which makes  high fashion   and the apparel industry  which makes ordinary clothes or  mass fashion    but by the 1970s the boundaries between them had blurred  fashion is best defined simply as the style or styles of clothing and accessories worn at any given time by groups of people  there may appear to be differences between the expensive designer fashions shown on the runways of paris or new york and the mass produced sportswear and street styles sold in malls and markets around the world  however  the fashion industry encompasses the design  manufacturing  distribution  marketing  retailing  advertising  and promotion of all types of apparel  men s  women s  and children s  from the most rarefied and expensive haute couture  literally   high sewing   and designer fashions to ordinary everyday clothing from couture ball gowns to casual sweatpants  sometimes the broader term  fashion industries  is used to refer to myriad industries and services that employ millions of people internationally    \n",
       "14                                                                                                                                                                                                                                                                                                                                                                                                                                                                                                                                                                                                                                                                                                                          what i know about  what is fashion  is simple   fashion is how you present yourself  it is the art of expressing your sense of beauty through clothes  but it has more nuances than this simple definition suggests  fashion is dressing in clothes that bring out the best of your body while impressing to others the excellent taste of the wearer  from a broader perspective  it is also a reflection of the society we live in  influenced by trends that are popular in mainstream culture    \n",
       "\n",
       "                                                                                                                                                                                                                                                                                                                                                                                                                                                                                                                                                                                                                                                                                                                                                                                                                                                                                                                                  token_list  \\\n",
       "0                                                                                                                                                                                                                                                                                                                                                                                                                                                                                                                                                                                                                                 [data, science, combines, math, statistics, specialized, programming, advanced, analytics, artificial, intelligence, ai, machine, learning, specific, subject, matter, expertise, uncover, actionable, insights, hidden, organization, data, insights, used, guide, decision, making, strategic, planning]   \n",
       "1                                                                                                                                                                                                                                                                                                                                                                                                                                                                                                                                                                           [data, science, study, data, extract, meaningful, insights, business, multidisciplinary, approach, combines, principles, practices, fields, mathematics, statistics, artificial, intelligence, computer, engineering, analyze, large, amounts, data, analysis, helps, data, scientists, ask, answer, questions, like, happened, happened, happen, done, results]   \n",
       "2                                                                                                                                                                                                                                                                                                                                                                                                                                                                                                                                                                                                     [data, science, multidisciplinary, field, study, applies, techniques, tools, draw, meaningful, information, actionable, insights, noisy, data, involving, subjects, like, mathematics, statistics, computer, science, artificial, intelligence, data, science, used, across, variety, industries, smarter, planning, decision, making]   \n",
       "3                                                                                                                                                                                                                                                                                                                                                                                                                                                                                                                                                                                                                                                                                                           [data, science, combination, mathematics, statistics, machine, learning, computer, science, data, science, collecting, analyzing, interpreting, data, gather, insights, data, help, decision, makers, make, informed, decisions]   \n",
       "4                                                                                                                                                                                                                                                                                                                                                                                                                                                                                                                                                                                                                                                                  [data, science, interdisciplinary, field, uses, scientific, methods, processes, algorithms, systems, extract, knowledge, insights, structured, unstructured, data, simpler, terms, data, science, obtaining, processing, analyzing, data, gain, insights, many, purposes]   \n",
       "5                                                                                                                                                                                                                                                                                                                                                                                                                                                                                                                                                                                                                                                                                                                                    [mental, illnesses, health, conditions, involving, changes, emotion, thinking, behavior, combination, mental, illnesses, associated, distress, problems, functioning, social, work, family, activities]   \n",
       "6                                                                                                                                                                                                                                                                                                                                                                                                                                                                                                                                                                                                                                                       [mental, illness, also, called, mental, health, disorders, refers, wide, range, mental, health, conditions, disorders, affect, mood, thinking, behavior, examples, mental, illness, include, depression, anxiety, disorders, schizophrenia, eating, disorders, addictive, behaviors]   \n",
       "7                                                                                                                                                                                                                                                                                                                                                                                                                                                                                                                                                                                                                                                                                                                                                                                         [mental, illness, disturbance, mind, impairs, way, think, feel, behave, affects, daily, activities, well, impact, lives, family, members, friends]   \n",
       "8                                                                                                                                                                                                                                                                                                                                                                                                                                                                                                                                                                                                                                                                                                                           [mental, illness, ami, defined, mental, behavioral, emotional, disorder, ami, vary, impact, ranging, impairment, mild, moderate, even, severe, impairment, e, g, individuals, serious, mental, illness, defined]   \n",
       "9                                                                                                                                                                                                                                                                                                                                                                                                                                                                                                                                                                                                                                                                                                                                                                                                            [mental, illnesses, medical, conditions, disrupt, person, thinking, feeling, mood, ability, relate, others, daily, functioning]   \n",
       "10                                                                                                                                                                                                                                                                                                                                                                                                                                                                                                                                                                                                                                                                                              [fashion, often, thought, global, industry, invested, anticipating, wear, wish, appear, others, fashion, business, also, cultural, social, phenomenon, driven, desire, new, industry, never, fully, control, fashion, fashion, open, change]   \n",
       "11                                                                                                                                                                        [survival, tool, shelter, cold, fashion, evolved, expression, personality, choice, garments, garment, serves, ornamentally, symbolically, socially, since, 13th, century, fashion, influenced, entire, populations, allowing, people, display, social, status, clothing, especially, upper, classes, wealth, power, throughout, centuries, appreciation, fashion, beauty, grew, stronger, formal, dress, worn, courts, 17th, century, demonstrates, evolution, clothing, creating, privileged, environment, constant, creation, transformation, new, trends, could, happen, pue, dolls, circulated, royal, palaces, dressed, reflect, various, trends, real, models, informed, aristocracy, latest, fashions, ancestors, accessible, fashion, figures, newspapers]   \n",
       "12                                                                                                                                                                                                                                                                                                                                                                                                                                                                                                              [fashion, refers, people, dress, well, styles, designs, popular, trend, specific, period, ever, evolving, art, form, reflect, lifestyle, values, attitudes, beliefs, society, different, society, culture, entity, history, prevails, different, taste, fashion, fashion, also, seen, form, self, expression, allowing, individuals, show, thinking, taste, lifestyle, also, reveals, one, personality, clothes, one, wears]   \n",
       "13  [fashion, industry, multibillion, dollar, global, enterprise, devoted, business, making, selling, clothes, observers, distinguish, fashion, industry, makes, high, fashion, apparel, industry, makes, ordinary, clothes, mass, fashion, 1970s, boundaries, blurred, fashion, best, defined, simply, style, styles, clothing, accessories, worn, given, time, groups, people, may, appear, differences, expensive, designer, fashions, shown, runways, paris, new, york, mass, produced, sportswear, street, styles, sold, malls, markets, around, world, however, fashion, industry, encompasses, design, manufacturing, distribution, marketing, retailing, advertising, promotion, types, apparel, men, women, children, rarefied, expensive, haute, couture, literally, high, sewing, designer, fashions, ordinary, everyday, clothing, couture, ball, gowns, casual, sweatpants, sometimes, broader, term, fashion, industries, ...]   \n",
       "14                                                                                                                                                                                                                                                                                                                                                                                                                                                                                                                                                                                                           [know, fashion, simple, fashion, present, art, expressing, sense, beauty, clothes, nuances, simple, definition, suggests, fashion, dressing, clothes, bring, best, body, impressing, others, excellent, taste, wearer, broader, perspective, also, reflection, society, live, influenced, trends, popular, mainstream, culture]   \n",
       "\n",
       "                                                                                                                                                                                                                                                                                                                                                                                                                                  token_list_new  \n",
       "0                                                                                                                                                                                                                                                                           [data, science, combines, statistics, artificial, intelligence, machine, learning, specific, actionable, insights, data, insights, used, decision, making, planning]  \n",
       "1                                                                                                                                                                                                                                  [data, science, study, data, extract, meaningful, insights, business, multidisciplinary, combines, mathematics, statistics, artificial, intelligence, computer, data, data, like, happened, happened, happen]  \n",
       "2                                                                                                                                                                                                   [data, science, multidisciplinary, field, study, meaningful, actionable, insights, data, involving, like, mathematics, statistics, computer, science, artificial, intelligence, data, science, used, industries, planning, decision, making]  \n",
       "3                                                                                                                                                                                                                                                                                [data, science, combination, mathematics, statistics, machine, learning, computer, science, data, science, analyzing, data, insights, data, decision, informed]  \n",
       "4                                                                                                                                                                                                                                                                                                                                                      [data, science, field, extract, insights, data, data, science, analyzing, data, insights]  \n",
       "5                                                                                                                                                                                                                                                                                                [mental, illnesses, health, conditions, involving, thinking, behavior, combination, mental, illnesses, functioning, social, family, activities]  \n",
       "6                                                                                                                                                                                                                                                                             [mental, illness, also, mental, health, disorders, refers, mental, health, conditions, disorders, mood, thinking, behavior, mental, illness, disorders, disorders]  \n",
       "7                                                                                                                                                                                                                                                                                                                                                                                     [mental, illness, daily, activities, well, impact, family]  \n",
       "8                                                                                                                                                                                                                                                                                                                            [mental, illness, ami, defined, mental, ami, impact, impairment, impairment, individuals, mental, illness, defined]  \n",
       "9                                                                                                                                                                                                                                                                                                                                                                    [mental, illnesses, conditions, thinking, mood, others, daily, functioning]  \n",
       "10                                                                                                                                                                                                                                                                                                                                 [fashion, global, industry, appear, others, fashion, business, also, social, new, industry, fashion, fashion]  \n",
       "11                                                                                                                                                                                                                      [fashion, expression, personality, century, fashion, influenced, allowing, people, social, clothing, fashion, beauty, dress, worn, century, clothing, new, trends, happen, reflect, trends, informed, fashions, fashion]  \n",
       "12                                                                                                                                                   [fashion, refers, people, dress, well, styles, popular, specific, art, form, reflect, lifestyle, society, different, society, culture, different, taste, fashion, fashion, also, form, expression, allowing, individuals, thinking, taste, lifestyle, also, one, personality, clothes, one]  \n",
       "13  [fashion, industry, global, business, making, clothes, fashion, industry, makes, high, fashion, apparel, industry, makes, ordinary, clothes, mass, fashion, fashion, best, defined, styles, clothing, worn, people, appear, expensive, designer, fashions, new, mass, styles, fashion, industry, apparel, expensive, couture, high, designer, fashions, ordinary, clothing, couture, broader, fashion, industries, used, industries, people]  \n",
       "14                                                                                                                                                                                                                                                                                 [fashion, simple, fashion, art, beauty, clothes, simple, fashion, clothes, best, others, taste, broader, also, society, influenced, trends, popular, culture]  "
      ]
     },
     "execution_count": 16,
     "metadata": {},
     "output_type": "execute_result"
    }
   ],
   "source": [
    "corpus"
   ]
  },
  {
   "cell_type": "markdown",
   "id": "52519188-d662-4d1d-8b9d-6282e0ec581c",
   "metadata": {},
   "source": [
    "<br>\n",
    "\n",
    "## **Step 8: Put unique tokens from Step 7 in dictionary**"
   ]
  },
  {
   "cell_type": "code",
   "execution_count": 17,
   "id": "a18969a7-f28d-491a-b48b-ed93e1f09783",
   "metadata": {
    "tags": []
   },
   "outputs": [],
   "source": [
    "from gensim import corpora"
   ]
  },
  {
   "cell_type": "code",
   "execution_count": 18,
   "id": "a3670c1d-c29c-46fe-b7ea-67ce1277230c",
   "metadata": {},
   "outputs": [],
   "source": [
    "dictionary_unique_tokens = corpora.Dictionary(corpus['token_list_new'])"
   ]
  },
  {
   "cell_type": "code",
   "execution_count": 19,
   "id": "a710ff60-69bc-467a-a37b-65679e510d07",
   "metadata": {},
   "outputs": [
    {
     "name": "stdout",
     "output_type": "stream",
     "text": [
      "Dictionary<94 unique tokens: ['actionable', 'artificial', 'combines', 'data', 'decision']...>\n"
     ]
    }
   ],
   "source": [
    "print(dictionary_unique_tokens)"
   ]
  },
  {
   "cell_type": "markdown",
   "id": "fa038c09-de32-4649-a3da-65ed3fb504ee",
   "metadata": {},
   "source": [
    "<br>\n",
    "\n",
    "## **Step 9: Convert documents from Step 7 to bag of words vector using dictionary in Step 8**"
   ]
  },
  {
   "cell_type": "code",
   "execution_count": 20,
   "id": "6c8ba6de-1e11-41b0-a265-2cda2ad23d4b",
   "metadata": {
    "tags": []
   },
   "outputs": [],
   "source": [
    "corpus['bag_of_words_vector'] = corpus['token_list_new'].apply(lambda x: dictionary_unique_tokens.doc2bow(x))"
   ]
  },
  {
   "cell_type": "code",
   "execution_count": 21,
   "id": "01f422c0-c4c9-48ec-9629-cb52bb7271dc",
   "metadata": {
    "tags": []
   },
   "outputs": [
    {
     "data": {
      "text/html": [
       "<div>\n",
       "<style scoped>\n",
       "    .dataframe tbody tr th:only-of-type {\n",
       "        vertical-align: middle;\n",
       "    }\n",
       "\n",
       "    .dataframe tbody tr th {\n",
       "        vertical-align: top;\n",
       "    }\n",
       "\n",
       "    .dataframe thead th {\n",
       "        text-align: right;\n",
       "    }\n",
       "</style>\n",
       "<table border=\"1\" class=\"dataframe\">\n",
       "  <thead>\n",
       "    <tr style=\"text-align: right;\">\n",
       "      <th></th>\n",
       "      <th>topic</th>\n",
       "      <th>source</th>\n",
       "      <th>document</th>\n",
       "      <th>document_cleaned</th>\n",
       "      <th>token_list</th>\n",
       "      <th>token_list_new</th>\n",
       "      <th>bag_of_words_vector</th>\n",
       "    </tr>\n",
       "  </thead>\n",
       "  <tbody>\n",
       "    <tr>\n",
       "      <th>0</th>\n",
       "      <td>data_science</td>\n",
       "      <td>ibm</td>\n",
       "      <td>Data science combines math and statistics, specialized programming, advanced analytics, artificial intelligence (AI), and machine learning with specific subject matter expertise to uncover actionable insights hidden in an organization’s data. These insights can be used to guide decision making and strategic planning.</td>\n",
       "      <td>data science combines math and statistics  specialized programming  advanced analytics  artificial intelligence  ai   and machine learning with specific subject matter expertise to uncover actionable insights hidden in an organization s data  these insights can be used to guide decision making and strategic planning</td>\n",
       "      <td>[data, science, combines, math, statistics, specialized, programming, advanced, analytics, artificial, intelligence, ai, machine, learning, specific, subject, matter, expertise, uncover, actionable, insights, hidden, organization, data, insights, used, guide, decision, making, strategic, planning]</td>\n",
       "      <td>[data, science, combines, statistics, artificial, intelligence, machine, learning, specific, actionable, insights, data, insights, used, decision, making, planning]</td>\n",
       "      <td>[(0, 1), (1, 1), (2, 1), (3, 2), (4, 1), (5, 2), (6, 1), (7, 1), (8, 1), (9, 1), (10, 1), (11, 1), (12, 1), (13, 1), (14, 1)]</td>\n",
       "    </tr>\n",
       "    <tr>\n",
       "      <th>1</th>\n",
       "      <td>data_science</td>\n",
       "      <td>aws</td>\n",
       "      <td>Data science is the study of data to extract meaningful insights for business. It is a multidisciplinary approach that combines principles and practices from the fields of mathematics, statistics, artificial intelligence, and computer engineering to analyze large amounts of data. This analysis helps data scientists to ask and answer questions like what happened, why it happened, what will happen, and what can be done with the results.</td>\n",
       "      <td>data science is the study of data to extract meaningful insights for business  it is a multidisciplinary approach that combines principles and practices from the fields of mathematics  statistics  artificial intelligence  and computer engineering to analyze large amounts of data  this analysis helps data scientists to ask and answer questions like what happened  why it happened  what will happen  and what can be done with the results</td>\n",
       "      <td>[data, science, study, data, extract, meaningful, insights, business, multidisciplinary, approach, combines, principles, practices, fields, mathematics, statistics, artificial, intelligence, computer, engineering, analyze, large, amounts, data, analysis, helps, data, scientists, ask, answer, questions, like, happened, happened, happen, done, results]</td>\n",
       "      <td>[data, science, study, data, extract, meaningful, insights, business, multidisciplinary, combines, mathematics, statistics, artificial, intelligence, computer, data, data, like, happened, happened, happen]</td>\n",
       "      <td>[(1, 1), (2, 1), (3, 4), (5, 1), (6, 1), (11, 1), (13, 1), (15, 1), (16, 1), (17, 1), (18, 1), (19, 2), (20, 1), (21, 1), (22, 1), (23, 1), (24, 1)]</td>\n",
       "    </tr>\n",
       "    <tr>\n",
       "      <th>2</th>\n",
       "      <td>data_science</td>\n",
       "      <td>built_in</td>\n",
       "      <td>Data science is a multidisciplinary field of study that applies techniques and tools to draw meaningful information and actionable insights out of noisy data. Involving subjects like mathematics, statistics, computer science and artificial intelligence, data science is used across a variety of industries for smarter planning and decision making.</td>\n",
       "      <td>data science is a multidisciplinary field of study that applies techniques and tools to draw meaningful information and actionable insights out of noisy data  involving subjects like mathematics  statistics  computer science and artificial intelligence  data science is used across a variety of industries for smarter planning and decision making</td>\n",
       "      <td>[data, science, multidisciplinary, field, study, applies, techniques, tools, draw, meaningful, information, actionable, insights, noisy, data, involving, subjects, like, mathematics, statistics, computer, science, artificial, intelligence, data, science, used, across, variety, industries, smarter, planning, decision, making]</td>\n",
       "      <td>[data, science, multidisciplinary, field, study, meaningful, actionable, insights, data, involving, like, mathematics, statistics, computer, science, artificial, intelligence, data, science, used, industries, planning, decision, making]</td>\n",
       "      <td>[(0, 1), (1, 1), (3, 3), (4, 1), (5, 1), (6, 1), (9, 1), (10, 1), (11, 3), (13, 1), (14, 1), (16, 1), (20, 1), (21, 1), (22, 1), (23, 1), (24, 1), (25, 1), (26, 1), (27, 1)]</td>\n",
       "    </tr>\n",
       "    <tr>\n",
       "      <th>3</th>\n",
       "      <td>data_science</td>\n",
       "      <td>great_learning</td>\n",
       "      <td>Data Science is a combination of mathematics, statistics, machine learning, and computer science. Data Science is collecting, analyzing and interpreting data to gather insights into the data that can help decision-makers make informed decisions.</td>\n",
       "      <td>data science is a combination of mathematics  statistics  machine learning  and computer science  data science is collecting  analyzing and interpreting data to gather insights into the data that can help decision makers make informed decisions</td>\n",
       "      <td>[data, science, combination, mathematics, statistics, machine, learning, computer, science, data, science, collecting, analyzing, interpreting, data, gather, insights, data, help, decision, makers, make, informed, decisions]</td>\n",
       "      <td>[data, science, combination, mathematics, statistics, machine, learning, computer, science, data, science, analyzing, data, insights, data, decision, informed]</td>\n",
       "      <td>[(3, 4), (4, 1), (5, 1), (7, 1), (8, 1), (11, 3), (13, 1), (16, 1), (21, 1), (28, 1), (29, 1), (30, 1)]</td>\n",
       "    </tr>\n",
       "    <tr>\n",
       "      <th>4</th>\n",
       "      <td>data_science</td>\n",
       "      <td>datacamp</td>\n",
       "      <td>Data science is an interdisciplinary field that uses scientific methods, processes, algorithms, and systems to extract knowledge and insights from structured and unstructured data. In simpler terms, data science is about obtaining, processing, and analyzing data to gain insights for many purposes.</td>\n",
       "      <td>data science is an interdisciplinary field that uses scientific methods  processes  algorithms  and systems to extract knowledge and insights from structured and unstructured data  in simpler terms  data science is about obtaining  processing  and analyzing data to gain insights for many purposes</td>\n",
       "      <td>[data, science, interdisciplinary, field, uses, scientific, methods, processes, algorithms, systems, extract, knowledge, insights, structured, unstructured, data, simpler, terms, data, science, obtaining, processing, analyzing, data, gain, insights, many, purposes]</td>\n",
       "      <td>[data, science, field, extract, insights, data, data, science, analyzing, data, insights]</td>\n",
       "      <td>[(3, 4), (5, 2), (11, 2), (17, 1), (25, 1), (28, 1)]</td>\n",
       "    </tr>\n",
       "    <tr>\n",
       "      <th>5</th>\n",
       "      <td>mental_illness</td>\n",
       "      <td>apa</td>\n",
       "      <td>Mental illnesses are health conditions involving changes in emotion, thinking or behavior (or a combination of these). Mental illnesses can be associated with distress and/or problems functioning in social, work or family activities.</td>\n",
       "      <td>mental illnesses are health conditions involving changes in emotion  thinking or behavior  or a combination of these   mental illnesses can be associated with distress and or problems functioning in social  work or family activities</td>\n",
       "      <td>[mental, illnesses, health, conditions, involving, changes, emotion, thinking, behavior, combination, mental, illnesses, associated, distress, problems, functioning, social, work, family, activities]</td>\n",
       "      <td>[mental, illnesses, health, conditions, involving, thinking, behavior, combination, mental, illnesses, functioning, social, family, activities]</td>\n",
       "      <td>[(27, 1), (29, 1), (31, 1), (32, 1), (33, 1), (34, 1), (35, 1), (36, 1), (37, 2), (38, 2), (39, 1), (40, 1)]</td>\n",
       "    </tr>\n",
       "    <tr>\n",
       "      <th>6</th>\n",
       "      <td>mental_illness</td>\n",
       "      <td>mayo</td>\n",
       "      <td>Mental illness, also called mental health disorders, refers to a wide range of mental health conditions — disorders that affect your mood, thinking and behavior. Examples of mental illness include depression, anxiety disorders, schizophrenia, eating disorders and addictive behaviors.</td>\n",
       "      <td>mental illness  also called mental health disorders  refers to a wide range of mental health conditions   disorders that affect your mood  thinking and behavior  examples of mental illness include depression  anxiety disorders  schizophrenia  eating disorders and addictive behaviors</td>\n",
       "      <td>[mental, illness, also, called, mental, health, disorders, refers, wide, range, mental, health, conditions, disorders, affect, mood, thinking, behavior, examples, mental, illness, include, depression, anxiety, disorders, schizophrenia, eating, disorders, addictive, behaviors]</td>\n",
       "      <td>[mental, illness, also, mental, health, disorders, refers, mental, health, conditions, disorders, mood, thinking, behavior, mental, illness, disorders, disorders]</td>\n",
       "      <td>[(32, 1), (33, 1), (36, 2), (38, 4), (40, 1), (41, 1), (42, 4), (43, 2), (44, 1), (45, 1)]</td>\n",
       "    </tr>\n",
       "    <tr>\n",
       "      <th>7</th>\n",
       "      <td>mental_illness</td>\n",
       "      <td>samh</td>\n",
       "      <td>A mental illness is a disturbance of the mind that impairs the way we think, feel and behave. It affects our daily activities, as well as impact the lives of family members and friends.</td>\n",
       "      <td>a mental illness is a disturbance of the mind that impairs the way we think  feel and behave  it affects our daily activities  as well as impact the lives of family members and friends</td>\n",
       "      <td>[mental, illness, disturbance, mind, impairs, way, think, feel, behave, affects, daily, activities, well, impact, lives, family, members, friends]</td>\n",
       "      <td>[mental, illness, daily, activities, well, impact, family]</td>\n",
       "      <td>[(31, 1), (34, 1), (38, 1), (43, 1), (46, 1), (47, 1), (48, 1)]</td>\n",
       "    </tr>\n",
       "    <tr>\n",
       "      <th>8</th>\n",
       "      <td>mental_illness</td>\n",
       "      <td>NIMH</td>\n",
       "      <td>Any mental illness (AMI) is defined as a mental, behavioral, or emotional disorder. AMI can vary in impact, ranging from no impairment to mild, moderate, and even severe impairment (e.g., individuals with serious mental illness as defined below).</td>\n",
       "      <td>any mental illness  ami  is defined as a mental  behavioral  or emotional disorder  ami can vary in impact  ranging from no impairment to mild  moderate  and even severe impairment  e g   individuals with serious mental illness as defined below</td>\n",
       "      <td>[mental, illness, ami, defined, mental, behavioral, emotional, disorder, ami, vary, impact, ranging, impairment, mild, moderate, even, severe, impairment, e, g, individuals, serious, mental, illness, defined]</td>\n",
       "      <td>[mental, illness, ami, defined, mental, ami, impact, impairment, impairment, individuals, mental, illness, defined]</td>\n",
       "      <td>[(38, 3), (43, 2), (47, 1), (49, 2), (50, 2), (51, 2), (52, 1)]</td>\n",
       "    </tr>\n",
       "    <tr>\n",
       "      <th>9</th>\n",
       "      <td>mental_illness</td>\n",
       "      <td>nami</td>\n",
       "      <td>Mental illnesses are medical conditions that disrupt a person’s thinking, feeling, mood, ability to relate to others, and daily functioning.</td>\n",
       "      <td>mental illnesses are medical conditions that disrupt a person s thinking  feeling  mood  ability to relate to others  and daily functioning</td>\n",
       "      <td>[mental, illnesses, medical, conditions, disrupt, person, thinking, feeling, mood, ability, relate, others, daily, functioning]</td>\n",
       "      <td>[mental, illnesses, conditions, thinking, mood, others, daily, functioning]</td>\n",
       "      <td>[(33, 1), (35, 1), (37, 1), (38, 1), (40, 1), (44, 1), (46, 1), (53, 1)]</td>\n",
       "    </tr>\n",
       "    <tr>\n",
       "      <th>10</th>\n",
       "      <td>fashion</td>\n",
       "      <td>google</td>\n",
       "      <td>Fashion is most often thought of as a global industry that is invested in anticipating what we wear and how we wish to appear to others. But fashion isn’t just a business. It’s also a cultural and social phenomenon, driven by the desire for the new. As such, the industry can never fully control fashion: fashion is all about being open to change.</td>\n",
       "      <td>fashion is most often thought of as a global industry that is invested in anticipating what we wear and how we wish to appear to others  but fashion isn t just a business  it s also a cultural and social phenomenon  driven by the desire for the new  as such  the industry can never fully control fashion  fashion is all about being open to change</td>\n",
       "      <td>[fashion, often, thought, global, industry, invested, anticipating, wear, wish, appear, others, fashion, business, also, cultural, social, phenomenon, driven, desire, new, industry, never, fully, control, fashion, fashion, open, change]</td>\n",
       "      <td>[fashion, global, industry, appear, others, fashion, business, also, social, new, industry, fashion, fashion]</td>\n",
       "      <td>[(15, 1), (39, 1), (41, 1), (53, 1), (54, 1), (55, 4), (56, 1), (57, 2), (58, 1)]</td>\n",
       "    </tr>\n",
       "    <tr>\n",
       "      <th>11</th>\n",
       "      <td>fashion</td>\n",
       "      <td>lost_&amp;_found</td>\n",
       "      <td>Once a survival tool to shelter from the cold, fashion has evolved into an expression of our personality: not only for the choice of garments but for what each garment serves ornamentally, symbolically, and socially. Since the 13th century, fashion has influenced entire populations by allowing people to display their social status through clothing, especially the upper classes’ wealth and power. Throughout the centuries, the appreciation for fashion and beauty grew stronger. The formal dress worn in courts of the 17th century demonstrates the evolution of clothing: Creating a privileged environment where the constant creation and transformation of new trends could happen. “Pue” dolls circulated in royal palaces, dressed to reflect various trends. They were real models who informed the aristocracy about the latest fashions (the ancestors of the more accessible fashion figures in newspapers).</td>\n",
       "      <td>once a survival tool to shelter from the cold  fashion has evolved into an expression of our personality  not only for the choice of garments but for what each garment serves ornamentally  symbolically  and socially  since the 13th century  fashion has influenced entire populations by allowing people to display their social status through clothing  especially the upper classes  wealth and power  throughout the centuries  the appreciation for fashion and beauty grew stronger  the formal dress worn in courts of the 17th century demonstrates the evolution of clothing  creating a privileged environment where the constant creation and transformation of new trends could happen   pue  dolls circulated in royal palaces  dressed to reflect various trends  they were real models who informed the aristocracy about the latest fashions  the ancestors of the more accessible fashion figures in newspapers</td>\n",
       "      <td>[survival, tool, shelter, cold, fashion, evolved, expression, personality, choice, garments, garment, serves, ornamentally, symbolically, socially, since, 13th, century, fashion, influenced, entire, populations, allowing, people, display, social, status, clothing, especially, upper, classes, wealth, power, throughout, centuries, appreciation, fashion, beauty, grew, stronger, formal, dress, worn, courts, 17th, century, demonstrates, evolution, clothing, creating, privileged, environment, constant, creation, transformation, new, trends, could, happen, pue, dolls, circulated, royal, palaces, dressed, reflect, various, trends, real, models, informed, aristocracy, latest, fashions, ancestors, accessible, fashion, figures, newspapers]</td>\n",
       "      <td>[fashion, expression, personality, century, fashion, influenced, allowing, people, social, clothing, fashion, beauty, dress, worn, century, clothing, new, trends, happen, reflect, trends, informed, fashions, fashion]</td>\n",
       "      <td>[(18, 1), (30, 1), (39, 1), (55, 4), (58, 1), (59, 1), (60, 1), (61, 2), (62, 2), (63, 1), (64, 1), (65, 1), (66, 1), (67, 1), (68, 1), (69, 1), (70, 2), (71, 1)]</td>\n",
       "    </tr>\n",
       "    <tr>\n",
       "      <th>12</th>\n",
       "      <td>fashion</td>\n",
       "      <td>textile_industry</td>\n",
       "      <td>Fashion refers to how people dress, as well as the styles and designs that are popular or in trend for a specific period. It is an ever-evolving art form that can reflect the lifestyle, values, attitudes, and beliefs of a society. Different society, culture, entity, history prevails in different taste in fashion. Fashion can also be seen as a form of self-expression, allowing individuals to show up their thinking and taste in lifestyle. It also reveals one’s personality through the clothes one wears.</td>\n",
       "      <td>fashion refers to how people dress  as well as the styles and designs that are popular or in trend for a specific period  it is an ever evolving art form that can reflect the lifestyle  values  attitudes  and beliefs of a society  different society  culture  entity  history prevails in different taste in fashion  fashion can also be seen as a form of self expression  allowing individuals to show up their thinking and taste in lifestyle  it also reveals one s personality through the clothes one wears</td>\n",
       "      <td>[fashion, refers, people, dress, well, styles, designs, popular, trend, specific, period, ever, evolving, art, form, reflect, lifestyle, values, attitudes, beliefs, society, different, society, culture, entity, history, prevails, different, taste, fashion, fashion, also, seen, form, self, expression, allowing, individuals, show, thinking, taste, lifestyle, also, reveals, one, personality, clothes, one, wears]</td>\n",
       "      <td>[fashion, refers, people, dress, well, styles, popular, specific, art, form, reflect, lifestyle, society, different, society, culture, different, taste, fashion, fashion, also, form, expression, allowing, individuals, thinking, taste, lifestyle, also, one, personality, clothes, one]</td>\n",
       "      <td>[(12, 1), (40, 1), (41, 2), (45, 1), (48, 1), (52, 1), (55, 3), (59, 1), (63, 1), (64, 1), (67, 1), (68, 1), (69, 1), (72, 1), (73, 1), (74, 1), (75, 2), (76, 2), (77, 2), (78, 2), (79, 1), (80, 2), (81, 1), (82, 2)]</td>\n",
       "    </tr>\n",
       "    <tr>\n",
       "      <th>13</th>\n",
       "      <td>fashion</td>\n",
       "      <td>britannica</td>\n",
       "      <td>Fashion industry, multibillion-dollar global enterprise devoted to the business of making and selling clothes. Some observers distinguish between the fashion industry (which makes “high fashion”) and the apparel industry (which makes ordinary clothes or “mass fashion”), but by the 1970s the boundaries between them had blurred. Fashion is best defined simply as the style or styles of clothing and accessories worn at any given time by groups of people. There may appear to be differences between the expensive designer fashions shown on the runways of Paris or New York and the mass-produced sportswear and street styles sold in malls and markets around the world. However, the fashion industry encompasses the design, manufacturing, distribution, marketing, retailing, advertising, and promotion of all types of apparel (men’s, women’s, and children’s) from the most rarefied and expensive haute couture (literally, “high sewing”) and designer fashions to ordinary everyday clothing—from couture ball gowns to casual sweatpants. Sometimes the broader term “fashion industries” is used to refer to myriad industries and services that employ millions of people internationally.</td>\n",
       "      <td>fashion industry  multibillion dollar global enterprise devoted to the business of making and selling clothes  some observers distinguish between the fashion industry  which makes  high fashion   and the apparel industry  which makes ordinary clothes or  mass fashion    but by the 1970s the boundaries between them had blurred  fashion is best defined simply as the style or styles of clothing and accessories worn at any given time by groups of people  there may appear to be differences between the expensive designer fashions shown on the runways of paris or new york and the mass produced sportswear and street styles sold in malls and markets around the world  however  the fashion industry encompasses the design  manufacturing  distribution  marketing  retailing  advertising  and promotion of all types of apparel  men s  women s  and children s  from the most rarefied and expensive haute couture  literally   high sewing   and designer fashions to ordinary everyday clothing from couture ball gowns to casual sweatpants  sometimes the broader term  fashion industries  is used to refer to myriad industries and services that employ millions of people internationally</td>\n",
       "      <td>[fashion, industry, multibillion, dollar, global, enterprise, devoted, business, making, selling, clothes, observers, distinguish, fashion, industry, makes, high, fashion, apparel, industry, makes, ordinary, clothes, mass, fashion, 1970s, boundaries, blurred, fashion, best, defined, simply, style, styles, clothing, accessories, worn, given, time, groups, people, may, appear, differences, expensive, designer, fashions, shown, runways, paris, new, york, mass, produced, sportswear, street, styles, sold, malls, markets, around, world, however, fashion, industry, encompasses, design, manufacturing, distribution, marketing, retailing, advertising, promotion, types, apparel, men, women, children, rarefied, expensive, haute, couture, literally, high, sewing, designer, fashions, ordinary, everyday, clothing, couture, ball, gowns, casual, sweatpants, sometimes, broader, term, fashion, industries, ...]</td>\n",
       "      <td>[fashion, industry, global, business, making, clothes, fashion, industry, makes, high, fashion, apparel, industry, makes, ordinary, clothes, mass, fashion, fashion, best, defined, styles, clothing, worn, people, appear, expensive, designer, fashions, new, mass, styles, fashion, industry, apparel, expensive, couture, high, designer, fashions, ordinary, clothing, couture, broader, fashion, industries, used, industries, people]</td>\n",
       "      <td>[(9, 1), (14, 1), (15, 1), (26, 2), (50, 1), (54, 1), (55, 7), (56, 1), (57, 4), (58, 1), (62, 2), (65, 2), (67, 2), (71, 1), (73, 2), (81, 2), (83, 2), (84, 1), (85, 1), (86, 2), (87, 2), (88, 2), (89, 2), (90, 2), (91, 2), (92, 2)]</td>\n",
       "    </tr>\n",
       "    <tr>\n",
       "      <th>14</th>\n",
       "      <td>fashion</td>\n",
       "      <td>sew_guide</td>\n",
       "      <td>What I know about “what is fashion” is simple – Fashion is how you present yourself. It is the art of expressing your sense of beauty through clothes. But it has more nuances than this simple definition suggests. Fashion is dressing in clothes that bring out the best of your body while impressing to others the excellent taste of the wearer. From a broader perspective, it is also a reflection of the society we live in, influenced by trends that are popular in mainstream culture.</td>\n",
       "      <td>what i know about  what is fashion  is simple   fashion is how you present yourself  it is the art of expressing your sense of beauty through clothes  but it has more nuances than this simple definition suggests  fashion is dressing in clothes that bring out the best of your body while impressing to others the excellent taste of the wearer  from a broader perspective  it is also a reflection of the society we live in  influenced by trends that are popular in mainstream culture</td>\n",
       "      <td>[know, fashion, simple, fashion, present, art, expressing, sense, beauty, clothes, nuances, simple, definition, suggests, fashion, dressing, clothes, bring, best, body, impressing, others, excellent, taste, wearer, broader, perspective, also, reflection, society, live, influenced, trends, popular, mainstream, culture]</td>\n",
       "      <td>[fashion, simple, fashion, art, beauty, clothes, simple, fashion, clothes, best, others, taste, broader, also, society, influenced, trends, popular, culture]</td>\n",
       "      <td>[(41, 1), (53, 1), (55, 3), (60, 1), (66, 1), (70, 1), (72, 1), (73, 2), (74, 1), (79, 1), (80, 1), (82, 1), (84, 1), (85, 1), (93, 2)]</td>\n",
       "    </tr>\n",
       "  </tbody>\n",
       "</table>\n",
       "</div>"
      ],
      "text/plain": [
       "             topic            source  \\\n",
       "0     data_science               ibm   \n",
       "1     data_science               aws   \n",
       "2     data_science          built_in   \n",
       "3     data_science    great_learning   \n",
       "4     data_science          datacamp   \n",
       "5   mental_illness               apa   \n",
       "6   mental_illness              mayo   \n",
       "7   mental_illness              samh   \n",
       "8   mental_illness              NIMH   \n",
       "9   mental_illness              nami   \n",
       "10         fashion            google   \n",
       "11         fashion      lost_&_found   \n",
       "12         fashion  textile_industry   \n",
       "13         fashion        britannica   \n",
       "14         fashion         sew_guide   \n",
       "\n",
       "                                                                                                                                                                                                                                                                                                                                                                                                                                                                                                                                                                                                                                                                                                                                                                                                                                                                                                                                                                                                                                                                                                                                                                                                                      document  \\\n",
       "0                                                                                                                                                                                                                                                                                                                                                                                                                                                                                                                                                                                                                                                                                                                                                                                                                                                                                               Data science combines math and statistics, specialized programming, advanced analytics, artificial intelligence (AI), and machine learning with specific subject matter expertise to uncover actionable insights hidden in an organization’s data. These insights can be used to guide decision making and strategic planning.   \n",
       "1                                                                                                                                                                                                                                                                                                                                                                                                                                                                                                                                                                                                                                                                                                                                                                       Data science is the study of data to extract meaningful insights for business. It is a multidisciplinary approach that combines principles and practices from the fields of mathematics, statistics, artificial intelligence, and computer engineering to analyze large amounts of data. This analysis helps data scientists to ask and answer questions like what happened, why it happened, what will happen, and what can be done with the results.   \n",
       "2                                                                                                                                                                                                                                                                                                                                                                                                                                                                                                                                                                                                                                                                                                                                                                                                                                                                  Data science is a multidisciplinary field of study that applies techniques and tools to draw meaningful information and actionable insights out of noisy data. Involving subjects like mathematics, statistics, computer science and artificial intelligence, data science is used across a variety of industries for smarter planning and decision making.   \n",
       "3                                                                                                                                                                                                                                                                                                                                                                                                                                                                                                                                                                                                                                                                                                                                                                                                                                                                                                                                                                        Data Science is a combination of mathematics, statistics, machine learning, and computer science. Data Science is collecting, analyzing and interpreting data to gather insights into the data that can help decision-makers make informed decisions.   \n",
       "4                                                                                                                                                                                                                                                                                                                                                                                                                                                                                                                                                                                                                                                                                                                                                                                                                                                                                                                   Data science is an interdisciplinary field that uses scientific methods, processes, algorithms, and systems to extract knowledge and insights from structured and unstructured data. In simpler terms, data science is about obtaining, processing, and analyzing data to gain insights for many purposes.   \n",
       "5                                                                                                                                                                                                                                                                                                                                                                                                                                                                                                                                                                                                                                                                                                                                                                                                                                                                                                                                                                                    Mental illnesses are health conditions involving changes in emotion, thinking or behavior (or a combination of these). Mental illnesses can be associated with distress and/or problems functioning in social, work or family activities.   \n",
       "6                                                                                                                                                                                                                                                                                                                                                                                                                                                                                                                                                                                                                                                                                                                                                                                                                                                                                                                                 Mental illness, also called mental health disorders, refers to a wide range of mental health conditions — disorders that affect your mood, thinking and behavior. Examples of mental illness include depression, anxiety disorders, schizophrenia, eating disorders and addictive behaviors.   \n",
       "7                                                                                                                                                                                                                                                                                                                                                                                                                                                                                                                                                                                                                                                                                                                                                                                                                                                                                                                                                                                                                                    A mental illness is a disturbance of the mind that impairs the way we think, feel and behave. It affects our daily activities, as well as impact the lives of family members and friends.   \n",
       "8                                                                                                                                                                                                                                                                                                                                                                                                                                                                                                                                                                                                                                                                                                                                                                                                                                                                                                                                                                       Any mental illness (AMI) is defined as a mental, behavioral, or emotional disorder. AMI can vary in impact, ranging from no impairment to mild, moderate, and even severe impairment (e.g., individuals with serious mental illness as defined below).   \n",
       "9                                                                                                                                                                                                                                                                                                                                                                                                                                                                                                                                                                                                                                                                                                                                                                                                                                                                                                                                                                                                                                                                                 Mental illnesses are medical conditions that disrupt a person’s thinking, feeling, mood, ability to relate to others, and daily functioning.   \n",
       "10                                                                                                                                                                                                                                                                                                                                                                                                                                                                                                                                                                                                                                                                                                                                                                                                                                                                 Fashion is most often thought of as a global industry that is invested in anticipating what we wear and how we wish to appear to others. But fashion isn’t just a business. It’s also a cultural and social phenomenon, driven by the desire for the new. As such, the industry can never fully control fashion: fashion is all about being open to change.   \n",
       "11                                                                                                                                                                                                                                                                                     Once a survival tool to shelter from the cold, fashion has evolved into an expression of our personality: not only for the choice of garments but for what each garment serves ornamentally, symbolically, and socially. Since the 13th century, fashion has influenced entire populations by allowing people to display their social status through clothing, especially the upper classes’ wealth and power. Throughout the centuries, the appreciation for fashion and beauty grew stronger. The formal dress worn in courts of the 17th century demonstrates the evolution of clothing: Creating a privileged environment where the constant creation and transformation of new trends could happen. “Pue” dolls circulated in royal palaces, dressed to reflect various trends. They were real models who informed the aristocracy about the latest fashions (the ancestors of the more accessible fashion figures in newspapers).   \n",
       "12                                                                                                                                                                                                                                                                                                                                                                                                                                                                                                                                                                                                                                                                                                   Fashion refers to how people dress, as well as the styles and designs that are popular or in trend for a specific period. It is an ever-evolving art form that can reflect the lifestyle, values, attitudes, and beliefs of a society. Different society, culture, entity, history prevails in different taste in fashion. Fashion can also be seen as a form of self-expression, allowing individuals to show up their thinking and taste in lifestyle. It also reveals one’s personality through the clothes one wears.   \n",
       "13  Fashion industry, multibillion-dollar global enterprise devoted to the business of making and selling clothes. Some observers distinguish between the fashion industry (which makes “high fashion”) and the apparel industry (which makes ordinary clothes or “mass fashion”), but by the 1970s the boundaries between them had blurred. Fashion is best defined simply as the style or styles of clothing and accessories worn at any given time by groups of people. There may appear to be differences between the expensive designer fashions shown on the runways of Paris or New York and the mass-produced sportswear and street styles sold in malls and markets around the world. However, the fashion industry encompasses the design, manufacturing, distribution, marketing, retailing, advertising, and promotion of all types of apparel (men’s, women’s, and children’s) from the most rarefied and expensive haute couture (literally, “high sewing”) and designer fashions to ordinary everyday clothing—from couture ball gowns to casual sweatpants. Sometimes the broader term “fashion industries” is used to refer to myriad industries and services that employ millions of people internationally.   \n",
       "14                                                                                                                                                                                                                                                                                                                                                                                                                                                                                                                                                                                                                                                                                                                          What I know about “what is fashion” is simple – Fashion is how you present yourself. It is the art of expressing your sense of beauty through clothes. But it has more nuances than this simple definition suggests. Fashion is dressing in clothes that bring out the best of your body while impressing to others the excellent taste of the wearer. From a broader perspective, it is also a reflection of the society we live in, influenced by trends that are popular in mainstream culture.   \n",
       "\n",
       "                                                                                                                                                                                                                                                                                                                                                                                                                                                                                                                                                                                                                                                                                                                                                                                                                                                                                                                                                                                                                                                                                                                                                                                                              document_cleaned  \\\n",
       "0                                                                                                                                                                                                                                                                                                                                                                                                                                                                                                                                                                                                                                                                                                                                                                                                                                                                                               data science combines math and statistics  specialized programming  advanced analytics  artificial intelligence  ai   and machine learning with specific subject matter expertise to uncover actionable insights hidden in an organization s data  these insights can be used to guide decision making and strategic planning    \n",
       "1                                                                                                                                                                                                                                                                                                                                                                                                                                                                                                                                                                                                                                                                                                                                                                       data science is the study of data to extract meaningful insights for business  it is a multidisciplinary approach that combines principles and practices from the fields of mathematics  statistics  artificial intelligence  and computer engineering to analyze large amounts of data  this analysis helps data scientists to ask and answer questions like what happened  why it happened  what will happen  and what can be done with the results    \n",
       "2                                                                                                                                                                                                                                                                                                                                                                                                                                                                                                                                                                                                                                                                                                                                                                                                                                                                  data science is a multidisciplinary field of study that applies techniques and tools to draw meaningful information and actionable insights out of noisy data  involving subjects like mathematics  statistics  computer science and artificial intelligence  data science is used across a variety of industries for smarter planning and decision making    \n",
       "3                                                                                                                                                                                                                                                                                                                                                                                                                                                                                                                                                                                                                                                                                                                                                                                                                                                                                                                                                                        data science is a combination of mathematics  statistics  machine learning  and computer science  data science is collecting  analyzing and interpreting data to gather insights into the data that can help decision makers make informed decisions    \n",
       "4                                                                                                                                                                                                                                                                                                                                                                                                                                                                                                                                                                                                                                                                                                                                                                                                                                                                                                                   data science is an interdisciplinary field that uses scientific methods  processes  algorithms  and systems to extract knowledge and insights from structured and unstructured data  in simpler terms  data science is about obtaining  processing  and analyzing data to gain insights for many purposes    \n",
       "5                                                                                                                                                                                                                                                                                                                                                                                                                                                                                                                                                                                                                                                                                                                                                                                                                                                                                                                                                                                    mental illnesses are health conditions involving changes in emotion  thinking or behavior  or a combination of these   mental illnesses can be associated with distress and or problems functioning in social  work or family activities    \n",
       "6                                                                                                                                                                                                                                                                                                                                                                                                                                                                                                                                                                                                                                                                                                                                                                                                                                                                                                                                 mental illness  also called mental health disorders  refers to a wide range of mental health conditions   disorders that affect your mood  thinking and behavior  examples of mental illness include depression  anxiety disorders  schizophrenia  eating disorders and addictive behaviors    \n",
       "7                                                                                                                                                                                                                                                                                                                                                                                                                                                                                                                                                                                                                                                                                                                                                                                                                                                                                                                                                                                                                                    a mental illness is a disturbance of the mind that impairs the way we think  feel and behave  it affects our daily activities  as well as impact the lives of family members and friends    \n",
       "8                                                                                                                                                                                                                                                                                                                                                                                                                                                                                                                                                                                                                                                                                                                                                                                                                                                                                                                                                                       any mental illness  ami  is defined as a mental  behavioral  or emotional disorder  ami can vary in impact  ranging from no impairment to mild  moderate  and even severe impairment  e g   individuals with serious mental illness as defined below     \n",
       "9                                                                                                                                                                                                                                                                                                                                                                                                                                                                                                                                                                                                                                                                                                                                                                                                                                                                                                                                                                                                                                                                                 mental illnesses are medical conditions that disrupt a person s thinking  feeling  mood  ability to relate to others  and daily functioning    \n",
       "10                                                                                                                                                                                                                                                                                                                                                                                                                                                                                                                                                                                                                                                                                                                                                                                                                                                                 fashion is most often thought of as a global industry that is invested in anticipating what we wear and how we wish to appear to others  but fashion isn t just a business  it s also a cultural and social phenomenon  driven by the desire for the new  as such  the industry can never fully control fashion  fashion is all about being open to change    \n",
       "11                                                                                                                                                                                                                                                                                     once a survival tool to shelter from the cold  fashion has evolved into an expression of our personality  not only for the choice of garments but for what each garment serves ornamentally  symbolically  and socially  since the 13th century  fashion has influenced entire populations by allowing people to display their social status through clothing  especially the upper classes  wealth and power  throughout the centuries  the appreciation for fashion and beauty grew stronger  the formal dress worn in courts of the 17th century demonstrates the evolution of clothing  creating a privileged environment where the constant creation and transformation of new trends could happen   pue  dolls circulated in royal palaces  dressed to reflect various trends  they were real models who informed the aristocracy about the latest fashions  the ancestors of the more accessible fashion figures in newspapers     \n",
       "12                                                                                                                                                                                                                                                                                                                                                                                                                                                                                                                                                                                                                                                                                                   fashion refers to how people dress  as well as the styles and designs that are popular or in trend for a specific period  it is an ever evolving art form that can reflect the lifestyle  values  attitudes  and beliefs of a society  different society  culture  entity  history prevails in different taste in fashion  fashion can also be seen as a form of self expression  allowing individuals to show up their thinking and taste in lifestyle  it also reveals one s personality through the clothes one wears    \n",
       "13  fashion industry  multibillion dollar global enterprise devoted to the business of making and selling clothes  some observers distinguish between the fashion industry  which makes  high fashion   and the apparel industry  which makes ordinary clothes or  mass fashion    but by the 1970s the boundaries between them had blurred  fashion is best defined simply as the style or styles of clothing and accessories worn at any given time by groups of people  there may appear to be differences between the expensive designer fashions shown on the runways of paris or new york and the mass produced sportswear and street styles sold in malls and markets around the world  however  the fashion industry encompasses the design  manufacturing  distribution  marketing  retailing  advertising  and promotion of all types of apparel  men s  women s  and children s  from the most rarefied and expensive haute couture  literally   high sewing   and designer fashions to ordinary everyday clothing from couture ball gowns to casual sweatpants  sometimes the broader term  fashion industries  is used to refer to myriad industries and services that employ millions of people internationally    \n",
       "14                                                                                                                                                                                                                                                                                                                                                                                                                                                                                                                                                                                                                                                                                                                          what i know about  what is fashion  is simple   fashion is how you present yourself  it is the art of expressing your sense of beauty through clothes  but it has more nuances than this simple definition suggests  fashion is dressing in clothes that bring out the best of your body while impressing to others the excellent taste of the wearer  from a broader perspective  it is also a reflection of the society we live in  influenced by trends that are popular in mainstream culture    \n",
       "\n",
       "                                                                                                                                                                                                                                                                                                                                                                                                                                                                                                                                                                                                                                                                                                                                                                                                                                                                                                                                  token_list  \\\n",
       "0                                                                                                                                                                                                                                                                                                                                                                                                                                                                                                                                                                                                                                 [data, science, combines, math, statistics, specialized, programming, advanced, analytics, artificial, intelligence, ai, machine, learning, specific, subject, matter, expertise, uncover, actionable, insights, hidden, organization, data, insights, used, guide, decision, making, strategic, planning]   \n",
       "1                                                                                                                                                                                                                                                                                                                                                                                                                                                                                                                                                                           [data, science, study, data, extract, meaningful, insights, business, multidisciplinary, approach, combines, principles, practices, fields, mathematics, statistics, artificial, intelligence, computer, engineering, analyze, large, amounts, data, analysis, helps, data, scientists, ask, answer, questions, like, happened, happened, happen, done, results]   \n",
       "2                                                                                                                                                                                                                                                                                                                                                                                                                                                                                                                                                                                                     [data, science, multidisciplinary, field, study, applies, techniques, tools, draw, meaningful, information, actionable, insights, noisy, data, involving, subjects, like, mathematics, statistics, computer, science, artificial, intelligence, data, science, used, across, variety, industries, smarter, planning, decision, making]   \n",
       "3                                                                                                                                                                                                                                                                                                                                                                                                                                                                                                                                                                                                                                                                                                           [data, science, combination, mathematics, statistics, machine, learning, computer, science, data, science, collecting, analyzing, interpreting, data, gather, insights, data, help, decision, makers, make, informed, decisions]   \n",
       "4                                                                                                                                                                                                                                                                                                                                                                                                                                                                                                                                                                                                                                                                  [data, science, interdisciplinary, field, uses, scientific, methods, processes, algorithms, systems, extract, knowledge, insights, structured, unstructured, data, simpler, terms, data, science, obtaining, processing, analyzing, data, gain, insights, many, purposes]   \n",
       "5                                                                                                                                                                                                                                                                                                                                                                                                                                                                                                                                                                                                                                                                                                                                    [mental, illnesses, health, conditions, involving, changes, emotion, thinking, behavior, combination, mental, illnesses, associated, distress, problems, functioning, social, work, family, activities]   \n",
       "6                                                                                                                                                                                                                                                                                                                                                                                                                                                                                                                                                                                                                                                       [mental, illness, also, called, mental, health, disorders, refers, wide, range, mental, health, conditions, disorders, affect, mood, thinking, behavior, examples, mental, illness, include, depression, anxiety, disorders, schizophrenia, eating, disorders, addictive, behaviors]   \n",
       "7                                                                                                                                                                                                                                                                                                                                                                                                                                                                                                                                                                                                                                                                                                                                                                                         [mental, illness, disturbance, mind, impairs, way, think, feel, behave, affects, daily, activities, well, impact, lives, family, members, friends]   \n",
       "8                                                                                                                                                                                                                                                                                                                                                                                                                                                                                                                                                                                                                                                                                                                           [mental, illness, ami, defined, mental, behavioral, emotional, disorder, ami, vary, impact, ranging, impairment, mild, moderate, even, severe, impairment, e, g, individuals, serious, mental, illness, defined]   \n",
       "9                                                                                                                                                                                                                                                                                                                                                                                                                                                                                                                                                                                                                                                                                                                                                                                                            [mental, illnesses, medical, conditions, disrupt, person, thinking, feeling, mood, ability, relate, others, daily, functioning]   \n",
       "10                                                                                                                                                                                                                                                                                                                                                                                                                                                                                                                                                                                                                                                                                              [fashion, often, thought, global, industry, invested, anticipating, wear, wish, appear, others, fashion, business, also, cultural, social, phenomenon, driven, desire, new, industry, never, fully, control, fashion, fashion, open, change]   \n",
       "11                                                                                                                                                                        [survival, tool, shelter, cold, fashion, evolved, expression, personality, choice, garments, garment, serves, ornamentally, symbolically, socially, since, 13th, century, fashion, influenced, entire, populations, allowing, people, display, social, status, clothing, especially, upper, classes, wealth, power, throughout, centuries, appreciation, fashion, beauty, grew, stronger, formal, dress, worn, courts, 17th, century, demonstrates, evolution, clothing, creating, privileged, environment, constant, creation, transformation, new, trends, could, happen, pue, dolls, circulated, royal, palaces, dressed, reflect, various, trends, real, models, informed, aristocracy, latest, fashions, ancestors, accessible, fashion, figures, newspapers]   \n",
       "12                                                                                                                                                                                                                                                                                                                                                                                                                                                                                                              [fashion, refers, people, dress, well, styles, designs, popular, trend, specific, period, ever, evolving, art, form, reflect, lifestyle, values, attitudes, beliefs, society, different, society, culture, entity, history, prevails, different, taste, fashion, fashion, also, seen, form, self, expression, allowing, individuals, show, thinking, taste, lifestyle, also, reveals, one, personality, clothes, one, wears]   \n",
       "13  [fashion, industry, multibillion, dollar, global, enterprise, devoted, business, making, selling, clothes, observers, distinguish, fashion, industry, makes, high, fashion, apparel, industry, makes, ordinary, clothes, mass, fashion, 1970s, boundaries, blurred, fashion, best, defined, simply, style, styles, clothing, accessories, worn, given, time, groups, people, may, appear, differences, expensive, designer, fashions, shown, runways, paris, new, york, mass, produced, sportswear, street, styles, sold, malls, markets, around, world, however, fashion, industry, encompasses, design, manufacturing, distribution, marketing, retailing, advertising, promotion, types, apparel, men, women, children, rarefied, expensive, haute, couture, literally, high, sewing, designer, fashions, ordinary, everyday, clothing, couture, ball, gowns, casual, sweatpants, sometimes, broader, term, fashion, industries, ...]   \n",
       "14                                                                                                                                                                                                                                                                                                                                                                                                                                                                                                                                                                                                           [know, fashion, simple, fashion, present, art, expressing, sense, beauty, clothes, nuances, simple, definition, suggests, fashion, dressing, clothes, bring, best, body, impressing, others, excellent, taste, wearer, broader, perspective, also, reflection, society, live, influenced, trends, popular, mainstream, culture]   \n",
       "\n",
       "                                                                                                                                                                                                                                                                                                                                                                                                                                  token_list_new  \\\n",
       "0                                                                                                                                                                                                                                                                           [data, science, combines, statistics, artificial, intelligence, machine, learning, specific, actionable, insights, data, insights, used, decision, making, planning]   \n",
       "1                                                                                                                                                                                                                                  [data, science, study, data, extract, meaningful, insights, business, multidisciplinary, combines, mathematics, statistics, artificial, intelligence, computer, data, data, like, happened, happened, happen]   \n",
       "2                                                                                                                                                                                                   [data, science, multidisciplinary, field, study, meaningful, actionable, insights, data, involving, like, mathematics, statistics, computer, science, artificial, intelligence, data, science, used, industries, planning, decision, making]   \n",
       "3                                                                                                                                                                                                                                                                                [data, science, combination, mathematics, statistics, machine, learning, computer, science, data, science, analyzing, data, insights, data, decision, informed]   \n",
       "4                                                                                                                                                                                                                                                                                                                                                      [data, science, field, extract, insights, data, data, science, analyzing, data, insights]   \n",
       "5                                                                                                                                                                                                                                                                                                [mental, illnesses, health, conditions, involving, thinking, behavior, combination, mental, illnesses, functioning, social, family, activities]   \n",
       "6                                                                                                                                                                                                                                                                             [mental, illness, also, mental, health, disorders, refers, mental, health, conditions, disorders, mood, thinking, behavior, mental, illness, disorders, disorders]   \n",
       "7                                                                                                                                                                                                                                                                                                                                                                                     [mental, illness, daily, activities, well, impact, family]   \n",
       "8                                                                                                                                                                                                                                                                                                                            [mental, illness, ami, defined, mental, ami, impact, impairment, impairment, individuals, mental, illness, defined]   \n",
       "9                                                                                                                                                                                                                                                                                                                                                                    [mental, illnesses, conditions, thinking, mood, others, daily, functioning]   \n",
       "10                                                                                                                                                                                                                                                                                                                                 [fashion, global, industry, appear, others, fashion, business, also, social, new, industry, fashion, fashion]   \n",
       "11                                                                                                                                                                                                                      [fashion, expression, personality, century, fashion, influenced, allowing, people, social, clothing, fashion, beauty, dress, worn, century, clothing, new, trends, happen, reflect, trends, informed, fashions, fashion]   \n",
       "12                                                                                                                                                   [fashion, refers, people, dress, well, styles, popular, specific, art, form, reflect, lifestyle, society, different, society, culture, different, taste, fashion, fashion, also, form, expression, allowing, individuals, thinking, taste, lifestyle, also, one, personality, clothes, one]   \n",
       "13  [fashion, industry, global, business, making, clothes, fashion, industry, makes, high, fashion, apparel, industry, makes, ordinary, clothes, mass, fashion, fashion, best, defined, styles, clothing, worn, people, appear, expensive, designer, fashions, new, mass, styles, fashion, industry, apparel, expensive, couture, high, designer, fashions, ordinary, clothing, couture, broader, fashion, industries, used, industries, people]   \n",
       "14                                                                                                                                                                                                                                                                                 [fashion, simple, fashion, art, beauty, clothes, simple, fashion, clothes, best, others, taste, broader, also, society, influenced, trends, popular, culture]   \n",
       "\n",
       "                                                                                                                                                                                                                          bag_of_words_vector  \n",
       "0                                                                                                               [(0, 1), (1, 1), (2, 1), (3, 2), (4, 1), (5, 2), (6, 1), (7, 1), (8, 1), (9, 1), (10, 1), (11, 1), (12, 1), (13, 1), (14, 1)]  \n",
       "1                                                                                        [(1, 1), (2, 1), (3, 4), (5, 1), (6, 1), (11, 1), (13, 1), (15, 1), (16, 1), (17, 1), (18, 1), (19, 2), (20, 1), (21, 1), (22, 1), (23, 1), (24, 1)]  \n",
       "2                                                               [(0, 1), (1, 1), (3, 3), (4, 1), (5, 1), (6, 1), (9, 1), (10, 1), (11, 3), (13, 1), (14, 1), (16, 1), (20, 1), (21, 1), (22, 1), (23, 1), (24, 1), (25, 1), (26, 1), (27, 1)]  \n",
       "3                                                                                                                                     [(3, 4), (4, 1), (5, 1), (7, 1), (8, 1), (11, 3), (13, 1), (16, 1), (21, 1), (28, 1), (29, 1), (30, 1)]  \n",
       "4                                                                                                                                                                                        [(3, 4), (5, 2), (11, 2), (17, 1), (25, 1), (28, 1)]  \n",
       "5                                                                                                                                [(27, 1), (29, 1), (31, 1), (32, 1), (33, 1), (34, 1), (35, 1), (36, 1), (37, 2), (38, 2), (39, 1), (40, 1)]  \n",
       "6                                                                                                                                                  [(32, 1), (33, 1), (36, 2), (38, 4), (40, 1), (41, 1), (42, 4), (43, 2), (44, 1), (45, 1)]  \n",
       "7                                                                                                                                                                             [(31, 1), (34, 1), (38, 1), (43, 1), (46, 1), (47, 1), (48, 1)]  \n",
       "8                                                                                                                                                                             [(38, 3), (43, 2), (47, 1), (49, 2), (50, 2), (51, 2), (52, 1)]  \n",
       "9                                                                                                                                                                    [(33, 1), (35, 1), (37, 1), (38, 1), (40, 1), (44, 1), (46, 1), (53, 1)]  \n",
       "10                                                                                                                                                          [(15, 1), (39, 1), (41, 1), (53, 1), (54, 1), (55, 4), (56, 1), (57, 2), (58, 1)]  \n",
       "11                                                                         [(18, 1), (30, 1), (39, 1), (55, 4), (58, 1), (59, 1), (60, 1), (61, 2), (62, 2), (63, 1), (64, 1), (65, 1), (66, 1), (67, 1), (68, 1), (69, 1), (70, 2), (71, 1)]  \n",
       "12                   [(12, 1), (40, 1), (41, 2), (45, 1), (48, 1), (52, 1), (55, 3), (59, 1), (63, 1), (64, 1), (67, 1), (68, 1), (69, 1), (72, 1), (73, 1), (74, 1), (75, 2), (76, 2), (77, 2), (78, 2), (79, 1), (80, 2), (81, 1), (82, 2)]  \n",
       "13  [(9, 1), (14, 1), (15, 1), (26, 2), (50, 1), (54, 1), (55, 7), (56, 1), (57, 4), (58, 1), (62, 2), (65, 2), (67, 2), (71, 1), (73, 2), (81, 2), (83, 2), (84, 1), (85, 1), (86, 2), (87, 2), (88, 2), (89, 2), (90, 2), (91, 2), (92, 2)]  \n",
       "14                                                                                                    [(41, 1), (53, 1), (55, 3), (60, 1), (66, 1), (70, 1), (72, 1), (73, 2), (74, 1), (79, 1), (80, 1), (82, 1), (84, 1), (85, 1), (93, 2)]  "
      ]
     },
     "execution_count": 21,
     "metadata": {},
     "output_type": "execute_result"
    }
   ],
   "source": [
    "corpus"
   ]
  },
  {
   "cell_type": "markdown",
   "id": "956ec061-bd0f-4aca-920a-2e7749c951f2",
   "metadata": {},
   "source": [
    "<br>\n",
    "\n",
    "## **Others: Get id of unique tokens**"
   ]
  },
  {
   "cell_type": "code",
   "execution_count": 22,
   "id": "26fa2893-5262-42f5-b232-b074fd2f4433",
   "metadata": {},
   "outputs": [
    {
     "name": "stdout",
     "output_type": "stream",
     "text": [
      "{'actionable': 0, 'artificial': 1, 'combines': 2, 'data': 3, 'decision': 4, 'insights': 5, 'intelligence': 6, 'learning': 7, 'machine': 8, 'making': 9, 'planning': 10, 'science': 11, 'specific': 12, 'statistics': 13, 'used': 14, 'business': 15, 'computer': 16, 'extract': 17, 'happen': 18, 'happened': 19, 'like': 20, 'mathematics': 21, 'meaningful': 22, 'multidisciplinary': 23, 'study': 24, 'field': 25, 'industries': 26, 'involving': 27, 'analyzing': 28, 'combination': 29, 'informed': 30, 'activities': 31, 'behavior': 32, 'conditions': 33, 'family': 34, 'functioning': 35, 'health': 36, 'illnesses': 37, 'mental': 38, 'social': 39, 'thinking': 40, 'also': 41, 'disorders': 42, 'illness': 43, 'mood': 44, 'refers': 45, 'daily': 46, 'impact': 47, 'well': 48, 'ami': 49, 'defined': 50, 'impairment': 51, 'individuals': 52, 'others': 53, 'appear': 54, 'fashion': 55, 'global': 56, 'industry': 57, 'new': 58, 'allowing': 59, 'beauty': 60, 'century': 61, 'clothing': 62, 'dress': 63, 'expression': 64, 'fashions': 65, 'influenced': 66, 'people': 67, 'personality': 68, 'reflect': 69, 'trends': 70, 'worn': 71, 'art': 72, 'clothes': 73, 'culture': 74, 'different': 75, 'form': 76, 'lifestyle': 77, 'one': 78, 'popular': 79, 'society': 80, 'styles': 81, 'taste': 82, 'apparel': 83, 'best': 84, 'broader': 85, 'couture': 86, 'designer': 87, 'expensive': 88, 'high': 89, 'makes': 90, 'mass': 91, 'ordinary': 92, 'simple': 93}\n"
     ]
    }
   ],
   "source": [
    "print(dictionary_unique_tokens.token2id)"
   ]
  },
  {
   "cell_type": "markdown",
   "id": "eadd2f2d-093d-4641-9839-7c3c9578630b",
   "metadata": {},
   "source": [
    "**This is the X in (X,Y) bag of words token**"
   ]
  },
  {
   "cell_type": "markdown",
   "id": "9e77dd81-3036-496c-9b20-f97ee47cc021",
   "metadata": {},
   "source": [
    "<br>\n",
    "\n",
    "## **Others: Get frequency of unique tokens**"
   ]
  },
  {
   "cell_type": "code",
   "execution_count": 23,
   "id": "261eef6f-e6b6-4002-a60c-4528c7b76c63",
   "metadata": {
    "tags": []
   },
   "outputs": [
    {
     "name": "stdout",
     "output_type": "stream",
     "text": [
      "[('13th', 1), ('17th', 1), ('1970s', 1), ('ability', 1), ('accessible', 1), ('accessories', 1), ('across', 1), ('actionable', 2), ('activities', 2), ('addictive', 1), ('advanced', 1), ('advertising', 1), ('affect', 1), ('affects', 1), ('ai', 1), ('algorithms', 1), ('allowing', 2), ('also', 5), ('ami', 2), ('amounts', 1), ('analysis', 1), ('analytics', 1), ('analyze', 1), ('analyzing', 2), ('ancestors', 1), ('answer', 1), ('anticipating', 1), ('anxiety', 1), ('apparel', 2), ('appear', 2), ('applies', 1), ('appreciation', 1), ('approach', 1), ('aristocracy', 1), ('around', 1), ('art', 2), ('artificial', 3), ('ask', 1), ('associated', 1), ('attitudes', 1), ('ball', 1), ('beauty', 2), ('behave', 1), ('behavior', 2), ('behavioral', 1), ('behaviors', 1), ('beliefs', 1), ('best', 2), ('blurred', 1), ('body', 1), ('boundaries', 1), ('bring', 1), ('broader', 2), ('business', 3), ('called', 1), ('casual', 1), ('centuries', 1), ('century', 2), ('change', 1), ('changes', 1), ('children', 1), ('choice', 1), ('circulated', 1), ('classes', 1), ('clothes', 5), ('clothing', 4), ('cold', 1), ('collecting', 1), ('combination', 2), ('combines', 2), ('computer', 3), ('conditions', 3), ('constant', 1), ('control', 1), ('could', 1), ('courts', 1), ('couture', 2), ('creating', 1), ('creation', 1), ('cultural', 1), ('culture', 2), ('daily', 2), ('data', 17), ('decision', 3), ('decisions', 1), ('defined', 3), ('definition', 1), ('demonstrates', 1), ('depression', 1), ('design', 1), ('designer', 2), ('designs', 1), ('desire', 1), ('devoted', 1), ('differences', 1), ('different', 2), ('disorder', 1), ('disorders', 4), ('display', 1), ('disrupt', 1), ('distinguish', 1), ('distress', 1), ('distribution', 1), ('disturbance', 1), ('dollar', 1), ('dolls', 1), ('done', 1), ('draw', 1), ('dress', 2), ('dressed', 1), ('dressing', 1), ('driven', 1), ('e', 1), ('eating', 1), ('emotion', 1), ('emotional', 1), ('employ', 1), ('encompasses', 1), ('engineering', 1), ('enterprise', 1), ('entire', 1), ('entity', 1), ('environment', 1), ('especially', 1), ('even', 1), ('ever', 1), ('everyday', 1), ('evolution', 1), ('evolved', 1), ('evolving', 1), ('examples', 1), ('excellent', 1), ('expensive', 2), ('expertise', 1), ('expressing', 1), ('expression', 2), ('extract', 2), ('family', 2), ('fashion', 21), ('fashions', 3), ('feel', 1), ('feeling', 1), ('field', 2), ('fields', 1), ('figures', 1), ('form', 2), ('formal', 1), ('friends', 1), ('fully', 1), ('functioning', 2), ('g', 1), ('gain', 1), ('garment', 1), ('garments', 1), ('gather', 1), ('given', 1), ('global', 2), ('gowns', 1), ('grew', 1), ('groups', 1), ('guide', 1), ('happen', 2), ('happened', 2), ('haute', 1), ('health', 3), ('help', 1), ('helps', 1), ('hidden', 1), ('high', 2), ('history', 1), ('however', 1), ('illness', 5), ('illnesses', 3), ('impact', 2), ('impairment', 2), ('impairs', 1), ('impressing', 1), ('include', 1), ('individuals', 2), ('industries', 3), ('industry', 6), ('influenced', 2), ('information', 1), ('informed', 2), ('insights', 7), ('intelligence', 3), ('interdisciplinary', 1), ('internationally', 1), ('interpreting', 1), ('invested', 1), ('involving', 2), ('know', 1), ('knowledge', 1), ('large', 1), ('latest', 1), ('learning', 2), ('lifestyle', 2), ('like', 2), ('literally', 1), ('live', 1), ('lives', 1), ('machine', 2), ('mainstream', 1), ('make', 1), ('makers', 1), ('makes', 2), ('making', 3), ('malls', 1), ('manufacturing', 1), ('many', 1), ('marketing', 1), ('markets', 1), ('mass', 2), ('math', 1), ('mathematics', 3), ('matter', 1), ('may', 1), ('meaningful', 2), ('medical', 1), ('members', 1), ('men', 1), ('mental', 11), ('methods', 1), ('mild', 1), ('millions', 1), ('mind', 1), ('models', 1), ('moderate', 1), ('mood', 2), ('multibillion', 1), ('multidisciplinary', 2), ('myriad', 1), ('never', 1), ('new', 3), ('newspapers', 1), ('noisy', 1), ('nuances', 1), ('observers', 1), ('obtaining', 1), ('often', 1), ('one', 2), ('open', 1), ('ordinary', 2), ('organization', 1), ('ornamentally', 1), ('others', 3), ('palaces', 1), ('paris', 1), ('people', 4), ('period', 1), ('person', 1), ('personality', 2), ('perspective', 1), ('phenomenon', 1), ('planning', 2), ('popular', 2), ('populations', 1), ('power', 1), ('practices', 1), ('present', 1), ('prevails', 1), ('principles', 1), ('privileged', 1), ('problems', 1), ('processes', 1), ('processing', 1), ('produced', 1), ('programming', 1), ('promotion', 1), ('pue', 1), ('purposes', 1), ('questions', 1), ('range', 1), ('ranging', 1), ('rarefied', 1), ('real', 1), ('refer', 1), ('refers', 2), ('reflect', 2), ('reflection', 1), ('relate', 1), ('results', 1), ('retailing', 1), ('reveals', 1), ('royal', 1), ('runways', 1), ('schizophrenia', 1), ('science', 10), ('scientific', 1), ('scientists', 1), ('seen', 1), ('self', 1), ('selling', 1), ('sense', 1), ('serious', 1), ('serves', 1), ('services', 1), ('severe', 1), ('sewing', 1), ('shelter', 1), ('show', 1), ('shown', 1), ('simple', 2), ('simpler', 1), ('simply', 1), ('since', 1), ('smarter', 1), ('social', 3), ('socially', 1), ('society', 3), ('sold', 1), ('sometimes', 1), ('specialized', 1), ('specific', 2), ('sportswear', 1), ('statistics', 4), ('status', 1), ('strategic', 1), ('street', 1), ('stronger', 1), ('structured', 1), ('study', 2), ('style', 1), ('styles', 3), ('subject', 1), ('subjects', 1), ('suggests', 1), ('survival', 1), ('sweatpants', 1), ('symbolically', 1), ('systems', 1), ('taste', 3), ('techniques', 1), ('term', 1), ('terms', 1), ('think', 1), ('thinking', 4), ('thought', 1), ('throughout', 1), ('time', 1), ('tool', 1), ('tools', 1), ('transformation', 1), ('trend', 1), ('trends', 3), ('types', 1), ('uncover', 1), ('unstructured', 1), ('upper', 1), ('used', 3), ('uses', 1), ('values', 1), ('variety', 1), ('various', 1), ('vary', 1), ('way', 1), ('wealth', 1), ('wear', 1), ('wearer', 1), ('wears', 1), ('well', 2), ('wide', 1), ('wish', 1), ('women', 1), ('work', 1), ('world', 1), ('worn', 2), ('york', 1)]\n"
     ]
    }
   ],
   "source": [
    "# sorted by token\n",
    "\n",
    "print(sorted(token_frequency.items()))"
   ]
  },
  {
   "cell_type": "code",
   "execution_count": 24,
   "id": "29c59c77-2a6c-4bd6-bb77-68023889184c",
   "metadata": {
    "tags": []
   },
   "outputs": [
    {
     "name": "stdout",
     "output_type": "stream",
     "text": [
      "[('math', 1), ('specialized', 1), ('programming', 1), ('advanced', 1), ('analytics', 1), ('ai', 1), ('subject', 1), ('matter', 1), ('expertise', 1), ('uncover', 1), ('hidden', 1), ('organization', 1), ('guide', 1), ('strategic', 1), ('approach', 1), ('principles', 1), ('practices', 1), ('fields', 1), ('engineering', 1), ('analyze', 1), ('large', 1), ('amounts', 1), ('analysis', 1), ('helps', 1), ('scientists', 1), ('ask', 1), ('answer', 1), ('questions', 1), ('done', 1), ('results', 1), ('applies', 1), ('techniques', 1), ('tools', 1), ('draw', 1), ('information', 1), ('noisy', 1), ('subjects', 1), ('across', 1), ('variety', 1), ('smarter', 1), ('collecting', 1), ('interpreting', 1), ('gather', 1), ('help', 1), ('makers', 1), ('make', 1), ('decisions', 1), ('interdisciplinary', 1), ('uses', 1), ('scientific', 1), ('methods', 1), ('processes', 1), ('algorithms', 1), ('systems', 1), ('knowledge', 1), ('structured', 1), ('unstructured', 1), ('simpler', 1), ('terms', 1), ('obtaining', 1), ('processing', 1), ('gain', 1), ('many', 1), ('purposes', 1), ('changes', 1), ('emotion', 1), ('associated', 1), ('distress', 1), ('problems', 1), ('work', 1), ('called', 1), ('wide', 1), ('range', 1), ('affect', 1), ('examples', 1), ('include', 1), ('depression', 1), ('anxiety', 1), ('schizophrenia', 1), ('eating', 1), ('addictive', 1), ('behaviors', 1), ('disturbance', 1), ('mind', 1), ('impairs', 1), ('way', 1), ('think', 1), ('feel', 1), ('behave', 1), ('affects', 1), ('lives', 1), ('members', 1), ('friends', 1), ('behavioral', 1), ('emotional', 1), ('disorder', 1), ('vary', 1), ('ranging', 1), ('mild', 1), ('moderate', 1), ('even', 1), ('severe', 1), ('e', 1), ('g', 1), ('serious', 1), ('medical', 1), ('disrupt', 1), ('person', 1), ('feeling', 1), ('ability', 1), ('relate', 1), ('often', 1), ('thought', 1), ('invested', 1), ('anticipating', 1), ('wear', 1), ('wish', 1), ('cultural', 1), ('phenomenon', 1), ('driven', 1), ('desire', 1), ('never', 1), ('fully', 1), ('control', 1), ('open', 1), ('change', 1), ('survival', 1), ('tool', 1), ('shelter', 1), ('cold', 1), ('evolved', 1), ('choice', 1), ('garments', 1), ('garment', 1), ('serves', 1), ('ornamentally', 1), ('symbolically', 1), ('socially', 1), ('since', 1), ('13th', 1), ('entire', 1), ('populations', 1), ('display', 1), ('status', 1), ('especially', 1), ('upper', 1), ('classes', 1), ('wealth', 1), ('power', 1), ('throughout', 1), ('centuries', 1), ('appreciation', 1), ('grew', 1), ('stronger', 1), ('formal', 1), ('courts', 1), ('17th', 1), ('demonstrates', 1), ('evolution', 1), ('creating', 1), ('privileged', 1), ('environment', 1), ('constant', 1), ('creation', 1), ('transformation', 1), ('could', 1), ('pue', 1), ('dolls', 1), ('circulated', 1), ('royal', 1), ('palaces', 1), ('dressed', 1), ('various', 1), ('real', 1), ('models', 1), ('aristocracy', 1), ('latest', 1), ('ancestors', 1), ('accessible', 1), ('figures', 1), ('newspapers', 1), ('designs', 1), ('trend', 1), ('period', 1), ('ever', 1), ('evolving', 1), ('values', 1), ('attitudes', 1), ('beliefs', 1), ('entity', 1), ('history', 1), ('prevails', 1), ('seen', 1), ('self', 1), ('show', 1), ('reveals', 1), ('wears', 1), ('multibillion', 1), ('dollar', 1), ('enterprise', 1), ('devoted', 1), ('selling', 1), ('observers', 1), ('distinguish', 1), ('1970s', 1), ('boundaries', 1), ('blurred', 1), ('simply', 1), ('style', 1), ('accessories', 1), ('given', 1), ('time', 1), ('groups', 1), ('may', 1), ('differences', 1), ('shown', 1), ('runways', 1), ('paris', 1), ('york', 1), ('produced', 1), ('sportswear', 1), ('street', 1), ('sold', 1), ('malls', 1), ('markets', 1), ('around', 1), ('world', 1), ('however', 1), ('encompasses', 1), ('design', 1), ('manufacturing', 1), ('distribution', 1), ('marketing', 1), ('retailing', 1), ('advertising', 1), ('promotion', 1), ('types', 1), ('men', 1), ('women', 1), ('children', 1), ('rarefied', 1), ('haute', 1), ('literally', 1), ('sewing', 1), ('everyday', 1), ('ball', 1), ('gowns', 1), ('casual', 1), ('sweatpants', 1), ('sometimes', 1), ('term', 1), ('refer', 1), ('myriad', 1), ('services', 1), ('employ', 1), ('millions', 1), ('internationally', 1), ('know', 1), ('present', 1), ('expressing', 1), ('sense', 1), ('nuances', 1), ('definition', 1), ('suggests', 1), ('dressing', 1), ('bring', 1), ('body', 1), ('impressing', 1), ('excellent', 1), ('wearer', 1), ('perspective', 1), ('reflection', 1), ('live', 1), ('mainstream', 1), ('combines', 2), ('machine', 2), ('learning', 2), ('specific', 2), ('actionable', 2), ('planning', 2), ('study', 2), ('extract', 2), ('meaningful', 2), ('multidisciplinary', 2), ('like', 2), ('happened', 2), ('happen', 2), ('field', 2), ('involving', 2), ('combination', 2), ('analyzing', 2), ('informed', 2), ('behavior', 2), ('functioning', 2), ('family', 2), ('activities', 2), ('refers', 2), ('mood', 2), ('daily', 2), ('well', 2), ('impact', 2), ('ami', 2), ('impairment', 2), ('individuals', 2), ('global', 2), ('appear', 2), ('expression', 2), ('personality', 2), ('century', 2), ('influenced', 2), ('allowing', 2), ('beauty', 2), ('dress', 2), ('worn', 2), ('reflect', 2), ('popular', 2), ('art', 2), ('form', 2), ('lifestyle', 2), ('different', 2), ('culture', 2), ('one', 2), ('makes', 2), ('high', 2), ('apparel', 2), ('ordinary', 2), ('mass', 2), ('best', 2), ('expensive', 2), ('designer', 2), ('couture', 2), ('broader', 2), ('simple', 2), ('artificial', 3), ('intelligence', 3), ('used', 3), ('decision', 3), ('making', 3), ('business', 3), ('mathematics', 3), ('computer', 3), ('industries', 3), ('illnesses', 3), ('health', 3), ('conditions', 3), ('social', 3), ('defined', 3), ('others', 3), ('new', 3), ('trends', 3), ('fashions', 3), ('styles', 3), ('society', 3), ('taste', 3), ('statistics', 4), ('thinking', 4), ('disorders', 4), ('people', 4), ('clothing', 4), ('illness', 5), ('also', 5), ('clothes', 5), ('industry', 6), ('insights', 7), ('science', 10), ('mental', 11), ('data', 17), ('fashion', 21)]\n"
     ]
    }
   ],
   "source": [
    "# sorted by token frequency\n",
    "\n",
    "print(sorted(token_frequency.items(), key=lambda item: item[1]))"
   ]
  },
  {
   "cell_type": "markdown",
   "id": "bc3445b7-6488-44f9-89d9-08af584a5716",
   "metadata": {},
   "source": [
    "<br>\n",
    "\n",
    "## **Step 10a: Apply Latent Sematic Indexing (LSI) - 1 topic with coherence score**"
   ]
  },
  {
   "cell_type": "code",
   "execution_count": 25,
   "id": "ba554441-c92e-4423-a797-12de94c35e08",
   "metadata": {
    "tags": []
   },
   "outputs": [],
   "source": [
    "from gensim import models"
   ]
  },
  {
   "cell_type": "code",
   "execution_count": 26,
   "id": "654c5cb5-5eff-4d74-9aa5-272ae74f9f85",
   "metadata": {},
   "outputs": [],
   "source": [
    "lsi_model = models.LsiModel(corpus=corpus['bag_of_words_vector'], id2word=dictionary_unique_tokens, num_topics=1, random_seed=42, power_iters=1000, onepass=False)"
   ]
  },
  {
   "cell_type": "code",
   "execution_count": 27,
   "id": "393b07ef-1870-4504-a6de-ec39fcaef62e",
   "metadata": {},
   "outputs": [],
   "source": [
    "import pprint"
   ]
  },
  {
   "cell_type": "code",
   "execution_count": 28,
   "id": "f3707a3e-3ea1-4c9b-8a8a-3e612fb3df8b",
   "metadata": {
    "tags": []
   },
   "outputs": [
    {
     "name": "stdout",
     "output_type": "stream",
     "text": [
      "[(0,\n",
      "  '0.730*\"fashion\" + 0.286*\"industry\" + 0.179*\"clothes\" + 0.170*\"clothing\" + '\n",
      "  '0.167*\"people\" + 0.145*\"fashions\" + 0.142*\"styles\" + 0.123*\"industries\" + '\n",
      "  '0.121*\"apparel\" + 0.121*\"expensive\"')]\n"
     ]
    }
   ],
   "source": [
    "pprint.pprint(lsi_model.print_topics())"
   ]
  },
  {
   "cell_type": "code",
   "execution_count": 29,
   "id": "5db84e15-d51e-407b-a3a3-82e26adb771a",
   "metadata": {},
   "outputs": [],
   "source": [
    "from gensim.models.coherencemodel import CoherenceModel"
   ]
  },
  {
   "cell_type": "code",
   "execution_count": 30,
   "id": "d8e75c36-9965-4a48-a951-9bd6f2d98c97",
   "metadata": {
    "tags": []
   },
   "outputs": [],
   "source": [
    "cm = CoherenceModel(model=lsi_model, corpus=corpus['bag_of_words_vector'], coherence='u_mass')\n",
    "coherence = cm.get_coherence()"
   ]
  },
  {
   "cell_type": "code",
   "execution_count": 31,
   "id": "d1a32c97-2e0a-4d2f-bf75-56ea0772c3d8",
   "metadata": {},
   "outputs": [
    {
     "name": "stdout",
     "output_type": "stream",
     "text": [
      "-2.114921301006394\n"
     ]
    }
   ],
   "source": [
    "print(coherence)"
   ]
  },
  {
   "cell_type": "markdown",
   "id": "a2a9e2c3-060b-45d1-bdba-bef5d3664d76",
   "metadata": {},
   "source": [
    "<br>\n",
    "\n",
    "## **Step 10b: Apply Latent Sematic Indexing (LSI) - 2 topics with coherence score**"
   ]
  },
  {
   "cell_type": "code",
   "execution_count": 32,
   "id": "c4574e83-d1f1-43ad-88db-92b4e3401325",
   "metadata": {
    "tags": []
   },
   "outputs": [],
   "source": [
    "lsi_model = models.LsiModel(corpus=corpus['bag_of_words_vector'], id2word=dictionary_unique_tokens, num_topics=2, random_seed=42, power_iters=1000, onepass=False)"
   ]
  },
  {
   "cell_type": "code",
   "execution_count": 33,
   "id": "fdc0c52b-3606-43cf-ac36-f40664b4082c",
   "metadata": {
    "tags": []
   },
   "outputs": [
    {
     "name": "stdout",
     "output_type": "stream",
     "text": [
      "[(0,\n",
      "  '0.730*\"fashion\" + 0.286*\"industry\" + 0.179*\"clothes\" + 0.170*\"clothing\" + '\n",
      "  '0.167*\"people\" + 0.145*\"fashions\" + 0.142*\"styles\" + 0.123*\"industries\" + '\n",
      "  '0.121*\"couture\" + 0.121*\"ordinary\"'),\n",
      " (1,\n",
      "  '0.716*\"data\" + 0.430*\"science\" + 0.275*\"insights\" + 0.167*\"statistics\" + '\n",
      "  '0.136*\"computer\" + 0.136*\"mathematics\" + 0.123*\"decision\" + '\n",
      "  '0.120*\"intelligence\" + 0.120*\"artificial\" + 0.090*\"study\"')]\n"
     ]
    }
   ],
   "source": [
    "pprint.pprint(lsi_model.print_topics())"
   ]
  },
  {
   "cell_type": "code",
   "execution_count": 34,
   "id": "059b94e0-46f1-4a0f-a739-80f3986c11b3",
   "metadata": {
    "tags": []
   },
   "outputs": [],
   "source": [
    "cm = CoherenceModel(model=lsi_model, corpus=corpus['bag_of_words_vector'], coherence='u_mass')\n",
    "coherence = cm.get_coherence()"
   ]
  },
  {
   "cell_type": "code",
   "execution_count": 35,
   "id": "91298bfc-6f6d-40d9-b6cd-0a42b5a23401",
   "metadata": {},
   "outputs": [
    {
     "name": "stdout",
     "output_type": "stream",
     "text": [
      "-2.9062764215195678\n"
     ]
    }
   ],
   "source": [
    "print(coherence)"
   ]
  },
  {
   "cell_type": "markdown",
   "id": "e669e2bc-3f66-409a-9255-dcdcbc22a80f",
   "metadata": {},
   "source": [
    "<br>\n",
    "\n",
    "## **Step 10c: Apply Latent Sematic Indexing (LSI) - 3 topics with coherence score**"
   ]
  },
  {
   "cell_type": "code",
   "execution_count": 36,
   "id": "18e97cf6-f84d-436a-a4bc-479aca4ba805",
   "metadata": {
    "tags": []
   },
   "outputs": [],
   "source": [
    "lsi_model = models.LsiModel(corpus=corpus['bag_of_words_vector'], id2word=dictionary_unique_tokens, num_topics=3, random_seed=42, power_iters=1000, onepass=False)"
   ]
  },
  {
   "cell_type": "code",
   "execution_count": 37,
   "id": "c44227e0-b7c0-4a01-aa74-52a1bc76e008",
   "metadata": {
    "tags": []
   },
   "outputs": [
    {
     "name": "stdout",
     "output_type": "stream",
     "text": [
      "[(0,\n",
      "  '0.730*\"fashion\" + 0.286*\"industry\" + 0.179*\"clothes\" + 0.170*\"clothing\" + '\n",
      "  '0.167*\"people\" + 0.145*\"fashions\" + 0.142*\"styles\" + 0.123*\"industries\" + '\n",
      "  '0.121*\"mass\" + 0.121*\"apparel\"'),\n",
      " (1,\n",
      "  '0.716*\"data\" + 0.430*\"science\" + 0.275*\"insights\" + 0.167*\"statistics\" + '\n",
      "  '0.136*\"mathematics\" + 0.136*\"computer\" + 0.123*\"decision\" + '\n",
      "  '0.120*\"intelligence\" + 0.120*\"artificial\" + 0.090*\"like\"'),\n",
      " (2,\n",
      "  '-0.670*\"mental\" + -0.389*\"disorders\" + -0.321*\"illness\" + -0.234*\"health\" + '\n",
      "  '-0.183*\"thinking\" + -0.158*\"conditions\" + -0.154*\"also\" + -0.137*\"behavior\" '\n",
      "  '+ -0.122*\"refers\" + -0.118*\"mood\"')]\n"
     ]
    }
   ],
   "source": [
    "pprint.pprint(lsi_model.print_topics())"
   ]
  },
  {
   "cell_type": "code",
   "execution_count": 38,
   "id": "dce4e251-f77a-4ce4-93c7-87b1425a86e8",
   "metadata": {
    "tags": []
   },
   "outputs": [],
   "source": [
    "cm = CoherenceModel(model=lsi_model, corpus=corpus['bag_of_words_vector'], coherence='u_mass')\n",
    "coherence = cm.get_coherence()"
   ]
  },
  {
   "cell_type": "code",
   "execution_count": 39,
   "id": "1196bcc7-50ea-432e-8779-f518fad07022",
   "metadata": {},
   "outputs": [
    {
     "name": "stdout",
     "output_type": "stream",
     "text": [
      "-2.026932779817464\n"
     ]
    }
   ],
   "source": [
    "print(coherence)"
   ]
  },
  {
   "cell_type": "markdown",
   "id": "82627ffb-dd0c-4e99-93de-87e36a8f13fd",
   "metadata": {},
   "source": [
    "**Topic 0 is clearly fashion. Topic 1 is clearly data science. Topic 2 is clearly mental illness. BOW vector is used here. In step_02a_real_bow_tfidf.ipynb, when TFIDF vector was used, the distinction between fashion and mental illness was not clear.**"
   ]
  },
  {
   "cell_type": "markdown",
   "id": "1432fb95-c9c7-4270-b5db-4102515c4e24",
   "metadata": {},
   "source": [
    "<br>\n",
    "\n",
    "## **Step 10d: Apply Latent Sematic Indexing (LSI) - 4 topics with coherence score**"
   ]
  },
  {
   "cell_type": "code",
   "execution_count": 40,
   "id": "82acb6aa-f98a-4cbc-9a67-ad3fd9e657a0",
   "metadata": {
    "tags": []
   },
   "outputs": [],
   "source": [
    "lsi_model = models.LsiModel(corpus=corpus['bag_of_words_vector'], id2word=dictionary_unique_tokens, num_topics=4, random_seed=42, power_iters=1000, onepass=False)"
   ]
  },
  {
   "cell_type": "code",
   "execution_count": 41,
   "id": "4d8bfa59-fb57-44a0-974f-236741c2bbf4",
   "metadata": {
    "tags": []
   },
   "outputs": [
    {
     "name": "stdout",
     "output_type": "stream",
     "text": [
      "[(0,\n",
      "  '0.730*\"fashion\" + 0.286*\"industry\" + 0.179*\"clothes\" + 0.170*\"clothing\" + '\n",
      "  '0.167*\"people\" + 0.145*\"fashions\" + 0.142*\"styles\" + 0.123*\"industries\" + '\n",
      "  '0.121*\"designer\" + 0.121*\"expensive\"'),\n",
      " (1,\n",
      "  '0.716*\"data\" + 0.430*\"science\" + 0.275*\"insights\" + 0.167*\"statistics\" + '\n",
      "  '0.136*\"mathematics\" + 0.136*\"computer\" + 0.123*\"decision\" + '\n",
      "  '0.120*\"intelligence\" + 0.120*\"artificial\" + 0.090*\"like\"'),\n",
      " (2,\n",
      "  '-0.670*\"mental\" + -0.389*\"disorders\" + -0.321*\"illness\" + -0.234*\"health\" + '\n",
      "  '-0.183*\"thinking\" + -0.158*\"conditions\" + -0.154*\"also\" + -0.137*\"behavior\" '\n",
      "  '+ -0.122*\"refers\" + -0.118*\"mood\"'),\n",
      " (3,\n",
      "  '-0.262*\"society\" + -0.262*\"taste\" + 0.258*\"industry\" + -0.242*\"also\" + '\n",
      "  '-0.218*\"one\" + -0.218*\"different\" + -0.218*\"form\" + -0.218*\"lifestyle\" + '\n",
      "  '0.189*\"mental\" + -0.154*\"popular\"')]\n"
     ]
    }
   ],
   "source": [
    "pprint.pprint(lsi_model.print_topics())"
   ]
  },
  {
   "cell_type": "code",
   "execution_count": 42,
   "id": "0eadc3a8-5880-417e-85b1-3a2582d27a10",
   "metadata": {
    "tags": []
   },
   "outputs": [],
   "source": [
    "cm = CoherenceModel(model=lsi_model, corpus=corpus['bag_of_words_vector'], coherence='u_mass')\n",
    "coherence = cm.get_coherence()"
   ]
  },
  {
   "cell_type": "code",
   "execution_count": 43,
   "id": "2f059a9f-dbef-4060-ad6c-db46afd6b2b6",
   "metadata": {},
   "outputs": [
    {
     "name": "stdout",
     "output_type": "stream",
     "text": [
      "-3.223805278118709\n"
     ]
    }
   ],
   "source": [
    "print(coherence)"
   ]
  },
  {
   "cell_type": "code",
   "execution_count": null,
   "id": "3b351135-9b36-4851-9616-69747012eb49",
   "metadata": {},
   "outputs": [],
   "source": []
  }
 ],
 "metadata": {
  "kernelspec": {
   "display_name": "Python 3 (ipykernel)",
   "language": "python",
   "name": "python3"
  },
  "language_info": {
   "codemirror_mode": {
    "name": "ipython",
    "version": 3
   },
   "file_extension": ".py",
   "mimetype": "text/x-python",
   "name": "python",
   "nbconvert_exporter": "python",
   "pygments_lexer": "ipython3",
   "version": "3.11.5"
  }
 },
 "nbformat": 4,
 "nbformat_minor": 5
}
