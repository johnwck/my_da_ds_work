{
 "cells": [
  {
   "cell_type": "markdown",
   "id": "eae3cbe3-c175-4762-bc29-b34759aa818e",
   "metadata": {},
   "source": [
    "## **Step 1: Read documents from csv file** "
   ]
  },
  {
   "cell_type": "code",
   "execution_count": 1,
   "id": "88852077-1d0d-4f29-8007-d968274f4c88",
   "metadata": {
    "tags": []
   },
   "outputs": [],
   "source": [
    "import pandas as pd"
   ]
  },
  {
   "cell_type": "code",
   "execution_count": 2,
   "id": "56c4e454-a825-4ec6-ae62-1b6084be7e89",
   "metadata": {},
   "outputs": [],
   "source": [
    "corpus = pd.read_csv('data1.csv', encoding='cp1252')"
   ]
  },
  {
   "cell_type": "code",
   "execution_count": 3,
   "id": "8a25c59c-a884-4085-98e1-d3d430a3cd48",
   "metadata": {
    "tags": []
   },
   "outputs": [],
   "source": [
    "pd.set_option('display.max_colwidth', None)\n",
    "pd.set_option('display.max_columns', None)"
   ]
  },
  {
   "cell_type": "code",
   "execution_count": 4,
   "id": "4eebbcbb-6fc2-461f-a3e8-b108af9ff42b",
   "metadata": {
    "tags": []
   },
   "outputs": [
    {
     "data": {
      "text/html": [
       "<div>\n",
       "<style scoped>\n",
       "    .dataframe tbody tr th:only-of-type {\n",
       "        vertical-align: middle;\n",
       "    }\n",
       "\n",
       "    .dataframe tbody tr th {\n",
       "        vertical-align: top;\n",
       "    }\n",
       "\n",
       "    .dataframe thead th {\n",
       "        text-align: right;\n",
       "    }\n",
       "</style>\n",
       "<table border=\"1\" class=\"dataframe\">\n",
       "  <thead>\n",
       "    <tr style=\"text-align: right;\">\n",
       "      <th></th>\n",
       "      <th>topic</th>\n",
       "      <th>source</th>\n",
       "      <th>document</th>\n",
       "    </tr>\n",
       "  </thead>\n",
       "  <tbody>\n",
       "    <tr>\n",
       "      <th>0</th>\n",
       "      <td>data_science</td>\n",
       "      <td>loc_1</td>\n",
       "      <td>Data Science (is) multi-disciplinary.</td>\n",
       "    </tr>\n",
       "    <tr>\n",
       "      <th>1</th>\n",
       "      <td>data_science</td>\n",
       "      <td>loc_2</td>\n",
       "      <td>Data Science has statistics.</td>\n",
       "    </tr>\n",
       "    <tr>\n",
       "      <th>2</th>\n",
       "      <td>data_science</td>\n",
       "      <td>loc_3</td>\n",
       "      <td>Python used in data science.</td>\n",
       "    </tr>\n",
       "    <tr>\n",
       "      <th>3</th>\n",
       "      <td>mental_health</td>\n",
       "      <td>loc_4</td>\n",
       "      <td>Mental Health (is) a state of the mind.</td>\n",
       "    </tr>\n",
       "    <tr>\n",
       "      <th>4</th>\n",
       "      <td>mental_health</td>\n",
       "      <td>loc_5</td>\n",
       "      <td>Mental Health includes emotional and psychological.</td>\n",
       "    </tr>\n",
       "    <tr>\n",
       "      <th>5</th>\n",
       "      <td>mental_health</td>\n",
       "      <td>loc_6</td>\n",
       "      <td>Watch out for mental health.</td>\n",
       "    </tr>\n",
       "    <tr>\n",
       "      <th>6</th>\n",
       "      <td>fashion</td>\n",
       "      <td>loc_7</td>\n",
       "      <td>Fashion can be a statement.</td>\n",
       "    </tr>\n",
       "    <tr>\n",
       "      <th>7</th>\n",
       "      <td>fashion</td>\n",
       "      <td>loc_8</td>\n",
       "      <td>Fashion involves clothes, music, etc.</td>\n",
       "    </tr>\n",
       "    <tr>\n",
       "      <th>8</th>\n",
       "      <td>fashion</td>\n",
       "      <td>loc_9</td>\n",
       "      <td>Fashion is statement through clothes and music.</td>\n",
       "    </tr>\n",
       "  </tbody>\n",
       "</table>\n",
       "</div>"
      ],
      "text/plain": [
       "           topic source                                             document\n",
       "0   data_science  loc_1                Data Science (is) multi-disciplinary.\n",
       "1   data_science  loc_2                         Data Science has statistics.\n",
       "2   data_science  loc_3                         Python used in data science.\n",
       "3  mental_health  loc_4              Mental Health (is) a state of the mind.\n",
       "4  mental_health  loc_5  Mental Health includes emotional and psychological.\n",
       "5  mental_health  loc_6                         Watch out for mental health.\n",
       "6        fashion  loc_7                          Fashion can be a statement.\n",
       "7        fashion  loc_8                Fashion involves clothes, music, etc.\n",
       "8        fashion  loc_9      Fashion is statement through clothes and music."
      ]
     },
     "execution_count": 4,
     "metadata": {},
     "output_type": "execute_result"
    }
   ],
   "source": [
    "corpus"
   ]
  },
  {
   "cell_type": "markdown",
   "id": "126838ad-7171-4697-82cc-6210cd6bd7ba",
   "metadata": {},
   "source": [
    "<br>\n",
    "\n",
    "## **Step 2: Remove non alphanumeric characters in documents**"
   ]
  },
  {
   "cell_type": "code",
   "execution_count": 5,
   "id": "939c80c0-3cdd-4ac4-a67f-eaf746153d54",
   "metadata": {
    "tags": []
   },
   "outputs": [],
   "source": [
    "corpus['document_cleaned'] = corpus['document'].replace('[^A-Za-z0-9]', ' ', regex=True)"
   ]
  },
  {
   "cell_type": "code",
   "execution_count": 6,
   "id": "8eb6d52b-f12a-4351-b42d-d8ce7cc10b75",
   "metadata": {
    "tags": []
   },
   "outputs": [
    {
     "data": {
      "text/html": [
       "<div>\n",
       "<style scoped>\n",
       "    .dataframe tbody tr th:only-of-type {\n",
       "        vertical-align: middle;\n",
       "    }\n",
       "\n",
       "    .dataframe tbody tr th {\n",
       "        vertical-align: top;\n",
       "    }\n",
       "\n",
       "    .dataframe thead th {\n",
       "        text-align: right;\n",
       "    }\n",
       "</style>\n",
       "<table border=\"1\" class=\"dataframe\">\n",
       "  <thead>\n",
       "    <tr style=\"text-align: right;\">\n",
       "      <th></th>\n",
       "      <th>topic</th>\n",
       "      <th>source</th>\n",
       "      <th>document</th>\n",
       "      <th>document_cleaned</th>\n",
       "    </tr>\n",
       "  </thead>\n",
       "  <tbody>\n",
       "    <tr>\n",
       "      <th>0</th>\n",
       "      <td>data_science</td>\n",
       "      <td>loc_1</td>\n",
       "      <td>Data Science (is) multi-disciplinary.</td>\n",
       "      <td>Data Science  is  multi disciplinary</td>\n",
       "    </tr>\n",
       "    <tr>\n",
       "      <th>1</th>\n",
       "      <td>data_science</td>\n",
       "      <td>loc_2</td>\n",
       "      <td>Data Science has statistics.</td>\n",
       "      <td>Data Science has statistics</td>\n",
       "    </tr>\n",
       "    <tr>\n",
       "      <th>2</th>\n",
       "      <td>data_science</td>\n",
       "      <td>loc_3</td>\n",
       "      <td>Python used in data science.</td>\n",
       "      <td>Python used in data science</td>\n",
       "    </tr>\n",
       "    <tr>\n",
       "      <th>3</th>\n",
       "      <td>mental_health</td>\n",
       "      <td>loc_4</td>\n",
       "      <td>Mental Health (is) a state of the mind.</td>\n",
       "      <td>Mental Health  is  a state of the mind</td>\n",
       "    </tr>\n",
       "    <tr>\n",
       "      <th>4</th>\n",
       "      <td>mental_health</td>\n",
       "      <td>loc_5</td>\n",
       "      <td>Mental Health includes emotional and psychological.</td>\n",
       "      <td>Mental Health includes emotional and psychological</td>\n",
       "    </tr>\n",
       "    <tr>\n",
       "      <th>5</th>\n",
       "      <td>mental_health</td>\n",
       "      <td>loc_6</td>\n",
       "      <td>Watch out for mental health.</td>\n",
       "      <td>Watch out for mental health</td>\n",
       "    </tr>\n",
       "    <tr>\n",
       "      <th>6</th>\n",
       "      <td>fashion</td>\n",
       "      <td>loc_7</td>\n",
       "      <td>Fashion can be a statement.</td>\n",
       "      <td>Fashion can be a statement</td>\n",
       "    </tr>\n",
       "    <tr>\n",
       "      <th>7</th>\n",
       "      <td>fashion</td>\n",
       "      <td>loc_8</td>\n",
       "      <td>Fashion involves clothes, music, etc.</td>\n",
       "      <td>Fashion involves clothes  music  etc</td>\n",
       "    </tr>\n",
       "    <tr>\n",
       "      <th>8</th>\n",
       "      <td>fashion</td>\n",
       "      <td>loc_9</td>\n",
       "      <td>Fashion is statement through clothes and music.</td>\n",
       "      <td>Fashion is statement through clothes and music</td>\n",
       "    </tr>\n",
       "  </tbody>\n",
       "</table>\n",
       "</div>"
      ],
      "text/plain": [
       "           topic source                                             document  \\\n",
       "0   data_science  loc_1                Data Science (is) multi-disciplinary.   \n",
       "1   data_science  loc_2                         Data Science has statistics.   \n",
       "2   data_science  loc_3                         Python used in data science.   \n",
       "3  mental_health  loc_4              Mental Health (is) a state of the mind.   \n",
       "4  mental_health  loc_5  Mental Health includes emotional and psychological.   \n",
       "5  mental_health  loc_6                         Watch out for mental health.   \n",
       "6        fashion  loc_7                          Fashion can be a statement.   \n",
       "7        fashion  loc_8                Fashion involves clothes, music, etc.   \n",
       "8        fashion  loc_9      Fashion is statement through clothes and music.   \n",
       "\n",
       "                                      document_cleaned  \n",
       "0                Data Science  is  multi disciplinary   \n",
       "1                         Data Science has statistics   \n",
       "2                         Python used in data science   \n",
       "3              Mental Health  is  a state of the mind   \n",
       "4  Mental Health includes emotional and psychological   \n",
       "5                         Watch out for mental health   \n",
       "6                          Fashion can be a statement   \n",
       "7                Fashion involves clothes  music  etc   \n",
       "8      Fashion is statement through clothes and music   "
      ]
     },
     "execution_count": 6,
     "metadata": {},
     "output_type": "execute_result"
    }
   ],
   "source": [
    "corpus"
   ]
  },
  {
   "cell_type": "markdown",
   "id": "0e650e16-1086-48a2-9fc7-484a0b75d870",
   "metadata": {},
   "source": [
    "<br>\n",
    "\n",
    "## **Step 3: Change characters in documents to lower case**"
   ]
  },
  {
   "cell_type": "code",
   "execution_count": 7,
   "id": "e47b7a6f-83a7-454c-a3be-3d12afff65c4",
   "metadata": {
    "tags": []
   },
   "outputs": [],
   "source": [
    "corpus['document_cleaned'] = corpus['document_cleaned'].str.lower()"
   ]
  },
  {
   "cell_type": "code",
   "execution_count": 8,
   "id": "b4fe663e-bf28-4a81-afc8-3110c9dc3b6c",
   "metadata": {
    "tags": []
   },
   "outputs": [
    {
     "data": {
      "text/html": [
       "<div>\n",
       "<style scoped>\n",
       "    .dataframe tbody tr th:only-of-type {\n",
       "        vertical-align: middle;\n",
       "    }\n",
       "\n",
       "    .dataframe tbody tr th {\n",
       "        vertical-align: top;\n",
       "    }\n",
       "\n",
       "    .dataframe thead th {\n",
       "        text-align: right;\n",
       "    }\n",
       "</style>\n",
       "<table border=\"1\" class=\"dataframe\">\n",
       "  <thead>\n",
       "    <tr style=\"text-align: right;\">\n",
       "      <th></th>\n",
       "      <th>topic</th>\n",
       "      <th>source</th>\n",
       "      <th>document</th>\n",
       "      <th>document_cleaned</th>\n",
       "    </tr>\n",
       "  </thead>\n",
       "  <tbody>\n",
       "    <tr>\n",
       "      <th>0</th>\n",
       "      <td>data_science</td>\n",
       "      <td>loc_1</td>\n",
       "      <td>Data Science (is) multi-disciplinary.</td>\n",
       "      <td>data science  is  multi disciplinary</td>\n",
       "    </tr>\n",
       "    <tr>\n",
       "      <th>1</th>\n",
       "      <td>data_science</td>\n",
       "      <td>loc_2</td>\n",
       "      <td>Data Science has statistics.</td>\n",
       "      <td>data science has statistics</td>\n",
       "    </tr>\n",
       "    <tr>\n",
       "      <th>2</th>\n",
       "      <td>data_science</td>\n",
       "      <td>loc_3</td>\n",
       "      <td>Python used in data science.</td>\n",
       "      <td>python used in data science</td>\n",
       "    </tr>\n",
       "    <tr>\n",
       "      <th>3</th>\n",
       "      <td>mental_health</td>\n",
       "      <td>loc_4</td>\n",
       "      <td>Mental Health (is) a state of the mind.</td>\n",
       "      <td>mental health  is  a state of the mind</td>\n",
       "    </tr>\n",
       "    <tr>\n",
       "      <th>4</th>\n",
       "      <td>mental_health</td>\n",
       "      <td>loc_5</td>\n",
       "      <td>Mental Health includes emotional and psychological.</td>\n",
       "      <td>mental health includes emotional and psychological</td>\n",
       "    </tr>\n",
       "    <tr>\n",
       "      <th>5</th>\n",
       "      <td>mental_health</td>\n",
       "      <td>loc_6</td>\n",
       "      <td>Watch out for mental health.</td>\n",
       "      <td>watch out for mental health</td>\n",
       "    </tr>\n",
       "    <tr>\n",
       "      <th>6</th>\n",
       "      <td>fashion</td>\n",
       "      <td>loc_7</td>\n",
       "      <td>Fashion can be a statement.</td>\n",
       "      <td>fashion can be a statement</td>\n",
       "    </tr>\n",
       "    <tr>\n",
       "      <th>7</th>\n",
       "      <td>fashion</td>\n",
       "      <td>loc_8</td>\n",
       "      <td>Fashion involves clothes, music, etc.</td>\n",
       "      <td>fashion involves clothes  music  etc</td>\n",
       "    </tr>\n",
       "    <tr>\n",
       "      <th>8</th>\n",
       "      <td>fashion</td>\n",
       "      <td>loc_9</td>\n",
       "      <td>Fashion is statement through clothes and music.</td>\n",
       "      <td>fashion is statement through clothes and music</td>\n",
       "    </tr>\n",
       "  </tbody>\n",
       "</table>\n",
       "</div>"
      ],
      "text/plain": [
       "           topic source                                             document  \\\n",
       "0   data_science  loc_1                Data Science (is) multi-disciplinary.   \n",
       "1   data_science  loc_2                         Data Science has statistics.   \n",
       "2   data_science  loc_3                         Python used in data science.   \n",
       "3  mental_health  loc_4              Mental Health (is) a state of the mind.   \n",
       "4  mental_health  loc_5  Mental Health includes emotional and psychological.   \n",
       "5  mental_health  loc_6                         Watch out for mental health.   \n",
       "6        fashion  loc_7                          Fashion can be a statement.   \n",
       "7        fashion  loc_8                Fashion involves clothes, music, etc.   \n",
       "8        fashion  loc_9      Fashion is statement through clothes and music.   \n",
       "\n",
       "                                      document_cleaned  \n",
       "0                data science  is  multi disciplinary   \n",
       "1                         data science has statistics   \n",
       "2                         python used in data science   \n",
       "3              mental health  is  a state of the mind   \n",
       "4  mental health includes emotional and psychological   \n",
       "5                         watch out for mental health   \n",
       "6                          fashion can be a statement   \n",
       "7                fashion involves clothes  music  etc   \n",
       "8      fashion is statement through clothes and music   "
      ]
     },
     "execution_count": 8,
     "metadata": {},
     "output_type": "execute_result"
    }
   ],
   "source": [
    "corpus"
   ]
  },
  {
   "cell_type": "markdown",
   "id": "a8cffc7b-f351-428e-adae-94220c8a8413",
   "metadata": {},
   "source": [
    "<br>\n",
    "\n",
    "## **Step 4: Get stopwords from NLTK**"
   ]
  },
  {
   "cell_type": "code",
   "execution_count": 9,
   "id": "3f13ff0a-4c35-40c4-bdab-2ea36373a3f8",
   "metadata": {
    "tags": []
   },
   "outputs": [],
   "source": [
    "from nltk.corpus import stopwords"
   ]
  },
  {
   "cell_type": "code",
   "execution_count": 10,
   "id": "2e2b86b2-ed41-4efe-a6b7-9cd488ff0714",
   "metadata": {},
   "outputs": [
    {
     "name": "stdout",
     "output_type": "stream",
     "text": [
      "['i', 'me', 'my', 'myself', 'we', 'our', 'ours', 'ourselves', 'you', \"you're\", \"you've\", \"you'll\", \"you'd\", 'your', 'yours', 'yourself', 'yourselves', 'he', 'him', 'his', 'himself', 'she', \"she's\", 'her', 'hers', 'herself', 'it', \"it's\", 'its', 'itself', 'they', 'them', 'their', 'theirs', 'themselves', 'what', 'which', 'who', 'whom', 'this', 'that', \"that'll\", 'these', 'those', 'am', 'is', 'are', 'was', 'were', 'be', 'been', 'being', 'have', 'has', 'had', 'having', 'do', 'does', 'did', 'doing', 'a', 'an', 'the', 'and', 'but', 'if', 'or', 'because', 'as', 'until', 'while', 'of', 'at', 'by', 'for', 'with', 'about', 'against', 'between', 'into', 'through', 'during', 'before', 'after', 'above', 'below', 'to', 'from', 'up', 'down', 'in', 'out', 'on', 'off', 'over', 'under', 'again', 'further', 'then', 'once', 'here', 'there', 'when', 'where', 'why', 'how', 'all', 'any', 'both', 'each', 'few', 'more', 'most', 'other', 'some', 'such', 'no', 'nor', 'not', 'only', 'own', 'same', 'so', 'than', 'too', 'very', 's', 't', 'can', 'will', 'just', 'don', \"don't\", 'should', \"should've\", 'now', 'd', 'll', 'm', 'o', 're', 've', 'y', 'ain', 'aren', \"aren't\", 'couldn', \"couldn't\", 'didn', \"didn't\", 'doesn', \"doesn't\", 'hadn', \"hadn't\", 'hasn', \"hasn't\", 'haven', \"haven't\", 'isn', \"isn't\", 'ma', 'mightn', \"mightn't\", 'mustn', \"mustn't\", 'needn', \"needn't\", 'shan', \"shan't\", 'shouldn', \"shouldn't\", 'wasn', \"wasn't\", 'weren', \"weren't\", 'won', \"won't\", 'wouldn', \"wouldn't\"]\n"
     ]
    }
   ],
   "source": [
    "print(stopwords.words('english'))"
   ]
  },
  {
   "cell_type": "markdown",
   "id": "3ebc6030-31b6-41ce-b92c-48451264424f",
   "metadata": {},
   "source": [
    "<br>\n",
    "\n",
    "## **Step 5: Split documents from Step 3 and Step 4 into list of tokens (words) without stopwords**"
   ]
  },
  {
   "cell_type": "code",
   "execution_count": 11,
   "id": "ac182a8b-6a52-451e-9f83-771016c9cd47",
   "metadata": {
    "tags": []
   },
   "outputs": [],
   "source": [
    "corpus['token_list'] = corpus['document_cleaned'].apply(lambda x: [word for word in x.split() if word not in stopwords.words('english')])"
   ]
  },
  {
   "cell_type": "code",
   "execution_count": 12,
   "id": "0acfdbd1-777f-4f56-b325-5c08f998070c",
   "metadata": {
    "tags": []
   },
   "outputs": [
    {
     "data": {
      "text/html": [
       "<div>\n",
       "<style scoped>\n",
       "    .dataframe tbody tr th:only-of-type {\n",
       "        vertical-align: middle;\n",
       "    }\n",
       "\n",
       "    .dataframe tbody tr th {\n",
       "        vertical-align: top;\n",
       "    }\n",
       "\n",
       "    .dataframe thead th {\n",
       "        text-align: right;\n",
       "    }\n",
       "</style>\n",
       "<table border=\"1\" class=\"dataframe\">\n",
       "  <thead>\n",
       "    <tr style=\"text-align: right;\">\n",
       "      <th></th>\n",
       "      <th>topic</th>\n",
       "      <th>source</th>\n",
       "      <th>document</th>\n",
       "      <th>document_cleaned</th>\n",
       "      <th>token_list</th>\n",
       "    </tr>\n",
       "  </thead>\n",
       "  <tbody>\n",
       "    <tr>\n",
       "      <th>0</th>\n",
       "      <td>data_science</td>\n",
       "      <td>loc_1</td>\n",
       "      <td>Data Science (is) multi-disciplinary.</td>\n",
       "      <td>data science  is  multi disciplinary</td>\n",
       "      <td>[data, science, multi, disciplinary]</td>\n",
       "    </tr>\n",
       "    <tr>\n",
       "      <th>1</th>\n",
       "      <td>data_science</td>\n",
       "      <td>loc_2</td>\n",
       "      <td>Data Science has statistics.</td>\n",
       "      <td>data science has statistics</td>\n",
       "      <td>[data, science, statistics]</td>\n",
       "    </tr>\n",
       "    <tr>\n",
       "      <th>2</th>\n",
       "      <td>data_science</td>\n",
       "      <td>loc_3</td>\n",
       "      <td>Python used in data science.</td>\n",
       "      <td>python used in data science</td>\n",
       "      <td>[python, used, data, science]</td>\n",
       "    </tr>\n",
       "    <tr>\n",
       "      <th>3</th>\n",
       "      <td>mental_health</td>\n",
       "      <td>loc_4</td>\n",
       "      <td>Mental Health (is) a state of the mind.</td>\n",
       "      <td>mental health  is  a state of the mind</td>\n",
       "      <td>[mental, health, state, mind]</td>\n",
       "    </tr>\n",
       "    <tr>\n",
       "      <th>4</th>\n",
       "      <td>mental_health</td>\n",
       "      <td>loc_5</td>\n",
       "      <td>Mental Health includes emotional and psychological.</td>\n",
       "      <td>mental health includes emotional and psychological</td>\n",
       "      <td>[mental, health, includes, emotional, psychological]</td>\n",
       "    </tr>\n",
       "    <tr>\n",
       "      <th>5</th>\n",
       "      <td>mental_health</td>\n",
       "      <td>loc_6</td>\n",
       "      <td>Watch out for mental health.</td>\n",
       "      <td>watch out for mental health</td>\n",
       "      <td>[watch, mental, health]</td>\n",
       "    </tr>\n",
       "    <tr>\n",
       "      <th>6</th>\n",
       "      <td>fashion</td>\n",
       "      <td>loc_7</td>\n",
       "      <td>Fashion can be a statement.</td>\n",
       "      <td>fashion can be a statement</td>\n",
       "      <td>[fashion, statement]</td>\n",
       "    </tr>\n",
       "    <tr>\n",
       "      <th>7</th>\n",
       "      <td>fashion</td>\n",
       "      <td>loc_8</td>\n",
       "      <td>Fashion involves clothes, music, etc.</td>\n",
       "      <td>fashion involves clothes  music  etc</td>\n",
       "      <td>[fashion, involves, clothes, music, etc]</td>\n",
       "    </tr>\n",
       "    <tr>\n",
       "      <th>8</th>\n",
       "      <td>fashion</td>\n",
       "      <td>loc_9</td>\n",
       "      <td>Fashion is statement through clothes and music.</td>\n",
       "      <td>fashion is statement through clothes and music</td>\n",
       "      <td>[fashion, statement, clothes, music]</td>\n",
       "    </tr>\n",
       "  </tbody>\n",
       "</table>\n",
       "</div>"
      ],
      "text/plain": [
       "           topic source                                             document  \\\n",
       "0   data_science  loc_1                Data Science (is) multi-disciplinary.   \n",
       "1   data_science  loc_2                         Data Science has statistics.   \n",
       "2   data_science  loc_3                         Python used in data science.   \n",
       "3  mental_health  loc_4              Mental Health (is) a state of the mind.   \n",
       "4  mental_health  loc_5  Mental Health includes emotional and psychological.   \n",
       "5  mental_health  loc_6                         Watch out for mental health.   \n",
       "6        fashion  loc_7                          Fashion can be a statement.   \n",
       "7        fashion  loc_8                Fashion involves clothes, music, etc.   \n",
       "8        fashion  loc_9      Fashion is statement through clothes and music.   \n",
       "\n",
       "                                      document_cleaned  \\\n",
       "0                data science  is  multi disciplinary    \n",
       "1                         data science has statistics    \n",
       "2                         python used in data science    \n",
       "3              mental health  is  a state of the mind    \n",
       "4  mental health includes emotional and psychological    \n",
       "5                         watch out for mental health    \n",
       "6                          fashion can be a statement    \n",
       "7                fashion involves clothes  music  etc    \n",
       "8      fashion is statement through clothes and music    \n",
       "\n",
       "                                             token_list  \n",
       "0                  [data, science, multi, disciplinary]  \n",
       "1                           [data, science, statistics]  \n",
       "2                         [python, used, data, science]  \n",
       "3                         [mental, health, state, mind]  \n",
       "4  [mental, health, includes, emotional, psychological]  \n",
       "5                               [watch, mental, health]  \n",
       "6                                  [fashion, statement]  \n",
       "7              [fashion, involves, clothes, music, etc]  \n",
       "8                  [fashion, statement, clothes, music]  "
      ]
     },
     "execution_count": 12,
     "metadata": {},
     "output_type": "execute_result"
    }
   ],
   "source": [
    "corpus"
   ]
  },
  {
   "cell_type": "markdown",
   "id": "f5482a87-3810-4bfb-8dad-c3d322fe57df",
   "metadata": {},
   "source": [
    "<br>\n",
    "\n",
    "## **Step 6: Count each and every token from Step 5**"
   ]
  },
  {
   "cell_type": "code",
   "execution_count": 13,
   "id": "31ee4c1a-53e2-403c-b7ed-15e42cff2b16",
   "metadata": {},
   "outputs": [],
   "source": [
    "from collections import defaultdict"
   ]
  },
  {
   "cell_type": "code",
   "execution_count": 14,
   "id": "24dfdcdf-c263-4561-ab7d-e37de3a7f8a4",
   "metadata": {},
   "outputs": [],
   "source": [
    "token_frequency = defaultdict(int)\n",
    "\n",
    "for each_token_list in corpus['token_list']:\n",
    "    for token in each_token_list:\n",
    "        token_frequency[token] = token_frequency[token] + 1"
   ]
  },
  {
   "cell_type": "markdown",
   "id": "52519188-d662-4d1d-8b9d-6282e0ec581c",
   "metadata": {},
   "source": [
    "<br>\n",
    "\n",
    "## **Step 7: Form list of tokens with more than count of 1 from Step 6**"
   ]
  },
  {
   "cell_type": "code",
   "execution_count": 15,
   "id": "5910e178-8c0b-47e9-8944-59337cdcd2b5",
   "metadata": {},
   "outputs": [],
   "source": [
    "corpus['token_list_new'] = corpus['token_list'].apply(lambda x: [i for i in x if token_frequency[i]>1])"
   ]
  },
  {
   "cell_type": "code",
   "execution_count": 16,
   "id": "c29ca974-56cc-4224-801e-05eab281b231",
   "metadata": {},
   "outputs": [
    {
     "data": {
      "text/html": [
       "<div>\n",
       "<style scoped>\n",
       "    .dataframe tbody tr th:only-of-type {\n",
       "        vertical-align: middle;\n",
       "    }\n",
       "\n",
       "    .dataframe tbody tr th {\n",
       "        vertical-align: top;\n",
       "    }\n",
       "\n",
       "    .dataframe thead th {\n",
       "        text-align: right;\n",
       "    }\n",
       "</style>\n",
       "<table border=\"1\" class=\"dataframe\">\n",
       "  <thead>\n",
       "    <tr style=\"text-align: right;\">\n",
       "      <th></th>\n",
       "      <th>topic</th>\n",
       "      <th>source</th>\n",
       "      <th>document</th>\n",
       "      <th>document_cleaned</th>\n",
       "      <th>token_list</th>\n",
       "      <th>token_list_new</th>\n",
       "    </tr>\n",
       "  </thead>\n",
       "  <tbody>\n",
       "    <tr>\n",
       "      <th>0</th>\n",
       "      <td>data_science</td>\n",
       "      <td>loc_1</td>\n",
       "      <td>Data Science (is) multi-disciplinary.</td>\n",
       "      <td>data science  is  multi disciplinary</td>\n",
       "      <td>[data, science, multi, disciplinary]</td>\n",
       "      <td>[data, science]</td>\n",
       "    </tr>\n",
       "    <tr>\n",
       "      <th>1</th>\n",
       "      <td>data_science</td>\n",
       "      <td>loc_2</td>\n",
       "      <td>Data Science has statistics.</td>\n",
       "      <td>data science has statistics</td>\n",
       "      <td>[data, science, statistics]</td>\n",
       "      <td>[data, science]</td>\n",
       "    </tr>\n",
       "    <tr>\n",
       "      <th>2</th>\n",
       "      <td>data_science</td>\n",
       "      <td>loc_3</td>\n",
       "      <td>Python used in data science.</td>\n",
       "      <td>python used in data science</td>\n",
       "      <td>[python, used, data, science]</td>\n",
       "      <td>[data, science]</td>\n",
       "    </tr>\n",
       "    <tr>\n",
       "      <th>3</th>\n",
       "      <td>mental_health</td>\n",
       "      <td>loc_4</td>\n",
       "      <td>Mental Health (is) a state of the mind.</td>\n",
       "      <td>mental health  is  a state of the mind</td>\n",
       "      <td>[mental, health, state, mind]</td>\n",
       "      <td>[mental, health]</td>\n",
       "    </tr>\n",
       "    <tr>\n",
       "      <th>4</th>\n",
       "      <td>mental_health</td>\n",
       "      <td>loc_5</td>\n",
       "      <td>Mental Health includes emotional and psychological.</td>\n",
       "      <td>mental health includes emotional and psychological</td>\n",
       "      <td>[mental, health, includes, emotional, psychological]</td>\n",
       "      <td>[mental, health]</td>\n",
       "    </tr>\n",
       "    <tr>\n",
       "      <th>5</th>\n",
       "      <td>mental_health</td>\n",
       "      <td>loc_6</td>\n",
       "      <td>Watch out for mental health.</td>\n",
       "      <td>watch out for mental health</td>\n",
       "      <td>[watch, mental, health]</td>\n",
       "      <td>[mental, health]</td>\n",
       "    </tr>\n",
       "    <tr>\n",
       "      <th>6</th>\n",
       "      <td>fashion</td>\n",
       "      <td>loc_7</td>\n",
       "      <td>Fashion can be a statement.</td>\n",
       "      <td>fashion can be a statement</td>\n",
       "      <td>[fashion, statement]</td>\n",
       "      <td>[fashion, statement]</td>\n",
       "    </tr>\n",
       "    <tr>\n",
       "      <th>7</th>\n",
       "      <td>fashion</td>\n",
       "      <td>loc_8</td>\n",
       "      <td>Fashion involves clothes, music, etc.</td>\n",
       "      <td>fashion involves clothes  music  etc</td>\n",
       "      <td>[fashion, involves, clothes, music, etc]</td>\n",
       "      <td>[fashion, clothes, music]</td>\n",
       "    </tr>\n",
       "    <tr>\n",
       "      <th>8</th>\n",
       "      <td>fashion</td>\n",
       "      <td>loc_9</td>\n",
       "      <td>Fashion is statement through clothes and music.</td>\n",
       "      <td>fashion is statement through clothes and music</td>\n",
       "      <td>[fashion, statement, clothes, music]</td>\n",
       "      <td>[fashion, statement, clothes, music]</td>\n",
       "    </tr>\n",
       "  </tbody>\n",
       "</table>\n",
       "</div>"
      ],
      "text/plain": [
       "           topic source                                             document  \\\n",
       "0   data_science  loc_1                Data Science (is) multi-disciplinary.   \n",
       "1   data_science  loc_2                         Data Science has statistics.   \n",
       "2   data_science  loc_3                         Python used in data science.   \n",
       "3  mental_health  loc_4              Mental Health (is) a state of the mind.   \n",
       "4  mental_health  loc_5  Mental Health includes emotional and psychological.   \n",
       "5  mental_health  loc_6                         Watch out for mental health.   \n",
       "6        fashion  loc_7                          Fashion can be a statement.   \n",
       "7        fashion  loc_8                Fashion involves clothes, music, etc.   \n",
       "8        fashion  loc_9      Fashion is statement through clothes and music.   \n",
       "\n",
       "                                      document_cleaned  \\\n",
       "0                data science  is  multi disciplinary    \n",
       "1                         data science has statistics    \n",
       "2                         python used in data science    \n",
       "3              mental health  is  a state of the mind    \n",
       "4  mental health includes emotional and psychological    \n",
       "5                         watch out for mental health    \n",
       "6                          fashion can be a statement    \n",
       "7                fashion involves clothes  music  etc    \n",
       "8      fashion is statement through clothes and music    \n",
       "\n",
       "                                             token_list  \\\n",
       "0                  [data, science, multi, disciplinary]   \n",
       "1                           [data, science, statistics]   \n",
       "2                         [python, used, data, science]   \n",
       "3                         [mental, health, state, mind]   \n",
       "4  [mental, health, includes, emotional, psychological]   \n",
       "5                               [watch, mental, health]   \n",
       "6                                  [fashion, statement]   \n",
       "7              [fashion, involves, clothes, music, etc]   \n",
       "8                  [fashion, statement, clothes, music]   \n",
       "\n",
       "                         token_list_new  \n",
       "0                       [data, science]  \n",
       "1                       [data, science]  \n",
       "2                       [data, science]  \n",
       "3                      [mental, health]  \n",
       "4                      [mental, health]  \n",
       "5                      [mental, health]  \n",
       "6                  [fashion, statement]  \n",
       "7             [fashion, clothes, music]  \n",
       "8  [fashion, statement, clothes, music]  "
      ]
     },
     "execution_count": 16,
     "metadata": {},
     "output_type": "execute_result"
    }
   ],
   "source": [
    "corpus"
   ]
  },
  {
   "cell_type": "markdown",
   "id": "89b0f8c7-63ab-42fa-9313-1bf8def96404",
   "metadata": {},
   "source": [
    "<br>\n",
    "\n",
    "## **Step 8: Put unique tokens from Step 7 in dictionary**"
   ]
  },
  {
   "cell_type": "code",
   "execution_count": 17,
   "id": "a18969a7-f28d-491a-b48b-ed93e1f09783",
   "metadata": {
    "tags": []
   },
   "outputs": [],
   "source": [
    "from gensim import corpora"
   ]
  },
  {
   "cell_type": "code",
   "execution_count": 18,
   "id": "a3670c1d-c29c-46fe-b7ea-67ce1277230c",
   "metadata": {},
   "outputs": [],
   "source": [
    "dictionary_unique_tokens = corpora.Dictionary(corpus['token_list_new'])"
   ]
  },
  {
   "cell_type": "code",
   "execution_count": 19,
   "id": "a710ff60-69bc-467a-a37b-65679e510d07",
   "metadata": {},
   "outputs": [
    {
     "name": "stdout",
     "output_type": "stream",
     "text": [
      "Dictionary<8 unique tokens: ['data', 'science', 'health', 'mental', 'fashion']...>\n"
     ]
    }
   ],
   "source": [
    "print(dictionary_unique_tokens)"
   ]
  },
  {
   "cell_type": "markdown",
   "id": "fa038c09-de32-4649-a3da-65ed3fb504ee",
   "metadata": {},
   "source": [
    "<br>\n",
    "\n",
    "## **Step 9: Convert documents from Step 7 to bag of words vector using dictionary in Step 8**"
   ]
  },
  {
   "cell_type": "code",
   "execution_count": 20,
   "id": "6c8ba6de-1e11-41b0-a265-2cda2ad23d4b",
   "metadata": {
    "tags": []
   },
   "outputs": [],
   "source": [
    "corpus['bag_of_words_vector'] = corpus['token_list_new'].apply(lambda x: dictionary_unique_tokens.doc2bow(x))"
   ]
  },
  {
   "cell_type": "code",
   "execution_count": 21,
   "id": "01f422c0-c4c9-48ec-9629-cb52bb7271dc",
   "metadata": {
    "tags": []
   },
   "outputs": [
    {
     "data": {
      "text/html": [
       "<div>\n",
       "<style scoped>\n",
       "    .dataframe tbody tr th:only-of-type {\n",
       "        vertical-align: middle;\n",
       "    }\n",
       "\n",
       "    .dataframe tbody tr th {\n",
       "        vertical-align: top;\n",
       "    }\n",
       "\n",
       "    .dataframe thead th {\n",
       "        text-align: right;\n",
       "    }\n",
       "</style>\n",
       "<table border=\"1\" class=\"dataframe\">\n",
       "  <thead>\n",
       "    <tr style=\"text-align: right;\">\n",
       "      <th></th>\n",
       "      <th>topic</th>\n",
       "      <th>source</th>\n",
       "      <th>document</th>\n",
       "      <th>document_cleaned</th>\n",
       "      <th>token_list</th>\n",
       "      <th>token_list_new</th>\n",
       "      <th>bag_of_words_vector</th>\n",
       "    </tr>\n",
       "  </thead>\n",
       "  <tbody>\n",
       "    <tr>\n",
       "      <th>0</th>\n",
       "      <td>data_science</td>\n",
       "      <td>loc_1</td>\n",
       "      <td>Data Science (is) multi-disciplinary.</td>\n",
       "      <td>data science  is  multi disciplinary</td>\n",
       "      <td>[data, science, multi, disciplinary]</td>\n",
       "      <td>[data, science]</td>\n",
       "      <td>[(0, 1), (1, 1)]</td>\n",
       "    </tr>\n",
       "    <tr>\n",
       "      <th>1</th>\n",
       "      <td>data_science</td>\n",
       "      <td>loc_2</td>\n",
       "      <td>Data Science has statistics.</td>\n",
       "      <td>data science has statistics</td>\n",
       "      <td>[data, science, statistics]</td>\n",
       "      <td>[data, science]</td>\n",
       "      <td>[(0, 1), (1, 1)]</td>\n",
       "    </tr>\n",
       "    <tr>\n",
       "      <th>2</th>\n",
       "      <td>data_science</td>\n",
       "      <td>loc_3</td>\n",
       "      <td>Python used in data science.</td>\n",
       "      <td>python used in data science</td>\n",
       "      <td>[python, used, data, science]</td>\n",
       "      <td>[data, science]</td>\n",
       "      <td>[(0, 1), (1, 1)]</td>\n",
       "    </tr>\n",
       "    <tr>\n",
       "      <th>3</th>\n",
       "      <td>mental_health</td>\n",
       "      <td>loc_4</td>\n",
       "      <td>Mental Health (is) a state of the mind.</td>\n",
       "      <td>mental health  is  a state of the mind</td>\n",
       "      <td>[mental, health, state, mind]</td>\n",
       "      <td>[mental, health]</td>\n",
       "      <td>[(2, 1), (3, 1)]</td>\n",
       "    </tr>\n",
       "    <tr>\n",
       "      <th>4</th>\n",
       "      <td>mental_health</td>\n",
       "      <td>loc_5</td>\n",
       "      <td>Mental Health includes emotional and psychological.</td>\n",
       "      <td>mental health includes emotional and psychological</td>\n",
       "      <td>[mental, health, includes, emotional, psychological]</td>\n",
       "      <td>[mental, health]</td>\n",
       "      <td>[(2, 1), (3, 1)]</td>\n",
       "    </tr>\n",
       "    <tr>\n",
       "      <th>5</th>\n",
       "      <td>mental_health</td>\n",
       "      <td>loc_6</td>\n",
       "      <td>Watch out for mental health.</td>\n",
       "      <td>watch out for mental health</td>\n",
       "      <td>[watch, mental, health]</td>\n",
       "      <td>[mental, health]</td>\n",
       "      <td>[(2, 1), (3, 1)]</td>\n",
       "    </tr>\n",
       "    <tr>\n",
       "      <th>6</th>\n",
       "      <td>fashion</td>\n",
       "      <td>loc_7</td>\n",
       "      <td>Fashion can be a statement.</td>\n",
       "      <td>fashion can be a statement</td>\n",
       "      <td>[fashion, statement]</td>\n",
       "      <td>[fashion, statement]</td>\n",
       "      <td>[(4, 1), (5, 1)]</td>\n",
       "    </tr>\n",
       "    <tr>\n",
       "      <th>7</th>\n",
       "      <td>fashion</td>\n",
       "      <td>loc_8</td>\n",
       "      <td>Fashion involves clothes, music, etc.</td>\n",
       "      <td>fashion involves clothes  music  etc</td>\n",
       "      <td>[fashion, involves, clothes, music, etc]</td>\n",
       "      <td>[fashion, clothes, music]</td>\n",
       "      <td>[(4, 1), (6, 1), (7, 1)]</td>\n",
       "    </tr>\n",
       "    <tr>\n",
       "      <th>8</th>\n",
       "      <td>fashion</td>\n",
       "      <td>loc_9</td>\n",
       "      <td>Fashion is statement through clothes and music.</td>\n",
       "      <td>fashion is statement through clothes and music</td>\n",
       "      <td>[fashion, statement, clothes, music]</td>\n",
       "      <td>[fashion, statement, clothes, music]</td>\n",
       "      <td>[(4, 1), (5, 1), (6, 1), (7, 1)]</td>\n",
       "    </tr>\n",
       "  </tbody>\n",
       "</table>\n",
       "</div>"
      ],
      "text/plain": [
       "           topic source                                             document  \\\n",
       "0   data_science  loc_1                Data Science (is) multi-disciplinary.   \n",
       "1   data_science  loc_2                         Data Science has statistics.   \n",
       "2   data_science  loc_3                         Python used in data science.   \n",
       "3  mental_health  loc_4              Mental Health (is) a state of the mind.   \n",
       "4  mental_health  loc_5  Mental Health includes emotional and psychological.   \n",
       "5  mental_health  loc_6                         Watch out for mental health.   \n",
       "6        fashion  loc_7                          Fashion can be a statement.   \n",
       "7        fashion  loc_8                Fashion involves clothes, music, etc.   \n",
       "8        fashion  loc_9      Fashion is statement through clothes and music.   \n",
       "\n",
       "                                      document_cleaned  \\\n",
       "0                data science  is  multi disciplinary    \n",
       "1                         data science has statistics    \n",
       "2                         python used in data science    \n",
       "3              mental health  is  a state of the mind    \n",
       "4  mental health includes emotional and psychological    \n",
       "5                         watch out for mental health    \n",
       "6                          fashion can be a statement    \n",
       "7                fashion involves clothes  music  etc    \n",
       "8      fashion is statement through clothes and music    \n",
       "\n",
       "                                             token_list  \\\n",
       "0                  [data, science, multi, disciplinary]   \n",
       "1                           [data, science, statistics]   \n",
       "2                         [python, used, data, science]   \n",
       "3                         [mental, health, state, mind]   \n",
       "4  [mental, health, includes, emotional, psychological]   \n",
       "5                               [watch, mental, health]   \n",
       "6                                  [fashion, statement]   \n",
       "7              [fashion, involves, clothes, music, etc]   \n",
       "8                  [fashion, statement, clothes, music]   \n",
       "\n",
       "                         token_list_new               bag_of_words_vector  \n",
       "0                       [data, science]                  [(0, 1), (1, 1)]  \n",
       "1                       [data, science]                  [(0, 1), (1, 1)]  \n",
       "2                       [data, science]                  [(0, 1), (1, 1)]  \n",
       "3                      [mental, health]                  [(2, 1), (3, 1)]  \n",
       "4                      [mental, health]                  [(2, 1), (3, 1)]  \n",
       "5                      [mental, health]                  [(2, 1), (3, 1)]  \n",
       "6                  [fashion, statement]                  [(4, 1), (5, 1)]  \n",
       "7             [fashion, clothes, music]          [(4, 1), (6, 1), (7, 1)]  \n",
       "8  [fashion, statement, clothes, music]  [(4, 1), (5, 1), (6, 1), (7, 1)]  "
      ]
     },
     "execution_count": 21,
     "metadata": {},
     "output_type": "execute_result"
    }
   ],
   "source": [
    "corpus"
   ]
  },
  {
   "cell_type": "markdown",
   "id": "956ec061-bd0f-4aca-920a-2e7749c951f2",
   "metadata": {},
   "source": [
    "<br>\n",
    "\n",
    "## **Others: Get id of unique tokens**"
   ]
  },
  {
   "cell_type": "code",
   "execution_count": 22,
   "id": "26fa2893-5262-42f5-b232-b074fd2f4433",
   "metadata": {},
   "outputs": [
    {
     "name": "stdout",
     "output_type": "stream",
     "text": [
      "{'data': 0, 'science': 1, 'health': 2, 'mental': 3, 'fashion': 4, 'statement': 5, 'clothes': 6, 'music': 7}\n"
     ]
    }
   ],
   "source": [
    "print(dictionary_unique_tokens.token2id)"
   ]
  },
  {
   "cell_type": "markdown",
   "id": "eadd2f2d-093d-4641-9839-7c3c9578630b",
   "metadata": {},
   "source": [
    "**This is the X in (X,Y) bag of words token**"
   ]
  },
  {
   "cell_type": "markdown",
   "id": "9e77dd81-3036-496c-9b20-f97ee47cc021",
   "metadata": {},
   "source": [
    "<br>\n",
    "\n",
    "## **Others: Get frequency of unique tokens**"
   ]
  },
  {
   "cell_type": "code",
   "execution_count": 23,
   "id": "261eef6f-e6b6-4002-a60c-4528c7b76c63",
   "metadata": {
    "tags": []
   },
   "outputs": [
    {
     "name": "stdout",
     "output_type": "stream",
     "text": [
      "[('clothes', 2), ('data', 3), ('disciplinary', 1), ('emotional', 1), ('etc', 1), ('fashion', 3), ('health', 3), ('includes', 1), ('involves', 1), ('mental', 3), ('mind', 1), ('multi', 1), ('music', 2), ('psychological', 1), ('python', 1), ('science', 3), ('state', 1), ('statement', 2), ('statistics', 1), ('used', 1), ('watch', 1)]\n"
     ]
    }
   ],
   "source": [
    "# sorted by token\n",
    "\n",
    "print(sorted(token_frequency.items()))"
   ]
  },
  {
   "cell_type": "code",
   "execution_count": 24,
   "id": "29c59c77-2a6c-4bd6-bb77-68023889184c",
   "metadata": {
    "tags": []
   },
   "outputs": [
    {
     "name": "stdout",
     "output_type": "stream",
     "text": [
      "[('multi', 1), ('disciplinary', 1), ('statistics', 1), ('python', 1), ('used', 1), ('state', 1), ('mind', 1), ('includes', 1), ('emotional', 1), ('psychological', 1), ('watch', 1), ('involves', 1), ('etc', 1), ('statement', 2), ('clothes', 2), ('music', 2), ('data', 3), ('science', 3), ('mental', 3), ('health', 3), ('fashion', 3)]\n"
     ]
    }
   ],
   "source": [
    "# sorted by token frequency\n",
    "\n",
    "print(sorted(token_frequency.items(), key=lambda item: item[1]))"
   ]
  },
  {
   "cell_type": "markdown",
   "id": "bc3445b7-6488-44f9-89d9-08af584a5716",
   "metadata": {},
   "source": [
    "<br>\n",
    "\n",
    "## **Step 10a: Apply Latent Sematic Indexing (LSI) - 1 topic with coherence score**"
   ]
  },
  {
   "cell_type": "code",
   "execution_count": 25,
   "id": "07a5cc5f-4af4-4503-bd6b-734c1a17c6c1",
   "metadata": {},
   "outputs": [],
   "source": [
    "from gensim import models"
   ]
  },
  {
   "cell_type": "code",
   "execution_count": 26,
   "id": "654c5cb5-5eff-4d74-9aa5-272ae74f9f85",
   "metadata": {},
   "outputs": [],
   "source": [
    "lsi_model = models.LsiModel(corpus=corpus['bag_of_words_vector'], id2word=dictionary_unique_tokens, num_topics=1, random_seed=42, power_iters=1000, onepass=False)"
   ]
  },
  {
   "cell_type": "code",
   "execution_count": 27,
   "id": "393b07ef-1870-4504-a6de-ec39fcaef62e",
   "metadata": {},
   "outputs": [],
   "source": [
    "import pprint"
   ]
  },
  {
   "cell_type": "code",
   "execution_count": 28,
   "id": "f3707a3e-3ea1-4c9b-8a8a-3e612fb3df8b",
   "metadata": {
    "tags": []
   },
   "outputs": [
    {
     "name": "stdout",
     "output_type": "stream",
     "text": [
      "[(0,\n",
      "  '0.616*\"fashion\" + 0.478*\"music\" + 0.478*\"clothes\" + 0.404*\"statement\" + '\n",
      "  '0.000*\"data\" + 0.000*\"science\" + 0.000*\"mental\" + 0.000*\"health\"')]\n"
     ]
    }
   ],
   "source": [
    "pprint.pprint(lsi_model.print_topics())"
   ]
  },
  {
   "cell_type": "code",
   "execution_count": 29,
   "id": "5db84e15-d51e-407b-a3a3-82e26adb771a",
   "metadata": {},
   "outputs": [],
   "source": [
    "from gensim.models.coherencemodel import CoherenceModel"
   ]
  },
  {
   "cell_type": "code",
   "execution_count": 30,
   "id": "d8e75c36-9965-4a48-a951-9bd6f2d98c97",
   "metadata": {
    "tags": []
   },
   "outputs": [],
   "source": [
    "cm = CoherenceModel(model=lsi_model, corpus=corpus['bag_of_words_vector'], coherence='u_mass')\n",
    "coherence = cm.get_coherence()"
   ]
  },
  {
   "cell_type": "code",
   "execution_count": 31,
   "id": "d1a32c97-2e0a-4d2f-bf75-56ea0772c3d8",
   "metadata": {},
   "outputs": [
    {
     "name": "stdout",
     "output_type": "stream",
     "text": [
      "-18.870903033332613\n"
     ]
    }
   ],
   "source": [
    "print(coherence)"
   ]
  },
  {
   "cell_type": "markdown",
   "id": "a2a9e2c3-060b-45d1-bdba-bef5d3664d76",
   "metadata": {},
   "source": [
    "<br>\n",
    "\n",
    "## **Step 10b: Apply Latent Sematic Indexing (LSI) - 2 topics with coherence score**"
   ]
  },
  {
   "cell_type": "code",
   "execution_count": 32,
   "id": "c4574e83-d1f1-43ad-88db-92b4e3401325",
   "metadata": {
    "tags": []
   },
   "outputs": [],
   "source": [
    "lsi_model = models.LsiModel(corpus=corpus['bag_of_words_vector'], id2word=dictionary_unique_tokens, num_topics=2, random_seed=42, power_iters=1000, onepass=False)"
   ]
  },
  {
   "cell_type": "code",
   "execution_count": 33,
   "id": "fdc0c52b-3606-43cf-ac36-f40664b4082c",
   "metadata": {
    "tags": []
   },
   "outputs": [
    {
     "name": "stdout",
     "output_type": "stream",
     "text": [
      "[(0,\n",
      "  '-0.616*\"fashion\" + -0.478*\"clothes\" + -0.478*\"music\" + -0.404*\"statement\" + '\n",
      "  '0.000*\"data\" + 0.000*\"science\" + -0.000*\"health\" + -0.000*\"mental\"'),\n",
      " (1,\n",
      "  '0.705*\"data\" + 0.705*\"science\" + -0.055*\"health\" + -0.055*\"mental\" + '\n",
      "  '0.000*\"fashion\" + 0.000*\"statement\" + 0.000*\"clothes\" + 0.000*\"music\"')]\n"
     ]
    }
   ],
   "source": [
    "pprint.pprint(lsi_model.print_topics())"
   ]
  },
  {
   "cell_type": "code",
   "execution_count": 34,
   "id": "059b94e0-46f1-4a0f-a739-80f3986c11b3",
   "metadata": {
    "tags": []
   },
   "outputs": [],
   "source": [
    "cm = CoherenceModel(model=lsi_model, corpus=corpus['bag_of_words_vector'], coherence='u_mass')\n",
    "coherence = cm.get_coherence()"
   ]
  },
  {
   "cell_type": "code",
   "execution_count": 35,
   "id": "91298bfc-6f6d-40d9-b6cd-0a42b5a23401",
   "metadata": {},
   "outputs": [
    {
     "name": "stdout",
     "output_type": "stream",
     "text": [
      "-18.979509758718727\n"
     ]
    }
   ],
   "source": [
    "print(coherence)"
   ]
  },
  {
   "cell_type": "markdown",
   "id": "e669e2bc-3f66-409a-9255-dcdcbc22a80f",
   "metadata": {},
   "source": [
    "<br>\n",
    "\n",
    "## **Step 10c: Apply Latent Sematic Indexing (LSI) - 3 topics with coherence score**"
   ]
  },
  {
   "cell_type": "code",
   "execution_count": 36,
   "id": "18e97cf6-f84d-436a-a4bc-479aca4ba805",
   "metadata": {
    "tags": []
   },
   "outputs": [],
   "source": [
    "lsi_model = models.LsiModel(corpus=corpus['bag_of_words_vector'], id2word=dictionary_unique_tokens, num_topics=3, random_seed=42, power_iters=1000, onepass=False)"
   ]
  },
  {
   "cell_type": "code",
   "execution_count": 37,
   "id": "c44227e0-b7c0-4a01-aa74-52a1bc76e008",
   "metadata": {
    "tags": []
   },
   "outputs": [
    {
     "name": "stdout",
     "output_type": "stream",
     "text": [
      "[(0,\n",
      "  '-0.616*\"fashion\" + -0.478*\"clothes\" + -0.478*\"music\" + -0.404*\"statement\" + '\n",
      "  '0.000*\"data\" + 0.000*\"science\" + -0.000*\"health\" + -0.000*\"mental\"'),\n",
      " (1,\n",
      "  '0.702*\"data\" + 0.702*\"science\" + -0.083*\"health\" + -0.083*\"mental\" + '\n",
      "  '0.000*\"fashion\" + 0.000*\"clothes\" + 0.000*\"music\" + 0.000*\"statement\"'),\n",
      " (2,\n",
      "  '-0.702*\"health\" + -0.702*\"mental\" + -0.083*\"data\" + -0.083*\"science\" + '\n",
      "  '-0.000*\"fashion\" + 0.000*\"statement\" + 0.000*\"clothes\" + 0.000*\"music\"')]\n"
     ]
    }
   ],
   "source": [
    "pprint.pprint(lsi_model.print_topics())"
   ]
  },
  {
   "cell_type": "code",
   "execution_count": 38,
   "id": "dce4e251-f77a-4ce4-93c7-87b1425a86e8",
   "metadata": {
    "tags": []
   },
   "outputs": [],
   "source": [
    "cm = CoherenceModel(model=lsi_model, corpus=corpus['bag_of_words_vector'], coherence='u_mass')\n",
    "coherence = cm.get_coherence()"
   ]
  },
  {
   "cell_type": "code",
   "execution_count": 39,
   "id": "1196bcc7-50ea-432e-8779-f518fad07022",
   "metadata": {},
   "outputs": [
    {
     "name": "stdout",
     "output_type": "stream",
     "text": [
      "-18.92882662020521\n"
     ]
    }
   ],
   "source": [
    "print(coherence)"
   ]
  },
  {
   "cell_type": "markdown",
   "id": "1432fb95-c9c7-4270-b5db-4102515c4e24",
   "metadata": {},
   "source": [
    "<br>\n",
    "\n",
    "## **Step 10d: Apply Latent Sematic Indexing (LSI) - 4 topics with coherence score**"
   ]
  },
  {
   "cell_type": "code",
   "execution_count": 40,
   "id": "82acb6aa-f98a-4cbc-9a67-ad3fd9e657a0",
   "metadata": {
    "tags": []
   },
   "outputs": [],
   "source": [
    "lsi_model = models.LsiModel(corpus=corpus['bag_of_words_vector'], id2word=dictionary_unique_tokens, num_topics=4, random_seed=42, power_iters=1000, onepass=False)"
   ]
  },
  {
   "cell_type": "code",
   "execution_count": 41,
   "id": "4d8bfa59-fb57-44a0-974f-236741c2bbf4",
   "metadata": {
    "tags": []
   },
   "outputs": [
    {
     "name": "stdout",
     "output_type": "stream",
     "text": [
      "[(0,\n",
      "  '-0.616*\"fashion\" + -0.478*\"clothes\" + -0.478*\"music\" + -0.404*\"statement\" + '\n",
      "  '0.000*\"data\" + 0.000*\"science\" + -0.000*\"health\" + -0.000*\"mental\"'),\n",
      " (1,\n",
      "  '0.706*\"data\" + 0.706*\"science\" + -0.044*\"mental\" + -0.044*\"health\" + '\n",
      "  '0.000*\"clothes\" + 0.000*\"music\" + 0.000*\"fashion\" + 0.000*\"statement\"'),\n",
      " (2,\n",
      "  '0.706*\"health\" + 0.706*\"mental\" + 0.044*\"data\" + 0.044*\"science\" + '\n",
      "  '0.000*\"fashion\" + -0.000*\"statement\" + -0.000*\"clothes\" + -0.000*\"music\"'),\n",
      " (3,\n",
      "  '-0.725*\"statement\" + 0.457*\"music\" + 0.457*\"clothes\" + -0.235*\"fashion\" + '\n",
      "  '-0.000*\"mental\" + 0.000*\"health\" + -0.000*\"science\" + 0.000*\"data\"')]\n"
     ]
    }
   ],
   "source": [
    "pprint.pprint(lsi_model.print_topics())"
   ]
  },
  {
   "cell_type": "code",
   "execution_count": 42,
   "id": "0eadc3a8-5880-417e-85b1-3a2582d27a10",
   "metadata": {
    "tags": []
   },
   "outputs": [],
   "source": [
    "cm = CoherenceModel(model=lsi_model, corpus=corpus['bag_of_words_vector'], coherence='u_mass')\n",
    "coherence = cm.get_coherence()"
   ]
  },
  {
   "cell_type": "code",
   "execution_count": 43,
   "id": "2f059a9f-dbef-4060-ad6c-db46afd6b2b6",
   "metadata": {},
   "outputs": [
    {
     "name": "stdout",
     "output_type": "stream",
     "text": [
      "-18.968649086180115\n"
     ]
    }
   ],
   "source": [
    "print(coherence)"
   ]
  },
  {
   "cell_type": "code",
   "execution_count": null,
   "id": "3b351135-9b36-4851-9616-69747012eb49",
   "metadata": {},
   "outputs": [],
   "source": []
  }
 ],
 "metadata": {
  "kernelspec": {
   "display_name": "Python 3 (ipykernel)",
   "language": "python",
   "name": "python3"
  },
  "language_info": {
   "codemirror_mode": {
    "name": "ipython",
    "version": 3
   },
   "file_extension": ".py",
   "mimetype": "text/x-python",
   "name": "python",
   "nbconvert_exporter": "python",
   "pygments_lexer": "ipython3",
   "version": "3.11.5"
  }
 },
 "nbformat": 4,
 "nbformat_minor": 5
}
