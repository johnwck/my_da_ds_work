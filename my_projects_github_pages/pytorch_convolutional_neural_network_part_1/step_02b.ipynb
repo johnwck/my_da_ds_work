{
 "cells": [
  {
   "cell_type": "code",
   "execution_count": 1,
   "id": "a6e78f83-bca4-4e9d-8ff6-4d710012fa85",
   "metadata": {},
   "outputs": [
    {
     "name": "stdout",
     "output_type": "stream",
     "text": [
      "WARNING:tensorflow:From C:\\Users\\chi_k\\anaconda3\\Lib\\site-packages\\keras\\src\\losses.py:2976: The name tf.losses.sparse_softmax_cross_entropy is deprecated. Please use tf.compat.v1.losses.sparse_softmax_cross_entropy instead.\n",
      "\n",
      "WARNING:tensorflow:From C:\\Users\\chi_k\\anaconda3\\Lib\\site-packages\\keras\\src\\backend.py:873: The name tf.get_default_graph is deprecated. Please use tf.compat.v1.get_default_graph instead.\n",
      "\n"
     ]
    }
   ],
   "source": [
    "from torchvision import transforms\n",
    "import torch.nn as nn\n",
    "import torch\n",
    "import numpy as np"
   ]
  },
  {
   "cell_type": "code",
   "execution_count": 2,
   "id": "9d2a7517-ca2a-4429-9b6f-820c3d97fa21",
   "metadata": {},
   "outputs": [
    {
     "data": {
      "text/plain": [
       "<torch._C.Generator at 0x22277c51f70>"
      ]
     },
     "execution_count": 2,
     "metadata": {},
     "output_type": "execute_result"
    }
   ],
   "source": [
    "torch.manual_seed(2)"
   ]
  },
  {
   "cell_type": "code",
   "execution_count": 3,
   "id": "77c1c42f-d95f-43e8-9c7f-6c12cb0fdfb7",
   "metadata": {},
   "outputs": [],
   "source": [
    "image = np.array([[[1,1,1],\n",
    "                   [1,0,1],\n",
    "                   [1,1,1]],\n",
    "                  [[1,1,1],\n",
    "                   [1,0,1],\n",
    "                   [1,1,1]],\n",
    "                  [[1,1,1],\n",
    "                   [1,0,1],\n",
    "                   [1,1,1]]], dtype='float32')"
   ]
  },
  {
   "cell_type": "code",
   "execution_count": 4,
   "id": "65d6d095-cfcd-42cb-98c5-488e2481db63",
   "metadata": {},
   "outputs": [
    {
     "data": {
      "text/plain": [
       "tensor([[[1., 1., 1.],\n",
       "         [1., 1., 1.],\n",
       "         [1., 1., 1.]],\n",
       "\n",
       "        [[1., 0., 1.],\n",
       "         [1., 0., 1.],\n",
       "         [1., 0., 1.]],\n",
       "\n",
       "        [[1., 1., 1.],\n",
       "         [1., 1., 1.],\n",
       "         [1., 1., 1.]]])"
      ]
     },
     "execution_count": 4,
     "metadata": {},
     "output_type": "execute_result"
    }
   ],
   "source": [
    "# see MS Excel file column B to column F Sheet1 and Sheet2\n",
    "\n",
    "to_tensor = transforms.ToTensor()\n",
    "image_tensor = to_tensor(image)\n",
    "image_tensor"
   ]
  },
  {
   "cell_type": "code",
   "execution_count": 5,
   "id": "f38d9a62-3c35-4865-8609-471b4b79f99f",
   "metadata": {},
   "outputs": [],
   "source": [
    "conv2d_1 = nn.Conv2d(in_channels=3, out_channels=2, kernel_size=(2,2), padding=1)"
   ]
  },
  {
   "cell_type": "code",
   "execution_count": 6,
   "id": "15cb091b-e0b4-4c87-804d-0de3496ceb2b",
   "metadata": {},
   "outputs": [
    {
     "data": {
      "text/plain": [
       "tensor([[[-0.2564,  0.0609, -0.1393,  0.0565],\n",
       "         [-0.5119, -0.0079, -0.2627,  0.3119],\n",
       "         [-0.5119, -0.0079, -0.2627,  0.3119],\n",
       "         [-0.2830, -0.0963, -0.1509,  0.2280]],\n",
       "\n",
       "        [[ 0.6781,  0.2859,  0.6745, -0.0386],\n",
       "         [ 0.7242,  0.2783,  0.3744, -0.2626],\n",
       "         [ 0.7242,  0.2783,  0.3744, -0.2626],\n",
       "         [ 0.1222,  0.0684, -0.2241, -0.1481]]])"
      ]
     },
     "execution_count": 6,
     "metadata": {},
     "output_type": "execute_result"
    }
   ],
   "source": [
    "# see MS Excel file column R to column U Sheet1 and Sheet2\n",
    "\n",
    "with torch.no_grad():\n",
    "    output_1 = conv2d_1(image_tensor)\n",
    "output_1"
   ]
  },
  {
   "cell_type": "code",
   "execution_count": 7,
   "id": "ed12b62e-cf61-47a3-9c5b-54c24aea2154",
   "metadata": {},
   "outputs": [
    {
     "data": {
      "text/plain": [
       "tensor([[[[ 0.0662, -0.0687],\n",
       "          [ 0.0792, -0.0147]],\n",
       "\n",
       "         [[ 0.1233,  0.0687],\n",
       "          [-0.0332, -0.2334]],\n",
       "\n",
       "         [[ 0.0659, -0.2556],\n",
       "          [ 0.0379,  0.0192]]],\n",
       "\n",
       "\n",
       "        [[[-0.0635,  0.2360],\n",
       "          [ 0.0193,  0.1197]],\n",
       "\n",
       "         [[ 0.1222, -0.1703],\n",
       "          [-0.1110,  0.2776]],\n",
       "\n",
       "         [[-0.2828, -0.0196],\n",
       "          [-0.0229,  0.2048]]]])"
      ]
     },
     "execution_count": 7,
     "metadata": {},
     "output_type": "execute_result"
    }
   ],
   "source": [
    "# see MS Excel file column H to column I Sheet1 and Sheet2\n",
    "\n",
    "conv2d_1.weight.data"
   ]
  },
  {
   "cell_type": "code",
   "execution_count": 8,
   "id": "344d8086-c88e-4c09-8010-59e6464a065d",
   "metadata": {},
   "outputs": [
    {
     "data": {
      "text/plain": [
       "tensor([-0.0274,  0.0760])"
      ]
     },
     "execution_count": 8,
     "metadata": {},
     "output_type": "execute_result"
    }
   ],
   "source": [
    "# see MS Excel file column P Sheet1 and Sheet2\n",
    "\n",
    "conv2d_1.bias.data"
   ]
  },
  {
   "cell_type": "code",
   "execution_count": 9,
   "id": "90408fec-2179-4c57-8d49-bd8a2e54a81b",
   "metadata": {},
   "outputs": [],
   "source": [
    "relu_1 = nn.ReLU()"
   ]
  },
  {
   "cell_type": "code",
   "execution_count": 10,
   "id": "64fcd7f6-cc3d-4243-9356-f7687d2895b1",
   "metadata": {},
   "outputs": [
    {
     "data": {
      "text/plain": [
       "tensor([[[0.0000, 0.0609, 0.0000, 0.0565],\n",
       "         [0.0000, 0.0000, 0.0000, 0.3119],\n",
       "         [0.0000, 0.0000, 0.0000, 0.3119],\n",
       "         [0.0000, 0.0000, 0.0000, 0.2280]],\n",
       "\n",
       "        [[0.6781, 0.2859, 0.6745, 0.0000],\n",
       "         [0.7242, 0.2783, 0.3744, 0.0000],\n",
       "         [0.7242, 0.2783, 0.3744, 0.0000],\n",
       "         [0.1222, 0.0684, 0.0000, 0.0000]]])"
      ]
     },
     "execution_count": 10,
     "metadata": {},
     "output_type": "execute_result"
    }
   ],
   "source": [
    "# see MS Excel file column W to column Z Sheet1 and Sheet2\n",
    "\n",
    "with torch.no_grad():\n",
    "    output_2 = relu_1(output_1)\n",
    "output_2"
   ]
  },
  {
   "cell_type": "code",
   "execution_count": null,
   "id": "9615de54-ee61-434b-abb4-37aaa491ded5",
   "metadata": {},
   "outputs": [],
   "source": []
  }
 ],
 "metadata": {
  "kernelspec": {
   "display_name": "Python 3 (ipykernel)",
   "language": "python",
   "name": "python3"
  },
  "language_info": {
   "codemirror_mode": {
    "name": "ipython",
    "version": 3
   },
   "file_extension": ".py",
   "mimetype": "text/x-python",
   "name": "python",
   "nbconvert_exporter": "python",
   "pygments_lexer": "ipython3",
   "version": "3.11.5"
  }
 },
 "nbformat": 4,
 "nbformat_minor": 5
}
