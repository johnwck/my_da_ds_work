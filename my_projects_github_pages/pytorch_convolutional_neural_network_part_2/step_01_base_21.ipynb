{
 "cells": [
  {
   "cell_type": "markdown",
   "id": "8fc41c4f-e450-4ac8-83f5-64e4602e568f",
   "metadata": {},
   "source": [
    "<br>\n",
    "\n",
    "## **Objective: To train CNN model and use trained model for prediction**"
   ]
  },
  {
   "cell_type": "markdown",
   "id": "c91c1dac-61c6-4054-90c0-71e9fb6fd18b",
   "metadata": {},
   "source": [
    "<br>\n",
    "\n",
    "## **Step 1: Import**"
   ]
  },
  {
   "cell_type": "code",
   "execution_count": 1,
   "id": "f1062a02-6bf5-44d0-9f93-197e2dae268b",
   "metadata": {},
   "outputs": [],
   "source": [
    "from datetime import datetime\n",
    "import pandas as pd\n",
    "import torch\n",
    "import torch.nn as nn\n",
    "import torch.nn.functional as nnf\n",
    "import torch.optim as optim\n",
    "import numpy as np\n",
    "from torch.utils.data import Dataset, DataLoader"
   ]
  },
  {
   "cell_type": "code",
   "execution_count": 2,
   "id": "ed7c2397-77b7-4c2b-ade7-15002f302a21",
   "metadata": {},
   "outputs": [],
   "source": [
    "torch.set_printoptions(linewidth=300)"
   ]
  },
  {
   "cell_type": "markdown",
   "id": "85baa78b-7a27-4158-8cef-414c5cf0b7b8",
   "metadata": {},
   "source": [
    "<br>\n",
    "\n",
    "## **Step 2: Read and transform**"
   ]
  },
  {
   "cell_type": "markdown",
   "id": "6ec9ab7b-428e-498c-9a3e-8801c3926cb6",
   "metadata": {},
   "source": [
    "**Train dataset**"
   ]
  },
  {
   "cell_type": "code",
   "execution_count": 3,
   "id": "4ed38378-5bed-422d-8f4d-ece67bc7afc6",
   "metadata": {},
   "outputs": [],
   "source": [
    "pf1 = pd.read_pickle('./data/cifar-10-batches-py/data_batch_1')\n",
    "pf2 = pd.read_pickle('./data/cifar-10-batches-py/data_batch_2')\n",
    "pf3 = pd.read_pickle('./data/cifar-10-batches-py/data_batch_3')\n",
    "pf4 = pd.read_pickle('./data/cifar-10-batches-py/data_batch_4')\n",
    "pf5 = pd.read_pickle('./data/cifar-10-batches-py/data_batch_5')"
   ]
  },
  {
   "cell_type": "code",
   "execution_count": 4,
   "id": "8fa1a486-c3fa-4948-a93b-ed2d05874e53",
   "metadata": {},
   "outputs": [],
   "source": [
    "del pf1['batch_label']\n",
    "del pf2['batch_label']\n",
    "del pf3['batch_label']\n",
    "del pf4['batch_label']\n",
    "del pf5['batch_label']"
   ]
  },
  {
   "cell_type": "code",
   "execution_count": 5,
   "id": "6818ac23-74fd-45d1-a1c4-b45a31034ae5",
   "metadata": {},
   "outputs": [],
   "source": [
    "pf1['data'] = list(pf1['data'])\n",
    "pf2['data'] = list(pf2['data'])\n",
    "pf3['data'] = list(pf3['data'])\n",
    "pf4['data'] = list(pf4['data'])\n",
    "pf5['data'] = list(pf5['data'])"
   ]
  },
  {
   "cell_type": "code",
   "execution_count": 6,
   "id": "200bf004-2937-4e47-858a-ed5de4af0a2b",
   "metadata": {},
   "outputs": [],
   "source": [
    "pf1_df = pd.DataFrame(pf1)\n",
    "pf2_df = pd.DataFrame(pf2)\n",
    "pf3_df = pd.DataFrame(pf3)\n",
    "pf4_df = pd.DataFrame(pf4)\n",
    "pf5_df = pd.DataFrame(pf5)"
   ]
  },
  {
   "cell_type": "code",
   "execution_count": 7,
   "id": "87350b6b-0215-40dc-92d5-d8446a85f875",
   "metadata": {},
   "outputs": [],
   "source": [
    "train_df = pd.concat([pf1_df,\n",
    "                      pf2_df,\n",
    "                      pf3_df,\n",
    "                      pf4_df,\n",
    "                      pf5_df], ignore_index=True)"
   ]
  },
  {
   "cell_type": "markdown",
   "id": "1f57c6a3-d5eb-47c6-9136-f5816f0105ad",
   "metadata": {},
   "source": [
    "**Test dataset**"
   ]
  },
  {
   "cell_type": "code",
   "execution_count": 8,
   "id": "c961d09b-d9a3-4e59-88e6-2659aecd75a4",
   "metadata": {},
   "outputs": [],
   "source": [
    "pf = pd.read_pickle('./data/cifar-10-batches-py/test_batch')"
   ]
  },
  {
   "cell_type": "code",
   "execution_count": 9,
   "id": "3776d7ab-aeef-451f-aa2d-b7e36c970252",
   "metadata": {},
   "outputs": [],
   "source": [
    "del pf['batch_label']"
   ]
  },
  {
   "cell_type": "code",
   "execution_count": 10,
   "id": "8ea875cc-acad-45ea-a9b4-833c00285ce1",
   "metadata": {},
   "outputs": [],
   "source": [
    "pf['data'] = list(pf['data'])"
   ]
  },
  {
   "cell_type": "code",
   "execution_count": 11,
   "id": "aaaffcfb-e2fc-4fdd-a1e7-1d247fc81cfe",
   "metadata": {},
   "outputs": [],
   "source": [
    "test_df = pd.DataFrame(pf)"
   ]
  },
  {
   "cell_type": "markdown",
   "id": "df1ae21f-dee6-4859-9721-e1bfb427f12b",
   "metadata": {},
   "source": [
    "<br>\n",
    "\n",
    "## **Step 3: Transform to X_train and y_train in tensor form**"
   ]
  },
  {
   "cell_type": "code",
   "execution_count": 12,
   "id": "420477d5-ef89-47d0-a866-9fbe6026db1d",
   "metadata": {},
   "outputs": [],
   "source": [
    "X_train = train_df['data'].tolist()"
   ]
  },
  {
   "cell_type": "code",
   "execution_count": 13,
   "id": "ba1d1c59-45f9-49e8-8745-83a47d9fbc3c",
   "metadata": {},
   "outputs": [],
   "source": [
    "X_train = np.array(X_train)"
   ]
  },
  {
   "cell_type": "code",
   "execution_count": 14,
   "id": "ecd04b04-70af-4f1d-a72e-53e735e264f4",
   "metadata": {},
   "outputs": [],
   "source": [
    "X_train = torch.tensor(X_train, dtype=torch.float32).reshape((-1,3,32,32))"
   ]
  },
  {
   "cell_type": "code",
   "execution_count": 15,
   "id": "fd71d2d3-a72c-4be7-a35e-bdc122e0ab3c",
   "metadata": {},
   "outputs": [],
   "source": [
    "y_train = train_df['labels'].tolist()"
   ]
  },
  {
   "cell_type": "code",
   "execution_count": 16,
   "id": "b3906342-e8bb-4243-9e87-fd6a9f1e3017",
   "metadata": {},
   "outputs": [],
   "source": [
    "y_train = np.array(y_train)"
   ]
  },
  {
   "cell_type": "code",
   "execution_count": 17,
   "id": "9cad3fb9-0256-4bd2-a9b6-5a807ae70296",
   "metadata": {},
   "outputs": [],
   "source": [
    "y_train = torch.tensor(y_train, dtype=torch.int64)"
   ]
  },
  {
   "cell_type": "markdown",
   "id": "724c2c3f-9b71-4755-b475-2a46518db831",
   "metadata": {},
   "source": [
    "<br>\n",
    "\n",
    "## **Step 4: Transform to X_test and y_test in tensor form**"
   ]
  },
  {
   "cell_type": "code",
   "execution_count": 18,
   "id": "a21cfdb9-43b0-436c-949c-f608be2e10d9",
   "metadata": {},
   "outputs": [],
   "source": [
    "X_test = test_df['data'].tolist()"
   ]
  },
  {
   "cell_type": "code",
   "execution_count": 19,
   "id": "72b64a82-6ae5-43cd-ad0f-5800533ea862",
   "metadata": {},
   "outputs": [],
   "source": [
    "X_test = np.array(X_test)"
   ]
  },
  {
   "cell_type": "code",
   "execution_count": 20,
   "id": "78b6a46c-f574-4ff2-86f8-03862230517f",
   "metadata": {},
   "outputs": [],
   "source": [
    "X_test = torch.tensor(X_test, dtype=torch.float32).reshape((-1,3,32,32))"
   ]
  },
  {
   "cell_type": "code",
   "execution_count": 21,
   "id": "e8aa0072-f058-4e4a-b537-93ebb4cef0d7",
   "metadata": {},
   "outputs": [],
   "source": [
    "y_test = test_df['labels'].tolist()"
   ]
  },
  {
   "cell_type": "code",
   "execution_count": 22,
   "id": "223a1926-3639-45a3-ae90-8e12929f8031",
   "metadata": {},
   "outputs": [],
   "source": [
    "y_test = np.array(y_test)"
   ]
  },
  {
   "cell_type": "code",
   "execution_count": 23,
   "id": "4032925f-c05d-4cf3-9897-3fb95676dac9",
   "metadata": {},
   "outputs": [],
   "source": [
    "y_test = torch.tensor(y_test, dtype=torch.int64)"
   ]
  },
  {
   "cell_type": "markdown",
   "id": "f6707693-919c-4e59-9afd-43aee5288613",
   "metadata": {},
   "source": [
    "<br>\n",
    "\n",
    "## **Step 5: Push X_train, y_train, X_test, and y_test to GPU**"
   ]
  },
  {
   "cell_type": "code",
   "execution_count": 24,
   "id": "e2a27986-3a24-4441-891c-c2c0beba5722",
   "metadata": {},
   "outputs": [
    {
     "name": "stdout",
     "output_type": "stream",
     "text": [
      "Running on the GPU\n"
     ]
    }
   ],
   "source": [
    "if torch.cuda.is_available():\n",
    "    device = torch.device(\"cuda:0\")\n",
    "    print(\"Running on the GPU\")\n",
    "else:\n",
    "    device = torch.device(\"cpu\")\n",
    "    print(\"Running on the CPU\")"
   ]
  },
  {
   "cell_type": "code",
   "execution_count": 25,
   "id": "8d5fd445-df43-43a9-a8d1-47ea9ae6e071",
   "metadata": {},
   "outputs": [],
   "source": [
    "X_train = X_train.to(device)"
   ]
  },
  {
   "cell_type": "code",
   "execution_count": 26,
   "id": "569f09fa-9695-4c40-b308-bb126e07755b",
   "metadata": {},
   "outputs": [],
   "source": [
    "y_train = y_train.to(device)"
   ]
  },
  {
   "cell_type": "code",
   "execution_count": 27,
   "id": "430a81d1-92cc-421e-98cf-3a9d058678d6",
   "metadata": {},
   "outputs": [],
   "source": [
    "X_test = X_test.to(device)"
   ]
  },
  {
   "cell_type": "code",
   "execution_count": 28,
   "id": "2aa811d7-1e0b-453a-ad53-a132a013fd61",
   "metadata": {},
   "outputs": [],
   "source": [
    "y_test = y_test.to(device)"
   ]
  },
  {
   "cell_type": "markdown",
   "id": "17a78e77-729a-4e8c-a071-875a5b85390b",
   "metadata": {},
   "source": [
    "<br>\n",
    "\n",
    "## **Step 6: Set up custom dataset (train and test) using torch.utils.data.Dataset**"
   ]
  },
  {
   "cell_type": "code",
   "execution_count": 29,
   "id": "97d7ea0d-9af6-4743-817b-cc20cab6662a",
   "metadata": {},
   "outputs": [],
   "source": [
    "class CustomDataset(Dataset):\n",
    "    def __init__(self, X, y):\n",
    "        self.y = y\n",
    "        self.X = X\n",
    "    def __len__(self):\n",
    "        return len(self.y)\n",
    "    def __getitem__(self, idx):\n",
    "        y = self.y[idx]\n",
    "        X = self.X[idx]\n",
    "        return X, y"
   ]
  },
  {
   "cell_type": "code",
   "execution_count": 30,
   "id": "f481e613-bb7b-4fca-859d-9b943241d7dd",
   "metadata": {},
   "outputs": [],
   "source": [
    "train_dataset = CustomDataset(X_train, y_train)"
   ]
  },
  {
   "cell_type": "code",
   "execution_count": 31,
   "id": "4d18324f-3437-406d-8f74-0d0d8181703f",
   "metadata": {},
   "outputs": [],
   "source": [
    "test_dataset = CustomDataset(X_test, y_test)"
   ]
  },
  {
   "cell_type": "markdown",
   "id": "03a787fc-cfee-4d2a-9d3e-a1aaa4df4b17",
   "metadata": {},
   "source": [
    "<br>\n",
    "\n",
    "## **Step 7: Set up custom dataloader (train and test) using torch.utils.data.DataLoader**"
   ]
  },
  {
   "cell_type": "code",
   "execution_count": 32,
   "id": "2e663c73-ea41-4171-96e5-6f507677d6a2",
   "metadata": {},
   "outputs": [],
   "source": [
    "train_dataloader = DataLoader(train_dataset, batch_size=128, shuffle=False)"
   ]
  },
  {
   "cell_type": "code",
   "execution_count": 33,
   "id": "22adc390-a7ba-4f66-acd1-00fa6eccab95",
   "metadata": {},
   "outputs": [],
   "source": [
    "test_dataloader = DataLoader(test_dataset, batch_size=128, shuffle=False)"
   ]
  },
  {
   "cell_type": "markdown",
   "id": "145f59ee-7fd6-4d37-ad05-a1efe459b1ba",
   "metadata": {},
   "source": [
    "<br>\n",
    "\n",
    "## **Step 8: Set up Convolutional Neural Network (CNN) model**"
   ]
  },
  {
   "cell_type": "code",
   "execution_count": 34,
   "id": "e5a3b476-10a5-460b-bfa8-4883a0df7e31",
   "metadata": {},
   "outputs": [],
   "source": [
    "class cnn__model(nn.Module):\n",
    "\n",
    "    def __init__(self):\n",
    "        super().__init__()\n",
    "        self.conv1 = nn.Conv2d(in_channels=3, out_channels=conv2d_out, kernel_size=(3,3), padding=1, stride=1)\n",
    "        self.conv2 = nn.Conv2d(in_channels=conv2d_out, out_channels=2*conv2d_out, kernel_size=(3,3), padding=1, stride=1)\n",
    "        self.pool = nn.MaxPool2d(kernel_size=(2,2))\n",
    "        self.fc1 = nn.Linear(2*conv2d_out*16*16, fc_out)\n",
    "        self.fc2 = nn.Linear(fc_out, 10)\n",
    "\n",
    "    def forward(self, x):\n",
    "        x = nnf.relu(self.conv1(x))\n",
    "        x = self.pool(nnf.relu(self.conv2(x)))\n",
    "        x = torch.flatten(x, 1)\n",
    "        x = nnf.relu(self.fc1(x))\n",
    "        x = self.fc2(x)\n",
    "        return x"
   ]
  },
  {
   "cell_type": "markdown",
   "id": "cd6617c3-25f5-4631-ba12-0377ae1d43dd",
   "metadata": {},
   "source": [
    "<br>\n",
    "\n",
    "## **Step 9: Set up test function for CNN model**"
   ]
  },
  {
   "cell_type": "code",
   "execution_count": 35,
   "id": "29fe4da8-3552-4e49-8ea7-4c1000890b44",
   "metadata": {},
   "outputs": [],
   "source": [
    "def test_cnn_model():\n",
    "    correct = 0\n",
    "    total = 0\n",
    "    with torch.no_grad():\n",
    "        for data in test_dataloader:\n",
    "            images, labels = data\n",
    "            outputs = cnn_model(images)\n",
    "            _, predicted = torch.max(outputs.data, 1)   # class with highest energy choosen as prediction\n",
    "            total = total + labels.size(0)\n",
    "            correct = correct + (predicted == labels).sum().item()\n",
    "    print('correct: ', correct, '\\t\\t', 'total: ', total, '\\t\\t', 'accuracy: ', round(100*correct/total,2), '%')\n",
    "    print()\n",
    "    return 100*correct/total"
   ]
  },
  {
   "cell_type": "markdown",
   "id": "0dfed1b4-5c07-4040-b846-308e9c72e5fb",
   "metadata": {},
   "source": [
    "<br>\n",
    "\n",
    "## **Step 10: Train and test CNN model**"
   ]
  },
  {
   "cell_type": "code",
   "execution_count": 36,
   "id": "40361142-dd66-42e3-8a06-522a23d81903",
   "metadata": {},
   "outputs": [],
   "source": [
    "seed_value_list = []\n",
    "conv2d_out_value_list = []\n",
    "fc_out_value_list = []\n",
    "training_duration_second_list = []\n",
    "accuracy_list = []"
   ]
  },
  {
   "cell_type": "code",
   "execution_count": 41,
   "id": "c3847a5d-dea6-45ba-8bc2-c5f88bce1eb8",
   "metadata": {},
   "outputs": [
    {
     "name": "stdout",
     "output_type": "stream",
     "text": [
      "seed:  6    conv2d:  6    fc_out:  20\n",
      "Epoch 50, Loss: 844.2432358264923\n",
      "epoch duration : 70.238213\n",
      "correct:  1647 \t\t total:  10000 \t\t accuracy:  16.47 %\n",
      "\n",
      "seed:  6    conv2d:  6    fc_out:  50\n",
      "Epoch 50, Loss: 369.7464322447777\n",
      "epoch duration : 70.937807\n",
      "correct:  6054 \t\t total:  10000 \t\t accuracy:  60.54 %\n",
      "\n",
      "seed:  6    conv2d:  15    fc_out:  20\n",
      "Epoch 50, Loss: 334.84444880485535\n",
      "epoch duration : 95.678026\n",
      "correct:  6118 \t\t total:  10000 \t\t accuracy:  61.18 %\n",
      "\n",
      "seed:  6    conv2d:  15    fc_out:  50\n",
      "Epoch 50, Loss: 253.30974259972572\n",
      "epoch duration : 98.183927\n",
      "correct:  6289 \t\t total:  10000 \t\t accuracy:  62.89 %\n",
      "\n",
      "Finished Training\n"
     ]
    }
   ],
   "source": [
    "seed_value = 6   # use 2, 3, 4, 5, 6\n",
    "\n",
    "for conv2d_out_value in [6,15]:\n",
    "    for fc_out_value in [20,50]:\n",
    "\n",
    "        seed_value_list = seed_value_list + [seed_value]\n",
    "        conv2d_out_value_list = conv2d_out_value_list + [conv2d_out_value]\n",
    "        fc_out_value_list = fc_out_value_list + [fc_out_value]\n",
    "\n",
    "        torch.manual_seed(seed_value)\n",
    "        conv2d_out = conv2d_out_value\n",
    "        fc_out = fc_out_value\n",
    "        cnn_model = cnn__model().to(device)\n",
    "\n",
    "        criterion = nn.CrossEntropyLoss()\n",
    "        optimizer = optim.SGD(cnn_model.parameters(), lr=0.0001, momentum=0.75)\n",
    "\n",
    "        print('seed: ', seed_value, '   conv2d: ', conv2d_out_value, '   fc_out: ', fc_out_value)\n",
    "\n",
    "        time_start = datetime.now()\n",
    "\n",
    "        for epoch in range(50):\n",
    "            running_loss = 0.0\n",
    "            for i, data in enumerate(train_dataloader):\n",
    "                inputs, labels = data\n",
    "                optimizer.zero_grad()\n",
    "                outputs = cnn_model(inputs)\n",
    "                loss = criterion(outputs, labels)\n",
    "                loss.backward()\n",
    "                optimizer.step()\n",
    "                running_loss = running_loss + loss.item()\n",
    "\n",
    "        time_end = datetime.now()\n",
    "\n",
    "        print(f\"Epoch {epoch + 1}, Loss: {running_loss}\")\n",
    "\n",
    "        training_duration_second_list = training_duration_second_list + [(time_end-time_start).total_seconds()]\n",
    "        print('epoch duration :', (time_end-time_start).total_seconds())\n",
    "\n",
    "        accuracy_list = accuracy_list + [test_cnn_model()]\n",
    "\n",
    "print('Finished Training')"
   ]
  },
  {
   "cell_type": "code",
   "execution_count": 42,
   "id": "3dc74be0-129e-4f73-9260-fefa395e455f",
   "metadata": {},
   "outputs": [],
   "source": [
    "df = pd.DataFrame(data=zip(seed_value_list,conv2d_out_value_list,fc_out_value_list,training_duration_second_list,accuracy_list),\n",
    "                  columns=['seed','conv2d','fc','duration_second','accuracy'])"
   ]
  },
  {
   "cell_type": "code",
   "execution_count": 43,
   "id": "c821bccb-862b-4dcb-b355-409d31e12e2c",
   "metadata": {},
   "outputs": [],
   "source": [
    "df['model'] = 'base_21'   # change when necessary"
   ]
  },
  {
   "cell_type": "code",
   "execution_count": 44,
   "id": "7e6bd8f7-8723-48a6-bff8-600255ec9065",
   "metadata": {},
   "outputs": [],
   "source": [
    "df.to_csv('base_21.csv', index=False)   # change when necessary"
   ]
  },
  {
   "cell_type": "code",
   "execution_count": null,
   "id": "8ec6cdb3-1b1b-40c6-9983-0c3286cffe43",
   "metadata": {},
   "outputs": [],
   "source": []
  }
 ],
 "metadata": {
  "kernelspec": {
   "display_name": "Python 3 (ipykernel)",
   "language": "python",
   "name": "python3"
  },
  "language_info": {
   "codemirror_mode": {
    "name": "ipython",
    "version": 3
   },
   "file_extension": ".py",
   "mimetype": "text/x-python",
   "name": "python",
   "nbconvert_exporter": "python",
   "pygments_lexer": "ipython3",
   "version": "3.11.5"
  }
 },
 "nbformat": 4,
 "nbformat_minor": 5
}
