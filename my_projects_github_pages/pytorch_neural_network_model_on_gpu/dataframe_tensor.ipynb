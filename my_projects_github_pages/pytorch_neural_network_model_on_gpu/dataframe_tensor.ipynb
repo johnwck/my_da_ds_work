{
 "cells": [
  {
   "cell_type": "markdown",
   "id": "15c8efa8-3d3a-4acf-915e-1372b64f764b",
   "metadata": {},
   "source": [
    "<br>\n",
    "\n",
    "## **Convert from dataframe to tensor**"
   ]
  },
  {
   "cell_type": "markdown",
   "id": "e5b6571c-0dde-40c8-854d-c826f362b10f",
   "metadata": {},
   "source": [
    "<br>\n",
    "\n",
    "## **Method 1**"
   ]
  },
  {
   "cell_type": "code",
   "execution_count": 1,
   "id": "604e6d00-eacc-4b1d-b5a0-ff48413a14f6",
   "metadata": {},
   "outputs": [],
   "source": [
    "import pandas as pd"
   ]
  },
  {
   "cell_type": "code",
   "execution_count": 2,
   "id": "b53ae7ee-5b93-4534-ad3f-de487251c613",
   "metadata": {},
   "outputs": [],
   "source": [
    "df_dataframe = pd.DataFrame({'col_X1': [1,2,3,4,5],\n",
    "                             'col_X2': [2,4,6,8,10],\n",
    "                             'col_y': [10,20,30,40,50]})"
   ]
  },
  {
   "cell_type": "code",
   "execution_count": 3,
   "id": "53d8b3d5-c8d6-4e01-9e75-c4108d619c96",
   "metadata": {},
   "outputs": [
    {
     "data": {
      "text/html": [
       "<div>\n",
       "<style scoped>\n",
       "    .dataframe tbody tr th:only-of-type {\n",
       "        vertical-align: middle;\n",
       "    }\n",
       "\n",
       "    .dataframe tbody tr th {\n",
       "        vertical-align: top;\n",
       "    }\n",
       "\n",
       "    .dataframe thead th {\n",
       "        text-align: right;\n",
       "    }\n",
       "</style>\n",
       "<table border=\"1\" class=\"dataframe\">\n",
       "  <thead>\n",
       "    <tr style=\"text-align: right;\">\n",
       "      <th></th>\n",
       "      <th>col_X1</th>\n",
       "      <th>col_X2</th>\n",
       "      <th>col_y</th>\n",
       "    </tr>\n",
       "  </thead>\n",
       "  <tbody>\n",
       "    <tr>\n",
       "      <th>0</th>\n",
       "      <td>1</td>\n",
       "      <td>2</td>\n",
       "      <td>10</td>\n",
       "    </tr>\n",
       "    <tr>\n",
       "      <th>1</th>\n",
       "      <td>2</td>\n",
       "      <td>4</td>\n",
       "      <td>20</td>\n",
       "    </tr>\n",
       "    <tr>\n",
       "      <th>2</th>\n",
       "      <td>3</td>\n",
       "      <td>6</td>\n",
       "      <td>30</td>\n",
       "    </tr>\n",
       "    <tr>\n",
       "      <th>3</th>\n",
       "      <td>4</td>\n",
       "      <td>8</td>\n",
       "      <td>40</td>\n",
       "    </tr>\n",
       "    <tr>\n",
       "      <th>4</th>\n",
       "      <td>5</td>\n",
       "      <td>10</td>\n",
       "      <td>50</td>\n",
       "    </tr>\n",
       "  </tbody>\n",
       "</table>\n",
       "</div>"
      ],
      "text/plain": [
       "   col_X1  col_X2  col_y\n",
       "0       1       2     10\n",
       "1       2       4     20\n",
       "2       3       6     30\n",
       "3       4       8     40\n",
       "4       5      10     50"
      ]
     },
     "execution_count": 3,
     "metadata": {},
     "output_type": "execute_result"
    }
   ],
   "source": [
    "df_dataframe"
   ]
  },
  {
   "cell_type": "code",
   "execution_count": 4,
   "id": "118b705b-2922-40d2-b3e0-00826e2d4296",
   "metadata": {},
   "outputs": [
    {
     "data": {
      "text/plain": [
       "pandas.core.frame.DataFrame"
      ]
     },
     "execution_count": 4,
     "metadata": {},
     "output_type": "execute_result"
    }
   ],
   "source": [
    "type(df_dataframe)"
   ]
  },
  {
   "cell_type": "code",
   "execution_count": 5,
   "id": "05de3044-1317-4427-b4e9-f0b27f5ceeb4",
   "metadata": {},
   "outputs": [],
   "source": [
    "import torch"
   ]
  },
  {
   "cell_type": "code",
   "execution_count": 6,
   "id": "e28c9590-b802-4810-8717-abbfe02263b5",
   "metadata": {},
   "outputs": [
    {
     "ename": "ValueError",
     "evalue": "could not determine the shape of object type 'DataFrame'",
     "output_type": "error",
     "traceback": [
      "\u001b[1;31m---------------------------------------------------------------------------\u001b[0m",
      "\u001b[1;31mValueError\u001b[0m                                Traceback (most recent call last)",
      "Cell \u001b[1;32mIn[6], line 1\u001b[0m\n\u001b[1;32m----> 1\u001b[0m X \u001b[38;5;241m=\u001b[39m torch\u001b[38;5;241m.\u001b[39mtensor(df_dataframe[[\u001b[38;5;124m'\u001b[39m\u001b[38;5;124mcol_X1\u001b[39m\u001b[38;5;124m'\u001b[39m,\u001b[38;5;124m'\u001b[39m\u001b[38;5;124mcol_X2\u001b[39m\u001b[38;5;124m'\u001b[39m]])\n",
      "\u001b[1;31mValueError\u001b[0m: could not determine the shape of object type 'DataFrame'"
     ]
    }
   ],
   "source": [
    "X = torch.tensor(df_dataframe[['col_X1','col_X2']])"
   ]
  },
  {
   "cell_type": "markdown",
   "id": "616a5d9c-2ff3-45b9-aa39-8fb4f9805fd1",
   "metadata": {},
   "source": [
    "**Error will be encountered. See below or Method 2**\n",
    "\n",
    "<br>"
   ]
  },
  {
   "cell_type": "code",
   "execution_count": 7,
   "id": "93e71b37-7de4-4dfa-9f0a-509e672b11de",
   "metadata": {},
   "outputs": [],
   "source": [
    "df_array_X = df_dataframe[['col_X1','col_X2']].to_numpy(dtype='float32')"
   ]
  },
  {
   "cell_type": "code",
   "execution_count": 8,
   "id": "6a85307a-970d-41d6-8ed2-0063333bdb39",
   "metadata": {},
   "outputs": [
    {
     "data": {
      "text/plain": [
       "array([[ 1.,  2.],\n",
       "       [ 2.,  4.],\n",
       "       [ 3.,  6.],\n",
       "       [ 4.,  8.],\n",
       "       [ 5., 10.]], dtype=float32)"
      ]
     },
     "execution_count": 8,
     "metadata": {},
     "output_type": "execute_result"
    }
   ],
   "source": [
    "df_array_X"
   ]
  },
  {
   "cell_type": "code",
   "execution_count": 9,
   "id": "83b506a7-5ba7-499c-a407-be02ee94bff8",
   "metadata": {},
   "outputs": [],
   "source": [
    "df_array_y = df_dataframe[['col_y']].to_numpy(dtype='float32')"
   ]
  },
  {
   "cell_type": "code",
   "execution_count": 10,
   "id": "2626d359-edb9-4236-a686-bac743064ec1",
   "metadata": {},
   "outputs": [
    {
     "data": {
      "text/plain": [
       "array([[10.],\n",
       "       [20.],\n",
       "       [30.],\n",
       "       [40.],\n",
       "       [50.]], dtype=float32)"
      ]
     },
     "execution_count": 10,
     "metadata": {},
     "output_type": "execute_result"
    }
   ],
   "source": [
    "df_array_y"
   ]
  },
  {
   "cell_type": "code",
   "execution_count": 11,
   "id": "3f465741-0316-42ab-aafd-9edfc3bab335",
   "metadata": {},
   "outputs": [],
   "source": [
    "X = torch.tensor(df_array_X)"
   ]
  },
  {
   "cell_type": "code",
   "execution_count": 12,
   "id": "d8d741d7-8f4a-4268-ad79-d3a9dddf1105",
   "metadata": {},
   "outputs": [
    {
     "data": {
      "text/plain": [
       "tensor([[ 1.,  2.],\n",
       "        [ 2.,  4.],\n",
       "        [ 3.,  6.],\n",
       "        [ 4.,  8.],\n",
       "        [ 5., 10.]])"
      ]
     },
     "execution_count": 12,
     "metadata": {},
     "output_type": "execute_result"
    }
   ],
   "source": [
    "X"
   ]
  },
  {
   "cell_type": "code",
   "execution_count": 13,
   "id": "79676b51-f1a4-4f50-8903-6cc3dfea9a15",
   "metadata": {},
   "outputs": [
    {
     "data": {
      "text/plain": [
       "torch.Tensor"
      ]
     },
     "execution_count": 13,
     "metadata": {},
     "output_type": "execute_result"
    }
   ],
   "source": [
    "type(X)"
   ]
  },
  {
   "cell_type": "code",
   "execution_count": 14,
   "id": "34c88059-d6e8-455e-a356-86cb5c74ed3f",
   "metadata": {},
   "outputs": [
    {
     "data": {
      "text/plain": [
       "torch.float32"
      ]
     },
     "execution_count": 14,
     "metadata": {},
     "output_type": "execute_result"
    }
   ],
   "source": [
    "X.dtype"
   ]
  },
  {
   "cell_type": "code",
   "execution_count": 15,
   "id": "f570f48a-b1f3-4e42-a33d-8689d698e6c2",
   "metadata": {},
   "outputs": [],
   "source": [
    "y = torch.tensor(df_array_y)"
   ]
  },
  {
   "cell_type": "code",
   "execution_count": 16,
   "id": "6e9c7d17-bbeb-4290-b06c-8177f1283939",
   "metadata": {},
   "outputs": [
    {
     "data": {
      "text/plain": [
       "tensor([[10.],\n",
       "        [20.],\n",
       "        [30.],\n",
       "        [40.],\n",
       "        [50.]])"
      ]
     },
     "execution_count": 16,
     "metadata": {},
     "output_type": "execute_result"
    }
   ],
   "source": [
    "y"
   ]
  },
  {
   "cell_type": "code",
   "execution_count": 17,
   "id": "98b1af29-4d77-4874-b3a6-e4eae451f191",
   "metadata": {},
   "outputs": [
    {
     "data": {
      "text/plain": [
       "torch.Tensor"
      ]
     },
     "execution_count": 17,
     "metadata": {},
     "output_type": "execute_result"
    }
   ],
   "source": [
    "type(y)"
   ]
  },
  {
   "cell_type": "code",
   "execution_count": 18,
   "id": "6bfe037a-2a41-408a-9a6a-15737fc7e18b",
   "metadata": {},
   "outputs": [
    {
     "data": {
      "text/plain": [
       "torch.float32"
      ]
     },
     "execution_count": 18,
     "metadata": {},
     "output_type": "execute_result"
    }
   ],
   "source": [
    "y.dtype"
   ]
  },
  {
   "cell_type": "markdown",
   "id": "cd9987c8-d332-4d51-8b85-9c69a55fedec",
   "metadata": {},
   "source": [
    "<br>\n",
    "\n",
    "## **Method 2**"
   ]
  },
  {
   "cell_type": "code",
   "execution_count": 19,
   "id": "ead25335-9b91-4325-87a0-99f1bc7ef726",
   "metadata": {},
   "outputs": [],
   "source": [
    "import pandas as pd"
   ]
  },
  {
   "cell_type": "code",
   "execution_count": 20,
   "id": "9e4dda31-7ff0-4772-8a43-43dc786a4ba6",
   "metadata": {},
   "outputs": [],
   "source": [
    "df_dataframe = pd.DataFrame({'col_X1': [1,2,3,4,5],\n",
    "                             'col_X2': [2,4,6,8,10],\n",
    "                             'col_y': [10,20,30,40,50]})"
   ]
  },
  {
   "cell_type": "code",
   "execution_count": 21,
   "id": "a926315d-2242-4747-8168-687abd143b77",
   "metadata": {},
   "outputs": [
    {
     "data": {
      "text/html": [
       "<div>\n",
       "<style scoped>\n",
       "    .dataframe tbody tr th:only-of-type {\n",
       "        vertical-align: middle;\n",
       "    }\n",
       "\n",
       "    .dataframe tbody tr th {\n",
       "        vertical-align: top;\n",
       "    }\n",
       "\n",
       "    .dataframe thead th {\n",
       "        text-align: right;\n",
       "    }\n",
       "</style>\n",
       "<table border=\"1\" class=\"dataframe\">\n",
       "  <thead>\n",
       "    <tr style=\"text-align: right;\">\n",
       "      <th></th>\n",
       "      <th>col_X1</th>\n",
       "      <th>col_X2</th>\n",
       "      <th>col_y</th>\n",
       "    </tr>\n",
       "  </thead>\n",
       "  <tbody>\n",
       "    <tr>\n",
       "      <th>0</th>\n",
       "      <td>1</td>\n",
       "      <td>2</td>\n",
       "      <td>10</td>\n",
       "    </tr>\n",
       "    <tr>\n",
       "      <th>1</th>\n",
       "      <td>2</td>\n",
       "      <td>4</td>\n",
       "      <td>20</td>\n",
       "    </tr>\n",
       "    <tr>\n",
       "      <th>2</th>\n",
       "      <td>3</td>\n",
       "      <td>6</td>\n",
       "      <td>30</td>\n",
       "    </tr>\n",
       "    <tr>\n",
       "      <th>3</th>\n",
       "      <td>4</td>\n",
       "      <td>8</td>\n",
       "      <td>40</td>\n",
       "    </tr>\n",
       "    <tr>\n",
       "      <th>4</th>\n",
       "      <td>5</td>\n",
       "      <td>10</td>\n",
       "      <td>50</td>\n",
       "    </tr>\n",
       "  </tbody>\n",
       "</table>\n",
       "</div>"
      ],
      "text/plain": [
       "   col_X1  col_X2  col_y\n",
       "0       1       2     10\n",
       "1       2       4     20\n",
       "2       3       6     30\n",
       "3       4       8     40\n",
       "4       5      10     50"
      ]
     },
     "execution_count": 21,
     "metadata": {},
     "output_type": "execute_result"
    }
   ],
   "source": [
    "df_dataframe"
   ]
  },
  {
   "cell_type": "code",
   "execution_count": 22,
   "id": "99e57236-3508-4ab4-870a-4e5bf85ddb4a",
   "metadata": {},
   "outputs": [
    {
     "data": {
      "text/plain": [
       "pandas.core.frame.DataFrame"
      ]
     },
     "execution_count": 22,
     "metadata": {},
     "output_type": "execute_result"
    }
   ],
   "source": [
    "type(df_dataframe)"
   ]
  },
  {
   "cell_type": "code",
   "execution_count": 23,
   "id": "86348606-9062-42c9-9f72-7ee9f97bba02",
   "metadata": {},
   "outputs": [],
   "source": [
    "import torch"
   ]
  },
  {
   "cell_type": "code",
   "execution_count": 24,
   "id": "5edd9241-c84e-4701-9bda-627c9988461b",
   "metadata": {},
   "outputs": [],
   "source": [
    "X = torch.tensor(df_dataframe[['col_X1','col_X2']].values).float()"
   ]
  },
  {
   "cell_type": "code",
   "execution_count": 25,
   "id": "1e29df98-0c79-499b-8901-c280a923624d",
   "metadata": {},
   "outputs": [
    {
     "data": {
      "text/plain": [
       "tensor([[ 1.,  2.],\n",
       "        [ 2.,  4.],\n",
       "        [ 3.,  6.],\n",
       "        [ 4.,  8.],\n",
       "        [ 5., 10.]])"
      ]
     },
     "execution_count": 25,
     "metadata": {},
     "output_type": "execute_result"
    }
   ],
   "source": [
    "X"
   ]
  },
  {
   "cell_type": "code",
   "execution_count": 26,
   "id": "ec38f819-cc48-4d9a-91ca-00b77dbd42ff",
   "metadata": {},
   "outputs": [
    {
     "data": {
      "text/plain": [
       "torch.Tensor"
      ]
     },
     "execution_count": 26,
     "metadata": {},
     "output_type": "execute_result"
    }
   ],
   "source": [
    "type(X)"
   ]
  },
  {
   "cell_type": "code",
   "execution_count": 27,
   "id": "623dc40e-6bf6-47c2-95a7-b2f5c3139474",
   "metadata": {},
   "outputs": [
    {
     "data": {
      "text/plain": [
       "torch.float32"
      ]
     },
     "execution_count": 27,
     "metadata": {},
     "output_type": "execute_result"
    }
   ],
   "source": [
    "X.dtype"
   ]
  },
  {
   "cell_type": "code",
   "execution_count": 28,
   "id": "9afd726b-a1c8-46f5-9cd5-837c92f08885",
   "metadata": {},
   "outputs": [],
   "source": [
    "y = torch.tensor(df_dataframe[['col_y']].values).float()"
   ]
  },
  {
   "cell_type": "code",
   "execution_count": 29,
   "id": "110ce12e-6cb3-402e-b168-6a2d526612da",
   "metadata": {},
   "outputs": [
    {
     "data": {
      "text/plain": [
       "tensor([[10.],\n",
       "        [20.],\n",
       "        [30.],\n",
       "        [40.],\n",
       "        [50.]])"
      ]
     },
     "execution_count": 29,
     "metadata": {},
     "output_type": "execute_result"
    }
   ],
   "source": [
    "y"
   ]
  },
  {
   "cell_type": "code",
   "execution_count": 30,
   "id": "c20967ee-c7ca-4e4e-92d5-56896b824eab",
   "metadata": {},
   "outputs": [
    {
     "data": {
      "text/plain": [
       "torch.Tensor"
      ]
     },
     "execution_count": 30,
     "metadata": {},
     "output_type": "execute_result"
    }
   ],
   "source": [
    "type(y)"
   ]
  },
  {
   "cell_type": "code",
   "execution_count": 31,
   "id": "5717c2be-ed64-42e5-97a0-b43f209b3bc8",
   "metadata": {},
   "outputs": [
    {
     "data": {
      "text/plain": [
       "torch.float32"
      ]
     },
     "execution_count": 31,
     "metadata": {},
     "output_type": "execute_result"
    }
   ],
   "source": [
    "y.dtype"
   ]
  }
 ],
 "metadata": {
  "kernelspec": {
   "display_name": "Python 3 (ipykernel)",
   "language": "python",
   "name": "python3"
  },
  "language_info": {
   "codemirror_mode": {
    "name": "ipython",
    "version": 3
   },
   "file_extension": ".py",
   "mimetype": "text/x-python",
   "name": "python",
   "nbconvert_exporter": "python",
   "pygments_lexer": "ipython3",
   "version": "3.11.5"
  }
 },
 "nbformat": 4,
 "nbformat_minor": 5
}
