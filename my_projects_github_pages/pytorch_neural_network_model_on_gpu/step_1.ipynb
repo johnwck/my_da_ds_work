{
 "cells": [
  {
   "cell_type": "markdown",
   "id": "fd42dd4b-bc16-41e9-ad1b-b22aae9d03a5",
   "metadata": {},
   "source": [
    "<br>\n",
    "\n",
    "**This jupyter notebook touches on**\n",
    "* **Pandas dataframe, Numpy array, PyTorch Tensor**\n",
    "* **PyTorch Dataset method**\n",
    "* **PyTorch DataLoader method (batch and shuffle)**"
   ]
  },
  {
   "cell_type": "markdown",
   "id": "c91c1dac-61c6-4054-90c0-71e9fb6fd18b",
   "metadata": {},
   "source": [
    "<br>\n",
    "\n",
    "## **Step 1: Import**"
   ]
  },
  {
   "cell_type": "code",
   "execution_count": 1,
   "id": "f1062a02-6bf5-44d0-9f93-197e2dae268b",
   "metadata": {},
   "outputs": [],
   "source": [
    "import pandas as pd\n",
    "import torch\n",
    "from torch.utils.data import Dataset, DataLoader"
   ]
  },
  {
   "cell_type": "markdown",
   "id": "85baa78b-7a27-4158-8cef-414c5cf0b7b8",
   "metadata": {},
   "source": [
    "<br>\n",
    "\n",
    "## **Step 2: Read**"
   ]
  },
  {
   "cell_type": "code",
   "execution_count": 2,
   "id": "044dd426-5f4d-4b9e-aedf-4a6908a354e5",
   "metadata": {},
   "outputs": [],
   "source": [
    "data_df = pd.read_csv('step_1.csv')"
   ]
  },
  {
   "cell_type": "code",
   "execution_count": 3,
   "id": "a77a6ce3-5fd1-4ba5-8ac0-b82e9770fe0d",
   "metadata": {},
   "outputs": [
    {
     "data": {
      "text/html": [
       "<div>\n",
       "<style scoped>\n",
       "    .dataframe tbody tr th:only-of-type {\n",
       "        vertical-align: middle;\n",
       "    }\n",
       "\n",
       "    .dataframe tbody tr th {\n",
       "        vertical-align: top;\n",
       "    }\n",
       "\n",
       "    .dataframe thead th {\n",
       "        text-align: right;\n",
       "    }\n",
       "</style>\n",
       "<table border=\"1\" class=\"dataframe\">\n",
       "  <thead>\n",
       "    <tr style=\"text-align: right;\">\n",
       "      <th></th>\n",
       "      <th>X1</th>\n",
       "      <th>X2</th>\n",
       "      <th>y</th>\n",
       "    </tr>\n",
       "  </thead>\n",
       "  <tbody>\n",
       "    <tr>\n",
       "      <th>0</th>\n",
       "      <td>1.1</td>\n",
       "      <td>11.1</td>\n",
       "      <td>21.1</td>\n",
       "    </tr>\n",
       "    <tr>\n",
       "      <th>1</th>\n",
       "      <td>1.2</td>\n",
       "      <td>11.2</td>\n",
       "      <td>21.2</td>\n",
       "    </tr>\n",
       "    <tr>\n",
       "      <th>2</th>\n",
       "      <td>1.3</td>\n",
       "      <td>11.3</td>\n",
       "      <td>21.3</td>\n",
       "    </tr>\n",
       "    <tr>\n",
       "      <th>3</th>\n",
       "      <td>1.4</td>\n",
       "      <td>11.4</td>\n",
       "      <td>21.4</td>\n",
       "    </tr>\n",
       "    <tr>\n",
       "      <th>4</th>\n",
       "      <td>1.5</td>\n",
       "      <td>11.5</td>\n",
       "      <td>21.5</td>\n",
       "    </tr>\n",
       "  </tbody>\n",
       "</table>\n",
       "</div>"
      ],
      "text/plain": [
       "    X1    X2     y\n",
       "0  1.1  11.1  21.1\n",
       "1  1.2  11.2  21.2\n",
       "2  1.3  11.3  21.3\n",
       "3  1.4  11.4  21.4\n",
       "4  1.5  11.5  21.5"
      ]
     },
     "execution_count": 3,
     "metadata": {},
     "output_type": "execute_result"
    }
   ],
   "source": [
    "data_df.head()"
   ]
  },
  {
   "cell_type": "markdown",
   "id": "df1ae21f-dee6-4859-9721-e1bfb427f12b",
   "metadata": {},
   "source": [
    "<br>\n",
    "\n",
    "## **Step 3: Convert from Pandas dataframe to Numpy array**"
   ]
  },
  {
   "cell_type": "code",
   "execution_count": 4,
   "id": "318e145e-79e7-47a6-b797-4f020c0baf77",
   "metadata": {},
   "outputs": [],
   "source": [
    "X = data_df[['X1','X2']].to_numpy()\n",
    "y = data_df[['y']].to_numpy()"
   ]
  },
  {
   "cell_type": "code",
   "execution_count": 5,
   "id": "2bcea319-99ae-459a-8365-7bd5552aacca",
   "metadata": {},
   "outputs": [
    {
     "data": {
      "text/plain": [
       "array([[ 1.1, 11.1],\n",
       "       [ 1.2, 11.2],\n",
       "       [ 1.3, 11.3],\n",
       "       [ 1.4, 11.4],\n",
       "       [ 1.5, 11.5]])"
      ]
     },
     "execution_count": 5,
     "metadata": {},
     "output_type": "execute_result"
    }
   ],
   "source": [
    "X[:5]"
   ]
  },
  {
   "cell_type": "code",
   "execution_count": 6,
   "id": "7b382f1f-489a-4b85-975a-77367550f4b2",
   "metadata": {},
   "outputs": [
    {
     "data": {
      "text/plain": [
       "array([[21.1],\n",
       "       [21.2],\n",
       "       [21.3],\n",
       "       [21.4],\n",
       "       [21.5]])"
      ]
     },
     "execution_count": 6,
     "metadata": {},
     "output_type": "execute_result"
    }
   ],
   "source": [
    "y[:5]"
   ]
  },
  {
   "cell_type": "markdown",
   "id": "303d4a6c-8ced-4497-904a-01368bc039d1",
   "metadata": {},
   "source": [
    "<br>\n",
    "\n",
    "## **Step 4: Convert from Numpy array to PyTorch tensor**"
   ]
  },
  {
   "cell_type": "code",
   "execution_count": 7,
   "id": "afc9702b-64b5-4768-ac98-5a2e6d79db07",
   "metadata": {},
   "outputs": [],
   "source": [
    "X = torch.tensor(X)\n",
    "y = torch.tensor(y).reshape(-1,1)"
   ]
  },
  {
   "cell_type": "code",
   "execution_count": 8,
   "id": "21fbdf6f-90c6-4f60-9e5d-f75140737360",
   "metadata": {},
   "outputs": [
    {
     "data": {
      "text/plain": [
       "tensor([[ 1.1000, 11.1000],\n",
       "        [ 1.2000, 11.2000],\n",
       "        [ 1.3000, 11.3000],\n",
       "        [ 1.4000, 11.4000],\n",
       "        [ 1.5000, 11.5000]], dtype=torch.float64)"
      ]
     },
     "execution_count": 8,
     "metadata": {},
     "output_type": "execute_result"
    }
   ],
   "source": [
    "X[:5]"
   ]
  },
  {
   "cell_type": "code",
   "execution_count": 9,
   "id": "d2ee1e3d-d500-44e3-a735-1c18581817aa",
   "metadata": {},
   "outputs": [
    {
     "data": {
      "text/plain": [
       "tensor([[21.1000],\n",
       "        [21.2000],\n",
       "        [21.3000],\n",
       "        [21.4000],\n",
       "        [21.5000]], dtype=torch.float64)"
      ]
     },
     "execution_count": 9,
     "metadata": {},
     "output_type": "execute_result"
    }
   ],
   "source": [
    "y[:5]"
   ]
  },
  {
   "cell_type": "markdown",
   "id": "8ce78438-b1fc-4b50-9bbb-426236280922",
   "metadata": {},
   "source": [
    "**Actually, Pandas dataframe can be converted to PyTorch tensor directly.**"
   ]
  },
  {
   "cell_type": "markdown",
   "id": "17a78e77-729a-4e8c-a071-875a5b85390b",
   "metadata": {},
   "source": [
    "<br>\n",
    "\n",
    "## **Step 5: Set up custom dataset using torch.utils.data.Dataset**"
   ]
  },
  {
   "cell_type": "code",
   "execution_count": 10,
   "id": "97d7ea0d-9af6-4743-817b-cc20cab6662a",
   "metadata": {},
   "outputs": [],
   "source": [
    "class CustomDataset(Dataset):\n",
    "    def __init__(self, X, y):\n",
    "        self.y = y\n",
    "        self.X = X\n",
    "    def __len__(self):\n",
    "        return len(self.y)\n",
    "    def __getitem__(self, idx):\n",
    "        y = self.y[idx]\n",
    "        X = self.X[idx]\n",
    "        return X, y"
   ]
  },
  {
   "cell_type": "code",
   "execution_count": 11,
   "id": "f481e613-bb7b-4fca-859d-9b943241d7dd",
   "metadata": {},
   "outputs": [],
   "source": [
    "df_dataset = CustomDataset(X, y)"
   ]
  },
  {
   "cell_type": "code",
   "execution_count": 12,
   "id": "ec97a446-911b-460f-b12b-708c6ee4610a",
   "metadata": {},
   "outputs": [
    {
     "name": "stdout",
     "output_type": "stream",
     "text": [
      "[ 1.1 11.1] \t [21.1]\n",
      "[ 1.2 11.2] \t [21.2]\n",
      "[ 1.3 11.3] \t [21.3]\n",
      "[ 1.4 11.4] \t [21.4]\n",
      "[ 1.5 11.5] \t [21.5]\n",
      "[ 1.6 11.6] \t [21.6]\n",
      "[ 1.7 11.7] \t [21.7]\n",
      "[ 1.8 11.8] \t [21.8]\n",
      "[ 1.9 11.9] \t [21.9]\n",
      "[ 2. 12.] \t [22.]\n",
      "[ 2.1 12.1] \t [22.1]\n",
      "[ 2.2 12.2] \t [22.2]\n",
      "[ 2.3 12.3] \t [22.3]\n",
      "[ 2.4 12.4] \t [22.4]\n",
      "[ 2.5 12.5] \t [22.5]\n",
      "[ 2.6 12.6] \t [22.6]\n",
      "[ 2.7 12.7] \t [22.7]\n",
      "[ 2.8 12.8] \t [22.8]\n",
      "[ 2.9 12.9] \t [22.9]\n",
      "[ 3. 13.] \t [23.]\n",
      "[ 3.1 13.1] \t [23.1]\n",
      "[ 3.2 13.2] \t [23.2]\n",
      "[ 3.3 13.3] \t [23.3]\n",
      "[ 3.4 13.4] \t [23.4]\n",
      "[ 3.5 13.5] \t [23.5]\n",
      "[ 3.6 13.6] \t [23.6]\n",
      "[ 3.7 13.7] \t [23.7]\n",
      "[ 3.8 13.8] \t [23.8]\n",
      "[ 3.9 13.9] \t [23.9]\n",
      "[ 4. 14.] \t [24.]\n"
     ]
    }
   ],
   "source": [
    "for i, j in df_dataset:\n",
    "    print(i.numpy(), '\\t', j.numpy())"
   ]
  },
  {
   "cell_type": "markdown",
   "id": "dc8efec7-899e-429a-b6ea-9ce493ed8593",
   "metadata": {},
   "source": [
    "<br>\n",
    "\n",
    "## **Step 6a: Set up custom dataloader using torch.utils.data.DataLoader - No batch**"
   ]
  },
  {
   "cell_type": "code",
   "execution_count": 13,
   "id": "d03a4441-382e-40c8-99bc-bd299e7d88a2",
   "metadata": {},
   "outputs": [],
   "source": [
    "df_dataloader = DataLoader(df_dataset)"
   ]
  },
  {
   "cell_type": "code",
   "execution_count": 14,
   "id": "a4c3fcd9-9a40-4e8b-ade1-ea5938bab925",
   "metadata": {},
   "outputs": [
    {
     "name": "stdout",
     "output_type": "stream",
     "text": [
      "             X       y\n",
      "0  [1.1, 11.1]  [21.1]\n",
      "             X       y\n",
      "0  [1.2, 11.2]  [21.2]\n",
      "             X       y\n",
      "0  [1.3, 11.3]  [21.3]\n",
      "             X       y\n",
      "0  [1.4, 11.4]  [21.4]\n",
      "             X       y\n",
      "0  [1.5, 11.5]  [21.5]\n",
      "             X       y\n",
      "0  [1.6, 11.6]  [21.6]\n",
      "             X       y\n",
      "0  [1.7, 11.7]  [21.7]\n",
      "             X       y\n",
      "0  [1.8, 11.8]  [21.8]\n",
      "             X       y\n",
      "0  [1.9, 11.9]  [21.9]\n",
      "             X       y\n",
      "0  [2.0, 12.0]  [22.0]\n",
      "             X       y\n",
      "0  [2.1, 12.1]  [22.1]\n",
      "             X       y\n",
      "0  [2.2, 12.2]  [22.2]\n",
      "             X       y\n",
      "0  [2.3, 12.3]  [22.3]\n",
      "             X       y\n",
      "0  [2.4, 12.4]  [22.4]\n",
      "             X       y\n",
      "0  [2.5, 12.5]  [22.5]\n",
      "             X       y\n",
      "0  [2.6, 12.6]  [22.6]\n",
      "             X       y\n",
      "0  [2.7, 12.7]  [22.7]\n",
      "             X       y\n",
      "0  [2.8, 12.8]  [22.8]\n",
      "             X       y\n",
      "0  [2.9, 12.9]  [22.9]\n",
      "             X       y\n",
      "0  [3.0, 13.0]  [23.0]\n",
      "             X       y\n",
      "0  [3.1, 13.1]  [23.1]\n",
      "             X       y\n",
      "0  [3.2, 13.2]  [23.2]\n",
      "             X       y\n",
      "0  [3.3, 13.3]  [23.3]\n",
      "             X       y\n",
      "0  [3.4, 13.4]  [23.4]\n",
      "             X       y\n",
      "0  [3.5, 13.5]  [23.5]\n",
      "             X       y\n",
      "0  [3.6, 13.6]  [23.6]\n",
      "             X       y\n",
      "0  [3.7, 13.7]  [23.7]\n",
      "             X       y\n",
      "0  [3.8, 13.8]  [23.8]\n",
      "             X       y\n",
      "0  [3.9, 13.9]  [23.9]\n",
      "             X       y\n",
      "0  [4.0, 14.0]  [24.0]\n"
     ]
    }
   ],
   "source": [
    "for i, j in df_dataloader:\n",
    "    print(pd.DataFrame(zip(i.numpy(), j.numpy()), columns=['X','y']))"
   ]
  },
  {
   "cell_type": "markdown",
   "id": "c773cf83-df59-4c8e-9f03-34b5b2181999",
   "metadata": {},
   "source": [
    "<br>\n",
    "\n",
    "## **Step 6b: Set up custom dataloader using torch.utils.data.DataLoader - Batch of 9**"
   ]
  },
  {
   "cell_type": "code",
   "execution_count": 15,
   "id": "df06d932-fd3b-41e9-933f-751837127d83",
   "metadata": {},
   "outputs": [],
   "source": [
    "df_dataloader = DataLoader(df_dataset, batch_size=9)"
   ]
  },
  {
   "cell_type": "code",
   "execution_count": 16,
   "id": "82c9cf1b-ea84-4358-b9ae-84671c57298e",
   "metadata": {},
   "outputs": [
    {
     "name": "stdout",
     "output_type": "stream",
     "text": [
      "             X       y\n",
      "0  [1.1, 11.1]  [21.1]\n",
      "1  [1.2, 11.2]  [21.2]\n",
      "2  [1.3, 11.3]  [21.3]\n",
      "3  [1.4, 11.4]  [21.4]\n",
      "4  [1.5, 11.5]  [21.5]\n",
      "5  [1.6, 11.6]  [21.6]\n",
      "6  [1.7, 11.7]  [21.7]\n",
      "7  [1.8, 11.8]  [21.8]\n",
      "8  [1.9, 11.9]  [21.9]\n",
      "             X       y\n",
      "0  [2.0, 12.0]  [22.0]\n",
      "1  [2.1, 12.1]  [22.1]\n",
      "2  [2.2, 12.2]  [22.2]\n",
      "3  [2.3, 12.3]  [22.3]\n",
      "4  [2.4, 12.4]  [22.4]\n",
      "5  [2.5, 12.5]  [22.5]\n",
      "6  [2.6, 12.6]  [22.6]\n",
      "7  [2.7, 12.7]  [22.7]\n",
      "8  [2.8, 12.8]  [22.8]\n",
      "             X       y\n",
      "0  [2.9, 12.9]  [22.9]\n",
      "1  [3.0, 13.0]  [23.0]\n",
      "2  [3.1, 13.1]  [23.1]\n",
      "3  [3.2, 13.2]  [23.2]\n",
      "4  [3.3, 13.3]  [23.3]\n",
      "5  [3.4, 13.4]  [23.4]\n",
      "6  [3.5, 13.5]  [23.5]\n",
      "7  [3.6, 13.6]  [23.6]\n",
      "8  [3.7, 13.7]  [23.7]\n",
      "             X       y\n",
      "0  [3.8, 13.8]  [23.8]\n",
      "1  [3.9, 13.9]  [23.9]\n",
      "2  [4.0, 14.0]  [24.0]\n"
     ]
    }
   ],
   "source": [
    "for i, j in df_dataloader:\n",
    "    print(pd.DataFrame(zip(i.numpy(), j.numpy()), columns=['X','y']))"
   ]
  },
  {
   "cell_type": "markdown",
   "id": "5d1d30b0-6d84-4274-8bf2-d541de31a280",
   "metadata": {},
   "source": [
    "**You can see batches of 9 data points with every point in same order as original dataframe**"
   ]
  },
  {
   "cell_type": "markdown",
   "id": "03a787fc-cfee-4d2a-9d3e-a1aaa4df4b17",
   "metadata": {},
   "source": [
    "<br>\n",
    "\n",
    "## **Step 6c: Set up custom dataloader using torch.utils.data.DataLoader - Batch of 9 with shuffle**"
   ]
  },
  {
   "cell_type": "code",
   "execution_count": 17,
   "id": "2e663c73-ea41-4171-96e5-6f507677d6a2",
   "metadata": {},
   "outputs": [],
   "source": [
    "df_dataloader = DataLoader(df_dataset, batch_size=9, shuffle=True)"
   ]
  },
  {
   "cell_type": "code",
   "execution_count": 18,
   "id": "4ced48f6-bc75-4b1e-b42b-46cafacf261e",
   "metadata": {},
   "outputs": [
    {
     "name": "stdout",
     "output_type": "stream",
     "text": [
      "             X       y\n",
      "0  [3.4, 13.4]  [23.4]\n",
      "1  [3.3, 13.3]  [23.3]\n",
      "2  [2.6, 12.6]  [22.6]\n",
      "3  [1.6, 11.6]  [21.6]\n",
      "4  [2.4, 12.4]  [22.4]\n",
      "5  [3.2, 13.2]  [23.2]\n",
      "6  [1.5, 11.5]  [21.5]\n",
      "7  [4.0, 14.0]  [24.0]\n",
      "8  [2.3, 12.3]  [22.3]\n",
      "             X       y\n",
      "0  [1.2, 11.2]  [21.2]\n",
      "1  [1.4, 11.4]  [21.4]\n",
      "2  [2.1, 12.1]  [22.1]\n",
      "3  [2.7, 12.7]  [22.7]\n",
      "4  [1.8, 11.8]  [21.8]\n",
      "5  [3.5, 13.5]  [23.5]\n",
      "6  [2.8, 12.8]  [22.8]\n",
      "7  [2.2, 12.2]  [22.2]\n",
      "8  [3.6, 13.6]  [23.6]\n",
      "             X       y\n",
      "0  [3.8, 13.8]  [23.8]\n",
      "1  [3.0, 13.0]  [23.0]\n",
      "2  [2.0, 12.0]  [22.0]\n",
      "3  [2.5, 12.5]  [22.5]\n",
      "4  [3.7, 13.7]  [23.7]\n",
      "5  [1.3, 11.3]  [21.3]\n",
      "6  [1.9, 11.9]  [21.9]\n",
      "7  [3.1, 13.1]  [23.1]\n",
      "8  [3.9, 13.9]  [23.9]\n",
      "             X       y\n",
      "0  [1.7, 11.7]  [21.7]\n",
      "1  [1.1, 11.1]  [21.1]\n",
      "2  [2.9, 12.9]  [22.9]\n"
     ]
    }
   ],
   "source": [
    "for i, j in df_dataloader:\n",
    "    print(pd.DataFrame(zip(i.numpy(), j.numpy()), columns=['X','y']))"
   ]
  },
  {
   "cell_type": "markdown",
   "id": "4ee92c35-e57a-4e36-aa00-18603b87a569",
   "metadata": {},
   "source": [
    "**You can see batches of 9 data points with every point <u>NOT</u> in same order as original dataframe**"
   ]
  },
  {
   "cell_type": "code",
   "execution_count": null,
   "id": "d52b90da-63c1-46a3-b6bf-3292430d4bab",
   "metadata": {},
   "outputs": [],
   "source": []
  }
 ],
 "metadata": {
  "kernelspec": {
   "display_name": "Python 3 (ipykernel)",
   "language": "python",
   "name": "python3"
  },
  "language_info": {
   "codemirror_mode": {
    "name": "ipython",
    "version": 3
   },
   "file_extension": ".py",
   "mimetype": "text/x-python",
   "name": "python",
   "nbconvert_exporter": "python",
   "pygments_lexer": "ipython3",
   "version": "3.11.5"
  }
 },
 "nbformat": 4,
 "nbformat_minor": 5
}
