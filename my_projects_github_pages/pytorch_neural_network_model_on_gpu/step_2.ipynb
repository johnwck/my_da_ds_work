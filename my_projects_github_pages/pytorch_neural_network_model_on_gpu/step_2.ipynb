{
 "cells": [
  {
   "cell_type": "markdown",
   "id": "0e0538c9-dbb2-420e-be93-c68d03b96d5e",
   "metadata": {},
   "source": [
    "<br>\n",
    "\n",
    "**This jupyter notebook touches on**\n",
    "* **Set up GPU**\n",
    "* **Push model and tensor to GPU for training**"
   ]
  },
  {
   "cell_type": "markdown",
   "id": "470e9831-dbdb-438b-bea4-38af7347e4a3",
   "metadata": {},
   "source": [
    "<br>\n",
    "\n",
    "## **Step 1: Import**"
   ]
  },
  {
   "cell_type": "code",
   "execution_count": 1,
   "id": "abef6051-cd48-4ae8-a671-d1aeba40f152",
   "metadata": {
    "tags": []
   },
   "outputs": [],
   "source": [
    "import pandas as pd\n",
    "import torch\n",
    "import torch.nn as nn\n",
    "import torch.optim as optim\n",
    "from torch.utils.data import Dataset, DataLoader"
   ]
  },
  {
   "cell_type": "markdown",
   "id": "4dd7eaa4-5638-4609-933f-fd73d5f9b538",
   "metadata": {},
   "source": [
    "<br>\n",
    "\n",
    "## **Step 2: Read**"
   ]
  },
  {
   "cell_type": "code",
   "execution_count": 2,
   "id": "37a6e106-ced5-458b-93ba-e41d1502c0c9",
   "metadata": {
    "tags": []
   },
   "outputs": [
    {
     "data": {
      "text/html": [
       "<div>\n",
       "<style scoped>\n",
       "    .dataframe tbody tr th:only-of-type {\n",
       "        vertical-align: middle;\n",
       "    }\n",
       "\n",
       "    .dataframe tbody tr th {\n",
       "        vertical-align: top;\n",
       "    }\n",
       "\n",
       "    .dataframe thead th {\n",
       "        text-align: right;\n",
       "    }\n",
       "</style>\n",
       "<table border=\"1\" class=\"dataframe\">\n",
       "  <thead>\n",
       "    <tr style=\"text-align: right;\">\n",
       "      <th></th>\n",
       "      <th>no_pregnant</th>\n",
       "      <th>glucose</th>\n",
       "      <th>diastolic</th>\n",
       "      <th>skin_fold</th>\n",
       "      <th>insulin</th>\n",
       "      <th>bmi</th>\n",
       "      <th>pedigree</th>\n",
       "      <th>age</th>\n",
       "      <th>diabetic</th>\n",
       "    </tr>\n",
       "  </thead>\n",
       "  <tbody>\n",
       "    <tr>\n",
       "      <th>0</th>\n",
       "      <td>6</td>\n",
       "      <td>148</td>\n",
       "      <td>72</td>\n",
       "      <td>35</td>\n",
       "      <td>0</td>\n",
       "      <td>33.6</td>\n",
       "      <td>0.627</td>\n",
       "      <td>50</td>\n",
       "      <td>1</td>\n",
       "    </tr>\n",
       "    <tr>\n",
       "      <th>1</th>\n",
       "      <td>1</td>\n",
       "      <td>85</td>\n",
       "      <td>66</td>\n",
       "      <td>29</td>\n",
       "      <td>0</td>\n",
       "      <td>26.6</td>\n",
       "      <td>0.351</td>\n",
       "      <td>31</td>\n",
       "      <td>0</td>\n",
       "    </tr>\n",
       "    <tr>\n",
       "      <th>2</th>\n",
       "      <td>8</td>\n",
       "      <td>183</td>\n",
       "      <td>64</td>\n",
       "      <td>0</td>\n",
       "      <td>0</td>\n",
       "      <td>23.3</td>\n",
       "      <td>0.672</td>\n",
       "      <td>32</td>\n",
       "      <td>1</td>\n",
       "    </tr>\n",
       "    <tr>\n",
       "      <th>3</th>\n",
       "      <td>1</td>\n",
       "      <td>89</td>\n",
       "      <td>66</td>\n",
       "      <td>23</td>\n",
       "      <td>94</td>\n",
       "      <td>28.1</td>\n",
       "      <td>0.167</td>\n",
       "      <td>21</td>\n",
       "      <td>0</td>\n",
       "    </tr>\n",
       "    <tr>\n",
       "      <th>4</th>\n",
       "      <td>0</td>\n",
       "      <td>137</td>\n",
       "      <td>40</td>\n",
       "      <td>35</td>\n",
       "      <td>168</td>\n",
       "      <td>43.1</td>\n",
       "      <td>2.288</td>\n",
       "      <td>33</td>\n",
       "      <td>1</td>\n",
       "    </tr>\n",
       "  </tbody>\n",
       "</table>\n",
       "</div>"
      ],
      "text/plain": [
       "   no_pregnant  glucose  diastolic  skin_fold  insulin   bmi  pedigree  age  \\\n",
       "0            6      148         72         35        0  33.6     0.627   50   \n",
       "1            1       85         66         29        0  26.6     0.351   31   \n",
       "2            8      183         64          0        0  23.3     0.672   32   \n",
       "3            1       89         66         23       94  28.1     0.167   21   \n",
       "4            0      137         40         35      168  43.1     2.288   33   \n",
       "\n",
       "   diabetic  \n",
       "0         1  \n",
       "1         0  \n",
       "2         1  \n",
       "3         0  \n",
       "4         1  "
      ]
     },
     "execution_count": 2,
     "metadata": {},
     "output_type": "execute_result"
    }
   ],
   "source": [
    "dataset = pd.read_csv('step_2.csv')\n",
    "dataset.head()"
   ]
  },
  {
   "cell_type": "markdown",
   "id": "44cbb870-30d8-42c4-98e5-0c82b7fce72c",
   "metadata": {},
   "source": [
    "<br>\n",
    "\n",
    "## **Step 3: Assign features (X) and target (y)**"
   ]
  },
  {
   "cell_type": "code",
   "execution_count": 3,
   "id": "a1925523-43b2-418e-837d-a0f0c602e4e4",
   "metadata": {
    "tags": []
   },
   "outputs": [],
   "source": [
    "X = dataset.iloc[:, 0:8]\n",
    "y = dataset.iloc[:, 8]"
   ]
  },
  {
   "cell_type": "markdown",
   "id": "c3b409a7-a5eb-4e15-a366-bbddc0e20e47",
   "metadata": {},
   "source": [
    "<br>\n",
    "\n",
    "## **Step 4: Convert from Pandas dataframe to Numpy array**"
   ]
  },
  {
   "cell_type": "code",
   "execution_count": 4,
   "id": "2ebadbf2-2690-4154-babb-731800013245",
   "metadata": {
    "tags": []
   },
   "outputs": [],
   "source": [
    "X = X.to_numpy()\n",
    "y = y.to_numpy()"
   ]
  },
  {
   "cell_type": "code",
   "execution_count": 5,
   "id": "45c4bab1-672f-4a3f-8b4e-7f8a9eee51e3",
   "metadata": {},
   "outputs": [
    {
     "data": {
      "text/plain": [
       "array([[6.000e+00, 1.480e+02, 7.200e+01, 3.500e+01, 0.000e+00, 3.360e+01,\n",
       "        6.270e-01, 5.000e+01],\n",
       "       [1.000e+00, 8.500e+01, 6.600e+01, 2.900e+01, 0.000e+00, 2.660e+01,\n",
       "        3.510e-01, 3.100e+01],\n",
       "       [8.000e+00, 1.830e+02, 6.400e+01, 0.000e+00, 0.000e+00, 2.330e+01,\n",
       "        6.720e-01, 3.200e+01],\n",
       "       [1.000e+00, 8.900e+01, 6.600e+01, 2.300e+01, 9.400e+01, 2.810e+01,\n",
       "        1.670e-01, 2.100e+01],\n",
       "       [0.000e+00, 1.370e+02, 4.000e+01, 3.500e+01, 1.680e+02, 4.310e+01,\n",
       "        2.288e+00, 3.300e+01]])"
      ]
     },
     "execution_count": 5,
     "metadata": {},
     "output_type": "execute_result"
    }
   ],
   "source": [
    "X[:5]"
   ]
  },
  {
   "cell_type": "code",
   "execution_count": 6,
   "id": "3c3cc864-af59-487a-bee2-6d5ec9efed95",
   "metadata": {},
   "outputs": [
    {
     "data": {
      "text/plain": [
       "array([1, 0, 1, 0, 1], dtype=int64)"
      ]
     },
     "execution_count": 6,
     "metadata": {},
     "output_type": "execute_result"
    }
   ],
   "source": [
    "y[:5]"
   ]
  },
  {
   "cell_type": "markdown",
   "id": "1c7b6fc3-9781-4b0b-9be5-3d4c806fdb93",
   "metadata": {},
   "source": [
    "<br>\n",
    "\n",
    "## **Step 5: Convert from Numpy array to PyTorch tensor**"
   ]
  },
  {
   "cell_type": "code",
   "execution_count": 7,
   "id": "73c874a9-ea57-4b45-b635-1c3170db156c",
   "metadata": {
    "tags": []
   },
   "outputs": [],
   "source": [
    "X = torch.tensor(X, dtype=torch.float32)\n",
    "y = torch.tensor(y, dtype=torch.float32).reshape(-1, 1)"
   ]
  },
  {
   "cell_type": "code",
   "execution_count": 8,
   "id": "3d55f9fc-0ae2-4222-9ca3-fc7ed883db79",
   "metadata": {},
   "outputs": [
    {
     "data": {
      "text/plain": [
       "tensor([[6.0000e+00, 1.4800e+02, 7.2000e+01, 3.5000e+01, 0.0000e+00, 3.3600e+01,\n",
       "         6.2700e-01, 5.0000e+01],\n",
       "        [1.0000e+00, 8.5000e+01, 6.6000e+01, 2.9000e+01, 0.0000e+00, 2.6600e+01,\n",
       "         3.5100e-01, 3.1000e+01],\n",
       "        [8.0000e+00, 1.8300e+02, 6.4000e+01, 0.0000e+00, 0.0000e+00, 2.3300e+01,\n",
       "         6.7200e-01, 3.2000e+01],\n",
       "        [1.0000e+00, 8.9000e+01, 6.6000e+01, 2.3000e+01, 9.4000e+01, 2.8100e+01,\n",
       "         1.6700e-01, 2.1000e+01],\n",
       "        [0.0000e+00, 1.3700e+02, 4.0000e+01, 3.5000e+01, 1.6800e+02, 4.3100e+01,\n",
       "         2.2880e+00, 3.3000e+01]])"
      ]
     },
     "execution_count": 8,
     "metadata": {},
     "output_type": "execute_result"
    }
   ],
   "source": [
    "X[:5]"
   ]
  },
  {
   "cell_type": "code",
   "execution_count": 9,
   "id": "19f8bb6f-c624-46eb-be0c-b465e67a1cb1",
   "metadata": {},
   "outputs": [
    {
     "data": {
      "text/plain": [
       "tensor([[1.],\n",
       "        [0.],\n",
       "        [1.],\n",
       "        [0.],\n",
       "        [1.]])"
      ]
     },
     "execution_count": 9,
     "metadata": {},
     "output_type": "execute_result"
    }
   ],
   "source": [
    "y[:5]"
   ]
  },
  {
   "cell_type": "markdown",
   "id": "eee558fa-6249-4f57-b48e-ac6fb32ed3ca",
   "metadata": {},
   "source": [
    "<br>\n",
    "\n",
    "## **Step 6: Set up GPU**"
   ]
  },
  {
   "cell_type": "code",
   "execution_count": 10,
   "id": "1dcfaa08-f90f-4a16-97bc-752b69a98db0",
   "metadata": {
    "tags": []
   },
   "outputs": [
    {
     "name": "stdout",
     "output_type": "stream",
     "text": [
      "Running on the GPU\n"
     ]
    }
   ],
   "source": [
    "if torch.cuda.is_available():\n",
    "    device = torch.device(\"cuda:0\")\n",
    "    print(\"Running on the GPU\")\n",
    "else:\n",
    "    device = torch.device(\"cpu\")\n",
    "    print(\"Running on the CPU\")"
   ]
  },
  {
   "cell_type": "markdown",
   "id": "56df422d-842e-47a1-8233-f3586f05f8d9",
   "metadata": {},
   "source": [
    "<br>\n",
    "\n",
    "## **Step 7: Push tensor to GPU**"
   ]
  },
  {
   "cell_type": "code",
   "execution_count": 11,
   "id": "e6f29eb2-9498-49ab-be47-c43d2b9972c8",
   "metadata": {
    "tags": []
   },
   "outputs": [],
   "source": [
    "X = X.to(device)\n",
    "y = y.to(device)"
   ]
  },
  {
   "cell_type": "code",
   "execution_count": 12,
   "id": "f31dd644-e3cb-4799-a623-49c33e29a4fd",
   "metadata": {},
   "outputs": [
    {
     "data": {
      "text/plain": [
       "tensor([[6.0000e+00, 1.4800e+02, 7.2000e+01, 3.5000e+01, 0.0000e+00, 3.3600e+01,\n",
       "         6.2700e-01, 5.0000e+01],\n",
       "        [1.0000e+00, 8.5000e+01, 6.6000e+01, 2.9000e+01, 0.0000e+00, 2.6600e+01,\n",
       "         3.5100e-01, 3.1000e+01],\n",
       "        [8.0000e+00, 1.8300e+02, 6.4000e+01, 0.0000e+00, 0.0000e+00, 2.3300e+01,\n",
       "         6.7200e-01, 3.2000e+01],\n",
       "        [1.0000e+00, 8.9000e+01, 6.6000e+01, 2.3000e+01, 9.4000e+01, 2.8100e+01,\n",
       "         1.6700e-01, 2.1000e+01],\n",
       "        [0.0000e+00, 1.3700e+02, 4.0000e+01, 3.5000e+01, 1.6800e+02, 4.3100e+01,\n",
       "         2.2880e+00, 3.3000e+01]], device='cuda:0')"
      ]
     },
     "execution_count": 12,
     "metadata": {},
     "output_type": "execute_result"
    }
   ],
   "source": [
    "X[:5]"
   ]
  },
  {
   "cell_type": "code",
   "execution_count": 13,
   "id": "487bb9e6-7fcc-4bcf-a8a3-7fa4f3fae764",
   "metadata": {},
   "outputs": [
    {
     "data": {
      "text/plain": [
       "tensor([[1.],\n",
       "        [0.],\n",
       "        [1.],\n",
       "        [0.],\n",
       "        [1.]], device='cuda:0')"
      ]
     },
     "execution_count": 13,
     "metadata": {},
     "output_type": "execute_result"
    }
   ],
   "source": [
    "y[:5]"
   ]
  },
  {
   "cell_type": "markdown",
   "id": "d0cb48ad-88a4-4c2d-a470-16be865be47c",
   "metadata": {},
   "source": [
    "<br>\n",
    "\n",
    "## **Step 8: Set up custom dataset**"
   ]
  },
  {
   "cell_type": "code",
   "execution_count": 14,
   "id": "348f2c58-8ffe-4a48-bac1-fc1640c538d1",
   "metadata": {},
   "outputs": [],
   "source": [
    "class CustomDataset(Dataset):\n",
    "    def __init__(self, X, y):\n",
    "        self.y = y\n",
    "        self.X = X\n",
    "    def __len__(self):\n",
    "        return len(self.y)\n",
    "    def __getitem__(self, idx):\n",
    "        y = self.y[idx]\n",
    "        X = self.X[idx]\n",
    "        return X, y"
   ]
  },
  {
   "cell_type": "code",
   "execution_count": 15,
   "id": "ad9bf2e0-cd37-4bf0-b894-82f71e5eabab",
   "metadata": {},
   "outputs": [],
   "source": [
    "df_dataset = CustomDataset(X, y)"
   ]
  },
  {
   "cell_type": "code",
   "execution_count": 16,
   "id": "5cf6578c-d1b7-4eee-b177-4a225ef1d571",
   "metadata": {},
   "outputs": [
    {
     "name": "stdout",
     "output_type": "stream",
     "text": [
      "tensor([  6.0000, 148.0000,  72.0000,  35.0000,   0.0000,  33.6000,   0.6270,\n",
      "         50.0000], device='cuda:0') \t tensor([1.], device='cuda:0')\n",
      "tensor([ 1.0000, 85.0000, 66.0000, 29.0000,  0.0000, 26.6000,  0.3510, 31.0000],\n",
      "       device='cuda:0') \t tensor([0.], device='cuda:0')\n",
      "tensor([  8.0000, 183.0000,  64.0000,   0.0000,   0.0000,  23.3000,   0.6720,\n",
      "         32.0000], device='cuda:0') \t tensor([1.], device='cuda:0')\n",
      "tensor([ 1.0000, 89.0000, 66.0000, 23.0000, 94.0000, 28.1000,  0.1670, 21.0000],\n",
      "       device='cuda:0') \t tensor([0.], device='cuda:0')\n",
      "tensor([  0.0000, 137.0000,  40.0000,  35.0000, 168.0000,  43.1000,   2.2880,\n",
      "         33.0000], device='cuda:0') \t tensor([1.], device='cuda:0')\n"
     ]
    }
   ],
   "source": [
    "k = 0\n",
    "for i, j in df_dataset:\n",
    "    print(i, '\\t', j)\n",
    "    k = k + 1\n",
    "    if k == 5:\n",
    "        break"
   ]
  },
  {
   "cell_type": "markdown",
   "id": "30f481f1-ec82-4201-b1a0-a30d133864ff",
   "metadata": {},
   "source": [
    "<br>\n",
    "\n",
    "## **Step 9: Set up custom dataloader with batch of 32**"
   ]
  },
  {
   "cell_type": "code",
   "execution_count": 17,
   "id": "0069c1a1-d6d8-4b24-8ca5-f4379aa12390",
   "metadata": {},
   "outputs": [],
   "source": [
    "df_dataloader = DataLoader(df_dataset, batch_size=32, shuffle=False)"
   ]
  },
  {
   "cell_type": "code",
   "execution_count": 18,
   "id": "d2b52567-f228-4361-9710-0cb97accf40f",
   "metadata": {},
   "outputs": [
    {
     "name": "stdout",
     "output_type": "stream",
     "text": [
      "                                                    X  \\\n",
      "0   [tensor(6., device='cuda:0'), tensor(148., dev...   \n",
      "1   [tensor(1., device='cuda:0'), tensor(85., devi...   \n",
      "2   [tensor(8., device='cuda:0'), tensor(183., dev...   \n",
      "3   [tensor(1., device='cuda:0'), tensor(89., devi...   \n",
      "4   [tensor(0., device='cuda:0'), tensor(137., dev...   \n",
      "5   [tensor(5., device='cuda:0'), tensor(116., dev...   \n",
      "6   [tensor(3., device='cuda:0'), tensor(78., devi...   \n",
      "7   [tensor(10., device='cuda:0'), tensor(115., de...   \n",
      "8   [tensor(2., device='cuda:0'), tensor(197., dev...   \n",
      "9   [tensor(8., device='cuda:0'), tensor(125., dev...   \n",
      "10  [tensor(4., device='cuda:0'), tensor(110., dev...   \n",
      "11  [tensor(10., device='cuda:0'), tensor(168., de...   \n",
      "12  [tensor(10., device='cuda:0'), tensor(139., de...   \n",
      "13  [tensor(1., device='cuda:0'), tensor(189., dev...   \n",
      "14  [tensor(5., device='cuda:0'), tensor(166., dev...   \n",
      "15  [tensor(7., device='cuda:0'), tensor(100., dev...   \n",
      "16  [tensor(0., device='cuda:0'), tensor(118., dev...   \n",
      "17  [tensor(7., device='cuda:0'), tensor(107., dev...   \n",
      "18  [tensor(1., device='cuda:0'), tensor(103., dev...   \n",
      "19  [tensor(1., device='cuda:0'), tensor(115., dev...   \n",
      "20  [tensor(3., device='cuda:0'), tensor(126., dev...   \n",
      "21  [tensor(8., device='cuda:0'), tensor(99., devi...   \n",
      "22  [tensor(7., device='cuda:0'), tensor(196., dev...   \n",
      "23  [tensor(9., device='cuda:0'), tensor(119., dev...   \n",
      "24  [tensor(11., device='cuda:0'), tensor(143., de...   \n",
      "25  [tensor(10., device='cuda:0'), tensor(125., de...   \n",
      "26  [tensor(7., device='cuda:0'), tensor(147., dev...   \n",
      "27  [tensor(1., device='cuda:0'), tensor(97., devi...   \n",
      "28  [tensor(13., device='cuda:0'), tensor(145., de...   \n",
      "29  [tensor(5., device='cuda:0'), tensor(117., dev...   \n",
      "30  [tensor(5., device='cuda:0'), tensor(109., dev...   \n",
      "31  [tensor(3., device='cuda:0'), tensor(158., dev...   \n",
      "\n",
      "                                y  \n",
      "0   [tensor(1., device='cuda:0')]  \n",
      "1   [tensor(0., device='cuda:0')]  \n",
      "2   [tensor(1., device='cuda:0')]  \n",
      "3   [tensor(0., device='cuda:0')]  \n",
      "4   [tensor(1., device='cuda:0')]  \n",
      "5   [tensor(0., device='cuda:0')]  \n",
      "6   [tensor(1., device='cuda:0')]  \n",
      "7   [tensor(0., device='cuda:0')]  \n",
      "8   [tensor(1., device='cuda:0')]  \n",
      "9   [tensor(1., device='cuda:0')]  \n",
      "10  [tensor(0., device='cuda:0')]  \n",
      "11  [tensor(1., device='cuda:0')]  \n",
      "12  [tensor(0., device='cuda:0')]  \n",
      "13  [tensor(1., device='cuda:0')]  \n",
      "14  [tensor(1., device='cuda:0')]  \n",
      "15  [tensor(1., device='cuda:0')]  \n",
      "16  [tensor(1., device='cuda:0')]  \n",
      "17  [tensor(1., device='cuda:0')]  \n",
      "18  [tensor(0., device='cuda:0')]  \n",
      "19  [tensor(1., device='cuda:0')]  \n",
      "20  [tensor(0., device='cuda:0')]  \n",
      "21  [tensor(0., device='cuda:0')]  \n",
      "22  [tensor(1., device='cuda:0')]  \n",
      "23  [tensor(1., device='cuda:0')]  \n",
      "24  [tensor(1., device='cuda:0')]  \n",
      "25  [tensor(1., device='cuda:0')]  \n",
      "26  [tensor(1., device='cuda:0')]  \n",
      "27  [tensor(0., device='cuda:0')]  \n",
      "28  [tensor(0., device='cuda:0')]  \n",
      "29  [tensor(0., device='cuda:0')]  \n",
      "30  [tensor(0., device='cuda:0')]  \n",
      "31  [tensor(1., device='cuda:0')]  \n",
      "                                                    X  \\\n",
      "0   [tensor(3., device='cuda:0'), tensor(88., devi...   \n",
      "1   [tensor(6., device='cuda:0'), tensor(92., devi...   \n",
      "2   [tensor(10., device='cuda:0'), tensor(122., de...   \n",
      "3   [tensor(4., device='cuda:0'), tensor(103., dev...   \n",
      "4   [tensor(11., device='cuda:0'), tensor(138., de...   \n",
      "5   [tensor(9., device='cuda:0'), tensor(102., dev...   \n",
      "6   [tensor(2., device='cuda:0'), tensor(90., devi...   \n",
      "7   [tensor(4., device='cuda:0'), tensor(111., dev...   \n",
      "8   [tensor(3., device='cuda:0'), tensor(180., dev...   \n",
      "9   [tensor(7., device='cuda:0'), tensor(133., dev...   \n",
      "10  [tensor(7., device='cuda:0'), tensor(106., dev...   \n",
      "11  [tensor(9., device='cuda:0'), tensor(171., dev...   \n",
      "12  [tensor(7., device='cuda:0'), tensor(159., dev...   \n",
      "13  [tensor(0., device='cuda:0'), tensor(180., dev...   \n",
      "14  [tensor(1., device='cuda:0'), tensor(146., dev...   \n",
      "15  [tensor(2., device='cuda:0'), tensor(71., devi...   \n",
      "16  [tensor(7., device='cuda:0'), tensor(103., dev...   \n",
      "17  [tensor(7., device='cuda:0'), tensor(105., dev...   \n",
      "18  [tensor(1., device='cuda:0'), tensor(103., dev...   \n",
      "19  [tensor(1., device='cuda:0'), tensor(101., dev...   \n",
      "20  [tensor(5., device='cuda:0'), tensor(88., devi...   \n",
      "21  [tensor(8., device='cuda:0'), tensor(176., dev...   \n",
      "22  [tensor(7., device='cuda:0'), tensor(150., dev...   \n",
      "23  [tensor(1., device='cuda:0'), tensor(73., devi...   \n",
      "24  [tensor(7., device='cuda:0'), tensor(187., dev...   \n",
      "25  [tensor(0., device='cuda:0'), tensor(100., dev...   \n",
      "26  [tensor(0., device='cuda:0'), tensor(146., dev...   \n",
      "27  [tensor(0., device='cuda:0'), tensor(105., dev...   \n",
      "28  [tensor(2., device='cuda:0'), tensor(84., devi...   \n",
      "29  [tensor(8., device='cuda:0'), tensor(133., dev...   \n",
      "30  [tensor(5., device='cuda:0'), tensor(44., devi...   \n",
      "31  [tensor(2., device='cuda:0'), tensor(141., dev...   \n",
      "\n",
      "                                y  \n",
      "0   [tensor(0., device='cuda:0')]  \n",
      "1   [tensor(0., device='cuda:0')]  \n",
      "2   [tensor(0., device='cuda:0')]  \n",
      "3   [tensor(0., device='cuda:0')]  \n",
      "4   [tensor(0., device='cuda:0')]  \n",
      "5   [tensor(1., device='cuda:0')]  \n",
      "6   [tensor(1., device='cuda:0')]  \n",
      "7   [tensor(1., device='cuda:0')]  \n",
      "8   [tensor(0., device='cuda:0')]  \n",
      "9   [tensor(0., device='cuda:0')]  \n",
      "10  [tensor(0., device='cuda:0')]  \n",
      "11  [tensor(1., device='cuda:0')]  \n",
      "12  [tensor(0., device='cuda:0')]  \n",
      "13  [tensor(1., device='cuda:0')]  \n",
      "14  [tensor(0., device='cuda:0')]  \n",
      "15  [tensor(0., device='cuda:0')]  \n",
      "16  [tensor(1., device='cuda:0')]  \n",
      "17  [tensor(0., device='cuda:0')]  \n",
      "18  [tensor(0., device='cuda:0')]  \n",
      "19  [tensor(0., device='cuda:0')]  \n",
      "20  [tensor(0., device='cuda:0')]  \n",
      "21  [tensor(1., device='cuda:0')]  \n",
      "22  [tensor(0., device='cuda:0')]  \n",
      "23  [tensor(0., device='cuda:0')]  \n",
      "24  [tensor(1., device='cuda:0')]  \n",
      "25  [tensor(0., device='cuda:0')]  \n",
      "26  [tensor(0., device='cuda:0')]  \n",
      "27  [tensor(0., device='cuda:0')]  \n",
      "28  [tensor(0., device='cuda:0')]  \n",
      "29  [tensor(1., device='cuda:0')]  \n",
      "30  [tensor(0., device='cuda:0')]  \n",
      "31  [tensor(0., device='cuda:0')]  \n"
     ]
    }
   ],
   "source": [
    "k = 0\n",
    "for i, j in df_dataloader:\n",
    "    print(pd.DataFrame(zip(i, j), columns=['X','y']))\n",
    "    k = k + 1\n",
    "    if k == 2:   # print out 2 batches\n",
    "        break"
   ]
  },
  {
   "cell_type": "markdown",
   "id": "3829058d-25eb-4fcc-803a-6e12cb820c4a",
   "metadata": {},
   "source": [
    "<br>\n",
    "\n",
    "## **Step 10: Set up model and push model to GPU**"
   ]
  },
  {
   "cell_type": "code",
   "execution_count": 19,
   "id": "74a2094c-a770-4906-a561-e1d6c8b47136",
   "metadata": {
    "tags": []
   },
   "outputs": [
    {
     "name": "stdout",
     "output_type": "stream",
     "text": [
      "Sequential(\n",
      "  (0): Linear(in_features=8, out_features=12, bias=True)\n",
      "  (1): ReLU()\n",
      "  (2): Linear(in_features=12, out_features=8, bias=True)\n",
      "  (3): ReLU()\n",
      "  (4): Linear(in_features=8, out_features=1, bias=True)\n",
      "  (5): Sigmoid()\n",
      ")\n"
     ]
    }
   ],
   "source": [
    "# Hidden layer\n",
    "#    Multi-Layer Perceptron = ReLU\n",
    "#    Convolutional Neural Network = ReLU\n",
    "#    Recurrent Neural Network = Sigmoid or Tanh\n",
    "\n",
    "# Output layer\n",
    "#    Regression = Linear\n",
    "#    Binary = Sigmoid\n",
    "#    Multi-class = Softmax\n",
    "#    Multi-label = Sigmoid\n",
    "\n",
    "model = nn.Sequential(\n",
    "    nn.Linear(8, 12),\n",
    "    nn.ReLU(),\n",
    "    nn.Linear(12, 8),\n",
    "    nn.ReLU(),\n",
    "    nn.Linear(8, 1),\n",
    "    nn.Sigmoid()\n",
    ").to(device)\n",
    "print(model)"
   ]
  },
  {
   "cell_type": "code",
   "execution_count": 20,
   "id": "3dbb21be-8626-4225-8adb-7a44063ce9c1",
   "metadata": {},
   "outputs": [
    {
     "data": {
      "text/plain": [
       "True"
      ]
     },
     "execution_count": 20,
     "metadata": {},
     "output_type": "execute_result"
    }
   ],
   "source": [
    "next(model.parameters()).is_cuda"
   ]
  },
  {
   "cell_type": "markdown",
   "id": "70497372-65a3-4ebc-acc2-4f9e77f034c0",
   "metadata": {},
   "source": [
    "<br>\n",
    "\n",
    "## **Step 11: Train model**"
   ]
  },
  {
   "cell_type": "code",
   "execution_count": 21,
   "id": "0af873d3-56d7-4e81-9e39-f44f76c9882a",
   "metadata": {},
   "outputs": [
    {
     "name": "stdout",
     "output_type": "stream",
     "text": [
      "WARNING:tensorflow:From C:\\Users\\chi_k\\anaconda3\\Lib\\site-packages\\keras\\src\\losses.py:2976: The name tf.losses.sparse_softmax_cross_entropy is deprecated. Please use tf.compat.v1.losses.sparse_softmax_cross_entropy instead.\n",
      "\n",
      "WARNING:tensorflow:From C:\\Users\\chi_k\\anaconda3\\Lib\\site-packages\\keras\\src\\backend.py:873: The name tf.get_default_graph is deprecated. Please use tf.compat.v1.get_default_graph instead.\n",
      "\n",
      "Finished epoch 0, latest loss 0.9226192831993103\n",
      "Finished epoch 1, latest loss 0.7865515351295471\n",
      "Finished epoch 2, latest loss 0.7304971218109131\n",
      "Finished epoch 3, latest loss 0.693583071231842\n",
      "Finished epoch 4, latest loss 0.6659927368164062\n",
      "Finished epoch 5, latest loss 0.6412714719772339\n",
      "Finished epoch 6, latest loss 0.6319015026092529\n",
      "Finished epoch 7, latest loss 0.6310555934906006\n",
      "Finished epoch 8, latest loss 0.6312575340270996\n",
      "Finished epoch 9, latest loss 0.6296596527099609\n"
     ]
    }
   ],
   "source": [
    "loss_fn = nn.BCELoss()   # Binary Cross Entropy\n",
    "optimizer = optim.Adam(model.parameters(), lr=0.001)   # Learning rate = 0.001\n",
    "\n",
    "n_epochs = 10\n",
    "\n",
    "for epoch in range(n_epochs):\n",
    "    for Xbatch, ybatch in df_dataloader:\n",
    "        optimizer.zero_grad()\n",
    "        y_pred = model(Xbatch)\n",
    "        loss = loss_fn(y_pred, ybatch)\n",
    "        loss.backward()\n",
    "        optimizer.step()\n",
    "    print(f'Finished epoch {epoch}, latest loss {loss}')"
   ]
  },
  {
   "cell_type": "markdown",
   "id": "dc00e3e3-2861-4ccf-9273-4b9e81c21a88",
   "metadata": {},
   "source": [
    "<br>\n",
    "\n",
    "## **Step 12: Use trained model to compute accuracy on current data**\n",
    "**Note that the actual data science workflow should split data into training and testing**"
   ]
  },
  {
   "cell_type": "code",
   "execution_count": 22,
   "id": "f98bff7c-27f5-4c06-a5d3-18f869618db9",
   "metadata": {},
   "outputs": [
    {
     "name": "stdout",
     "output_type": "stream",
     "text": [
      "Accuracy 0.6822916865348816\n"
     ]
    }
   ],
   "source": [
    "with torch.no_grad():\n",
    "    y_pred = model(X)\n",
    "accuracy = (y_pred.round() == y).float().mean()\n",
    "print(f\"Accuracy {accuracy}\")"
   ]
  },
  {
   "cell_type": "code",
   "execution_count": 23,
   "id": "27579b2e-9d89-4ce7-904a-9540f8ac8e54",
   "metadata": {},
   "outputs": [
    {
     "name": "stdout",
     "output_type": "stream",
     "text": [
      "tensor([[0.],\n",
      "        [0.],\n",
      "        [1.],\n",
      "        [0.],\n",
      "        [0.]], device='cuda:0') \t tensor([[1.],\n",
      "        [0.],\n",
      "        [1.],\n",
      "        [0.],\n",
      "        [1.]], device='cuda:0')\n"
     ]
    }
   ],
   "source": [
    "print(y_pred[:5].round(), '\\t', y[:5])"
   ]
  },
  {
   "cell_type": "code",
   "execution_count": 24,
   "id": "2e80791b-b37e-4f26-bc69-eb06d92f83b2",
   "metadata": {},
   "outputs": [
    {
     "name": "stdout",
     "output_type": "stream",
     "text": [
      "[[0.]\n",
      " [0.]\n",
      " [1.]\n",
      " [0.]\n",
      " [0.]] \t [[1.]\n",
      " [0.]\n",
      " [1.]\n",
      " [0.]\n",
      " [1.]]\n"
     ]
    }
   ],
   "source": [
    "print(y_pred[:5].round().cpu().detach().numpy(), '\\t', y[:5].cpu().detach().numpy())"
   ]
  },
  {
   "cell_type": "code",
   "execution_count": null,
   "id": "dc164ed8-c6c2-4ae0-b25d-599deea65550",
   "metadata": {},
   "outputs": [],
   "source": []
  }
 ],
 "metadata": {
  "kernelspec": {
   "display_name": "Python 3 (ipykernel)",
   "language": "python",
   "name": "python3"
  },
  "language_info": {
   "codemirror_mode": {
    "name": "ipython",
    "version": 3
   },
   "file_extension": ".py",
   "mimetype": "text/x-python",
   "name": "python",
   "nbconvert_exporter": "python",
   "pygments_lexer": "ipython3",
   "version": "3.11.5"
  }
 },
 "nbformat": 4,
 "nbformat_minor": 5
}
