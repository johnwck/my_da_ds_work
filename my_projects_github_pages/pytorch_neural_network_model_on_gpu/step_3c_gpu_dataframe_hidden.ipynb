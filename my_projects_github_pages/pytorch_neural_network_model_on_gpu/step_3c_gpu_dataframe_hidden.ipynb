{
 "cells": [
  {
   "cell_type": "markdown",
   "id": "0e0538c9-dbb2-420e-be93-c68d03b96d5e",
   "metadata": {},
   "source": [
    "<br>\n",
    "\n",
    "**This jupyter notebook touches on**\n",
    "* **GPU**\n",
    "* <u>**Tensor**</u>\n",
    "* <u>**Hidden Layers**</u>\n",
    "* **Nodes**"
   ]
  },
  {
   "cell_type": "markdown",
   "id": "470e9831-dbdb-438b-bea4-38af7347e4a3",
   "metadata": {},
   "source": [
    "<br>\n",
    "\n",
    "## **Step 1: Import**"
   ]
  },
  {
   "cell_type": "code",
   "execution_count": 1,
   "id": "abef6051-cd48-4ae8-a671-d1aeba40f152",
   "metadata": {
    "tags": []
   },
   "outputs": [],
   "source": [
    "import pandas as pd\n",
    "from datetime import datetime\n",
    "import random\n",
    "from random import randint\n",
    "import torch\n",
    "import torch.nn as nn\n",
    "import torch.optim as optim\n",
    "from torch.utils.data import Dataset, DataLoader"
   ]
  },
  {
   "cell_type": "markdown",
   "id": "4dd7eaa4-5638-4609-933f-fd73d5f9b538",
   "metadata": {},
   "source": [
    "<br>\n",
    "\n",
    "## **Step 2: Make**"
   ]
  },
  {
   "cell_type": "code",
   "execution_count": 2,
   "id": "51117438-645f-43af-b251-b3e7460eeafe",
   "metadata": {},
   "outputs": [],
   "source": [
    "# for reproducibility\n",
    "random.seed(45)\n",
    "torch.manual_seed(0)\n",
    "\n",
    "dataset = pd.DataFrame(index=range(100_000), columns=['X1','X2','error','y'])\n",
    "dataset['X1'] = dataset.apply(lambda _: randint(5,15), axis=1)\n",
    "dataset['X2'] = dataset.apply(lambda _: randint(5,15), axis=1)\n",
    "dataset['error'] = dataset.apply(lambda _: randint(-2,2), axis=1)\n",
    "dataset['y'] = (dataset['X1']**2 + dataset['X2'])/(dataset['X1'] + dataset['X2']) + dataset['error']"
   ]
  },
  {
   "cell_type": "code",
   "execution_count": 3,
   "id": "a2384f96-ce97-42e8-9a88-5f7ccf61188b",
   "metadata": {},
   "outputs": [
    {
     "data": {
      "text/html": [
       "<div>\n",
       "<style scoped>\n",
       "    .dataframe tbody tr th:only-of-type {\n",
       "        vertical-align: middle;\n",
       "    }\n",
       "\n",
       "    .dataframe tbody tr th {\n",
       "        vertical-align: top;\n",
       "    }\n",
       "\n",
       "    .dataframe thead th {\n",
       "        text-align: right;\n",
       "    }\n",
       "</style>\n",
       "<table border=\"1\" class=\"dataframe\">\n",
       "  <thead>\n",
       "    <tr style=\"text-align: right;\">\n",
       "      <th></th>\n",
       "      <th>X1</th>\n",
       "      <th>X2</th>\n",
       "      <th>error</th>\n",
       "      <th>y</th>\n",
       "    </tr>\n",
       "  </thead>\n",
       "  <tbody>\n",
       "    <tr>\n",
       "      <th>0</th>\n",
       "      <td>9</td>\n",
       "      <td>6</td>\n",
       "      <td>1</td>\n",
       "      <td>6.800000</td>\n",
       "    </tr>\n",
       "    <tr>\n",
       "      <th>1</th>\n",
       "      <td>11</td>\n",
       "      <td>13</td>\n",
       "      <td>0</td>\n",
       "      <td>5.583333</td>\n",
       "    </tr>\n",
       "    <tr>\n",
       "      <th>2</th>\n",
       "      <td>12</td>\n",
       "      <td>10</td>\n",
       "      <td>1</td>\n",
       "      <td>8.000000</td>\n",
       "    </tr>\n",
       "    <tr>\n",
       "      <th>3</th>\n",
       "      <td>9</td>\n",
       "      <td>5</td>\n",
       "      <td>1</td>\n",
       "      <td>7.142857</td>\n",
       "    </tr>\n",
       "    <tr>\n",
       "      <th>4</th>\n",
       "      <td>6</td>\n",
       "      <td>5</td>\n",
       "      <td>1</td>\n",
       "      <td>4.727273</td>\n",
       "    </tr>\n",
       "  </tbody>\n",
       "</table>\n",
       "</div>"
      ],
      "text/plain": [
       "   X1  X2  error         y\n",
       "0   9   6      1  6.800000\n",
       "1  11  13      0  5.583333\n",
       "2  12  10      1  8.000000\n",
       "3   9   5      1  7.142857\n",
       "4   6   5      1  4.727273"
      ]
     },
     "execution_count": 3,
     "metadata": {},
     "output_type": "execute_result"
    }
   ],
   "source": [
    "dataset.head()"
   ]
  },
  {
   "cell_type": "code",
   "execution_count": 4,
   "id": "04660014-9e68-4f56-8f0e-d4c82db6737e",
   "metadata": {},
   "outputs": [],
   "source": [
    "dataset = dataset[['X1','X2','y']]"
   ]
  },
  {
   "cell_type": "code",
   "execution_count": 5,
   "id": "ad7bdc7f-619e-4dbb-a3cb-0c2d2fc6f022",
   "metadata": {},
   "outputs": [
    {
     "data": {
      "text/html": [
       "<div>\n",
       "<style scoped>\n",
       "    .dataframe tbody tr th:only-of-type {\n",
       "        vertical-align: middle;\n",
       "    }\n",
       "\n",
       "    .dataframe tbody tr th {\n",
       "        vertical-align: top;\n",
       "    }\n",
       "\n",
       "    .dataframe thead th {\n",
       "        text-align: right;\n",
       "    }\n",
       "</style>\n",
       "<table border=\"1\" class=\"dataframe\">\n",
       "  <thead>\n",
       "    <tr style=\"text-align: right;\">\n",
       "      <th></th>\n",
       "      <th>X1</th>\n",
       "      <th>X2</th>\n",
       "      <th>y</th>\n",
       "    </tr>\n",
       "  </thead>\n",
       "  <tbody>\n",
       "    <tr>\n",
       "      <th>0</th>\n",
       "      <td>9</td>\n",
       "      <td>6</td>\n",
       "      <td>6.800000</td>\n",
       "    </tr>\n",
       "    <tr>\n",
       "      <th>1</th>\n",
       "      <td>11</td>\n",
       "      <td>13</td>\n",
       "      <td>5.583333</td>\n",
       "    </tr>\n",
       "    <tr>\n",
       "      <th>2</th>\n",
       "      <td>12</td>\n",
       "      <td>10</td>\n",
       "      <td>8.000000</td>\n",
       "    </tr>\n",
       "    <tr>\n",
       "      <th>3</th>\n",
       "      <td>9</td>\n",
       "      <td>5</td>\n",
       "      <td>7.142857</td>\n",
       "    </tr>\n",
       "    <tr>\n",
       "      <th>4</th>\n",
       "      <td>6</td>\n",
       "      <td>5</td>\n",
       "      <td>4.727273</td>\n",
       "    </tr>\n",
       "  </tbody>\n",
       "</table>\n",
       "</div>"
      ],
      "text/plain": [
       "   X1  X2         y\n",
       "0   9   6  6.800000\n",
       "1  11  13  5.583333\n",
       "2  12  10  8.000000\n",
       "3   9   5  7.142857\n",
       "4   6   5  4.727273"
      ]
     },
     "execution_count": 5,
     "metadata": {},
     "output_type": "execute_result"
    }
   ],
   "source": [
    "dataset.head()"
   ]
  },
  {
   "cell_type": "markdown",
   "id": "44cbb870-30d8-42c4-98e5-0c82b7fce72c",
   "metadata": {},
   "source": [
    "<br>\n",
    "\n",
    "## **Step 3: Assign features (X) and target (y)**"
   ]
  },
  {
   "cell_type": "code",
   "execution_count": 6,
   "id": "a1925523-43b2-418e-837d-a0f0c602e4e4",
   "metadata": {
    "tags": []
   },
   "outputs": [],
   "source": [
    "X = dataset.iloc[:, 0:2]\n",
    "y = dataset.iloc[:, 2]"
   ]
  },
  {
   "cell_type": "code",
   "execution_count": 7,
   "id": "1b2400b0-7fa9-4289-a3d5-62fd67a3811b",
   "metadata": {},
   "outputs": [
    {
     "data": {
      "text/html": [
       "<div>\n",
       "<style scoped>\n",
       "    .dataframe tbody tr th:only-of-type {\n",
       "        vertical-align: middle;\n",
       "    }\n",
       "\n",
       "    .dataframe tbody tr th {\n",
       "        vertical-align: top;\n",
       "    }\n",
       "\n",
       "    .dataframe thead th {\n",
       "        text-align: right;\n",
       "    }\n",
       "</style>\n",
       "<table border=\"1\" class=\"dataframe\">\n",
       "  <thead>\n",
       "    <tr style=\"text-align: right;\">\n",
       "      <th></th>\n",
       "      <th>X1</th>\n",
       "      <th>X2</th>\n",
       "    </tr>\n",
       "  </thead>\n",
       "  <tbody>\n",
       "    <tr>\n",
       "      <th>0</th>\n",
       "      <td>9</td>\n",
       "      <td>6</td>\n",
       "    </tr>\n",
       "    <tr>\n",
       "      <th>1</th>\n",
       "      <td>11</td>\n",
       "      <td>13</td>\n",
       "    </tr>\n",
       "    <tr>\n",
       "      <th>2</th>\n",
       "      <td>12</td>\n",
       "      <td>10</td>\n",
       "    </tr>\n",
       "    <tr>\n",
       "      <th>3</th>\n",
       "      <td>9</td>\n",
       "      <td>5</td>\n",
       "    </tr>\n",
       "    <tr>\n",
       "      <th>4</th>\n",
       "      <td>6</td>\n",
       "      <td>5</td>\n",
       "    </tr>\n",
       "  </tbody>\n",
       "</table>\n",
       "</div>"
      ],
      "text/plain": [
       "   X1  X2\n",
       "0   9   6\n",
       "1  11  13\n",
       "2  12  10\n",
       "3   9   5\n",
       "4   6   5"
      ]
     },
     "execution_count": 7,
     "metadata": {},
     "output_type": "execute_result"
    }
   ],
   "source": [
    "X[:5]"
   ]
  },
  {
   "cell_type": "code",
   "execution_count": 8,
   "id": "f01efe39-cc5e-4159-b1a9-0b7970ea1211",
   "metadata": {},
   "outputs": [
    {
     "data": {
      "text/plain": [
       "0    6.800000\n",
       "1    5.583333\n",
       "2    8.000000\n",
       "3    7.142857\n",
       "4    4.727273\n",
       "Name: y, dtype: float64"
      ]
     },
     "execution_count": 8,
     "metadata": {},
     "output_type": "execute_result"
    }
   ],
   "source": [
    "y[:5]"
   ]
  },
  {
   "cell_type": "markdown",
   "id": "c3b409a7-a5eb-4e15-a366-bbddc0e20e47",
   "metadata": {},
   "source": [
    "<br>\n",
    "\n",
    "## **Step 4: Convert from Pandas dataframe to Numpy array**"
   ]
  },
  {
   "cell_type": "code",
   "execution_count": 9,
   "id": "2ebadbf2-2690-4154-babb-731800013245",
   "metadata": {
    "tags": []
   },
   "outputs": [],
   "source": [
    "X = X.to_numpy()\n",
    "y = y.to_numpy()"
   ]
  },
  {
   "cell_type": "code",
   "execution_count": 10,
   "id": "45c4bab1-672f-4a3f-8b4e-7f8a9eee51e3",
   "metadata": {},
   "outputs": [
    {
     "data": {
      "text/plain": [
       "array([[ 9,  6],\n",
       "       [11, 13],\n",
       "       [12, 10],\n",
       "       [ 9,  5],\n",
       "       [ 6,  5]], dtype=int64)"
      ]
     },
     "execution_count": 10,
     "metadata": {},
     "output_type": "execute_result"
    }
   ],
   "source": [
    "X[:5]"
   ]
  },
  {
   "cell_type": "code",
   "execution_count": 11,
   "id": "3c3cc864-af59-487a-bee2-6d5ec9efed95",
   "metadata": {},
   "outputs": [
    {
     "data": {
      "text/plain": [
       "array([6.8       , 5.58333333, 8.        , 7.14285714, 4.72727273])"
      ]
     },
     "execution_count": 11,
     "metadata": {},
     "output_type": "execute_result"
    }
   ],
   "source": [
    "y[:5]"
   ]
  },
  {
   "cell_type": "markdown",
   "id": "1c7b6fc3-9781-4b0b-9be5-3d4c806fdb93",
   "metadata": {},
   "source": [
    "<br>\n",
    "\n",
    "## **Step 5: Convert from Numpy array to PyTorch tensor**"
   ]
  },
  {
   "cell_type": "code",
   "execution_count": 12,
   "id": "73c874a9-ea57-4b45-b635-1c3170db156c",
   "metadata": {
    "tags": []
   },
   "outputs": [],
   "source": [
    "X = torch.tensor(X, dtype=torch.float32)\n",
    "y = torch.tensor(y, dtype=torch.float32).reshape(-1, 1)"
   ]
  },
  {
   "cell_type": "code",
   "execution_count": 13,
   "id": "3d55f9fc-0ae2-4222-9ca3-fc7ed883db79",
   "metadata": {},
   "outputs": [
    {
     "data": {
      "text/plain": [
       "tensor([[ 9.,  6.],\n",
       "        [11., 13.],\n",
       "        [12., 10.],\n",
       "        [ 9.,  5.],\n",
       "        [ 6.,  5.]])"
      ]
     },
     "execution_count": 13,
     "metadata": {},
     "output_type": "execute_result"
    }
   ],
   "source": [
    "X[:5]"
   ]
  },
  {
   "cell_type": "code",
   "execution_count": 14,
   "id": "19f8bb6f-c624-46eb-be0c-b465e67a1cb1",
   "metadata": {},
   "outputs": [
    {
     "data": {
      "text/plain": [
       "tensor([[6.8000],\n",
       "        [5.5833],\n",
       "        [8.0000],\n",
       "        [7.1429],\n",
       "        [4.7273]])"
      ]
     },
     "execution_count": 14,
     "metadata": {},
     "output_type": "execute_result"
    }
   ],
   "source": [
    "y[:5]"
   ]
  },
  {
   "cell_type": "markdown",
   "id": "eee558fa-6249-4f57-b48e-ac6fb32ed3ca",
   "metadata": {},
   "source": [
    "<br>\n",
    "\n",
    "## **Step 6: Set up GPU**"
   ]
  },
  {
   "cell_type": "code",
   "execution_count": 15,
   "id": "1dcfaa08-f90f-4a16-97bc-752b69a98db0",
   "metadata": {
    "tags": []
   },
   "outputs": [
    {
     "name": "stdout",
     "output_type": "stream",
     "text": [
      "Running on the GPU\n"
     ]
    }
   ],
   "source": [
    "if torch.cuda.is_available():\n",
    "    device = torch.device(\"cuda:0\")\n",
    "    print(\"Running on the GPU\")\n",
    "else:\n",
    "    device = torch.device(\"cpu\")\n",
    "    print(\"Running on the CPU\")"
   ]
  },
  {
   "cell_type": "markdown",
   "id": "56df422d-842e-47a1-8233-f3586f05f8d9",
   "metadata": {},
   "source": [
    "<br>\n",
    "\n",
    "## **Step 7: Push tensor to GPU**"
   ]
  },
  {
   "cell_type": "code",
   "execution_count": 16,
   "id": "e6f29eb2-9498-49ab-be47-c43d2b9972c8",
   "metadata": {
    "tags": []
   },
   "outputs": [],
   "source": [
    "X = X.to(device)\n",
    "y = y.to(device)"
   ]
  },
  {
   "cell_type": "code",
   "execution_count": 17,
   "id": "f31dd644-e3cb-4799-a623-49c33e29a4fd",
   "metadata": {},
   "outputs": [
    {
     "data": {
      "text/plain": [
       "tensor([[ 9.,  6.],\n",
       "        [11., 13.],\n",
       "        [12., 10.],\n",
       "        [ 9.,  5.],\n",
       "        [ 6.,  5.]], device='cuda:0')"
      ]
     },
     "execution_count": 17,
     "metadata": {},
     "output_type": "execute_result"
    }
   ],
   "source": [
    "X[:5]"
   ]
  },
  {
   "cell_type": "code",
   "execution_count": 18,
   "id": "487bb9e6-7fcc-4bcf-a8a3-7fa4f3fae764",
   "metadata": {},
   "outputs": [
    {
     "data": {
      "text/plain": [
       "tensor([[6.8000],\n",
       "        [5.5833],\n",
       "        [8.0000],\n",
       "        [7.1429],\n",
       "        [4.7273]], device='cuda:0')"
      ]
     },
     "execution_count": 18,
     "metadata": {},
     "output_type": "execute_result"
    }
   ],
   "source": [
    "y[:5]"
   ]
  },
  {
   "cell_type": "markdown",
   "id": "d0cb48ad-88a4-4c2d-a470-16be865be47c",
   "metadata": {},
   "source": [
    "<br>\n",
    "\n",
    "## **Step 8: Set up custom dataset**"
   ]
  },
  {
   "cell_type": "code",
   "execution_count": 19,
   "id": "348f2c58-8ffe-4a48-bac1-fc1640c538d1",
   "metadata": {},
   "outputs": [],
   "source": [
    "class CustomDataset(Dataset):\n",
    "    def __init__(self, X, y):\n",
    "        self.y = y\n",
    "        self.X = X\n",
    "    def __len__(self):\n",
    "        return len(self.y)\n",
    "    def __getitem__(self, idx):\n",
    "        y = self.y[idx]\n",
    "        X = self.X[idx]\n",
    "        return X, y"
   ]
  },
  {
   "cell_type": "code",
   "execution_count": 20,
   "id": "ad9bf2e0-cd37-4bf0-b894-82f71e5eabab",
   "metadata": {},
   "outputs": [],
   "source": [
    "df_dataset = CustomDataset(X, y)"
   ]
  },
  {
   "cell_type": "code",
   "execution_count": 21,
   "id": "5cf6578c-d1b7-4eee-b177-4a225ef1d571",
   "metadata": {},
   "outputs": [
    {
     "name": "stdout",
     "output_type": "stream",
     "text": [
      "tensor([9., 6.], device='cuda:0') \t tensor([6.8000], device='cuda:0')\n",
      "tensor([11., 13.], device='cuda:0') \t tensor([5.5833], device='cuda:0')\n",
      "tensor([12., 10.], device='cuda:0') \t tensor([8.], device='cuda:0')\n",
      "tensor([9., 5.], device='cuda:0') \t tensor([7.1429], device='cuda:0')\n",
      "tensor([6., 5.], device='cuda:0') \t tensor([4.7273], device='cuda:0')\n"
     ]
    }
   ],
   "source": [
    "k = 0\n",
    "for i, j in df_dataset:\n",
    "    print(i, '\\t', j)\n",
    "    k = k + 1\n",
    "    if k == 5:\n",
    "        break"
   ]
  },
  {
   "cell_type": "markdown",
   "id": "30f481f1-ec82-4201-b1a0-a30d133864ff",
   "metadata": {},
   "source": [
    "<br>\n",
    "\n",
    "## **Step 9: Set up custom dataloader with batch of 128**"
   ]
  },
  {
   "cell_type": "code",
   "execution_count": 22,
   "id": "0069c1a1-d6d8-4b24-8ca5-f4379aa12390",
   "metadata": {},
   "outputs": [],
   "source": [
    "df_dataloader = DataLoader(df_dataset, batch_size=128, shuffle=False)"
   ]
  },
  {
   "cell_type": "code",
   "execution_count": 23,
   "id": "d2b52567-f228-4361-9710-0cb97accf40f",
   "metadata": {},
   "outputs": [
    {
     "name": "stdout",
     "output_type": "stream",
     "text": [
      "                                                     X  \\\n",
      "0    [tensor(9., device='cuda:0'), tensor(6., devic...   \n",
      "1    [tensor(11., device='cuda:0'), tensor(13., dev...   \n",
      "2    [tensor(12., device='cuda:0'), tensor(10., dev...   \n",
      "3    [tensor(9., device='cuda:0'), tensor(5., devic...   \n",
      "4    [tensor(6., device='cuda:0'), tensor(5., devic...   \n",
      "..                                                 ...   \n",
      "123  [tensor(6., device='cuda:0'), tensor(5., devic...   \n",
      "124  [tensor(6., device='cuda:0'), tensor(14., devi...   \n",
      "125  [tensor(6., device='cuda:0'), tensor(13., devi...   \n",
      "126  [tensor(7., device='cuda:0'), tensor(8., devic...   \n",
      "127  [tensor(11., device='cuda:0'), tensor(9., devi...   \n",
      "\n",
      "                                     y  \n",
      "0    [tensor(6.8000, device='cuda:0')]  \n",
      "1    [tensor(5.5833, device='cuda:0')]  \n",
      "2        [tensor(8., device='cuda:0')]  \n",
      "3    [tensor(7.1429, device='cuda:0')]  \n",
      "4    [tensor(4.7273, device='cuda:0')]  \n",
      "..                                 ...  \n",
      "123  [tensor(2.7273, device='cuda:0')]  \n",
      "124  [tensor(3.5000, device='cuda:0')]  \n",
      "125  [tensor(1.5789, device='cuda:0')]  \n",
      "126  [tensor(5.8000, device='cuda:0')]  \n",
      "127  [tensor(8.5000, device='cuda:0')]  \n",
      "\n",
      "[128 rows x 2 columns]\n",
      "                                                     X  \\\n",
      "0    [tensor(14., device='cuda:0'), tensor(7., devi...   \n",
      "1    [tensor(7., device='cuda:0'), tensor(5., devic...   \n",
      "2    [tensor(6., device='cuda:0'), tensor(5., devic...   \n",
      "3    [tensor(15., device='cuda:0'), tensor(10., dev...   \n",
      "4    [tensor(15., device='cuda:0'), tensor(15., dev...   \n",
      "..                                                 ...   \n",
      "123  [tensor(11., device='cuda:0'), tensor(11., dev...   \n",
      "124  [tensor(13., device='cuda:0'), tensor(13., dev...   \n",
      "125  [tensor(10., device='cuda:0'), tensor(9., devi...   \n",
      "126  [tensor(10., device='cuda:0'), tensor(14., dev...   \n",
      "127  [tensor(12., device='cuda:0'), tensor(10., dev...   \n",
      "\n",
      "                                     y  \n",
      "0    [tensor(9.6667, device='cuda:0')]  \n",
      "1    [tensor(5.5000, device='cuda:0')]  \n",
      "2    [tensor(4.7273, device='cuda:0')]  \n",
      "3    [tensor(7.4000, device='cuda:0')]  \n",
      "4       [tensor(10., device='cuda:0')]  \n",
      "..                                 ...  \n",
      "123      [tensor(4., device='cuda:0')]  \n",
      "124      [tensor(6., device='cuda:0')]  \n",
      "125  [tensor(3.7368, device='cuda:0')]  \n",
      "126  [tensor(6.7500, device='cuda:0')]  \n",
      "127      [tensor(7., device='cuda:0')]  \n",
      "\n",
      "[128 rows x 2 columns]\n"
     ]
    }
   ],
   "source": [
    "k = 0\n",
    "for i, j in df_dataloader:\n",
    "    print(pd.DataFrame(zip(i, j), columns=['X','y']))\n",
    "    k = k + 1\n",
    "    if k == 2:   # print out 2 batches\n",
    "        break"
   ]
  },
  {
   "cell_type": "markdown",
   "id": "3829058d-25eb-4fcc-803a-6e12cb820c4a",
   "metadata": {},
   "source": [
    "<br>\n",
    "\n",
    "## **Step 10: Set up model and push model to GPU**"
   ]
  },
  {
   "cell_type": "code",
   "execution_count": 24,
   "id": "74a2094c-a770-4906-a561-e1d6c8b47136",
   "metadata": {
    "tags": []
   },
   "outputs": [
    {
     "name": "stdout",
     "output_type": "stream",
     "text": [
      "Sequential(\n",
      "  (0): Linear(in_features=2, out_features=2, bias=True)\n",
      "  (1): ReLU()\n",
      "  (2): Linear(in_features=2, out_features=2, bias=True)\n",
      "  (3): ReLU()\n",
      "  (4): Linear(in_features=2, out_features=2, bias=True)\n",
      "  (5): ReLU()\n",
      "  (6): Linear(in_features=2, out_features=2, bias=True)\n",
      "  (7): ReLU()\n",
      "  (8): Linear(in_features=2, out_features=2, bias=True)\n",
      "  (9): ReLU()\n",
      "  (10): Linear(in_features=2, out_features=2, bias=True)\n",
      "  (11): ReLU()\n",
      "  (12): Linear(in_features=2, out_features=1, bias=True)\n",
      ")\n"
     ]
    }
   ],
   "source": [
    "# Hidden layer\n",
    "#    Multi-Layer Perceptron = ReLU\n",
    "#    Convolutional Neural Network = ReLU\n",
    "#    Recurrent Neural Network = Sigmoid or Tanh\n",
    "\n",
    "# Output layer\n",
    "#    Regression = Linear\n",
    "#    Binary = Sigmoid\n",
    "#    Multi-class = Softmax\n",
    "#    Multi-label = Sigmoid\n",
    "\n",
    "model = nn.Sequential(\n",
    "    nn.Linear(2, 2),\n",
    "    nn.ReLU(),\n",
    "    nn.Linear(2, 2),\n",
    "    nn.ReLU(),\n",
    "    nn.Linear(2, 2),\n",
    "    nn.ReLU(),\n",
    "    nn.Linear(2, 2),\n",
    "    nn.ReLU(),\n",
    "    nn.Linear(2, 2),\n",
    "    nn.ReLU(),\n",
    "    nn.Linear(2, 2),\n",
    "    nn.ReLU(),\n",
    "    nn.Linear(2, 1)\n",
    ").to(device)\n",
    "print(model)"
   ]
  },
  {
   "cell_type": "code",
   "execution_count": 25,
   "id": "3dbb21be-8626-4225-8adb-7a44063ce9c1",
   "metadata": {},
   "outputs": [
    {
     "data": {
      "text/plain": [
       "True"
      ]
     },
     "execution_count": 25,
     "metadata": {},
     "output_type": "execute_result"
    }
   ],
   "source": [
    "next(model.parameters()).is_cuda"
   ]
  },
  {
   "cell_type": "markdown",
   "id": "70497372-65a3-4ebc-acc2-4f9e77f034c0",
   "metadata": {},
   "source": [
    "<br>\n",
    "\n",
    "## **Step 11: Train model**"
   ]
  },
  {
   "cell_type": "code",
   "execution_count": 26,
   "id": "0af873d3-56d7-4e81-9e39-f44f76c9882a",
   "metadata": {},
   "outputs": [
    {
     "name": "stdout",
     "output_type": "stream",
     "text": [
      "WARNING:tensorflow:From C:\\Users\\chi_k\\anaconda3\\Lib\\site-packages\\keras\\src\\losses.py:2976: The name tf.losses.sparse_softmax_cross_entropy is deprecated. Please use tf.compat.v1.losses.sparse_softmax_cross_entropy instead.\n",
      "\n",
      "WARNING:tensorflow:From C:\\Users\\chi_k\\anaconda3\\Lib\\site-packages\\keras\\src\\backend.py:873: The name tf.get_default_graph is deprecated. Please use tf.compat.v1.get_default_graph instead.\n",
      "\n",
      "Finished epoch 0, latest loss 14.3751220703125\n",
      "Finished epoch 1, latest loss 7.514801025390625\n",
      "Finished epoch 2, latest loss 7.629067420959473\n",
      "Finished epoch 3, latest loss 7.6519269943237305\n",
      "Finished epoch 4, latest loss 7.649843215942383\n",
      "Finished epoch 5, latest loss 7.647741317749023\n",
      "Finished epoch 6, latest loss 7.645987510681152\n",
      "Finished epoch 7, latest loss 7.6447553634643555\n",
      "Finished epoch 8, latest loss 7.644020080566406\n",
      "Finished epoch 9, latest loss 7.6436309814453125\n",
      "\n",
      "Time difference in seconds : 20.426454\n",
      "Time difference in minutes : 0.3404409\n"
     ]
    }
   ],
   "source": [
    "loss_fn = nn.MSELoss()   # Mean Square Error\n",
    "optimizer = optim.Adam(model.parameters(), lr=0.001)   # Learning rate = 0.001\n",
    "\n",
    "n_epochs = 10\n",
    "\n",
    "time_start = datetime.now()\n",
    "\n",
    "for epoch in range(n_epochs):\n",
    "    for Xbatch, ybatch in df_dataloader:\n",
    "        optimizer.zero_grad()\n",
    "        y_pred = model(Xbatch)\n",
    "        loss = loss_fn(y_pred, ybatch)\n",
    "        loss.backward()\n",
    "        optimizer.step()\n",
    "    print(f'Finished epoch {epoch}, latest loss {loss}')\n",
    "\n",
    "time_end = datetime.now()\n",
    "print()\n",
    "print('Time difference in seconds :', (time_end-time_start).total_seconds())\n",
    "print('Time difference in minutes :', (time_end-time_start).total_seconds()/60)"
   ]
  },
  {
   "cell_type": "markdown",
   "id": "dc00e3e3-2861-4ccf-9273-4b9e81c21a88",
   "metadata": {},
   "source": [
    "<br>\n",
    "\n",
    "## **Step 12: Use trained model to compute accuracy on current data**\n",
    "**Note that the actual data science workflow should split data into training and testing**"
   ]
  },
  {
   "cell_type": "code",
   "execution_count": 27,
   "id": "f98bff7c-27f5-4c06-a5d3-18f869618db9",
   "metadata": {},
   "outputs": [],
   "source": [
    "y_pred = model(X)"
   ]
  },
  {
   "cell_type": "code",
   "execution_count": 28,
   "id": "27579b2e-9d89-4ce7-904a-9540f8ac8e54",
   "metadata": {},
   "outputs": [
    {
     "data": {
      "text/plain": [
       "tensor([[5.7434],\n",
       "        [5.7434],\n",
       "        [5.7434],\n",
       "        [5.7434],\n",
       "        [5.7434]], device='cuda:0', grad_fn=<SliceBackward0>)"
      ]
     },
     "execution_count": 28,
     "metadata": {},
     "output_type": "execute_result"
    }
   ],
   "source": [
    "y_pred[:5]"
   ]
  },
  {
   "cell_type": "code",
   "execution_count": 29,
   "id": "2e80791b-b37e-4f26-bc69-eb06d92f83b2",
   "metadata": {},
   "outputs": [],
   "source": [
    "dataset['y_pred'] = y_pred.cpu().detach().numpy()"
   ]
  },
  {
   "cell_type": "code",
   "execution_count": 30,
   "id": "b87876c2-6c6f-437c-960a-3c9ff9472de1",
   "metadata": {},
   "outputs": [
    {
     "data": {
      "text/html": [
       "<div>\n",
       "<style scoped>\n",
       "    .dataframe tbody tr th:only-of-type {\n",
       "        vertical-align: middle;\n",
       "    }\n",
       "\n",
       "    .dataframe tbody tr th {\n",
       "        vertical-align: top;\n",
       "    }\n",
       "\n",
       "    .dataframe thead th {\n",
       "        text-align: right;\n",
       "    }\n",
       "</style>\n",
       "<table border=\"1\" class=\"dataframe\">\n",
       "  <thead>\n",
       "    <tr style=\"text-align: right;\">\n",
       "      <th></th>\n",
       "      <th>X1</th>\n",
       "      <th>X2</th>\n",
       "      <th>y</th>\n",
       "      <th>y_pred</th>\n",
       "    </tr>\n",
       "  </thead>\n",
       "  <tbody>\n",
       "    <tr>\n",
       "      <th>0</th>\n",
       "      <td>9</td>\n",
       "      <td>6</td>\n",
       "      <td>6.800000</td>\n",
       "      <td>5.743443</td>\n",
       "    </tr>\n",
       "    <tr>\n",
       "      <th>1</th>\n",
       "      <td>11</td>\n",
       "      <td>13</td>\n",
       "      <td>5.583333</td>\n",
       "      <td>5.743443</td>\n",
       "    </tr>\n",
       "    <tr>\n",
       "      <th>2</th>\n",
       "      <td>12</td>\n",
       "      <td>10</td>\n",
       "      <td>8.000000</td>\n",
       "      <td>5.743443</td>\n",
       "    </tr>\n",
       "    <tr>\n",
       "      <th>3</th>\n",
       "      <td>9</td>\n",
       "      <td>5</td>\n",
       "      <td>7.142857</td>\n",
       "      <td>5.743443</td>\n",
       "    </tr>\n",
       "    <tr>\n",
       "      <th>4</th>\n",
       "      <td>6</td>\n",
       "      <td>5</td>\n",
       "      <td>4.727273</td>\n",
       "      <td>5.743443</td>\n",
       "    </tr>\n",
       "  </tbody>\n",
       "</table>\n",
       "</div>"
      ],
      "text/plain": [
       "   X1  X2         y    y_pred\n",
       "0   9   6  6.800000  5.743443\n",
       "1  11  13  5.583333  5.743443\n",
       "2  12  10  8.000000  5.743443\n",
       "3   9   5  7.142857  5.743443\n",
       "4   6   5  4.727273  5.743443"
      ]
     },
     "execution_count": 30,
     "metadata": {},
     "output_type": "execute_result"
    }
   ],
   "source": [
    "dataset.head()"
   ]
  },
  {
   "cell_type": "code",
   "execution_count": null,
   "id": "dc164ed8-c6c2-4ae0-b25d-599deea65550",
   "metadata": {},
   "outputs": [],
   "source": []
  }
 ],
 "metadata": {
  "kernelspec": {
   "display_name": "Python 3 (ipykernel)",
   "language": "python",
   "name": "python3"
  },
  "language_info": {
   "codemirror_mode": {
    "name": "ipython",
    "version": 3
   },
   "file_extension": ".py",
   "mimetype": "text/x-python",
   "name": "python",
   "nbconvert_exporter": "python",
   "pygments_lexer": "ipython3",
   "version": "3.11.5"
  }
 },
 "nbformat": 4,
 "nbformat_minor": 5
}
