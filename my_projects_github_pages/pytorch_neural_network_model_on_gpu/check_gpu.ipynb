{
 "cells": [
  {
   "cell_type": "code",
   "execution_count": 1,
   "id": "5893c354-27c5-440b-87dd-3bf5f44e9e08",
   "metadata": {},
   "outputs": [
    {
     "name": "stdout",
     "output_type": "stream",
     "text": [
      "GPU device available for use:  True\n",
      "\n",
      "Number of GPU devices:  1\n",
      "\n",
      "GPU device number:  0\n",
      "\n",
      "Model of GPU device:  NVIDIA GeForce GTX 1660 Ti\n",
      "\n"
     ]
    }
   ],
   "source": [
    "import torch\n",
    "\n",
    "print('GPU device available for use: ', torch.cuda.is_available())\n",
    "print()\n",
    "\n",
    "print('Number of GPU devices: ', torch.cuda.device_count())\n",
    "print()\n",
    "\n",
    "print('GPU device number: ', torch.cuda.current_device())\n",
    "print()\n",
    "\n",
    "print('Model of GPU device: ', torch.cuda.get_device_name(torch.cuda.current_device()))\n",
    "print()"
   ]
  },
  {
   "cell_type": "code",
   "execution_count": null,
   "id": "117de244-836b-4d08-9ce1-b70a392f14bb",
   "metadata": {},
   "outputs": [],
   "source": []
  }
 ],
 "metadata": {
  "kernelspec": {
   "display_name": "Python 3 (ipykernel)",
   "language": "python",
   "name": "python3"
  },
  "language_info": {
   "codemirror_mode": {
    "name": "ipython",
    "version": 3
   },
   "file_extension": ".py",
   "mimetype": "text/x-python",
   "name": "python",
   "nbconvert_exporter": "python",
   "pygments_lexer": "ipython3",
   "version": "3.11.5"
  }
 },
 "nbformat": 4,
 "nbformat_minor": 5
}
