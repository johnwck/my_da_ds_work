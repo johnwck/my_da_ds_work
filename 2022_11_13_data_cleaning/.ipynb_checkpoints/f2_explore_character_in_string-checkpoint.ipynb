{
 "cells": [
  {
   "cell_type": "markdown",
   "id": "fdd20f01",
   "metadata": {},
   "source": [
    "<br>  \n",
    "\n",
    "# <font color=blue>String manipulation  \n",
    "    "
   ]
  },
  {
   "cell_type": "code",
   "execution_count": 1,
   "id": "18dfc1ee",
   "metadata": {},
   "outputs": [],
   "source": [
    "j1 = 'jobs_579'"
   ]
  },
  {
   "cell_type": "markdown",
   "id": "4625f8ee",
   "metadata": {},
   "source": [
    "<br>  \n",
    "\n",
    "# <font color=blue>Find position of underscore  \n",
    "    "
   ]
  },
  {
   "cell_type": "code",
   "execution_count": 2,
   "id": "7c0e3094",
   "metadata": {},
   "outputs": [
    {
     "name": "stdout",
     "output_type": "stream",
     "text": [
      "position of underscore :  4\n"
     ]
    }
   ],
   "source": [
    "position_underscore = j1.find('_')\n",
    "print('position of underscore : ', position_underscore)"
   ]
  },
  {
   "cell_type": "markdown",
   "id": "0cfb1981",
   "metadata": {},
   "source": [
    "<br>  \n",
    "\n",
    "# <font color=blue>Find length of input  \n",
    "    "
   ]
  },
  {
   "cell_type": "code",
   "execution_count": 3,
   "id": "2c74b8a8",
   "metadata": {},
   "outputs": [
    {
     "name": "stdout",
     "output_type": "stream",
     "text": [
      "length of input :  8\n"
     ]
    }
   ],
   "source": [
    "length_input = len(j1)\n",
    "print('length of input : ', length_input)"
   ]
  },
  {
   "cell_type": "markdown",
   "id": "87ab3305",
   "metadata": {},
   "source": [
    "<br>  \n",
    "\n",
    "# <font color=blue>Find job number  \n",
    "    "
   ]
  },
  {
   "cell_type": "code",
   "execution_count": 4,
   "id": "65a8c072",
   "metadata": {},
   "outputs": [
    {
     "name": "stdout",
     "output_type": "stream",
     "text": [
      "job number :  579\n",
      "data type of job number :  <class 'str'> \n",
      "\n",
      "job number :  579\n",
      "data type of job number :  <class 'int'> \n",
      "\n"
     ]
    }
   ],
   "source": [
    "job_number = j1[ position_underscore + 1 : length_input ]\n",
    "print('job number : ', job_number)\n",
    "print('data type of job number : ', type(job_number), '\\n')\n",
    "\n",
    "job_number = int(j1[ position_underscore + 1 : length_input ])\n",
    "print('job number : ', job_number)\n",
    "print('data type of job number : ', type(job_number), '\\n')"
   ]
  },
  {
   "cell_type": "markdown",
   "id": "938f713d",
   "metadata": {},
   "source": [
    "<br>  \n",
    "\n",
    "# <font color=blue>Put codes above in function  \n",
    "    "
   ]
  }
 ],
 "metadata": {
  "kernelspec": {
   "display_name": "Python 3",
   "language": "python",
   "name": "python3"
  },
  "language_info": {
   "codemirror_mode": {
    "name": "ipython",
    "version": 3
   },
   "file_extension": ".py",
   "mimetype": "text/x-python",
   "name": "python",
   "nbconvert_exporter": "python",
   "pygments_lexer": "ipython3",
   "version": "3.8.8"
  }
 },
 "nbformat": 4,
 "nbformat_minor": 5
}
