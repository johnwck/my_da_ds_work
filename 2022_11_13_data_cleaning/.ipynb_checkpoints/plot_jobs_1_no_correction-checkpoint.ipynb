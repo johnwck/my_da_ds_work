{
 "cells": [
  {
   "cell_type": "markdown",
   "id": "c9aebfd8",
   "metadata": {},
   "source": [
    "# <font color=blue>Import  \n",
    "    "
   ]
  },
  {
   "cell_type": "code",
   "execution_count": 1,
   "id": "d23b96d2",
   "metadata": {},
   "outputs": [],
   "source": [
    "import seaborn as sns\n",
    "import matplotlib.pyplot as plt\n",
    "import pandas as pd\n",
    "from datetime import datetime"
   ]
  },
  {
   "cell_type": "markdown",
   "id": "1d11816c",
   "metadata": {},
   "source": [
    "<br>  \n",
    "\n",
    "# <font color=blue>Create dataframe of jobs with start time and end time  \n",
    "    "
   ]
  },
  {
   "cell_type": "code",
   "execution_count": 2,
   "id": "169b86a5",
   "metadata": {},
   "outputs": [],
   "source": [
    "df1 = {'job':  [                 1,                  3,                  2,                  4],\n",
    "       'from': ['2022-11-06 09:00', '2022-11-06 09:23', '2022-11-06 09:10', '2022-11-06 10:00'],\n",
    "       'to':   ['2022-11-06 09:15', '2022-11-06 09:40', '2022-11-06 09:25', '2022-11-06 11:00']}"
   ]
  },
  {
   "cell_type": "code",
   "execution_count": 3,
   "id": "7d649fbc",
   "metadata": {},
   "outputs": [],
   "source": [
    "df1 = pd.DataFrame(df1)"
   ]
  },
  {
   "cell_type": "code",
   "execution_count": 4,
   "id": "79b33470",
   "metadata": {},
   "outputs": [],
   "source": [
    "df1['from'] = pd.to_datetime(df1['from'])"
   ]
  },
  {
   "cell_type": "code",
   "execution_count": 5,
   "id": "2c2e921c",
   "metadata": {},
   "outputs": [],
   "source": [
    "df1['to'] = pd.to_datetime(df1['to'])"
   ]
  },
  {
   "cell_type": "code",
   "execution_count": 6,
   "id": "9010a5fd",
   "metadata": {},
   "outputs": [
    {
     "data": {
      "text/html": [
       "<div>\n",
       "<style scoped>\n",
       "    .dataframe tbody tr th:only-of-type {\n",
       "        vertical-align: middle;\n",
       "    }\n",
       "\n",
       "    .dataframe tbody tr th {\n",
       "        vertical-align: top;\n",
       "    }\n",
       "\n",
       "    .dataframe thead th {\n",
       "        text-align: right;\n",
       "    }\n",
       "</style>\n",
       "<table border=\"1\" class=\"dataframe\">\n",
       "  <thead>\n",
       "    <tr style=\"text-align: right;\">\n",
       "      <th></th>\n",
       "      <th>job</th>\n",
       "      <th>from</th>\n",
       "      <th>to</th>\n",
       "    </tr>\n",
       "  </thead>\n",
       "  <tbody>\n",
       "    <tr>\n",
       "      <th>0</th>\n",
       "      <td>1</td>\n",
       "      <td>2022-11-06 09:00:00</td>\n",
       "      <td>2022-11-06 09:15:00</td>\n",
       "    </tr>\n",
       "    <tr>\n",
       "      <th>1</th>\n",
       "      <td>3</td>\n",
       "      <td>2022-11-06 09:23:00</td>\n",
       "      <td>2022-11-06 09:40:00</td>\n",
       "    </tr>\n",
       "    <tr>\n",
       "      <th>2</th>\n",
       "      <td>2</td>\n",
       "      <td>2022-11-06 09:10:00</td>\n",
       "      <td>2022-11-06 09:25:00</td>\n",
       "    </tr>\n",
       "    <tr>\n",
       "      <th>3</th>\n",
       "      <td>4</td>\n",
       "      <td>2022-11-06 10:00:00</td>\n",
       "      <td>2022-11-06 11:00:00</td>\n",
       "    </tr>\n",
       "  </tbody>\n",
       "</table>\n",
       "</div>"
      ],
      "text/plain": [
       "   job                from                  to\n",
       "0    1 2022-11-06 09:00:00 2022-11-06 09:15:00\n",
       "1    3 2022-11-06 09:23:00 2022-11-06 09:40:00\n",
       "2    2 2022-11-06 09:10:00 2022-11-06 09:25:00\n",
       "3    4 2022-11-06 10:00:00 2022-11-06 11:00:00"
      ]
     },
     "execution_count": 6,
     "metadata": {},
     "output_type": "execute_result"
    }
   ],
   "source": [
    "df1"
   ]
  },
  {
   "cell_type": "markdown",
   "id": "5d86c972",
   "metadata": {},
   "source": [
    "<br>  \n",
    "\n",
    "# <font color=blue>Format dataframe to facilitate plotting of jobs  \n",
    "    "
   ]
  },
  {
   "cell_type": "code",
   "execution_count": 7,
   "id": "e40e77ee",
   "metadata": {},
   "outputs": [],
   "source": [
    "df2 = pd.DataFrame(columns=['job', 'from_to'])"
   ]
  },
  {
   "cell_type": "code",
   "execution_count": 8,
   "id": "3572b0bd",
   "metadata": {},
   "outputs": [],
   "source": [
    "j = 0\n",
    "for i in range(len(df1)):\n",
    "    df2.loc[i + j, 'job'] = df1['job'][i]\n",
    "    df2.loc[i + j, 'from_to'] = df1['from'][i]\n",
    "    df2.loc[i + j + 1, 'job'] = df1['job'][i]\n",
    "    df2.loc[i + j + 1, 'from_to'] = df1['to'][i]\n",
    "    j = j + 1"
   ]
  },
  {
   "cell_type": "code",
   "execution_count": 9,
   "id": "7ea2f5dd",
   "metadata": {},
   "outputs": [],
   "source": [
    "df2['from_to'] = pd.to_datetime(df2['from_to'])"
   ]
  },
  {
   "cell_type": "code",
   "execution_count": 10,
   "id": "560691d9",
   "metadata": {},
   "outputs": [
    {
     "data": {
      "text/html": [
       "<div>\n",
       "<style scoped>\n",
       "    .dataframe tbody tr th:only-of-type {\n",
       "        vertical-align: middle;\n",
       "    }\n",
       "\n",
       "    .dataframe tbody tr th {\n",
       "        vertical-align: top;\n",
       "    }\n",
       "\n",
       "    .dataframe thead th {\n",
       "        text-align: right;\n",
       "    }\n",
       "</style>\n",
       "<table border=\"1\" class=\"dataframe\">\n",
       "  <thead>\n",
       "    <tr style=\"text-align: right;\">\n",
       "      <th></th>\n",
       "      <th>job</th>\n",
       "      <th>from_to</th>\n",
       "    </tr>\n",
       "  </thead>\n",
       "  <tbody>\n",
       "    <tr>\n",
       "      <th>0</th>\n",
       "      <td>1</td>\n",
       "      <td>2022-11-06 09:00:00</td>\n",
       "    </tr>\n",
       "    <tr>\n",
       "      <th>1</th>\n",
       "      <td>1</td>\n",
       "      <td>2022-11-06 09:15:00</td>\n",
       "    </tr>\n",
       "    <tr>\n",
       "      <th>2</th>\n",
       "      <td>3</td>\n",
       "      <td>2022-11-06 09:23:00</td>\n",
       "    </tr>\n",
       "    <tr>\n",
       "      <th>3</th>\n",
       "      <td>3</td>\n",
       "      <td>2022-11-06 09:40:00</td>\n",
       "    </tr>\n",
       "    <tr>\n",
       "      <th>4</th>\n",
       "      <td>2</td>\n",
       "      <td>2022-11-06 09:10:00</td>\n",
       "    </tr>\n",
       "    <tr>\n",
       "      <th>5</th>\n",
       "      <td>2</td>\n",
       "      <td>2022-11-06 09:25:00</td>\n",
       "    </tr>\n",
       "    <tr>\n",
       "      <th>6</th>\n",
       "      <td>4</td>\n",
       "      <td>2022-11-06 10:00:00</td>\n",
       "    </tr>\n",
       "    <tr>\n",
       "      <th>7</th>\n",
       "      <td>4</td>\n",
       "      <td>2022-11-06 11:00:00</td>\n",
       "    </tr>\n",
       "  </tbody>\n",
       "</table>\n",
       "</div>"
      ],
      "text/plain": [
       "  job             from_to\n",
       "0   1 2022-11-06 09:00:00\n",
       "1   1 2022-11-06 09:15:00\n",
       "2   3 2022-11-06 09:23:00\n",
       "3   3 2022-11-06 09:40:00\n",
       "4   2 2022-11-06 09:10:00\n",
       "5   2 2022-11-06 09:25:00\n",
       "6   4 2022-11-06 10:00:00\n",
       "7   4 2022-11-06 11:00:00"
      ]
     },
     "execution_count": 10,
     "metadata": {},
     "output_type": "execute_result"
    }
   ],
   "source": [
    "df2"
   ]
  },
  {
   "cell_type": "markdown",
   "id": "acb3be21",
   "metadata": {},
   "source": [
    "<br>  \n",
    "\n",
    "# <font color=blue>Plotting of jobs  \n",
    "    "
   ]
  },
  {
   "cell_type": "code",
   "execution_count": 11,
   "id": "dd3d0e1a",
   "metadata": {},
   "outputs": [],
   "source": [
    "x_interval = pd.date_range(start = '2022-11-06 08:30:00', end = '2022-11-06 11:30:00', periods = 37)"
   ]
  },
  {
   "cell_type": "code",
   "execution_count": 12,
   "id": "bc289296",
   "metadata": {},
   "outputs": [
    {
     "data": {
      "text/plain": [
       "DatetimeIndex(['2022-11-06 08:30:00', '2022-11-06 08:35:00',\n",
       "               '2022-11-06 08:40:00', '2022-11-06 08:45:00',\n",
       "               '2022-11-06 08:50:00', '2022-11-06 08:55:00',\n",
       "               '2022-11-06 09:00:00', '2022-11-06 09:05:00',\n",
       "               '2022-11-06 09:10:00', '2022-11-06 09:15:00',\n",
       "               '2022-11-06 09:20:00', '2022-11-06 09:25:00',\n",
       "               '2022-11-06 09:30:00', '2022-11-06 09:35:00',\n",
       "               '2022-11-06 09:40:00', '2022-11-06 09:45:00',\n",
       "               '2022-11-06 09:50:00', '2022-11-06 09:55:00',\n",
       "               '2022-11-06 10:00:00', '2022-11-06 10:05:00',\n",
       "               '2022-11-06 10:10:00', '2022-11-06 10:15:00',\n",
       "               '2022-11-06 10:20:00', '2022-11-06 10:25:00',\n",
       "               '2022-11-06 10:30:00', '2022-11-06 10:35:00',\n",
       "               '2022-11-06 10:40:00', '2022-11-06 10:45:00',\n",
       "               '2022-11-06 10:50:00', '2022-11-06 10:55:00',\n",
       "               '2022-11-06 11:00:00', '2022-11-06 11:05:00',\n",
       "               '2022-11-06 11:10:00', '2022-11-06 11:15:00',\n",
       "               '2022-11-06 11:20:00', '2022-11-06 11:25:00',\n",
       "               '2022-11-06 11:30:00'],\n",
       "              dtype='datetime64[ns]', freq=None)"
      ]
     },
     "execution_count": 12,
     "metadata": {},
     "output_type": "execute_result"
    }
   ],
   "source": [
    "x_interval"
   ]
  },
  {
   "cell_type": "markdown",
   "id": "9bc823e3",
   "metadata": {},
   "source": [
    "<br>  \n",
    "\n",
    "# <font color=blue>BEFORE: Start time and end time of jobs overlap each other  \n",
    "    "
   ]
  },
  {
   "cell_type": "code",
   "execution_count": 13,
   "id": "7f6782b3",
   "metadata": {
    "scrolled": false
   },
   "outputs": [
    {
     "data": {
      "image/png": "[encoded data removed]",
      "text/plain": [
       "<Figure size 864x432 with 1 Axes>"
      ]
     },
     "metadata": {
      "needs_background": "light"
     },
     "output_type": "display_data"
    }
   ],
   "source": [
    "fig, axs = plt.subplots(1, 1, figsize = (12, 6))\n",
    "\n",
    "for i in range(0, len(df2), 2):\n",
    "    sns.scatterplot(data = df2[i:i + 2], x = 'from_to', y = 'job')\n",
    "    sns.lineplot(data = df2[i:i + 2], x = 'from_to', y = 'job', estimator = None)\n",
    "\n",
    "axs.set_xlim(datetime(2022, 11, 6, 8, 30, 0), datetime(2022, 11, 6, 11, 30, 0))\n",
    "axs.set_xticks(x_interval)\n",
    "axs.set_xticklabels(x_interval.strftime('%H:%M:%S'), rotation = 90, fontsize=12);\n",
    "axs.set_xlabel(xlabel='\\nTime', fontsize=12, color='black')\n",
    "\n",
    "axs.set_ylim(0, 5, 1)\n",
    "axs.set_yticks([0, 1, 2, 3, 4, 5])\n",
    "axs.set_yticklabels([0, 1, 2, 3, 4, 5], fontsize=12, rotation = 0);\n",
    "axs.set_ylabel(ylabel='Job\\n', fontsize=12, color='black')\n",
    "\n",
    "axs.xaxis.grid(True, linewidth = 0.25)\n",
    "axs.yaxis.grid(True, linewidth = 0.25)"
   ]
  },
  {
   "cell_type": "code",
   "execution_count": null,
   "id": "ab76ef03",
   "metadata": {},
   "outputs": [],
   "source": []
  }
 ],
 "metadata": {
  "kernelspec": {
   "display_name": "Python 3",
   "language": "python",
   "name": "python3"
  },
  "language_info": {
   "codemirror_mode": {
    "name": "ipython",
    "version": 3
   },
   "file_extension": ".py",
   "mimetype": "text/x-python",
   "name": "python",
   "nbconvert_exporter": "python",
   "pygments_lexer": "ipython3",
   "version": "3.8.8"
  }
 },
 "nbformat": 4,
 "nbformat_minor": 5
}
