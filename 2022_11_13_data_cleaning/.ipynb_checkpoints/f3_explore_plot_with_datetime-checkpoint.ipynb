{
 "cells": [
  {
   "cell_type": "markdown",
   "id": "007839f1",
   "metadata": {},
   "source": [
    "# <font color=blue>Import  \n",
    "    "
   ]
  },
  {
   "cell_type": "code",
   "execution_count": 1,
   "id": "780bbe37",
   "metadata": {},
   "outputs": [],
   "source": [
    "import pandas as pd\n",
    "import matplotlib.pyplot as plt\n",
    "import seaborn as sns\n",
    "from datetime import datetime"
   ]
  },
  {
   "cell_type": "markdown",
   "id": "f51923ff",
   "metadata": {},
   "source": [
    "<br>  \n",
    "\n",
    "# <font color=blue>Create dataframe with start time and end time of job  \n",
    "    "
   ]
  },
  {
   "cell_type": "code",
   "execution_count": 2,
   "id": "07220366",
   "metadata": {},
   "outputs": [],
   "source": [
    "df1 = {'job'       : [           'job_1'],\n",
    "       'start_time': ['2022-11-06 09:23'],\n",
    "       'end_time'  : ['2022-11-06 09:33']}"
   ]
  },
  {
   "cell_type": "code",
   "execution_count": 3,
   "id": "1dfad496",
   "metadata": {},
   "outputs": [],
   "source": [
    "df1 = pd.DataFrame(df1)"
   ]
  },
  {
   "cell_type": "code",
   "execution_count": 4,
   "id": "c669eed4",
   "metadata": {},
   "outputs": [],
   "source": [
    "df1['start_time'] = pd.to_datetime(df1['start_time'])"
   ]
  },
  {
   "cell_type": "code",
   "execution_count": 5,
   "id": "eb5dfe31",
   "metadata": {},
   "outputs": [],
   "source": [
    "df1['end_time'] = pd.to_datetime(df1['end_time'])"
   ]
  },
  {
   "cell_type": "code",
   "execution_count": 6,
   "id": "93d9584e",
   "metadata": {},
   "outputs": [
    {
     "data": {
      "text/html": [
       "<div>\n",
       "<style scoped>\n",
       "    .dataframe tbody tr th:only-of-type {\n",
       "        vertical-align: middle;\n",
       "    }\n",
       "\n",
       "    .dataframe tbody tr th {\n",
       "        vertical-align: top;\n",
       "    }\n",
       "\n",
       "    .dataframe thead th {\n",
       "        text-align: right;\n",
       "    }\n",
       "</style>\n",
       "<table border=\"1\" class=\"dataframe\">\n",
       "  <thead>\n",
       "    <tr style=\"text-align: right;\">\n",
       "      <th></th>\n",
       "      <th>job</th>\n",
       "      <th>start_time</th>\n",
       "      <th>end_time</th>\n",
       "    </tr>\n",
       "  </thead>\n",
       "  <tbody>\n",
       "    <tr>\n",
       "      <th>0</th>\n",
       "      <td>job_1</td>\n",
       "      <td>2022-11-06 09:23:00</td>\n",
       "      <td>2022-11-06 09:33:00</td>\n",
       "    </tr>\n",
       "  </tbody>\n",
       "</table>\n",
       "</div>"
      ],
      "text/plain": [
       "     job          start_time            end_time\n",
       "0  job_1 2022-11-06 09:23:00 2022-11-06 09:33:00"
      ]
     },
     "execution_count": 6,
     "metadata": {},
     "output_type": "execute_result"
    }
   ],
   "source": [
    "df1"
   ]
  },
  {
   "cell_type": "code",
   "execution_count": 7,
   "id": "3f0d0ac0",
   "metadata": {},
   "outputs": [
    {
     "name": "stdout",
     "output_type": "stream",
     "text": [
      "<class 'pandas.core.frame.DataFrame'>\n",
      "RangeIndex: 1 entries, 0 to 0\n",
      "Data columns (total 3 columns):\n",
      " #   Column      Non-Null Count  Dtype         \n",
      "---  ------      --------------  -----         \n",
      " 0   job         1 non-null      object        \n",
      " 1   start_time  1 non-null      datetime64[ns]\n",
      " 2   end_time    1 non-null      datetime64[ns]\n",
      "dtypes: datetime64[ns](2), object(1)\n",
      "memory usage: 152.0+ bytes\n"
     ]
    }
   ],
   "source": [
    "df1.info()"
   ]
  },
  {
   "cell_type": "markdown",
   "id": "cc3fa0f2",
   "metadata": {},
   "source": [
    "<br>  \n",
    "\n",
    "# <font color=blue>Function to get job number  \n",
    "    "
   ]
  },
  {
   "cell_type": "code",
   "execution_count": 8,
   "id": "3439c35b",
   "metadata": {},
   "outputs": [],
   "source": [
    "def find_job_y_value(input_value):\n",
    "    position_of_underscore_in_input_value = input_value.find('_')\n",
    "    length_of_input_value = len(input_value)\n",
    "    job_y_value = int(input_value[ position_of_underscore_in_input_value + 1 : length_of_input_value ])\n",
    "    return job_y_value"
   ]
  },
  {
   "cell_type": "markdown",
   "id": "41936708",
   "metadata": {},
   "source": [
    "<br>  \n",
    "\n",
    "# <font color=blue>Format dataframe (from wide to long) to facilitate plotting  \n",
    "<font color=blue>Use function to get job number  \n",
    "    "
   ]
  },
  {
   "cell_type": "code",
   "execution_count": 9,
   "id": "927678fc",
   "metadata": {},
   "outputs": [],
   "source": [
    "df2 = pd.DataFrame(columns=['job', 'job_y_value', 'time', 'source'])"
   ]
  },
  {
   "cell_type": "code",
   "execution_count": 10,
   "id": "d5c8bd86",
   "metadata": {},
   "outputs": [],
   "source": [
    "j = 0\n",
    "for i in range(len(df1)):\n",
    "    df2.loc[i + j, 'job'] = df1['job'][i]\n",
    "    df2.loc[i + j, 'job_y_value'] = int(find_job_y_value(df1['job'][i]))\n",
    "    df2.loc[i + j, 'time'] = df1['start_time'][i]\n",
    "    df2.loc[i + j, 'source'] = 'start'\n",
    "    df2.loc[i + j + 1, 'job'] = df1['job'][i]\n",
    "    df2.loc[i + j + 1, 'job_y_value'] = int(find_job_y_value(df1['job'][i]))\n",
    "    df2.loc[i + j + 1, 'time'] = df1['end_time'][i]\n",
    "    df2.loc[i + j + 1, 'source'] = 'end'\n",
    "    j = j + 1"
   ]
  },
  {
   "cell_type": "code",
   "execution_count": 11,
   "id": "ae4fb51a",
   "metadata": {},
   "outputs": [],
   "source": [
    "df2['time'] = pd.to_datetime(df2['time'])"
   ]
  },
  {
   "cell_type": "code",
   "execution_count": 12,
   "id": "8680a7cf",
   "metadata": {},
   "outputs": [],
   "source": [
    "df2['job_y_value'] = df2['job_y_value'].astype(int)"
   ]
  },
  {
   "cell_type": "code",
   "execution_count": 13,
   "id": "acc6b2aa",
   "metadata": {},
   "outputs": [
    {
     "data": {
      "text/html": [
       "<div>\n",
       "<style scoped>\n",
       "    .dataframe tbody tr th:only-of-type {\n",
       "        vertical-align: middle;\n",
       "    }\n",
       "\n",
       "    .dataframe tbody tr th {\n",
       "        vertical-align: top;\n",
       "    }\n",
       "\n",
       "    .dataframe thead th {\n",
       "        text-align: right;\n",
       "    }\n",
       "</style>\n",
       "<table border=\"1\" class=\"dataframe\">\n",
       "  <thead>\n",
       "    <tr style=\"text-align: right;\">\n",
       "      <th></th>\n",
       "      <th>job</th>\n",
       "      <th>job_y_value</th>\n",
       "      <th>time</th>\n",
       "      <th>source</th>\n",
       "    </tr>\n",
       "  </thead>\n",
       "  <tbody>\n",
       "    <tr>\n",
       "      <th>0</th>\n",
       "      <td>job_1</td>\n",
       "      <td>1</td>\n",
       "      <td>2022-11-06 09:23:00</td>\n",
       "      <td>start</td>\n",
       "    </tr>\n",
       "    <tr>\n",
       "      <th>1</th>\n",
       "      <td>job_1</td>\n",
       "      <td>1</td>\n",
       "      <td>2022-11-06 09:33:00</td>\n",
       "      <td>end</td>\n",
       "    </tr>\n",
       "  </tbody>\n",
       "</table>\n",
       "</div>"
      ],
      "text/plain": [
       "     job  job_y_value                time source\n",
       "0  job_1            1 2022-11-06 09:23:00  start\n",
       "1  job_1            1 2022-11-06 09:33:00    end"
      ]
     },
     "execution_count": 13,
     "metadata": {},
     "output_type": "execute_result"
    }
   ],
   "source": [
    "df2"
   ]
  },
  {
   "cell_type": "code",
   "execution_count": 14,
   "id": "06df9c80",
   "metadata": {},
   "outputs": [
    {
     "name": "stdout",
     "output_type": "stream",
     "text": [
      "<class 'pandas.core.frame.DataFrame'>\n",
      "Int64Index: 2 entries, 0 to 1\n",
      "Data columns (total 4 columns):\n",
      " #   Column       Non-Null Count  Dtype         \n",
      "---  ------       --------------  -----         \n",
      " 0   job          2 non-null      object        \n",
      " 1   job_y_value  2 non-null      int32         \n",
      " 2   time         2 non-null      datetime64[ns]\n",
      " 3   source       2 non-null      object        \n",
      "dtypes: datetime64[ns](1), int32(1), object(2)\n",
      "memory usage: 180.0+ bytes\n"
     ]
    }
   ],
   "source": [
    "df2.info()"
   ]
  },
  {
   "cell_type": "markdown",
   "id": "829a5413",
   "metadata": {},
   "source": [
    "<br>  \n",
    "\n",
    "# <font color=blue>Create 5-minute time interval for x-axis  \n",
    "    "
   ]
  },
  {
   "cell_type": "code",
   "execution_count": 15,
   "id": "ef23de97",
   "metadata": {},
   "outputs": [],
   "source": [
    "x_interval = pd.date_range(start = '2022-11-06 09:00:00', end = '2022-11-06 10:00:00', periods = 13)"
   ]
  },
  {
   "cell_type": "code",
   "execution_count": 16,
   "id": "bfbdf5a5",
   "metadata": {},
   "outputs": [
    {
     "data": {
      "text/plain": [
       "DatetimeIndex(['2022-11-06 09:00:00', '2022-11-06 09:05:00',\n",
       "               '2022-11-06 09:10:00', '2022-11-06 09:15:00',\n",
       "               '2022-11-06 09:20:00', '2022-11-06 09:25:00',\n",
       "               '2022-11-06 09:30:00', '2022-11-06 09:35:00',\n",
       "               '2022-11-06 09:40:00', '2022-11-06 09:45:00',\n",
       "               '2022-11-06 09:50:00', '2022-11-06 09:55:00',\n",
       "               '2022-11-06 10:00:00'],\n",
       "              dtype='datetime64[ns]', freq=None)"
      ]
     },
     "execution_count": 16,
     "metadata": {},
     "output_type": "execute_result"
    }
   ],
   "source": [
    "x_interval"
   ]
  },
  {
   "cell_type": "markdown",
   "id": "08fcae5e",
   "metadata": {},
   "source": [
    "<br>  \n",
    "\n",
    "# <font color=blue>Plot start time and end time of job with line joining them  \n",
    "    "
   ]
  },
  {
   "cell_type": "code",
   "execution_count": 17,
   "id": "0011a63a",
   "metadata": {},
   "outputs": [
    {
     "data": {
      "image/png": "[encoded data removed]",
      "text/plain": [
       "<Figure size 720x360 with 1 Axes>"
      ]
     },
     "metadata": {
      "needs_background": "light"
     },
     "output_type": "display_data"
    }
   ],
   "source": [
    "# ========== set 1 x 1 plot area ==========\n",
    "# ========== set width=10 and height=5 ==========\n",
    "fig, axs = plt.subplots(1, 1, figsize = (10, 5))\n",
    "\n",
    "# ========== plot 2 dots ==========\n",
    "sns.scatterplot(data = df2, x = 'time', y = 'job_y_value')\n",
    "\n",
    "# ========== plot line connecting 2 dots ==========\n",
    "sns.lineplot(data = df2, x = 'time', y = 'job_y_value', estimator = None)\n",
    "\n",
    "# ========== set x axis range from 9 am to 10 am ==========\n",
    "axs.set_xlim(datetime(2022, 11, 6, 9, 0, 0), datetime(2022, 11, 6, 10, 0, 0))\n",
    "\n",
    "# ========== set x axis tick interval every 5-minute ==========\n",
    "axs.set_xticks(x_interval)\n",
    "\n",
    "# ========== label x axis tick every 5-minute without date ==========\n",
    "axs.set_xticklabels(x_interval.strftime('%H:%M:%S'), rotation = 90, fontsize = 12);\n",
    "\n",
    "# ========== label x axis ==========\n",
    "axs.set_xlabel(xlabel = '\\nTime', fontsize = 12, color = 'black')\n",
    "\n",
    "# ========== do the same for y axis ==========\n",
    "axs.set_ylim(0, 5, 1)\n",
    "axs.set_yticks([0, 1, 2, 3, 4, 5])\n",
    "axs.set_yticklabels([0, 'job_1', 'job_2', 'job_3', 'job_4', 'job_5'], fontsize = 12, rotation = 0);\n",
    "axs.set_ylabel(ylabel = 'Job\\n', fontsize = 12, color = 'black')\n",
    "\n",
    "# ========== draw horizontal and vertical gridlines ==========\n",
    "axs.xaxis.grid(True, linewidth = 0.25)\n",
    "axs.yaxis.grid(True, linewidth = 0.25)\n",
    "\n",
    "# ========== add text to show job ==========\n",
    "axs.text(df2.loc[0, 'time'], df2.loc[0, 'job_y_value'] - 0.3, df2.loc[0, 'job'], fontsize = 14, color = 'blue');"
   ]
  },
  {
   "cell_type": "code",
   "execution_count": null,
   "id": "44092d72",
   "metadata": {},
   "outputs": [],
   "source": []
  }
 ],
 "metadata": {
  "kernelspec": {
   "display_name": "Python 3",
   "language": "python",
   "name": "python3"
  },
  "language_info": {
   "codemirror_mode": {
    "name": "ipython",
    "version": 3
   },
   "file_extension": ".py",
   "mimetype": "text/x-python",
   "name": "python",
   "nbconvert_exporter": "python",
   "pygments_lexer": "ipython3",
   "version": "3.8.8"
  }
 },
 "nbformat": 4,
 "nbformat_minor": 5
}
