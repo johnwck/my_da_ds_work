{
 "cells": [
  {
   "cell_type": "markdown",
   "id": "c9aebfd8",
   "metadata": {},
   "source": [
    "# <font color=blue>Import  \n",
    "    "
   ]
  },
  {
   "cell_type": "code",
   "execution_count": 1,
   "id": "d23b96d2",
   "metadata": {},
   "outputs": [],
   "source": [
    "import pandas as pd"
   ]
  },
  {
   "cell_type": "markdown",
   "id": "1d11816c",
   "metadata": {},
   "source": [
    "<br>  \n",
    "\n",
    "# <font color=blue>Create dataframe of jobs with start time and end time  \n",
    "    "
   ]
  },
  {
   "cell_type": "code",
   "execution_count": 2,
   "id": "169b86a5",
   "metadata": {},
   "outputs": [],
   "source": [
    "df1 = {'job':  [                 2,                  1],\n",
    "       'from': ['2022-11-06 09:08', '2022-11-06 09:00'],\n",
    "       'to':   ['2022-11-06 09:20', '2022-11-06 09:12']}"
   ]
  },
  {
   "cell_type": "code",
   "execution_count": 3,
   "id": "7d649fbc",
   "metadata": {},
   "outputs": [],
   "source": [
    "df1 = pd.DataFrame(df1)"
   ]
  },
  {
   "cell_type": "code",
   "execution_count": 4,
   "id": "79b33470",
   "metadata": {},
   "outputs": [],
   "source": [
    "df1['from'] = pd.to_datetime(df1['from'])"
   ]
  },
  {
   "cell_type": "code",
   "execution_count": 5,
   "id": "2c2e921c",
   "metadata": {},
   "outputs": [],
   "source": [
    "df1['to'] = pd.to_datetime(df1['to'])"
   ]
  },
  {
   "cell_type": "code",
   "execution_count": 6,
   "id": "188b2a31",
   "metadata": {},
   "outputs": [
    {
     "data": {
      "text/html": [
       "<div>\n",
       "<style scoped>\n",
       "    .dataframe tbody tr th:only-of-type {\n",
       "        vertical-align: middle;\n",
       "    }\n",
       "\n",
       "    .dataframe tbody tr th {\n",
       "        vertical-align: top;\n",
       "    }\n",
       "\n",
       "    .dataframe thead th {\n",
       "        text-align: right;\n",
       "    }\n",
       "</style>\n",
       "<table border=\"1\" class=\"dataframe\">\n",
       "  <thead>\n",
       "    <tr style=\"text-align: right;\">\n",
       "      <th></th>\n",
       "      <th>job</th>\n",
       "      <th>from</th>\n",
       "      <th>to</th>\n",
       "    </tr>\n",
       "  </thead>\n",
       "  <tbody>\n",
       "    <tr>\n",
       "      <th>0</th>\n",
       "      <td>2</td>\n",
       "      <td>2022-11-06 09:08:00</td>\n",
       "      <td>2022-11-06 09:20:00</td>\n",
       "    </tr>\n",
       "    <tr>\n",
       "      <th>1</th>\n",
       "      <td>1</td>\n",
       "      <td>2022-11-06 09:00:00</td>\n",
       "      <td>2022-11-06 09:12:00</td>\n",
       "    </tr>\n",
       "  </tbody>\n",
       "</table>\n",
       "</div>"
      ],
      "text/plain": [
       "   job                from                  to\n",
       "0    2 2022-11-06 09:08:00 2022-11-06 09:20:00\n",
       "1    1 2022-11-06 09:00:00 2022-11-06 09:12:00"
      ]
     },
     "execution_count": 6,
     "metadata": {},
     "output_type": "execute_result"
    }
   ],
   "source": [
    "df1"
   ]
  },
  {
   "cell_type": "markdown",
   "id": "79164899",
   "metadata": {},
   "source": [
    "<br>  \n",
    "\n",
    "# <font color=blue>Sort dataframe by start time in chronological order  \n",
    "### <font color=blue>Must reset index after sorting  \n",
    "    "
   ]
  },
  {
   "cell_type": "code",
   "execution_count": 7,
   "id": "9205166e",
   "metadata": {},
   "outputs": [],
   "source": [
    "df1.sort_values(by = ['from'], inplace = True)"
   ]
  },
  {
   "cell_type": "code",
   "execution_count": 8,
   "id": "0a36ece6",
   "metadata": {},
   "outputs": [],
   "source": [
    "df1.reset_index(inplace = True, drop = True)"
   ]
  },
  {
   "cell_type": "code",
   "execution_count": 9,
   "id": "2e2560fb",
   "metadata": {},
   "outputs": [
    {
     "data": {
      "text/html": [
       "<div>\n",
       "<style scoped>\n",
       "    .dataframe tbody tr th:only-of-type {\n",
       "        vertical-align: middle;\n",
       "    }\n",
       "\n",
       "    .dataframe tbody tr th {\n",
       "        vertical-align: top;\n",
       "    }\n",
       "\n",
       "    .dataframe thead th {\n",
       "        text-align: right;\n",
       "    }\n",
       "</style>\n",
       "<table border=\"1\" class=\"dataframe\">\n",
       "  <thead>\n",
       "    <tr style=\"text-align: right;\">\n",
       "      <th></th>\n",
       "      <th>job</th>\n",
       "      <th>from</th>\n",
       "      <th>to</th>\n",
       "    </tr>\n",
       "  </thead>\n",
       "  <tbody>\n",
       "    <tr>\n",
       "      <th>0</th>\n",
       "      <td>1</td>\n",
       "      <td>2022-11-06 09:00:00</td>\n",
       "      <td>2022-11-06 09:12:00</td>\n",
       "    </tr>\n",
       "    <tr>\n",
       "      <th>1</th>\n",
       "      <td>2</td>\n",
       "      <td>2022-11-06 09:08:00</td>\n",
       "      <td>2022-11-06 09:20:00</td>\n",
       "    </tr>\n",
       "  </tbody>\n",
       "</table>\n",
       "</div>"
      ],
      "text/plain": [
       "   job                from                  to\n",
       "0    1 2022-11-06 09:00:00 2022-11-06 09:12:00\n",
       "1    2 2022-11-06 09:08:00 2022-11-06 09:20:00"
      ]
     },
     "execution_count": 9,
     "metadata": {},
     "output_type": "execute_result"
    }
   ],
   "source": [
    "df1"
   ]
  },
  {
   "cell_type": "markdown",
   "id": "1d78a91a",
   "metadata": {},
   "source": [
    "<br>  \n",
    "\n",
    "# <font color=blue>If start time of next job is between start time and end time of current job, make end time of current job same as start time of next job to eliminate overlap  \n",
    "    "
   ]
  },
  {
   "cell_type": "code",
   "execution_count": 10,
   "id": "b0365d2f",
   "metadata": {},
   "outputs": [],
   "source": [
    "j = len(df1) - 1\n",
    "for i in range(len(df1)):\n",
    "    if i != j:\n",
    "        if (df1.loc[i, 'from'] < df1.loc[i + 1, 'from']) and (df1.loc[i + 1, 'from'] < df1.loc[i, 'to']):\n",
    "            df1.loc[i, 'to'] = df1.loc[i + 1, 'from']"
   ]
  },
  {
   "cell_type": "code",
   "execution_count": 11,
   "id": "055dc053",
   "metadata": {},
   "outputs": [
    {
     "data": {
      "text/html": [
       "<div>\n",
       "<style scoped>\n",
       "    .dataframe tbody tr th:only-of-type {\n",
       "        vertical-align: middle;\n",
       "    }\n",
       "\n",
       "    .dataframe tbody tr th {\n",
       "        vertical-align: top;\n",
       "    }\n",
       "\n",
       "    .dataframe thead th {\n",
       "        text-align: right;\n",
       "    }\n",
       "</style>\n",
       "<table border=\"1\" class=\"dataframe\">\n",
       "  <thead>\n",
       "    <tr style=\"text-align: right;\">\n",
       "      <th></th>\n",
       "      <th>job</th>\n",
       "      <th>from</th>\n",
       "      <th>to</th>\n",
       "    </tr>\n",
       "  </thead>\n",
       "  <tbody>\n",
       "    <tr>\n",
       "      <th>0</th>\n",
       "      <td>1</td>\n",
       "      <td>2022-11-06 09:00:00</td>\n",
       "      <td>2022-11-06 09:08:00</td>\n",
       "    </tr>\n",
       "    <tr>\n",
       "      <th>1</th>\n",
       "      <td>2</td>\n",
       "      <td>2022-11-06 09:08:00</td>\n",
       "      <td>2022-11-06 09:20:00</td>\n",
       "    </tr>\n",
       "  </tbody>\n",
       "</table>\n",
       "</div>"
      ],
      "text/plain": [
       "   job                from                  to\n",
       "0    1 2022-11-06 09:00:00 2022-11-06 09:08:00\n",
       "1    2 2022-11-06 09:08:00 2022-11-06 09:20:00"
      ]
     },
     "execution_count": 11,
     "metadata": {},
     "output_type": "execute_result"
    }
   ],
   "source": [
    "df1"
   ]
  },
  {
   "cell_type": "code",
   "execution_count": null,
   "id": "ecab407b",
   "metadata": {},
   "outputs": [],
   "source": []
  }
 ],
 "metadata": {
  "kernelspec": {
   "display_name": "Python 3",
   "language": "python",
   "name": "python3"
  },
  "language_info": {
   "codemirror_mode": {
    "name": "ipython",
    "version": 3
   },
   "file_extension": ".py",
   "mimetype": "text/x-python",
   "name": "python",
   "nbconvert_exporter": "python",
   "pygments_lexer": "ipython3",
   "version": "3.8.8"
  }
 },
 "nbformat": 4,
 "nbformat_minor": 5
}
