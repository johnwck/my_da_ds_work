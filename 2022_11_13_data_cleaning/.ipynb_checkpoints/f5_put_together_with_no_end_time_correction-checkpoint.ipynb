{
 "cells": [
  {
   "cell_type": "markdown",
   "id": "c9aebfd8",
   "metadata": {},
   "source": [
    "# <font color=blue>Import  \n",
    "    "
   ]
  },
  {
   "cell_type": "code",
   "execution_count": 1,
   "id": "d23b96d2",
   "metadata": {},
   "outputs": [],
   "source": [
    "import seaborn as sns\n",
    "import matplotlib.pyplot as plt\n",
    "import pandas as pd\n",
    "from datetime import datetime"
   ]
  },
  {
   "cell_type": "markdown",
   "id": "1d11816c",
   "metadata": {},
   "source": [
    "<br>  \n",
    "\n",
    "# <font color=blue>Create dataframe with start time and end time of jobs  \n",
    "    "
   ]
  },
  {
   "cell_type": "code",
   "execution_count": 2,
   "id": "169b86a5",
   "metadata": {},
   "outputs": [],
   "source": [
    "df1 = {'job'       : [           'job_1',            'job_3',            'job_2',            'job_4'],\n",
    "       'start_time': ['2022-11-06 09:00', '2022-11-06 09:23', '2022-11-06 09:10', '2022-11-06 10:00'],\n",
    "       'end_time'  : ['2022-11-06 09:15', '2022-11-06 09:40', '2022-11-06 09:25', '2022-11-06 11:00']}"
   ]
  },
  {
   "cell_type": "code",
   "execution_count": 3,
   "id": "7d649fbc",
   "metadata": {},
   "outputs": [],
   "source": [
    "df1 = pd.DataFrame(df1)"
   ]
  },
  {
   "cell_type": "code",
   "execution_count": 4,
   "id": "79b33470",
   "metadata": {},
   "outputs": [],
   "source": [
    "df1['start_time'] = pd.to_datetime(df1['start_time'])"
   ]
  },
  {
   "cell_type": "code",
   "execution_count": 5,
   "id": "2c2e921c",
   "metadata": {},
   "outputs": [],
   "source": [
    "df1['end_time'] = pd.to_datetime(df1['end_time'])"
   ]
  },
  {
   "cell_type": "code",
   "execution_count": 6,
   "id": "9010a5fd",
   "metadata": {},
   "outputs": [
    {
     "data": {
      "text/html": [
       "<div>\n",
       "<style scoped>\n",
       "    .dataframe tbody tr th:only-of-type {\n",
       "        vertical-align: middle;\n",
       "    }\n",
       "\n",
       "    .dataframe tbody tr th {\n",
       "        vertical-align: top;\n",
       "    }\n",
       "\n",
       "    .dataframe thead th {\n",
       "        text-align: right;\n",
       "    }\n",
       "</style>\n",
       "<table border=\"1\" class=\"dataframe\">\n",
       "  <thead>\n",
       "    <tr style=\"text-align: right;\">\n",
       "      <th></th>\n",
       "      <th>job</th>\n",
       "      <th>start_time</th>\n",
       "      <th>end_time</th>\n",
       "    </tr>\n",
       "  </thead>\n",
       "  <tbody>\n",
       "    <tr>\n",
       "      <th>0</th>\n",
       "      <td>job_1</td>\n",
       "      <td>2022-11-06 09:00:00</td>\n",
       "      <td>2022-11-06 09:15:00</td>\n",
       "    </tr>\n",
       "    <tr>\n",
       "      <th>1</th>\n",
       "      <td>job_3</td>\n",
       "      <td>2022-11-06 09:23:00</td>\n",
       "      <td>2022-11-06 09:40:00</td>\n",
       "    </tr>\n",
       "    <tr>\n",
       "      <th>2</th>\n",
       "      <td>job_2</td>\n",
       "      <td>2022-11-06 09:10:00</td>\n",
       "      <td>2022-11-06 09:25:00</td>\n",
       "    </tr>\n",
       "    <tr>\n",
       "      <th>3</th>\n",
       "      <td>job_4</td>\n",
       "      <td>2022-11-06 10:00:00</td>\n",
       "      <td>2022-11-06 11:00:00</td>\n",
       "    </tr>\n",
       "  </tbody>\n",
       "</table>\n",
       "</div>"
      ],
      "text/plain": [
       "     job          start_time            end_time\n",
       "0  job_1 2022-11-06 09:00:00 2022-11-06 09:15:00\n",
       "1  job_3 2022-11-06 09:23:00 2022-11-06 09:40:00\n",
       "2  job_2 2022-11-06 09:10:00 2022-11-06 09:25:00\n",
       "3  job_4 2022-11-06 10:00:00 2022-11-06 11:00:00"
      ]
     },
     "execution_count": 6,
     "metadata": {},
     "output_type": "execute_result"
    }
   ],
   "source": [
    "df1"
   ]
  },
  {
   "cell_type": "markdown",
   "id": "5d86c972",
   "metadata": {},
   "source": [
    "<br>  \n",
    "\n",
    "# <font color=blue>Function to get job number  \n",
    "    "
   ]
  },
  {
   "cell_type": "code",
   "execution_count": 7,
   "id": "37d69a8c",
   "metadata": {},
   "outputs": [],
   "source": [
    "def find_job_y_value(input_value):\n",
    "    position_of_underscore_in_input_value = input_value.find('_')\n",
    "    length_of_input_value = len(input_value)\n",
    "    job_y_value = int(input_value[ position_of_underscore_in_input_value + 1 : length_of_input_value ])\n",
    "    return job_y_value"
   ]
  },
  {
   "cell_type": "markdown",
   "id": "cbd7d372",
   "metadata": {},
   "source": [
    "<br>  \n",
    "\n",
    "# <font color=blue>Format dataframe (from wide to long) to facilitate plotting  \n",
    "<font color=blue>Use function to get job number\n",
    "    "
   ]
  },
  {
   "cell_type": "code",
   "execution_count": 8,
   "id": "e40e77ee",
   "metadata": {},
   "outputs": [],
   "source": [
    "df2 = pd.DataFrame(columns=['job', 'job_y_value', 'time', 'source'])"
   ]
  },
  {
   "cell_type": "code",
   "execution_count": 9,
   "id": "3572b0bd",
   "metadata": {},
   "outputs": [],
   "source": [
    "j = 0\n",
    "for i in range(len(df1)):\n",
    "    df2.loc[i + j, 'job'] = df1['job'][i]\n",
    "    df2.loc[i + j, 'job_y_value'] = int(find_job_y_value(df1['job'][i]))\n",
    "    df2.loc[i + j, 'time'] = df1['start_time'][i]\n",
    "    df2.loc[i + j, 'source'] = 'start'\n",
    "    df2.loc[i + j + 1, 'job'] = df1['job'][i]\n",
    "    df2.loc[i + j + 1, 'job_y_value'] = int(find_job_y_value(df1['job'][i]))\n",
    "    df2.loc[i + j + 1, 'time'] = df1['end_time'][i]\n",
    "    df2.loc[i + j + 1, 'source'] = 'end'\n",
    "    j = j + 1"
   ]
  },
  {
   "cell_type": "code",
   "execution_count": 10,
   "id": "7ea2f5dd",
   "metadata": {},
   "outputs": [],
   "source": [
    "df2['time'] = pd.to_datetime(df2['time'])"
   ]
  },
  {
   "cell_type": "code",
   "execution_count": 11,
   "id": "5cd9c56c",
   "metadata": {},
   "outputs": [],
   "source": [
    "df2['job_y_value'] = df2['job_y_value'].astype(int)"
   ]
  },
  {
   "cell_type": "code",
   "execution_count": 12,
   "id": "560691d9",
   "metadata": {},
   "outputs": [
    {
     "data": {
      "text/html": [
       "<div>\n",
       "<style scoped>\n",
       "    .dataframe tbody tr th:only-of-type {\n",
       "        vertical-align: middle;\n",
       "    }\n",
       "\n",
       "    .dataframe tbody tr th {\n",
       "        vertical-align: top;\n",
       "    }\n",
       "\n",
       "    .dataframe thead th {\n",
       "        text-align: right;\n",
       "    }\n",
       "</style>\n",
       "<table border=\"1\" class=\"dataframe\">\n",
       "  <thead>\n",
       "    <tr style=\"text-align: right;\">\n",
       "      <th></th>\n",
       "      <th>job</th>\n",
       "      <th>job_y_value</th>\n",
       "      <th>time</th>\n",
       "      <th>source</th>\n",
       "    </tr>\n",
       "  </thead>\n",
       "  <tbody>\n",
       "    <tr>\n",
       "      <th>0</th>\n",
       "      <td>job_1</td>\n",
       "      <td>1</td>\n",
       "      <td>2022-11-06 09:00:00</td>\n",
       "      <td>start</td>\n",
       "    </tr>\n",
       "    <tr>\n",
       "      <th>1</th>\n",
       "      <td>job_1</td>\n",
       "      <td>1</td>\n",
       "      <td>2022-11-06 09:15:00</td>\n",
       "      <td>end</td>\n",
       "    </tr>\n",
       "    <tr>\n",
       "      <th>2</th>\n",
       "      <td>job_3</td>\n",
       "      <td>3</td>\n",
       "      <td>2022-11-06 09:23:00</td>\n",
       "      <td>start</td>\n",
       "    </tr>\n",
       "    <tr>\n",
       "      <th>3</th>\n",
       "      <td>job_3</td>\n",
       "      <td>3</td>\n",
       "      <td>2022-11-06 09:40:00</td>\n",
       "      <td>end</td>\n",
       "    </tr>\n",
       "    <tr>\n",
       "      <th>4</th>\n",
       "      <td>job_2</td>\n",
       "      <td>2</td>\n",
       "      <td>2022-11-06 09:10:00</td>\n",
       "      <td>start</td>\n",
       "    </tr>\n",
       "    <tr>\n",
       "      <th>5</th>\n",
       "      <td>job_2</td>\n",
       "      <td>2</td>\n",
       "      <td>2022-11-06 09:25:00</td>\n",
       "      <td>end</td>\n",
       "    </tr>\n",
       "    <tr>\n",
       "      <th>6</th>\n",
       "      <td>job_4</td>\n",
       "      <td>4</td>\n",
       "      <td>2022-11-06 10:00:00</td>\n",
       "      <td>start</td>\n",
       "    </tr>\n",
       "    <tr>\n",
       "      <th>7</th>\n",
       "      <td>job_4</td>\n",
       "      <td>4</td>\n",
       "      <td>2022-11-06 11:00:00</td>\n",
       "      <td>end</td>\n",
       "    </tr>\n",
       "  </tbody>\n",
       "</table>\n",
       "</div>"
      ],
      "text/plain": [
       "     job  job_y_value                time source\n",
       "0  job_1            1 2022-11-06 09:00:00  start\n",
       "1  job_1            1 2022-11-06 09:15:00    end\n",
       "2  job_3            3 2022-11-06 09:23:00  start\n",
       "3  job_3            3 2022-11-06 09:40:00    end\n",
       "4  job_2            2 2022-11-06 09:10:00  start\n",
       "5  job_2            2 2022-11-06 09:25:00    end\n",
       "6  job_4            4 2022-11-06 10:00:00  start\n",
       "7  job_4            4 2022-11-06 11:00:00    end"
      ]
     },
     "execution_count": 12,
     "metadata": {},
     "output_type": "execute_result"
    }
   ],
   "source": [
    "df2"
   ]
  },
  {
   "cell_type": "markdown",
   "id": "acb3be21",
   "metadata": {},
   "source": [
    "<br>  \n",
    "\n",
    "# <font color=blue>Create 5-minute time interval for x-axis  \n",
    "    "
   ]
  },
  {
   "cell_type": "code",
   "execution_count": 13,
   "id": "dd3d0e1a",
   "metadata": {},
   "outputs": [],
   "source": [
    "x_interval = pd.date_range(start = '2022-11-06 08:30:00', end = '2022-11-06 11:30:00', periods = 37)"
   ]
  },
  {
   "cell_type": "code",
   "execution_count": 14,
   "id": "bc289296",
   "metadata": {},
   "outputs": [
    {
     "data": {
      "text/plain": [
       "DatetimeIndex(['2022-11-06 08:30:00', '2022-11-06 08:35:00',\n",
       "               '2022-11-06 08:40:00', '2022-11-06 08:45:00',\n",
       "               '2022-11-06 08:50:00', '2022-11-06 08:55:00',\n",
       "               '2022-11-06 09:00:00', '2022-11-06 09:05:00',\n",
       "               '2022-11-06 09:10:00', '2022-11-06 09:15:00',\n",
       "               '2022-11-06 09:20:00', '2022-11-06 09:25:00',\n",
       "               '2022-11-06 09:30:00', '2022-11-06 09:35:00',\n",
       "               '2022-11-06 09:40:00', '2022-11-06 09:45:00',\n",
       "               '2022-11-06 09:50:00', '2022-11-06 09:55:00',\n",
       "               '2022-11-06 10:00:00', '2022-11-06 10:05:00',\n",
       "               '2022-11-06 10:10:00', '2022-11-06 10:15:00',\n",
       "               '2022-11-06 10:20:00', '2022-11-06 10:25:00',\n",
       "               '2022-11-06 10:30:00', '2022-11-06 10:35:00',\n",
       "               '2022-11-06 10:40:00', '2022-11-06 10:45:00',\n",
       "               '2022-11-06 10:50:00', '2022-11-06 10:55:00',\n",
       "               '2022-11-06 11:00:00', '2022-11-06 11:05:00',\n",
       "               '2022-11-06 11:10:00', '2022-11-06 11:15:00',\n",
       "               '2022-11-06 11:20:00', '2022-11-06 11:25:00',\n",
       "               '2022-11-06 11:30:00'],\n",
       "              dtype='datetime64[ns]', freq=None)"
      ]
     },
     "execution_count": 14,
     "metadata": {},
     "output_type": "execute_result"
    }
   ],
   "source": [
    "x_interval"
   ]
  },
  {
   "cell_type": "markdown",
   "id": "9bc823e3",
   "metadata": {},
   "source": [
    "<br>  \n",
    "\n",
    "# <font color=blue>BEFORE: Start time and end time of jobs overlap each other  \n",
    "    "
   ]
  },
  {
   "cell_type": "code",
   "execution_count": 15,
   "id": "7f6782b3",
   "metadata": {
    "scrolled": false
   },
   "outputs": [
    {
     "data": {
      "image/png": "[encoded data removed]",
      "text/plain": [
       "<Figure size 864x432 with 1 Axes>"
      ]
     },
     "metadata": {
      "needs_background": "light"
     },
     "output_type": "display_data"
    }
   ],
   "source": [
    "fig, axs = plt.subplots(1, 1, figsize = (12, 6))\n",
    "\n",
    "for i in range(0, len(df2), 2):\n",
    "    sns.scatterplot(data = df2[i:i + 2], x = 'time', y = 'job_y_value')\n",
    "    sns.lineplot(data = df2[i:i + 2], x = 'time', y = 'job_y_value', estimator = None)\n",
    "    axs.text(df2.loc[i, 'time'], df2.loc[i, 'job_y_value'] - 0.3, df2.loc[i, 'job'], fontsize = 14, color = 'blue');\n",
    "\n",
    "axs.set_xlim(datetime(2022, 11, 6, 8, 30, 0), datetime(2022, 11, 6, 11, 30, 0))\n",
    "axs.set_xticks(x_interval)\n",
    "axs.set_xticklabels(x_interval.strftime('%H:%M:%S'), rotation = 90, fontsize = 12);\n",
    "axs.set_xlabel(xlabel = '\\nTime', fontsize = 12, color = 'black')\n",
    "\n",
    "axs.set_ylim(0, 5, 1)\n",
    "axs.set_yticks([0, 1, 2, 3, 4, 5])\n",
    "axs.set_yticklabels([0, 1, 2, 3, 4, 5], fontsize = 12, rotation = 0);\n",
    "axs.set_ylabel(ylabel = 'Job\\n', fontsize = 12, color = 'black')\n",
    "\n",
    "axs.xaxis.grid(True, linewidth = 0.25)\n",
    "axs.yaxis.grid(True, linewidth = 0.25)"
   ]
  },
  {
   "cell_type": "code",
   "execution_count": null,
   "id": "ab76ef03",
   "metadata": {},
   "outputs": [],
   "source": []
  }
 ],
 "metadata": {
  "kernelspec": {
   "display_name": "Python 3",
   "language": "python",
   "name": "python3"
  },
  "language_info": {
   "codemirror_mode": {
    "name": "ipython",
    "version": 3
   },
   "file_extension": ".py",
   "mimetype": "text/x-python",
   "name": "python",
   "nbconvert_exporter": "python",
   "pygments_lexer": "ipython3",
   "version": "3.8.8"
  }
 },
 "nbformat": 4,
 "nbformat_minor": 5
}
