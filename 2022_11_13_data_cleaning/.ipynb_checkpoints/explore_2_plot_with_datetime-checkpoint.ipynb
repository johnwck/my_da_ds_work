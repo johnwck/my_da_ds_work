{
 "cells": [
  {
   "cell_type": "markdown",
   "id": "007839f1",
   "metadata": {},
   "source": [
    "# <font color=blue>Import  \n",
    "    "
   ]
  },
  {
   "cell_type": "code",
   "execution_count": 1,
   "id": "780bbe37",
   "metadata": {},
   "outputs": [],
   "source": [
    "import pandas as pd\n",
    "import matplotlib.pyplot as plt\n",
    "import seaborn as sns\n",
    "from datetime import datetime"
   ]
  },
  {
   "cell_type": "markdown",
   "id": "f51923ff",
   "metadata": {},
   "source": [
    "<br>  \n",
    "\n",
    "# <font color=blue>Create dataframe with time in HH:MM  \n",
    "    "
   ]
  },
  {
   "cell_type": "code",
   "execution_count": 2,
   "id": "ae4fb51a",
   "metadata": {},
   "outputs": [],
   "source": [
    "df1 = {'job':     [                 1,                  1],\n",
    "       'from_to': ['2022-11-06 09:15', '2022-11-06 09:32']}"
   ]
  },
  {
   "cell_type": "code",
   "execution_count": 3,
   "id": "af0adffb",
   "metadata": {},
   "outputs": [],
   "source": [
    "df1 = pd.DataFrame(df1)"
   ]
  },
  {
   "cell_type": "code",
   "execution_count": 4,
   "id": "acc6b2aa",
   "metadata": {},
   "outputs": [
    {
     "data": {
      "text/html": [
       "<div>\n",
       "<style scoped>\n",
       "    .dataframe tbody tr th:only-of-type {\n",
       "        vertical-align: middle;\n",
       "    }\n",
       "\n",
       "    .dataframe tbody tr th {\n",
       "        vertical-align: top;\n",
       "    }\n",
       "\n",
       "    .dataframe thead th {\n",
       "        text-align: right;\n",
       "    }\n",
       "</style>\n",
       "<table border=\"1\" class=\"dataframe\">\n",
       "  <thead>\n",
       "    <tr style=\"text-align: right;\">\n",
       "      <th></th>\n",
       "      <th>job</th>\n",
       "      <th>from_to</th>\n",
       "    </tr>\n",
       "  </thead>\n",
       "  <tbody>\n",
       "    <tr>\n",
       "      <th>0</th>\n",
       "      <td>1</td>\n",
       "      <td>2022-11-06 09:15</td>\n",
       "    </tr>\n",
       "    <tr>\n",
       "      <th>1</th>\n",
       "      <td>1</td>\n",
       "      <td>2022-11-06 09:32</td>\n",
       "    </tr>\n",
       "  </tbody>\n",
       "</table>\n",
       "</div>"
      ],
      "text/plain": [
       "   job           from_to\n",
       "0    1  2022-11-06 09:15\n",
       "1    1  2022-11-06 09:32"
      ]
     },
     "execution_count": 4,
     "metadata": {},
     "output_type": "execute_result"
    }
   ],
   "source": [
    "df1"
   ]
  },
  {
   "cell_type": "code",
   "execution_count": 5,
   "id": "06df9c80",
   "metadata": {},
   "outputs": [
    {
     "name": "stdout",
     "output_type": "stream",
     "text": [
      "<class 'pandas.core.frame.DataFrame'>\n",
      "RangeIndex: 2 entries, 0 to 1\n",
      "Data columns (total 2 columns):\n",
      " #   Column   Non-Null Count  Dtype \n",
      "---  ------   --------------  ----- \n",
      " 0   job      2 non-null      int64 \n",
      " 1   from_to  2 non-null      object\n",
      "dtypes: int64(1), object(1)\n",
      "memory usage: 160.0+ bytes\n"
     ]
    }
   ],
   "source": [
    "df1.info()"
   ]
  },
  {
   "cell_type": "markdown",
   "id": "9ec221b8",
   "metadata": {},
   "source": [
    "<br>  \n",
    "\n",
    "# <font color=blue>Convert columns with time to datetime  "
   ]
  },
  {
   "cell_type": "code",
   "execution_count": 6,
   "id": "e0a36ee6",
   "metadata": {},
   "outputs": [],
   "source": [
    "df1['from_to'] = pd.to_datetime(df1['from_to'])"
   ]
  },
  {
   "cell_type": "code",
   "execution_count": 7,
   "id": "bd768e6f",
   "metadata": {},
   "outputs": [
    {
     "data": {
      "text/html": [
       "<div>\n",
       "<style scoped>\n",
       "    .dataframe tbody tr th:only-of-type {\n",
       "        vertical-align: middle;\n",
       "    }\n",
       "\n",
       "    .dataframe tbody tr th {\n",
       "        vertical-align: top;\n",
       "    }\n",
       "\n",
       "    .dataframe thead th {\n",
       "        text-align: right;\n",
       "    }\n",
       "</style>\n",
       "<table border=\"1\" class=\"dataframe\">\n",
       "  <thead>\n",
       "    <tr style=\"text-align: right;\">\n",
       "      <th></th>\n",
       "      <th>job</th>\n",
       "      <th>from_to</th>\n",
       "    </tr>\n",
       "  </thead>\n",
       "  <tbody>\n",
       "    <tr>\n",
       "      <th>0</th>\n",
       "      <td>1</td>\n",
       "      <td>2022-11-06 09:15:00</td>\n",
       "    </tr>\n",
       "    <tr>\n",
       "      <th>1</th>\n",
       "      <td>1</td>\n",
       "      <td>2022-11-06 09:32:00</td>\n",
       "    </tr>\n",
       "  </tbody>\n",
       "</table>\n",
       "</div>"
      ],
      "text/plain": [
       "   job             from_to\n",
       "0    1 2022-11-06 09:15:00\n",
       "1    1 2022-11-06 09:32:00"
      ]
     },
     "execution_count": 7,
     "metadata": {},
     "output_type": "execute_result"
    }
   ],
   "source": [
    "df1"
   ]
  },
  {
   "cell_type": "code",
   "execution_count": 8,
   "id": "05f1a404",
   "metadata": {},
   "outputs": [
    {
     "name": "stdout",
     "output_type": "stream",
     "text": [
      "<class 'pandas.core.frame.DataFrame'>\n",
      "RangeIndex: 2 entries, 0 to 1\n",
      "Data columns (total 2 columns):\n",
      " #   Column   Non-Null Count  Dtype         \n",
      "---  ------   --------------  -----         \n",
      " 0   job      2 non-null      int64         \n",
      " 1   from_to  2 non-null      datetime64[ns]\n",
      "dtypes: datetime64[ns](1), int64(1)\n",
      "memory usage: 160.0 bytes\n"
     ]
    }
   ],
   "source": [
    "df1.info()"
   ]
  },
  {
   "cell_type": "markdown",
   "id": "829a5413",
   "metadata": {},
   "source": [
    "<br>  \n",
    "\n",
    "# <font color=blue>Create 5-minute time interval for x-axis  \n",
    "    "
   ]
  },
  {
   "cell_type": "code",
   "execution_count": 9,
   "id": "ef23de97",
   "metadata": {},
   "outputs": [],
   "source": [
    "x_interval = pd.date_range(start = '2022-11-06 09:00:00', end = '2022-11-06 10:00:00', periods = 13)"
   ]
  },
  {
   "cell_type": "code",
   "execution_count": 10,
   "id": "bfbdf5a5",
   "metadata": {},
   "outputs": [
    {
     "data": {
      "text/plain": [
       "DatetimeIndex(['2022-11-06 09:00:00', '2022-11-06 09:05:00',\n",
       "               '2022-11-06 09:10:00', '2022-11-06 09:15:00',\n",
       "               '2022-11-06 09:20:00', '2022-11-06 09:25:00',\n",
       "               '2022-11-06 09:30:00', '2022-11-06 09:35:00',\n",
       "               '2022-11-06 09:40:00', '2022-11-06 09:45:00',\n",
       "               '2022-11-06 09:50:00', '2022-11-06 09:55:00',\n",
       "               '2022-11-06 10:00:00'],\n",
       "              dtype='datetime64[ns]', freq=None)"
      ]
     },
     "execution_count": 10,
     "metadata": {},
     "output_type": "execute_result"
    }
   ],
   "source": [
    "x_interval"
   ]
  },
  {
   "cell_type": "markdown",
   "id": "08fcae5e",
   "metadata": {},
   "source": [
    "<br>  \n",
    "\n",
    "# <font color=blue>Plot start time and end time with line joining them  \n",
    "    "
   ]
  },
  {
   "cell_type": "code",
   "execution_count": 11,
   "id": "0011a63a",
   "metadata": {},
   "outputs": [
    {
     "data": {
      "image/png": "[encoded data removed]",
      "text/plain": [
       "<Figure size 720x360 with 1 Axes>"
      ]
     },
     "metadata": {
      "needs_background": "light"
     },
     "output_type": "display_data"
    }
   ],
   "source": [
    "# ========== set 1 x 1 plot area ==========\n",
    "# ========== set width=10 and height=5 ==========\n",
    "fig, axs = plt.subplots(1, 1, figsize = (10, 5))\n",
    "\n",
    "# ========== plot 2 dots ==========\n",
    "sns.scatterplot(data = df1, x = 'from_to', y = 'job')\n",
    "\n",
    "# ========== plot line connecting 2 dots ==========\n",
    "sns.lineplot(data = df1, x = 'from_to', y = 'job', estimator = None)\n",
    "\n",
    "# ========== set x axis range from 9 am to 10 am ==========\n",
    "axs.set_xlim(datetime(2022, 11, 6, 9, 0, 0), datetime(2022, 11, 6, 10, 0, 0))\n",
    "\n",
    "# ========== set x axis tick interval every 5-minute ==========\n",
    "axs.set_xticks(x_interval)\n",
    "\n",
    "# ========== label x axis tick every 5-minute without date ==========\n",
    "axs.set_xticklabels(x_interval.strftime('%H:%M:%S'), rotation = 90, fontsize=12);\n",
    "\n",
    "# ========== label x axis ==========\n",
    "axs.set_xlabel(xlabel='\\nTime', fontsize=12, color='black')\n",
    "\n",
    "# ========== do the same for y axis ==========\n",
    "axs.set_ylim(0, 5, 1)\n",
    "axs.set_yticks([0, 1, 2, 3, 4, 5])\n",
    "axs.set_yticklabels([0, 1, 2, 3, 4, 5], fontsize=12, rotation = 0);\n",
    "axs.set_ylabel(ylabel='Job\\n', fontsize=12, color='black')\n",
    "\n",
    "# ========== draw horizontal and vertical gridlines ==========\n",
    "axs.xaxis.grid(True, linewidth = 0.25)\n",
    "axs.yaxis.grid(True, linewidth = 0.25)"
   ]
  },
  {
   "cell_type": "code",
   "execution_count": null,
   "id": "44092d72",
   "metadata": {},
   "outputs": [],
   "source": []
  }
 ],
 "metadata": {
  "kernelspec": {
   "display_name": "Python 3",
   "language": "python",
   "name": "python3"
  },
  "language_info": {
   "codemirror_mode": {
    "name": "ipython",
    "version": 3
   },
   "file_extension": ".py",
   "mimetype": "text/x-python",
   "name": "python",
   "nbconvert_exporter": "python",
   "pygments_lexer": "ipython3",
   "version": "3.8.8"
  }
 },
 "nbformat": 4,
 "nbformat_minor": 5
}
