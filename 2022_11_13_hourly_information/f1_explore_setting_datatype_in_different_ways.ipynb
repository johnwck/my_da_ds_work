{
 "cells": [
  {
   "cell_type": "markdown",
   "id": "fdd20f01",
   "metadata": {},
   "source": [
    "<br>  \n",
    "\n",
    "# <font color=blue>Set up dataframe  \n",
    "    "
   ]
  },
  {
   "cell_type": "code",
   "execution_count": 1,
   "id": "18dfc1ee",
   "metadata": {},
   "outputs": [],
   "source": [
    "import pandas as pd\n",
    "\n",
    "df = pd.DataFrame(columns=['string',\n",
    "                           'date_time_1',\n",
    "                           'date_time_2',\n",
    "                           'date_time_3',\n",
    "                           'int_1',\n",
    "                           'int_2',\n",
    "                           'float'])"
   ]
  },
  {
   "cell_type": "markdown",
   "id": "4625f8ee",
   "metadata": {},
   "source": [
    "<br>  \n",
    "\n",
    "# <font color=blue>Change column to string datatype  \n",
    "    "
   ]
  },
  {
   "cell_type": "code",
   "execution_count": 2,
   "id": "7c0e3094",
   "metadata": {},
   "outputs": [],
   "source": [
    "df['string'] = df['string'].astype(str)"
   ]
  },
  {
   "cell_type": "markdown",
   "id": "0cfb1981",
   "metadata": {},
   "source": [
    "<br>  \n",
    "\n",
    "# <font color=blue>Change multiple columns (method 1) to datetime datatype  \n",
    "    "
   ]
  },
  {
   "cell_type": "code",
   "execution_count": 3,
   "id": "2c74b8a8",
   "metadata": {},
   "outputs": [],
   "source": [
    "column_list = df.iloc[:, 1:4].columns\n",
    "df[column_list] = df[column_list].astype('datetime64[ns]')"
   ]
  },
  {
   "cell_type": "markdown",
   "id": "87ab3305",
   "metadata": {},
   "source": [
    "<br>  \n",
    "\n",
    "# <font color=blue>Change multiple columns (method 2) to integer datatype  \n",
    "    "
   ]
  },
  {
   "cell_type": "code",
   "execution_count": 4,
   "id": "65a8c072",
   "metadata": {},
   "outputs": [],
   "source": [
    "column_list = ['int_1', 'int_2']\n",
    "df[column_list] = df[column_list].astype(int)"
   ]
  },
  {
   "cell_type": "markdown",
   "id": "019c8614",
   "metadata": {},
   "source": [
    "<br>  \n",
    "\n",
    "# <font color=blue>Change column to float datatype  \n",
    "    "
   ]
  },
  {
   "cell_type": "code",
   "execution_count": 5,
   "id": "208621ad",
   "metadata": {},
   "outputs": [],
   "source": [
    "df['float'] = df['float'].astype(float)"
   ]
  },
  {
   "cell_type": "markdown",
   "id": "7bd2ace0",
   "metadata": {},
   "source": [
    "<br>  \n",
    "\n",
    "# <font color=blue>Confirm change is correct\n",
    "    "
   ]
  },
  {
   "cell_type": "code",
   "execution_count": 6,
   "id": "98f22a1c",
   "metadata": {},
   "outputs": [
    {
     "name": "stdout",
     "output_type": "stream",
     "text": [
      "<class 'pandas.core.frame.DataFrame'>\n",
      "Index: 0 entries\n",
      "Data columns (total 7 columns):\n",
      " #   Column       Non-Null Count  Dtype         \n",
      "---  ------       --------------  -----         \n",
      " 0   string       0 non-null      object        \n",
      " 1   date_time_1  0 non-null      datetime64[ns]\n",
      " 2   date_time_2  0 non-null      datetime64[ns]\n",
      " 3   date_time_3  0 non-null      datetime64[ns]\n",
      " 4   int_1        0 non-null      int32         \n",
      " 5   int_2        0 non-null      int32         \n",
      " 6   float        0 non-null      float64       \n",
      "dtypes: datetime64[ns](3), float64(1), int32(2), object(1)\n",
      "memory usage: 0.0+ bytes\n"
     ]
    }
   ],
   "source": [
    "df.info()"
   ]
  },
  {
   "cell_type": "code",
   "execution_count": null,
   "id": "1d17117d",
   "metadata": {},
   "outputs": [],
   "source": []
  }
 ],
 "metadata": {
  "kernelspec": {
   "display_name": "Python 3",
   "language": "python",
   "name": "python3"
  },
  "language_info": {
   "codemirror_mode": {
    "name": "ipython",
    "version": 3
   },
   "file_extension": ".py",
   "mimetype": "text/x-python",
   "name": "python",
   "nbconvert_exporter": "python",
   "pygments_lexer": "ipython3",
   "version": "3.8.8"
  }
 },
 "nbformat": 4,
 "nbformat_minor": 5
}
