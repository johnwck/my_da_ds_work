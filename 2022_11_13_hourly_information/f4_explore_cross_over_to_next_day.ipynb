{
 "cells": [
  {
   "cell_type": "markdown",
   "id": "007839f1",
   "metadata": {},
   "source": [
    "# <font color=blue>Import  \n",
    "    "
   ]
  },
  {
   "cell_type": "code",
   "execution_count": 1,
   "id": "780bbe37",
   "metadata": {},
   "outputs": [],
   "source": [
    "import pandas as pd\n",
    "from datetime import datetime, timedelta"
   ]
  },
  {
   "cell_type": "markdown",
   "id": "f51923ff",
   "metadata": {},
   "source": [
    "<br>  \n",
    "\n",
    "# <font color=blue>Create dataframe with start time and end time cross-over to next day  \n",
    "    "
   ]
  },
  {
   "cell_type": "code",
   "execution_count": 2,
   "id": "07220366",
   "metadata": {},
   "outputs": [
    {
     "data": {
      "text/html": [
       "<div>\n",
       "<style scoped>\n",
       "    .dataframe tbody tr th:only-of-type {\n",
       "        vertical-align: middle;\n",
       "    }\n",
       "\n",
       "    .dataframe tbody tr th {\n",
       "        vertical-align: top;\n",
       "    }\n",
       "\n",
       "    .dataframe thead th {\n",
       "        text-align: right;\n",
       "    }\n",
       "</style>\n",
       "<table border=\"1\" class=\"dataframe\">\n",
       "  <thead>\n",
       "    <tr style=\"text-align: right;\">\n",
       "      <th></th>\n",
       "      <th>job</th>\n",
       "      <th>start_time</th>\n",
       "      <th>end_time</th>\n",
       "    </tr>\n",
       "  </thead>\n",
       "  <tbody>\n",
       "    <tr>\n",
       "      <th>0</th>\n",
       "      <td>job_1</td>\n",
       "      <td>2022-11-06 23:30:00</td>\n",
       "      <td>2022-11-07 00:30:00</td>\n",
       "    </tr>\n",
       "    <tr>\n",
       "      <th>1</th>\n",
       "      <td>job_2</td>\n",
       "      <td>2022-11-06 23:30:00</td>\n",
       "      <td>2022-11-06 23:45:00</td>\n",
       "    </tr>\n",
       "  </tbody>\n",
       "</table>\n",
       "</div>"
      ],
      "text/plain": [
       "     job          start_time            end_time\n",
       "0  job_1 2022-11-06 23:30:00 2022-11-07 00:30:00\n",
       "1  job_2 2022-11-06 23:30:00 2022-11-06 23:45:00"
      ]
     },
     "execution_count": 2,
     "metadata": {},
     "output_type": "execute_result"
    }
   ],
   "source": [
    "df = {'job'       : [           'job_1',            'job_2'],\n",
    "      'start_time': ['2022-11-06 23:30', '2022-11-06 23:30'],\n",
    "      'end_time'  : ['2022-11-07 00:30', '2022-11-06 23:45']}\n",
    "\n",
    "df = pd.DataFrame(df)\n",
    "\n",
    "df['job'] = df['job'].astype(str)\n",
    "\n",
    "df[['start_time', 'end_time']] = df[['start_time', 'end_time']].astype('datetime64[ns]')\n",
    "\n",
    "df"
   ]
  },
  {
   "cell_type": "markdown",
   "id": "1f3cf3a2",
   "metadata": {},
   "source": [
    "<br>  \n",
    "\n",
    "# <font color=blue>Step 1: Insert new row for end time cross-over to next day  \n",
    "    "
   ]
  },
  {
   "cell_type": "code",
   "execution_count": 3,
   "id": "fa7d58a8",
   "metadata": {},
   "outputs": [],
   "source": [
    "df.loc[0.5, 'job'] = df.loc[0, 'job']"
   ]
  },
  {
   "cell_type": "markdown",
   "id": "26e28d22",
   "metadata": {},
   "source": [
    "<br>  \n",
    "\n",
    "# <font color=blue>Step 2: Make start time of new row = start of next day  \n",
    "    "
   ]
  },
  {
   "cell_type": "code",
   "execution_count": 4,
   "id": "cf58f8ff",
   "metadata": {},
   "outputs": [],
   "source": [
    "df.loc[0.5, 'start_time'] = datetime(df.loc[0, 'end_time'].year,\n",
    "                                     df.loc[0, 'end_time'].month,\n",
    "                                     df.loc[0, 'end_time'].day,\n",
    "                                     0, 0, 0)"
   ]
  },
  {
   "cell_type": "markdown",
   "id": "b25d6b6b",
   "metadata": {},
   "source": [
    "<br>  \n",
    "\n",
    "# <font color=blue>Step 3: Make end time of new row = end time of next day  \n",
    "    "
   ]
  },
  {
   "cell_type": "code",
   "execution_count": 5,
   "id": "e2b7ded2",
   "metadata": {},
   "outputs": [],
   "source": [
    "df.loc[0.5, 'end_time'] = df.loc[0, 'end_time']"
   ]
  },
  {
   "cell_type": "code",
   "execution_count": 6,
   "id": "10c5102c",
   "metadata": {},
   "outputs": [
    {
     "data": {
      "text/html": [
       "<div>\n",
       "<style scoped>\n",
       "    .dataframe tbody tr th:only-of-type {\n",
       "        vertical-align: middle;\n",
       "    }\n",
       "\n",
       "    .dataframe tbody tr th {\n",
       "        vertical-align: top;\n",
       "    }\n",
       "\n",
       "    .dataframe thead th {\n",
       "        text-align: right;\n",
       "    }\n",
       "</style>\n",
       "<table border=\"1\" class=\"dataframe\">\n",
       "  <thead>\n",
       "    <tr style=\"text-align: right;\">\n",
       "      <th></th>\n",
       "      <th>job</th>\n",
       "      <th>start_time</th>\n",
       "      <th>end_time</th>\n",
       "    </tr>\n",
       "  </thead>\n",
       "  <tbody>\n",
       "    <tr>\n",
       "      <th>0.0</th>\n",
       "      <td>job_1</td>\n",
       "      <td>2022-11-06 23:30:00</td>\n",
       "      <td>2022-11-07 00:30:00</td>\n",
       "    </tr>\n",
       "    <tr>\n",
       "      <th>1.0</th>\n",
       "      <td>job_2</td>\n",
       "      <td>2022-11-06 23:30:00</td>\n",
       "      <td>2022-11-06 23:45:00</td>\n",
       "    </tr>\n",
       "    <tr>\n",
       "      <th>0.5</th>\n",
       "      <td>job_1</td>\n",
       "      <td>2022-11-07 00:00:00</td>\n",
       "      <td>2022-11-07 00:30:00</td>\n",
       "    </tr>\n",
       "  </tbody>\n",
       "</table>\n",
       "</div>"
      ],
      "text/plain": [
       "       job          start_time            end_time\n",
       "0.0  job_1 2022-11-06 23:30:00 2022-11-07 00:30:00\n",
       "1.0  job_2 2022-11-06 23:30:00 2022-11-06 23:45:00\n",
       "0.5  job_1 2022-11-07 00:00:00 2022-11-07 00:30:00"
      ]
     },
     "execution_count": 6,
     "metadata": {},
     "output_type": "execute_result"
    }
   ],
   "source": [
    "df"
   ]
  },
  {
   "cell_type": "markdown",
   "id": "9e866434",
   "metadata": {},
   "source": [
    "<br>  \n",
    "\n",
    "# <font color=blue>Step 4: Make end time of previous row = end of previous day  \n",
    "    "
   ]
  },
  {
   "cell_type": "code",
   "execution_count": 7,
   "id": "ef3ddd54",
   "metadata": {},
   "outputs": [],
   "source": [
    "df.loc[0, 'end_time'] = datetime(df.loc[0, 'end_time'].year,\n",
    "                                 df.loc[0, 'end_time'].month,\n",
    "                                 df.loc[0, 'end_time'].day,\n",
    "                                 0, 0, 0)"
   ]
  },
  {
   "cell_type": "markdown",
   "id": "f5c90bcc",
   "metadata": {},
   "source": [
    "<br>  \n",
    "\n",
    "# <font color=blue>Overall result  \n",
    "    "
   ]
  },
  {
   "cell_type": "code",
   "execution_count": 8,
   "id": "9d567f78",
   "metadata": {},
   "outputs": [
    {
     "data": {
      "text/html": [
       "<div>\n",
       "<style scoped>\n",
       "    .dataframe tbody tr th:only-of-type {\n",
       "        vertical-align: middle;\n",
       "    }\n",
       "\n",
       "    .dataframe tbody tr th {\n",
       "        vertical-align: top;\n",
       "    }\n",
       "\n",
       "    .dataframe thead th {\n",
       "        text-align: right;\n",
       "    }\n",
       "</style>\n",
       "<table border=\"1\" class=\"dataframe\">\n",
       "  <thead>\n",
       "    <tr style=\"text-align: right;\">\n",
       "      <th></th>\n",
       "      <th>job</th>\n",
       "      <th>start_time</th>\n",
       "      <th>end_time</th>\n",
       "    </tr>\n",
       "  </thead>\n",
       "  <tbody>\n",
       "    <tr>\n",
       "      <th>0.0</th>\n",
       "      <td>job_1</td>\n",
       "      <td>2022-11-06 23:30:00</td>\n",
       "      <td>2022-11-07 00:00:00</td>\n",
       "    </tr>\n",
       "    <tr>\n",
       "      <th>1.0</th>\n",
       "      <td>job_2</td>\n",
       "      <td>2022-11-06 23:30:00</td>\n",
       "      <td>2022-11-06 23:45:00</td>\n",
       "    </tr>\n",
       "    <tr>\n",
       "      <th>0.5</th>\n",
       "      <td>job_1</td>\n",
       "      <td>2022-11-07 00:00:00</td>\n",
       "      <td>2022-11-07 00:30:00</td>\n",
       "    </tr>\n",
       "  </tbody>\n",
       "</table>\n",
       "</div>"
      ],
      "text/plain": [
       "       job          start_time            end_time\n",
       "0.0  job_1 2022-11-06 23:30:00 2022-11-07 00:00:00\n",
       "1.0  job_2 2022-11-06 23:30:00 2022-11-06 23:45:00\n",
       "0.5  job_1 2022-11-07 00:00:00 2022-11-07 00:30:00"
      ]
     },
     "execution_count": 8,
     "metadata": {},
     "output_type": "execute_result"
    }
   ],
   "source": [
    "df"
   ]
  },
  {
   "cell_type": "markdown",
   "id": "3a7364da",
   "metadata": {},
   "source": [
    "<br>  \n",
    "\n",
    "# <font color=blue>Step 5: Sort index  \n",
    "    "
   ]
  },
  {
   "cell_type": "code",
   "execution_count": 9,
   "id": "c22949b6",
   "metadata": {},
   "outputs": [],
   "source": [
    "df.sort_index(inplace = True)"
   ]
  },
  {
   "cell_type": "code",
   "execution_count": 10,
   "id": "1320508c",
   "metadata": {},
   "outputs": [
    {
     "data": {
      "text/html": [
       "<div>\n",
       "<style scoped>\n",
       "    .dataframe tbody tr th:only-of-type {\n",
       "        vertical-align: middle;\n",
       "    }\n",
       "\n",
       "    .dataframe tbody tr th {\n",
       "        vertical-align: top;\n",
       "    }\n",
       "\n",
       "    .dataframe thead th {\n",
       "        text-align: right;\n",
       "    }\n",
       "</style>\n",
       "<table border=\"1\" class=\"dataframe\">\n",
       "  <thead>\n",
       "    <tr style=\"text-align: right;\">\n",
       "      <th></th>\n",
       "      <th>job</th>\n",
       "      <th>start_time</th>\n",
       "      <th>end_time</th>\n",
       "    </tr>\n",
       "  </thead>\n",
       "  <tbody>\n",
       "    <tr>\n",
       "      <th>0.0</th>\n",
       "      <td>job_1</td>\n",
       "      <td>2022-11-06 23:30:00</td>\n",
       "      <td>2022-11-07 00:00:00</td>\n",
       "    </tr>\n",
       "    <tr>\n",
       "      <th>0.5</th>\n",
       "      <td>job_1</td>\n",
       "      <td>2022-11-07 00:00:00</td>\n",
       "      <td>2022-11-07 00:30:00</td>\n",
       "    </tr>\n",
       "    <tr>\n",
       "      <th>1.0</th>\n",
       "      <td>job_2</td>\n",
       "      <td>2022-11-06 23:30:00</td>\n",
       "      <td>2022-11-06 23:45:00</td>\n",
       "    </tr>\n",
       "  </tbody>\n",
       "</table>\n",
       "</div>"
      ],
      "text/plain": [
       "       job          start_time            end_time\n",
       "0.0  job_1 2022-11-06 23:30:00 2022-11-07 00:00:00\n",
       "0.5  job_1 2022-11-07 00:00:00 2022-11-07 00:30:00\n",
       "1.0  job_2 2022-11-06 23:30:00 2022-11-06 23:45:00"
      ]
     },
     "execution_count": 10,
     "metadata": {},
     "output_type": "execute_result"
    }
   ],
   "source": [
    "df"
   ]
  },
  {
   "cell_type": "markdown",
   "id": "9b55d3d3",
   "metadata": {},
   "source": [
    "<br>  \n",
    "\n",
    "# <font color=blue>Step 6: Reset index  \n",
    "    "
   ]
  },
  {
   "cell_type": "code",
   "execution_count": 11,
   "id": "5988a4ea",
   "metadata": {},
   "outputs": [],
   "source": [
    "df.reset_index(inplace = True, drop = True)"
   ]
  },
  {
   "cell_type": "code",
   "execution_count": 12,
   "id": "095c2388",
   "metadata": {},
   "outputs": [
    {
     "data": {
      "text/html": [
       "<div>\n",
       "<style scoped>\n",
       "    .dataframe tbody tr th:only-of-type {\n",
       "        vertical-align: middle;\n",
       "    }\n",
       "\n",
       "    .dataframe tbody tr th {\n",
       "        vertical-align: top;\n",
       "    }\n",
       "\n",
       "    .dataframe thead th {\n",
       "        text-align: right;\n",
       "    }\n",
       "</style>\n",
       "<table border=\"1\" class=\"dataframe\">\n",
       "  <thead>\n",
       "    <tr style=\"text-align: right;\">\n",
       "      <th></th>\n",
       "      <th>job</th>\n",
       "      <th>start_time</th>\n",
       "      <th>end_time</th>\n",
       "    </tr>\n",
       "  </thead>\n",
       "  <tbody>\n",
       "    <tr>\n",
       "      <th>0</th>\n",
       "      <td>job_1</td>\n",
       "      <td>2022-11-06 23:30:00</td>\n",
       "      <td>2022-11-07 00:00:00</td>\n",
       "    </tr>\n",
       "    <tr>\n",
       "      <th>1</th>\n",
       "      <td>job_1</td>\n",
       "      <td>2022-11-07 00:00:00</td>\n",
       "      <td>2022-11-07 00:30:00</td>\n",
       "    </tr>\n",
       "    <tr>\n",
       "      <th>2</th>\n",
       "      <td>job_2</td>\n",
       "      <td>2022-11-06 23:30:00</td>\n",
       "      <td>2022-11-06 23:45:00</td>\n",
       "    </tr>\n",
       "  </tbody>\n",
       "</table>\n",
       "</div>"
      ],
      "text/plain": [
       "     job          start_time            end_time\n",
       "0  job_1 2022-11-06 23:30:00 2022-11-07 00:00:00\n",
       "1  job_1 2022-11-07 00:00:00 2022-11-07 00:30:00\n",
       "2  job_2 2022-11-06 23:30:00 2022-11-06 23:45:00"
      ]
     },
     "execution_count": 12,
     "metadata": {},
     "output_type": "execute_result"
    }
   ],
   "source": [
    "df"
   ]
  }
 ],
 "metadata": {
  "kernelspec": {
   "display_name": "Python 3",
   "language": "python",
   "name": "python3"
  },
  "language_info": {
   "codemirror_mode": {
    "name": "ipython",
    "version": 3
   },
   "file_extension": ".py",
   "mimetype": "text/x-python",
   "name": "python",
   "nbconvert_exporter": "python",
   "pygments_lexer": "ipython3",
   "version": "3.8.8"
  }
 },
 "nbformat": 4,
 "nbformat_minor": 5
}
