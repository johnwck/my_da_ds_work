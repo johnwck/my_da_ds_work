{
 "cells": [
  {
   "cell_type": "markdown",
   "id": "007839f1",
   "metadata": {},
   "source": [
    "# <font color=blue>Import  \n",
    "    "
   ]
  },
  {
   "cell_type": "code",
   "execution_count": 1,
   "id": "780bbe37",
   "metadata": {},
   "outputs": [],
   "source": [
    "import pandas as pd\n",
    "from datetime import datetime, timedelta"
   ]
  },
  {
   "cell_type": "markdown",
   "id": "f51923ff",
   "metadata": {},
   "source": [
    "<br>  \n",
    "\n",
    "# <font color=blue>Create dataframe with start time and end time  \n",
    "    "
   ]
  },
  {
   "cell_type": "code",
   "execution_count": 2,
   "id": "07220366",
   "metadata": {},
   "outputs": [
    {
     "data": {
      "text/html": [
       "<div>\n",
       "<style scoped>\n",
       "    .dataframe tbody tr th:only-of-type {\n",
       "        vertical-align: middle;\n",
       "    }\n",
       "\n",
       "    .dataframe tbody tr th {\n",
       "        vertical-align: top;\n",
       "    }\n",
       "\n",
       "    .dataframe thead th {\n",
       "        text-align: right;\n",
       "    }\n",
       "</style>\n",
       "<table border=\"1\" class=\"dataframe\">\n",
       "  <thead>\n",
       "    <tr style=\"text-align: right;\">\n",
       "      <th></th>\n",
       "      <th>start_date_time</th>\n",
       "      <th>end_date_time</th>\n",
       "    </tr>\n",
       "  </thead>\n",
       "  <tbody>\n",
       "    <tr>\n",
       "      <th>0</th>\n",
       "      <td>2022-12-31 00:05:00</td>\n",
       "      <td>2022-12-31 00:10:00</td>\n",
       "    </tr>\n",
       "  </tbody>\n",
       "</table>\n",
       "</div>"
      ],
      "text/plain": [
       "      start_date_time       end_date_time\n",
       "0 2022-12-31 00:05:00 2022-12-31 00:10:00"
      ]
     },
     "execution_count": 2,
     "metadata": {},
     "output_type": "execute_result"
    }
   ],
   "source": [
    "df = {'start_date_time': ['2022-12-31 00:05'],\n",
    "      'end_date_time'  : ['2022-12-31 00:10']}\n",
    "\n",
    "df = pd.DataFrame(df)\n",
    "\n",
    "df = df.astype('datetime64[ns]')\n",
    "\n",
    "df"
   ]
  },
  {
   "cell_type": "code",
   "execution_count": 3,
   "id": "4ec5b393",
   "metadata": {},
   "outputs": [
    {
     "name": "stdout",
     "output_type": "stream",
     "text": [
      "duration_fraction : 0.08333333333333333\n"
     ]
    }
   ],
   "source": [
    "print('duration_fraction :', (df.loc[0, 'end_date_time'] - df.loc[0, 'start_date_time']).total_seconds() / 60 / 60)"
   ]
  },
  {
   "cell_type": "code",
   "execution_count": 4,
   "id": "bb4c6dfc",
   "metadata": {},
   "outputs": [
    {
     "name": "stdout",
     "output_type": "stream",
     "text": [
      "compare_time \t\t start_hour \t end_hour \t start_date_time \t end_date_time \t\t duration_fraction\n",
      "2022-12-31 00:00:00 \t 0 \t\t 0 \t\t 2022-12-31 00:05:00 \t 2022-12-31 00:10:00 \t 0.08333333333333333\n",
      "2022-12-31 01:00:00 \t 0 \t\t 0 \t\t 2022-12-31 00:05:00 \t 2022-12-31 00:10:00 \t 0\n",
      "2022-12-31 02:00:00 \t 0 \t\t 0 \t\t 2022-12-31 00:05:00 \t 2022-12-31 00:10:00 \t 0\n",
      "2022-12-31 03:00:00 \t 0 \t\t 0 \t\t 2022-12-31 00:05:00 \t 2022-12-31 00:10:00 \t 0\n",
      "2022-12-31 04:00:00 \t 0 \t\t 0 \t\t 2022-12-31 00:05:00 \t 2022-12-31 00:10:00 \t 0\n",
      "2022-12-31 05:00:00 \t 0 \t\t 0 \t\t 2022-12-31 00:05:00 \t 2022-12-31 00:10:00 \t 0\n",
      "2022-12-31 06:00:00 \t 0 \t\t 0 \t\t 2022-12-31 00:05:00 \t 2022-12-31 00:10:00 \t 0\n",
      "2022-12-31 07:00:00 \t 0 \t\t 0 \t\t 2022-12-31 00:05:00 \t 2022-12-31 00:10:00 \t 0\n",
      "2022-12-31 08:00:00 \t 0 \t\t 0 \t\t 2022-12-31 00:05:00 \t 2022-12-31 00:10:00 \t 0\n",
      "2022-12-31 09:00:00 \t 0 \t\t 0 \t\t 2022-12-31 00:05:00 \t 2022-12-31 00:10:00 \t 0\n",
      "2022-12-31 10:00:00 \t 0 \t\t 0 \t\t 2022-12-31 00:05:00 \t 2022-12-31 00:10:00 \t 0\n",
      "2022-12-31 11:00:00 \t 0 \t\t 0 \t\t 2022-12-31 00:05:00 \t 2022-12-31 00:10:00 \t 0\n",
      "2022-12-31 12:00:00 \t 0 \t\t 0 \t\t 2022-12-31 00:05:00 \t 2022-12-31 00:10:00 \t 0\n",
      "2022-12-31 13:00:00 \t 0 \t\t 0 \t\t 2022-12-31 00:05:00 \t 2022-12-31 00:10:00 \t 0\n",
      "2022-12-31 14:00:00 \t 0 \t\t 0 \t\t 2022-12-31 00:05:00 \t 2022-12-31 00:10:00 \t 0\n",
      "2022-12-31 15:00:00 \t 0 \t\t 0 \t\t 2022-12-31 00:05:00 \t 2022-12-31 00:10:00 \t 0\n",
      "2022-12-31 16:00:00 \t 0 \t\t 0 \t\t 2022-12-31 00:05:00 \t 2022-12-31 00:10:00 \t 0\n",
      "2022-12-31 17:00:00 \t 0 \t\t 0 \t\t 2022-12-31 00:05:00 \t 2022-12-31 00:10:00 \t 0\n",
      "2022-12-31 18:00:00 \t 0 \t\t 0 \t\t 2022-12-31 00:05:00 \t 2022-12-31 00:10:00 \t 0\n",
      "2022-12-31 19:00:00 \t 0 \t\t 0 \t\t 2022-12-31 00:05:00 \t 2022-12-31 00:10:00 \t 0\n",
      "2022-12-31 20:00:00 \t 0 \t\t 0 \t\t 2022-12-31 00:05:00 \t 2022-12-31 00:10:00 \t 0\n",
      "2022-12-31 21:00:00 \t 0 \t\t 0 \t\t 2022-12-31 00:05:00 \t 2022-12-31 00:10:00 \t 0\n",
      "2022-12-31 22:00:00 \t 0 \t\t 0 \t\t 2022-12-31 00:05:00 \t 2022-12-31 00:10:00 \t 0\n",
      "2022-12-31 23:00:00 \t 0 \t\t 0 \t\t 2022-12-31 00:05:00 \t 2022-12-31 00:10:00 \t 0\n"
     ]
    }
   ],
   "source": [
    "print('compare_time', '\\t\\t', 'start_hour', '\\t', 'end_hour', '\\t',\n",
    "      'start_date_time', '\\t', 'end_date_time', '\\t\\t', 'duration_fraction')\n",
    "\n",
    "for i in range(24):\n",
    "    \n",
    "    compare_hour = i\n",
    "    \n",
    "    compare_time = datetime(df.loc[0, 'start_date_time'].year,\n",
    "                            df.loc[0, 'start_date_time'].month,\n",
    "                            df.loc[0, 'start_date_time'].day,\n",
    "                            compare_hour, 0, 0)\n",
    "\n",
    "    start_hour = df.loc[0, 'start_date_time'].hour\n",
    "\n",
    "    end_hour = df.loc[0, 'end_date_time'].hour\n",
    "    end_minute = df.loc[0, 'end_date_time'].minute\n",
    "    if end_hour == 0 and end_minute == 0:\n",
    "        end_hour = 23\n",
    "    else:\n",
    "        if end_minute == 0:\n",
    "            end_hour = end_hour - 1\n",
    "\n",
    "    if start_hour == compare_hour:\n",
    "        duration_fraction = (min(df.loc[0, 'end_date_time'], compare_time + timedelta(hours = 1)) - \\\n",
    "                             df.loc[0, 'start_date_time']).total_seconds() / 60 / 60\n",
    "    else:\n",
    "        if end_hour == compare_hour:\n",
    "            duration_fraction = (df.loc[0, 'end_date_time'] - compare_time).total_seconds() / 60 / 60\n",
    "        else:\n",
    "            if df.loc[0, 'start_date_time'] < compare_time and compare_time < df.loc[0, 'end_date_time']:\n",
    "                duration_fraction = 1\n",
    "            else:\n",
    "                duration_fraction = 0\n",
    "    \n",
    "    print(compare_time, '\\t', start_hour, '\\t\\t', end_hour, '\\t\\t',\n",
    "          df.loc[0, 'start_date_time'], '\\t', df.loc[0, 'end_date_time'], '\\t', duration_fraction)"
   ]
  },
  {
   "cell_type": "code",
   "execution_count": null,
   "id": "6d2b66c9",
   "metadata": {},
   "outputs": [],
   "source": []
  }
 ],
 "metadata": {
  "kernelspec": {
   "display_name": "Python 3",
   "language": "python",
   "name": "python3"
  },
  "language_info": {
   "codemirror_mode": {
    "name": "ipython",
    "version": 3
   },
   "file_extension": ".py",
   "mimetype": "text/x-python",
   "name": "python",
   "nbconvert_exporter": "python",
   "pygments_lexer": "ipython3",
   "version": "3.8.8"
  }
 },
 "nbformat": 4,
 "nbformat_minor": 5
}
