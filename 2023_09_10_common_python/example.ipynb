{
 "cells": [
  {
   "cell_type": "code",
   "execution_count": 1,
   "id": "567aff00",
   "metadata": {},
   "outputs": [],
   "source": [
    "import pandas as pd\n",
    "from datetime import datetime\n",
    "import numpy as np"
   ]
  },
  {
   "cell_type": "code",
   "execution_count": 2,
   "id": "a9aa7f9c",
   "metadata": {},
   "outputs": [],
   "source": [
    "df = pd.read_csv('input.csv')"
   ]
  },
  {
   "cell_type": "code",
   "execution_count": 3,
   "id": "375faa38",
   "metadata": {},
   "outputs": [
    {
     "name": "stdout",
     "output_type": "stream",
     "text": [
      "         col_date col_string col_integer col_float\n",
      "0        1-Dec-23      day_1           1       NaN\n",
      "1        2-Dec-23      day_2           2         1\n",
      "2             NaN          3           e       1.1\n",
      "3  4 Janaury 2023          4       4.001       1.2\n",
      "4        5-Dec-23        NaN           5       1.3\n",
      "5        6-Dec-23      day_6         NaN         f\n",
      "\n",
      "--------------------------------------------------\n",
      "\n",
      "<class 'pandas.core.frame.DataFrame'>\n",
      "RangeIndex: 6 entries, 0 to 5\n",
      "Data columns (total 4 columns):\n",
      " #   Column       Non-Null Count  Dtype \n",
      "---  ------       --------------  ----- \n",
      " 0   col_date     5 non-null      object\n",
      " 1   col_string   5 non-null      object\n",
      " 2   col_integer  5 non-null      object\n",
      " 3   col_float    5 non-null      object\n",
      "dtypes: object(4)\n",
      "memory usage: 320.0+ bytes\n",
      "None\n"
     ]
    }
   ],
   "source": [
    "print(df)\n",
    "print()\n",
    "print('--------------------------------------------------')\n",
    "print()\n",
    "print(df.info())"
   ]
  },
  {
   "cell_type": "code",
   "execution_count": 4,
   "id": "5081f49d",
   "metadata": {},
   "outputs": [
    {
     "name": "stdout",
     "output_type": "stream",
     "text": [
      "   col_date  col_string  col_integer  col_float\n",
      "0     False       False        False       True\n",
      "1     False       False        False      False\n",
      "2      True       False        False      False\n",
      "3     False       False        False      False\n",
      "4     False        True        False      False\n",
      "5     False       False         True      False\n"
     ]
    }
   ],
   "source": [
    "print(df.isna())"
   ]
  },
  {
   "cell_type": "code",
   "execution_count": 5,
   "id": "2e09656d",
   "metadata": {},
   "outputs": [],
   "source": [
    "df['col_date'] = pd.to_datetime(df['col_date'], errors='coerce')"
   ]
  },
  {
   "cell_type": "code",
   "execution_count": 6,
   "id": "c6d30469",
   "metadata": {},
   "outputs": [],
   "source": [
    "df[['col_integer','col_float']] = df[['col_integer','col_float']].apply(pd.to_numeric, errors='coerce', axis=1)"
   ]
  },
  {
   "cell_type": "code",
   "execution_count": 7,
   "id": "f69d4908",
   "metadata": {},
   "outputs": [
    {
     "name": "stdout",
     "output_type": "stream",
     "text": [
      "    col_date col_string  col_integer  col_float\n",
      "0 2023-12-01      day_1        1.000        NaN\n",
      "1 2023-12-02      day_2        2.000        1.0\n",
      "2        NaT          3          NaN        1.1\n",
      "3        NaT          4        4.001        1.2\n",
      "4 2023-12-05        NaN        5.000        1.3\n",
      "5 2023-12-06      day_6          NaN        NaN\n",
      "\n",
      "--------------------------------------------------\n",
      "\n",
      "<class 'pandas.core.frame.DataFrame'>\n",
      "RangeIndex: 6 entries, 0 to 5\n",
      "Data columns (total 4 columns):\n",
      " #   Column       Non-Null Count  Dtype         \n",
      "---  ------       --------------  -----         \n",
      " 0   col_date     4 non-null      datetime64[ns]\n",
      " 1   col_string   5 non-null      object        \n",
      " 2   col_integer  4 non-null      float64       \n",
      " 3   col_float    4 non-null      float64       \n",
      "dtypes: datetime64[ns](1), float64(2), object(1)\n",
      "memory usage: 320.0+ bytes\n",
      "None\n"
     ]
    }
   ],
   "source": [
    "print(df)\n",
    "print()\n",
    "print('--------------------------------------------------')\n",
    "print()\n",
    "print(df.info())"
   ]
  },
  {
   "cell_type": "code",
   "execution_count": 8,
   "id": "0df1dbc8",
   "metadata": {},
   "outputs": [],
   "source": [
    "df[['col_integer','col_float']] = df[['col_integer','col_float']].fillna(0)"
   ]
  },
  {
   "cell_type": "code",
   "execution_count": 9,
   "id": "901a2ec1",
   "metadata": {},
   "outputs": [
    {
     "name": "stdout",
     "output_type": "stream",
     "text": [
      "    col_date col_string  col_integer  col_float\n",
      "0 2023-12-01      day_1        1.000        0.0\n",
      "1 2023-12-02      day_2        2.000        1.0\n",
      "2        NaT          3        0.000        1.1\n",
      "3        NaT          4        4.001        1.2\n",
      "4 2023-12-05        NaN        5.000        1.3\n",
      "5 2023-12-06      day_6        0.000        0.0\n",
      "\n",
      "--------------------------------------------------\n",
      "\n",
      "<class 'pandas.core.frame.DataFrame'>\n",
      "RangeIndex: 6 entries, 0 to 5\n",
      "Data columns (total 4 columns):\n",
      " #   Column       Non-Null Count  Dtype         \n",
      "---  ------       --------------  -----         \n",
      " 0   col_date     4 non-null      datetime64[ns]\n",
      " 1   col_string   5 non-null      object        \n",
      " 2   col_integer  6 non-null      float64       \n",
      " 3   col_float    6 non-null      float64       \n",
      "dtypes: datetime64[ns](1), float64(2), object(1)\n",
      "memory usage: 320.0+ bytes\n",
      "None\n"
     ]
    }
   ],
   "source": [
    "print(df)\n",
    "print()\n",
    "print('--------------------------------------------------')\n",
    "print()\n",
    "print(df.info())"
   ]
  },
  {
   "cell_type": "code",
   "execution_count": 10,
   "id": "41a67272",
   "metadata": {},
   "outputs": [],
   "source": [
    "df['col_integer'] = df['col_integer'].astype(int)"
   ]
  },
  {
   "cell_type": "code",
   "execution_count": 11,
   "id": "355f87be",
   "metadata": {},
   "outputs": [
    {
     "name": "stdout",
     "output_type": "stream",
     "text": [
      "    col_date col_string  col_integer  col_float\n",
      "0 2023-12-01      day_1            1        0.0\n",
      "1 2023-12-02      day_2            2        1.0\n",
      "2        NaT          3            0        1.1\n",
      "3        NaT          4            4        1.2\n",
      "4 2023-12-05        NaN            5        1.3\n",
      "5 2023-12-06      day_6            0        0.0\n",
      "\n",
      "--------------------------------------------------\n",
      "\n",
      "<class 'pandas.core.frame.DataFrame'>\n",
      "RangeIndex: 6 entries, 0 to 5\n",
      "Data columns (total 4 columns):\n",
      " #   Column       Non-Null Count  Dtype         \n",
      "---  ------       --------------  -----         \n",
      " 0   col_date     4 non-null      datetime64[ns]\n",
      " 1   col_string   5 non-null      object        \n",
      " 2   col_integer  6 non-null      int32         \n",
      " 3   col_float    6 non-null      float64       \n",
      "dtypes: datetime64[ns](1), float64(1), int32(1), object(1)\n",
      "memory usage: 296.0+ bytes\n",
      "None\n"
     ]
    }
   ],
   "source": [
    "print(df)\n",
    "print()\n",
    "print('--------------------------------------------------')\n",
    "print()\n",
    "print(df.info())"
   ]
  },
  {
   "cell_type": "code",
   "execution_count": null,
   "id": "e82532cb",
   "metadata": {},
   "outputs": [],
   "source": []
  }
 ],
 "metadata": {
  "kernelspec": {
   "display_name": "Python 3 (ipykernel)",
   "language": "python",
   "name": "python3"
  },
  "language_info": {
   "codemirror_mode": {
    "name": "ipython",
    "version": 3
   },
   "file_extension": ".py",
   "mimetype": "text/x-python",
   "name": "python",
   "nbconvert_exporter": "python",
   "pygments_lexer": "ipython3",
   "version": "3.10.9"
  }
 },
 "nbformat": 4,
 "nbformat_minor": 5
}
