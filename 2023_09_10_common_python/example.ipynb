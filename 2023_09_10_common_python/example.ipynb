{
 "cells": [
  {
   "cell_type": "markdown",
   "id": "9046c7ea",
   "metadata": {},
   "source": [
    "<br>  \n",
    "\n",
    "# Step 1: Library  "
   ]
  },
  {
   "cell_type": "code",
   "execution_count": 1,
   "id": "567aff00",
   "metadata": {},
   "outputs": [],
   "source": [
    "import pandas as pd\n",
    "from datetime import datetime\n",
    "import numpy as np"
   ]
  },
  {
   "cell_type": "markdown",
   "id": "73ad8648",
   "metadata": {},
   "source": [
    "<br>  \n",
    "\n",
    "# Step 2: Read  "
   ]
  },
  {
   "cell_type": "code",
   "execution_count": 2,
   "id": "a9aa7f9c",
   "metadata": {},
   "outputs": [],
   "source": [
    "df = pd.read_csv('input.csv')"
   ]
  },
  {
   "cell_type": "markdown",
   "id": "293eba2e",
   "metadata": {},
   "source": [
    "<br>  \n",
    "\n",
    "# Step 3: Display  "
   ]
  },
  {
   "cell_type": "code",
   "execution_count": 3,
   "id": "375faa38",
   "metadata": {},
   "outputs": [
    {
     "name": "stdout",
     "output_type": "stream",
     "text": [
      "-------------------- data frame --------------------\n",
      "\n",
      "         col_date col_string col_integer col_float\n",
      "0        1-Dec-23      day_1           1       NaN\n",
      "1        2-Dec-23      day_2           2         1\n",
      "2             NaN          3           e       1.1\n",
      "3  4 Janaury 2023          4       4.001       1.2\n",
      "4        5-Dec-23        NaN           5       1.3\n",
      "5        6-Dec-23      day_6         NaN         f\n",
      "\n",
      "-------------------- NaN --------------------\n",
      "\n",
      "   col_date  col_string  col_integer  col_float\n",
      "0     False       False        False       True\n",
      "1     False       False        False      False\n",
      "2      True       False        False      False\n",
      "3     False       False        False      False\n",
      "4     False        True        False      False\n",
      "5     False       False         True      False\n",
      "\n",
      "-------------------- data type --------------------\n",
      "\n",
      "<class 'pandas.core.frame.DataFrame'>\n",
      "RangeIndex: 6 entries, 0 to 5\n",
      "Data columns (total 4 columns):\n",
      " #   Column       Non-Null Count  Dtype \n",
      "---  ------       --------------  ----- \n",
      " 0   col_date     5 non-null      object\n",
      " 1   col_string   5 non-null      object\n",
      " 2   col_integer  5 non-null      object\n",
      " 3   col_float    5 non-null      object\n",
      "dtypes: object(4)\n",
      "memory usage: 320.0+ bytes\n",
      "None\n"
     ]
    }
   ],
   "source": [
    "print('-------------------- data frame --------------------')\n",
    "print()\n",
    "print(df)\n",
    "print()\n",
    "print('-------------------- NaN --------------------')\n",
    "print()\n",
    "print(df.isna())\n",
    "print()\n",
    "print('-------------------- data type --------------------')\n",
    "print()\n",
    "print(df.info())"
   ]
  },
  {
   "cell_type": "markdown",
   "id": "a45c6474",
   "metadata": {},
   "source": [
    "<br>  \n",
    "\n",
    "# Step 4: Convert date column to date  "
   ]
  },
  {
   "cell_type": "code",
   "execution_count": 4,
   "id": "2e09656d",
   "metadata": {},
   "outputs": [],
   "source": [
    "df['col_date'] = pd.to_datetime(df['col_date'], errors='coerce')"
   ]
  },
  {
   "cell_type": "code",
   "execution_count": 5,
   "id": "58a2ba12",
   "metadata": {},
   "outputs": [
    {
     "name": "stdout",
     "output_type": "stream",
     "text": [
      "-------------------- data frame --------------------\n",
      "\n",
      "    col_date col_string col_integer col_float\n",
      "0 2023-12-01      day_1           1       NaN\n",
      "1 2023-12-02      day_2           2         1\n",
      "2        NaT          3           e       1.1\n",
      "3        NaT          4       4.001       1.2\n",
      "4 2023-12-05        NaN           5       1.3\n",
      "5 2023-12-06      day_6         NaN         f\n",
      "\n",
      "-------------------- NaN --------------------\n",
      "\n",
      "   col_date  col_string  col_integer  col_float\n",
      "0     False       False        False       True\n",
      "1     False       False        False      False\n",
      "2      True       False        False      False\n",
      "3      True       False        False      False\n",
      "4     False        True        False      False\n",
      "5     False       False         True      False\n",
      "\n",
      "-------------------- data type --------------------\n",
      "\n",
      "<class 'pandas.core.frame.DataFrame'>\n",
      "RangeIndex: 6 entries, 0 to 5\n",
      "Data columns (total 4 columns):\n",
      " #   Column       Non-Null Count  Dtype         \n",
      "---  ------       --------------  -----         \n",
      " 0   col_date     4 non-null      datetime64[ns]\n",
      " 1   col_string   5 non-null      object        \n",
      " 2   col_integer  5 non-null      object        \n",
      " 3   col_float    5 non-null      object        \n",
      "dtypes: datetime64[ns](1), object(3)\n",
      "memory usage: 320.0+ bytes\n",
      "None\n"
     ]
    }
   ],
   "source": [
    "print('-------------------- data frame --------------------')\n",
    "print()\n",
    "print(df)\n",
    "print()\n",
    "print('-------------------- NaN --------------------')\n",
    "print()\n",
    "print(df.isna())\n",
    "print()\n",
    "print('-------------------- data type --------------------')\n",
    "print()\n",
    "print(df.info())"
   ]
  },
  {
   "cell_type": "markdown",
   "id": "3f93a5ad",
   "metadata": {},
   "source": [
    "<br>  \n",
    "\n",
    "# Step 5: Convert integer and float columns to numeric"
   ]
  },
  {
   "cell_type": "code",
   "execution_count": 6,
   "id": "c6d30469",
   "metadata": {},
   "outputs": [],
   "source": [
    "df[['col_integer','col_float']] = df[['col_integer','col_float']].apply(pd.to_numeric, errors='coerce')"
   ]
  },
  {
   "cell_type": "code",
   "execution_count": 7,
   "id": "f69d4908",
   "metadata": {},
   "outputs": [
    {
     "name": "stdout",
     "output_type": "stream",
     "text": [
      "-------------------- data frame --------------------\n",
      "\n",
      "    col_date col_string  col_integer  col_float\n",
      "0 2023-12-01      day_1        1.000        NaN\n",
      "1 2023-12-02      day_2        2.000        1.0\n",
      "2        NaT          3          NaN        1.1\n",
      "3        NaT          4        4.001        1.2\n",
      "4 2023-12-05        NaN        5.000        1.3\n",
      "5 2023-12-06      day_6          NaN        NaN\n",
      "\n",
      "-------------------- NaN --------------------\n",
      "\n",
      "   col_date  col_string  col_integer  col_float\n",
      "0     False       False        False       True\n",
      "1     False       False        False      False\n",
      "2      True       False         True      False\n",
      "3      True       False        False      False\n",
      "4     False        True        False      False\n",
      "5     False       False         True       True\n",
      "\n",
      "-------------------- data type --------------------\n",
      "\n",
      "<class 'pandas.core.frame.DataFrame'>\n",
      "RangeIndex: 6 entries, 0 to 5\n",
      "Data columns (total 4 columns):\n",
      " #   Column       Non-Null Count  Dtype         \n",
      "---  ------       --------------  -----         \n",
      " 0   col_date     4 non-null      datetime64[ns]\n",
      " 1   col_string   5 non-null      object        \n",
      " 2   col_integer  4 non-null      float64       \n",
      " 3   col_float    4 non-null      float64       \n",
      "dtypes: datetime64[ns](1), float64(2), object(1)\n",
      "memory usage: 320.0+ bytes\n",
      "None\n"
     ]
    }
   ],
   "source": [
    "print('-------------------- data frame --------------------')\n",
    "print()\n",
    "print(df)\n",
    "print()\n",
    "print('-------------------- NaN --------------------')\n",
    "print()\n",
    "print(df.isna())\n",
    "print()\n",
    "print('-------------------- data type --------------------')\n",
    "print()\n",
    "print(df.info())"
   ]
  },
  {
   "cell_type": "markdown",
   "id": "08c82273",
   "metadata": {},
   "source": [
    "<br>  \n",
    "\n",
    "# Step 6: Cannot convert column with float and NaN to integer  "
   ]
  },
  {
   "cell_type": "code",
   "execution_count": 8,
   "id": "d689d994",
   "metadata": {},
   "outputs": [
    {
     "ename": "IntCastingNaNError",
     "evalue": "Cannot convert non-finite values (NA or inf) to integer",
     "output_type": "error",
     "traceback": [
      "\u001b[1;31m---------------------------------------------------------------------------\u001b[0m",
      "\u001b[1;31mIntCastingNaNError\u001b[0m                        Traceback (most recent call last)",
      "Cell \u001b[1;32mIn[8], line 1\u001b[0m\n\u001b[1;32m----> 1\u001b[0m df[\u001b[38;5;124m'\u001b[39m\u001b[38;5;124mcol_integer\u001b[39m\u001b[38;5;124m'\u001b[39m] \u001b[38;5;241m=\u001b[39m \u001b[43mdf\u001b[49m\u001b[43m[\u001b[49m\u001b[38;5;124;43m'\u001b[39;49m\u001b[38;5;124;43mcol_integer\u001b[39;49m\u001b[38;5;124;43m'\u001b[39;49m\u001b[43m]\u001b[49m\u001b[38;5;241;43m.\u001b[39;49m\u001b[43mastype\u001b[49m\u001b[43m(\u001b[49m\u001b[38;5;28;43mint\u001b[39;49m\u001b[43m)\u001b[49m\n",
      "File \u001b[1;32m~\\anaconda3\\lib\\site-packages\\pandas\\core\\generic.py:6240\u001b[0m, in \u001b[0;36mNDFrame.astype\u001b[1;34m(self, dtype, copy, errors)\u001b[0m\n\u001b[0;32m   6233\u001b[0m     results \u001b[38;5;241m=\u001b[39m [\n\u001b[0;32m   6234\u001b[0m         \u001b[38;5;28mself\u001b[39m\u001b[38;5;241m.\u001b[39miloc[:, i]\u001b[38;5;241m.\u001b[39mastype(dtype, copy\u001b[38;5;241m=\u001b[39mcopy)\n\u001b[0;32m   6235\u001b[0m         \u001b[38;5;28;01mfor\u001b[39;00m i \u001b[38;5;129;01min\u001b[39;00m \u001b[38;5;28mrange\u001b[39m(\u001b[38;5;28mlen\u001b[39m(\u001b[38;5;28mself\u001b[39m\u001b[38;5;241m.\u001b[39mcolumns))\n\u001b[0;32m   6236\u001b[0m     ]\n\u001b[0;32m   6238\u001b[0m \u001b[38;5;28;01melse\u001b[39;00m:\n\u001b[0;32m   6239\u001b[0m     \u001b[38;5;66;03m# else, only a single dtype is given\u001b[39;00m\n\u001b[1;32m-> 6240\u001b[0m     new_data \u001b[38;5;241m=\u001b[39m \u001b[38;5;28;43mself\u001b[39;49m\u001b[38;5;241;43m.\u001b[39;49m\u001b[43m_mgr\u001b[49m\u001b[38;5;241;43m.\u001b[39;49m\u001b[43mastype\u001b[49m\u001b[43m(\u001b[49m\u001b[43mdtype\u001b[49m\u001b[38;5;241;43m=\u001b[39;49m\u001b[43mdtype\u001b[49m\u001b[43m,\u001b[49m\u001b[43m \u001b[49m\u001b[43mcopy\u001b[49m\u001b[38;5;241;43m=\u001b[39;49m\u001b[43mcopy\u001b[49m\u001b[43m,\u001b[49m\u001b[43m \u001b[49m\u001b[43merrors\u001b[49m\u001b[38;5;241;43m=\u001b[39;49m\u001b[43merrors\u001b[49m\u001b[43m)\u001b[49m\n\u001b[0;32m   6241\u001b[0m     \u001b[38;5;28;01mreturn\u001b[39;00m \u001b[38;5;28mself\u001b[39m\u001b[38;5;241m.\u001b[39m_constructor(new_data)\u001b[38;5;241m.\u001b[39m__finalize__(\u001b[38;5;28mself\u001b[39m, method\u001b[38;5;241m=\u001b[39m\u001b[38;5;124m\"\u001b[39m\u001b[38;5;124mastype\u001b[39m\u001b[38;5;124m\"\u001b[39m)\n\u001b[0;32m   6243\u001b[0m \u001b[38;5;66;03m# GH 33113: handle empty frame or series\u001b[39;00m\n",
      "File \u001b[1;32m~\\anaconda3\\lib\\site-packages\\pandas\\core\\internals\\managers.py:448\u001b[0m, in \u001b[0;36mBaseBlockManager.astype\u001b[1;34m(self, dtype, copy, errors)\u001b[0m\n\u001b[0;32m    447\u001b[0m \u001b[38;5;28;01mdef\u001b[39;00m \u001b[38;5;21mastype\u001b[39m(\u001b[38;5;28mself\u001b[39m: T, dtype, copy: \u001b[38;5;28mbool\u001b[39m \u001b[38;5;241m=\u001b[39m \u001b[38;5;28;01mFalse\u001b[39;00m, errors: \u001b[38;5;28mstr\u001b[39m \u001b[38;5;241m=\u001b[39m \u001b[38;5;124m\"\u001b[39m\u001b[38;5;124mraise\u001b[39m\u001b[38;5;124m\"\u001b[39m) \u001b[38;5;241m-\u001b[39m\u001b[38;5;241m>\u001b[39m T:\n\u001b[1;32m--> 448\u001b[0m     \u001b[38;5;28;01mreturn\u001b[39;00m \u001b[38;5;28;43mself\u001b[39;49m\u001b[38;5;241;43m.\u001b[39;49m\u001b[43mapply\u001b[49m\u001b[43m(\u001b[49m\u001b[38;5;124;43m\"\u001b[39;49m\u001b[38;5;124;43mastype\u001b[39;49m\u001b[38;5;124;43m\"\u001b[39;49m\u001b[43m,\u001b[49m\u001b[43m \u001b[49m\u001b[43mdtype\u001b[49m\u001b[38;5;241;43m=\u001b[39;49m\u001b[43mdtype\u001b[49m\u001b[43m,\u001b[49m\u001b[43m \u001b[49m\u001b[43mcopy\u001b[49m\u001b[38;5;241;43m=\u001b[39;49m\u001b[43mcopy\u001b[49m\u001b[43m,\u001b[49m\u001b[43m \u001b[49m\u001b[43merrors\u001b[49m\u001b[38;5;241;43m=\u001b[39;49m\u001b[43merrors\u001b[49m\u001b[43m)\u001b[49m\n",
      "File \u001b[1;32m~\\anaconda3\\lib\\site-packages\\pandas\\core\\internals\\managers.py:352\u001b[0m, in \u001b[0;36mBaseBlockManager.apply\u001b[1;34m(self, f, align_keys, ignore_failures, **kwargs)\u001b[0m\n\u001b[0;32m    350\u001b[0m         applied \u001b[38;5;241m=\u001b[39m b\u001b[38;5;241m.\u001b[39mapply(f, \u001b[38;5;241m*\u001b[39m\u001b[38;5;241m*\u001b[39mkwargs)\n\u001b[0;32m    351\u001b[0m     \u001b[38;5;28;01melse\u001b[39;00m:\n\u001b[1;32m--> 352\u001b[0m         applied \u001b[38;5;241m=\u001b[39m \u001b[38;5;28mgetattr\u001b[39m(b, f)(\u001b[38;5;241m*\u001b[39m\u001b[38;5;241m*\u001b[39mkwargs)\n\u001b[0;32m    353\u001b[0m \u001b[38;5;28;01mexcept\u001b[39;00m (\u001b[38;5;167;01mTypeError\u001b[39;00m, \u001b[38;5;167;01mNotImplementedError\u001b[39;00m):\n\u001b[0;32m    354\u001b[0m     \u001b[38;5;28;01mif\u001b[39;00m \u001b[38;5;129;01mnot\u001b[39;00m ignore_failures:\n",
      "File \u001b[1;32m~\\anaconda3\\lib\\site-packages\\pandas\\core\\internals\\blocks.py:526\u001b[0m, in \u001b[0;36mBlock.astype\u001b[1;34m(self, dtype, copy, errors)\u001b[0m\n\u001b[0;32m    508\u001b[0m \u001b[38;5;124;03m\"\"\"\u001b[39;00m\n\u001b[0;32m    509\u001b[0m \u001b[38;5;124;03mCoerce to the new dtype.\u001b[39;00m\n\u001b[0;32m    510\u001b[0m \n\u001b[1;32m   (...)\u001b[0m\n\u001b[0;32m    522\u001b[0m \u001b[38;5;124;03mBlock\u001b[39;00m\n\u001b[0;32m    523\u001b[0m \u001b[38;5;124;03m\"\"\"\u001b[39;00m\n\u001b[0;32m    524\u001b[0m values \u001b[38;5;241m=\u001b[39m \u001b[38;5;28mself\u001b[39m\u001b[38;5;241m.\u001b[39mvalues\n\u001b[1;32m--> 526\u001b[0m new_values \u001b[38;5;241m=\u001b[39m \u001b[43mastype_array_safe\u001b[49m\u001b[43m(\u001b[49m\u001b[43mvalues\u001b[49m\u001b[43m,\u001b[49m\u001b[43m \u001b[49m\u001b[43mdtype\u001b[49m\u001b[43m,\u001b[49m\u001b[43m \u001b[49m\u001b[43mcopy\u001b[49m\u001b[38;5;241;43m=\u001b[39;49m\u001b[43mcopy\u001b[49m\u001b[43m,\u001b[49m\u001b[43m \u001b[49m\u001b[43merrors\u001b[49m\u001b[38;5;241;43m=\u001b[39;49m\u001b[43merrors\u001b[49m\u001b[43m)\u001b[49m\n\u001b[0;32m    528\u001b[0m new_values \u001b[38;5;241m=\u001b[39m maybe_coerce_values(new_values)\n\u001b[0;32m    529\u001b[0m newb \u001b[38;5;241m=\u001b[39m \u001b[38;5;28mself\u001b[39m\u001b[38;5;241m.\u001b[39mmake_block(new_values)\n",
      "File \u001b[1;32m~\\anaconda3\\lib\\site-packages\\pandas\\core\\dtypes\\astype.py:299\u001b[0m, in \u001b[0;36mastype_array_safe\u001b[1;34m(values, dtype, copy, errors)\u001b[0m\n\u001b[0;32m    296\u001b[0m     \u001b[38;5;28;01mreturn\u001b[39;00m values\u001b[38;5;241m.\u001b[39mcopy()\n\u001b[0;32m    298\u001b[0m \u001b[38;5;28;01mtry\u001b[39;00m:\n\u001b[1;32m--> 299\u001b[0m     new_values \u001b[38;5;241m=\u001b[39m \u001b[43mastype_array\u001b[49m\u001b[43m(\u001b[49m\u001b[43mvalues\u001b[49m\u001b[43m,\u001b[49m\u001b[43m \u001b[49m\u001b[43mdtype\u001b[49m\u001b[43m,\u001b[49m\u001b[43m \u001b[49m\u001b[43mcopy\u001b[49m\u001b[38;5;241;43m=\u001b[39;49m\u001b[43mcopy\u001b[49m\u001b[43m)\u001b[49m\n\u001b[0;32m    300\u001b[0m \u001b[38;5;28;01mexcept\u001b[39;00m (\u001b[38;5;167;01mValueError\u001b[39;00m, \u001b[38;5;167;01mTypeError\u001b[39;00m):\n\u001b[0;32m    301\u001b[0m     \u001b[38;5;66;03m# e.g. astype_nansafe can fail on object-dtype of strings\u001b[39;00m\n\u001b[0;32m    302\u001b[0m     \u001b[38;5;66;03m#  trying to convert to float\u001b[39;00m\n\u001b[0;32m    303\u001b[0m     \u001b[38;5;28;01mif\u001b[39;00m errors \u001b[38;5;241m==\u001b[39m \u001b[38;5;124m\"\u001b[39m\u001b[38;5;124mignore\u001b[39m\u001b[38;5;124m\"\u001b[39m:\n",
      "File \u001b[1;32m~\\anaconda3\\lib\\site-packages\\pandas\\core\\dtypes\\astype.py:230\u001b[0m, in \u001b[0;36mastype_array\u001b[1;34m(values, dtype, copy)\u001b[0m\n\u001b[0;32m    227\u001b[0m     values \u001b[38;5;241m=\u001b[39m values\u001b[38;5;241m.\u001b[39mastype(dtype, copy\u001b[38;5;241m=\u001b[39mcopy)\n\u001b[0;32m    229\u001b[0m \u001b[38;5;28;01melse\u001b[39;00m:\n\u001b[1;32m--> 230\u001b[0m     values \u001b[38;5;241m=\u001b[39m \u001b[43mastype_nansafe\u001b[49m\u001b[43m(\u001b[49m\u001b[43mvalues\u001b[49m\u001b[43m,\u001b[49m\u001b[43m \u001b[49m\u001b[43mdtype\u001b[49m\u001b[43m,\u001b[49m\u001b[43m \u001b[49m\u001b[43mcopy\u001b[49m\u001b[38;5;241;43m=\u001b[39;49m\u001b[43mcopy\u001b[49m\u001b[43m)\u001b[49m\n\u001b[0;32m    232\u001b[0m \u001b[38;5;66;03m# in pandas we don't store numpy str dtypes, so convert to object\u001b[39;00m\n\u001b[0;32m    233\u001b[0m \u001b[38;5;28;01mif\u001b[39;00m \u001b[38;5;28misinstance\u001b[39m(dtype, np\u001b[38;5;241m.\u001b[39mdtype) \u001b[38;5;129;01mand\u001b[39;00m \u001b[38;5;28missubclass\u001b[39m(values\u001b[38;5;241m.\u001b[39mdtype\u001b[38;5;241m.\u001b[39mtype, \u001b[38;5;28mstr\u001b[39m):\n",
      "File \u001b[1;32m~\\anaconda3\\lib\\site-packages\\pandas\\core\\dtypes\\astype.py:140\u001b[0m, in \u001b[0;36mastype_nansafe\u001b[1;34m(arr, dtype, copy, skipna)\u001b[0m\n\u001b[0;32m    137\u001b[0m     \u001b[38;5;28;01mraise\u001b[39;00m \u001b[38;5;167;01mTypeError\u001b[39;00m(\u001b[38;5;124mf\u001b[39m\u001b[38;5;124m\"\u001b[39m\u001b[38;5;124mcannot astype a timedelta from [\u001b[39m\u001b[38;5;132;01m{\u001b[39;00marr\u001b[38;5;241m.\u001b[39mdtype\u001b[38;5;132;01m}\u001b[39;00m\u001b[38;5;124m] to [\u001b[39m\u001b[38;5;132;01m{\u001b[39;00mdtype\u001b[38;5;132;01m}\u001b[39;00m\u001b[38;5;124m]\u001b[39m\u001b[38;5;124m\"\u001b[39m)\n\u001b[0;32m    139\u001b[0m \u001b[38;5;28;01melif\u001b[39;00m np\u001b[38;5;241m.\u001b[39missubdtype(arr\u001b[38;5;241m.\u001b[39mdtype, np\u001b[38;5;241m.\u001b[39mfloating) \u001b[38;5;129;01mand\u001b[39;00m is_integer_dtype(dtype):\n\u001b[1;32m--> 140\u001b[0m     \u001b[38;5;28;01mreturn\u001b[39;00m \u001b[43m_astype_float_to_int_nansafe\u001b[49m\u001b[43m(\u001b[49m\u001b[43marr\u001b[49m\u001b[43m,\u001b[49m\u001b[43m \u001b[49m\u001b[43mdtype\u001b[49m\u001b[43m,\u001b[49m\u001b[43m \u001b[49m\u001b[43mcopy\u001b[49m\u001b[43m)\u001b[49m\n\u001b[0;32m    142\u001b[0m \u001b[38;5;28;01melif\u001b[39;00m is_object_dtype(arr\u001b[38;5;241m.\u001b[39mdtype):\n\u001b[0;32m    143\u001b[0m \n\u001b[0;32m    144\u001b[0m     \u001b[38;5;66;03m# if we have a datetime/timedelta array of objects\u001b[39;00m\n\u001b[0;32m    145\u001b[0m     \u001b[38;5;66;03m# then coerce to a proper dtype and recall astype_nansafe\u001b[39;00m\n\u001b[0;32m    147\u001b[0m     \u001b[38;5;28;01mif\u001b[39;00m is_datetime64_dtype(dtype):\n",
      "File \u001b[1;32m~\\anaconda3\\lib\\site-packages\\pandas\\core\\dtypes\\astype.py:182\u001b[0m, in \u001b[0;36m_astype_float_to_int_nansafe\u001b[1;34m(values, dtype, copy)\u001b[0m\n\u001b[0;32m    178\u001b[0m \u001b[38;5;124;03m\"\"\"\u001b[39;00m\n\u001b[0;32m    179\u001b[0m \u001b[38;5;124;03mastype with a check preventing converting NaN to an meaningless integer value.\u001b[39;00m\n\u001b[0;32m    180\u001b[0m \u001b[38;5;124;03m\"\"\"\u001b[39;00m\n\u001b[0;32m    181\u001b[0m \u001b[38;5;28;01mif\u001b[39;00m \u001b[38;5;129;01mnot\u001b[39;00m np\u001b[38;5;241m.\u001b[39misfinite(values)\u001b[38;5;241m.\u001b[39mall():\n\u001b[1;32m--> 182\u001b[0m     \u001b[38;5;28;01mraise\u001b[39;00m IntCastingNaNError(\n\u001b[0;32m    183\u001b[0m         \u001b[38;5;124m\"\u001b[39m\u001b[38;5;124mCannot convert non-finite values (NA or inf) to integer\u001b[39m\u001b[38;5;124m\"\u001b[39m\n\u001b[0;32m    184\u001b[0m     )\n\u001b[0;32m    185\u001b[0m \u001b[38;5;28;01mif\u001b[39;00m dtype\u001b[38;5;241m.\u001b[39mkind \u001b[38;5;241m==\u001b[39m \u001b[38;5;124m\"\u001b[39m\u001b[38;5;124mu\u001b[39m\u001b[38;5;124m\"\u001b[39m:\n\u001b[0;32m    186\u001b[0m     \u001b[38;5;66;03m# GH#45151\u001b[39;00m\n\u001b[0;32m    187\u001b[0m     \u001b[38;5;28;01mif\u001b[39;00m \u001b[38;5;129;01mnot\u001b[39;00m (values \u001b[38;5;241m>\u001b[39m\u001b[38;5;241m=\u001b[39m \u001b[38;5;241m0\u001b[39m)\u001b[38;5;241m.\u001b[39mall():\n",
      "\u001b[1;31mIntCastingNaNError\u001b[0m: Cannot convert non-finite values (NA or inf) to integer"
     ]
    }
   ],
   "source": [
    "df['col_integer'] = df['col_integer'].astype(int)"
   ]
  },
  {
   "cell_type": "markdown",
   "id": "ecea115c",
   "metadata": {},
   "source": [
    "<br>  \n",
    "\n",
    "# Step 7: Fill NaN with 0"
   ]
  },
  {
   "cell_type": "code",
   "execution_count": 9,
   "id": "0df1dbc8",
   "metadata": {},
   "outputs": [],
   "source": [
    "df[['col_integer','col_float']] = df[['col_integer','col_float']].fillna(0)"
   ]
  },
  {
   "cell_type": "code",
   "execution_count": 10,
   "id": "901a2ec1",
   "metadata": {},
   "outputs": [
    {
     "name": "stdout",
     "output_type": "stream",
     "text": [
      "-------------------- data frame --------------------\n",
      "\n",
      "    col_date col_string  col_integer  col_float\n",
      "0 2023-12-01      day_1        1.000        0.0\n",
      "1 2023-12-02      day_2        2.000        1.0\n",
      "2        NaT          3        0.000        1.1\n",
      "3        NaT          4        4.001        1.2\n",
      "4 2023-12-05        NaN        5.000        1.3\n",
      "5 2023-12-06      day_6        0.000        0.0\n",
      "\n",
      "-------------------- NaN --------------------\n",
      "\n",
      "   col_date  col_string  col_integer  col_float\n",
      "0     False       False        False      False\n",
      "1     False       False        False      False\n",
      "2      True       False        False      False\n",
      "3      True       False        False      False\n",
      "4     False        True        False      False\n",
      "5     False       False        False      False\n",
      "\n",
      "-------------------- data type --------------------\n",
      "\n",
      "<class 'pandas.core.frame.DataFrame'>\n",
      "RangeIndex: 6 entries, 0 to 5\n",
      "Data columns (total 4 columns):\n",
      " #   Column       Non-Null Count  Dtype         \n",
      "---  ------       --------------  -----         \n",
      " 0   col_date     4 non-null      datetime64[ns]\n",
      " 1   col_string   5 non-null      object        \n",
      " 2   col_integer  6 non-null      float64       \n",
      " 3   col_float    6 non-null      float64       \n",
      "dtypes: datetime64[ns](1), float64(2), object(1)\n",
      "memory usage: 320.0+ bytes\n",
      "None\n"
     ]
    }
   ],
   "source": [
    "print('-------------------- data frame --------------------')\n",
    "print()\n",
    "print(df)\n",
    "print()\n",
    "print('-------------------- NaN --------------------')\n",
    "print()\n",
    "print(df.isna())\n",
    "print()\n",
    "print('-------------------- data type --------------------')\n",
    "print()\n",
    "print(df.info())"
   ]
  },
  {
   "cell_type": "markdown",
   "id": "5187b3b1",
   "metadata": {},
   "source": [
    "<br>  \n",
    "\n",
    "# Step 8: Convert integer column to integer"
   ]
  },
  {
   "cell_type": "code",
   "execution_count": 11,
   "id": "41a67272",
   "metadata": {},
   "outputs": [],
   "source": [
    "df['col_integer'] = df['col_integer'].astype(int)"
   ]
  },
  {
   "cell_type": "code",
   "execution_count": 12,
   "id": "2bef03eb",
   "metadata": {},
   "outputs": [
    {
     "name": "stdout",
     "output_type": "stream",
     "text": [
      "-------------------- data frame --------------------\n",
      "\n",
      "    col_date col_string  col_integer  col_float\n",
      "0 2023-12-01      day_1            1        0.0\n",
      "1 2023-12-02      day_2            2        1.0\n",
      "2        NaT          3            0        1.1\n",
      "3        NaT          4            4        1.2\n",
      "4 2023-12-05        NaN            5        1.3\n",
      "5 2023-12-06      day_6            0        0.0\n",
      "\n",
      "-------------------- NaN --------------------\n",
      "\n",
      "   col_date  col_string  col_integer  col_float\n",
      "0     False       False        False      False\n",
      "1     False       False        False      False\n",
      "2      True       False        False      False\n",
      "3      True       False        False      False\n",
      "4     False        True        False      False\n",
      "5     False       False        False      False\n",
      "\n",
      "-------------------- data type --------------------\n",
      "\n",
      "<class 'pandas.core.frame.DataFrame'>\n",
      "RangeIndex: 6 entries, 0 to 5\n",
      "Data columns (total 4 columns):\n",
      " #   Column       Non-Null Count  Dtype         \n",
      "---  ------       --------------  -----         \n",
      " 0   col_date     4 non-null      datetime64[ns]\n",
      " 1   col_string   5 non-null      object        \n",
      " 2   col_integer  6 non-null      int32         \n",
      " 3   col_float    6 non-null      float64       \n",
      "dtypes: datetime64[ns](1), float64(1), int32(1), object(1)\n",
      "memory usage: 296.0+ bytes\n",
      "None\n"
     ]
    }
   ],
   "source": [
    "print('-------------------- data frame --------------------')\n",
    "print()\n",
    "print(df)\n",
    "print()\n",
    "print('-------------------- NaN --------------------')\n",
    "print()\n",
    "print(df.isna())\n",
    "print()\n",
    "print('-------------------- data type --------------------')\n",
    "print()\n",
    "print(df.info())"
   ]
  },
  {
   "cell_type": "markdown",
   "id": "29207021",
   "metadata": {},
   "source": [
    "<br>  \n",
    "\n",
    "# Step 9: Convert NaN in string column to \"no_value\"  "
   ]
  },
  {
   "cell_type": "code",
   "execution_count": 13,
   "id": "ff289b97",
   "metadata": {},
   "outputs": [],
   "source": [
    "df['col_string'] = df['col_string'].fillna('no_value')"
   ]
  },
  {
   "cell_type": "code",
   "execution_count": 14,
   "id": "dd6b77d4",
   "metadata": {},
   "outputs": [
    {
     "name": "stdout",
     "output_type": "stream",
     "text": [
      "-------------------- data frame --------------------\n",
      "\n",
      "    col_date col_string  col_integer  col_float\n",
      "0 2023-12-01      day_1            1        0.0\n",
      "1 2023-12-02      day_2            2        1.0\n",
      "2        NaT          3            0        1.1\n",
      "3        NaT          4            4        1.2\n",
      "4 2023-12-05   no_value            5        1.3\n",
      "5 2023-12-06      day_6            0        0.0\n",
      "\n",
      "-------------------- NaN --------------------\n",
      "\n",
      "   col_date  col_string  col_integer  col_float\n",
      "0     False       False        False      False\n",
      "1     False       False        False      False\n",
      "2      True       False        False      False\n",
      "3      True       False        False      False\n",
      "4     False       False        False      False\n",
      "5     False       False        False      False\n",
      "\n",
      "-------------------- data type --------------------\n",
      "\n",
      "<class 'pandas.core.frame.DataFrame'>\n",
      "RangeIndex: 6 entries, 0 to 5\n",
      "Data columns (total 4 columns):\n",
      " #   Column       Non-Null Count  Dtype         \n",
      "---  ------       --------------  -----         \n",
      " 0   col_date     4 non-null      datetime64[ns]\n",
      " 1   col_string   6 non-null      object        \n",
      " 2   col_integer  6 non-null      int32         \n",
      " 3   col_float    6 non-null      float64       \n",
      "dtypes: datetime64[ns](1), float64(1), int32(1), object(1)\n",
      "memory usage: 296.0+ bytes\n",
      "None\n"
     ]
    }
   ],
   "source": [
    "print('-------------------- data frame --------------------')\n",
    "print()\n",
    "print(df)\n",
    "print()\n",
    "print('-------------------- NaN --------------------')\n",
    "print()\n",
    "print(df.isna())\n",
    "print()\n",
    "print('-------------------- data type --------------------')\n",
    "print()\n",
    "print(df.info())"
   ]
  },
  {
   "cell_type": "markdown",
   "id": "2c005dfa",
   "metadata": {},
   "source": [
    "<br>  \n",
    "\n",
    "# End result"
   ]
  },
  {
   "cell_type": "code",
   "execution_count": 15,
   "id": "355f87be",
   "metadata": {},
   "outputs": [
    {
     "name": "stdout",
     "output_type": "stream",
     "text": [
      "-------------------- data frame --------------------\n",
      "\n",
      "    col_date col_string  col_integer  col_float\n",
      "0 2023-12-01      day_1            1        0.0\n",
      "1 2023-12-02      day_2            2        1.0\n",
      "2        NaT          3            0        1.1\n",
      "3        NaT          4            4        1.2\n",
      "4 2023-12-05   no_value            5        1.3\n",
      "5 2023-12-06      day_6            0        0.0\n",
      "\n",
      "-------------------- NaN --------------------\n",
      "\n",
      "   col_date  col_string  col_integer  col_float\n",
      "0     False       False        False      False\n",
      "1     False       False        False      False\n",
      "2      True       False        False      False\n",
      "3      True       False        False      False\n",
      "4     False       False        False      False\n",
      "5     False       False        False      False\n",
      "\n",
      "-------------------- data type --------------------\n",
      "\n",
      "<class 'pandas.core.frame.DataFrame'>\n",
      "RangeIndex: 6 entries, 0 to 5\n",
      "Data columns (total 4 columns):\n",
      " #   Column       Non-Null Count  Dtype         \n",
      "---  ------       --------------  -----         \n",
      " 0   col_date     4 non-null      datetime64[ns]\n",
      " 1   col_string   6 non-null      object        \n",
      " 2   col_integer  6 non-null      int32         \n",
      " 3   col_float    6 non-null      float64       \n",
      "dtypes: datetime64[ns](1), float64(1), int32(1), object(1)\n",
      "memory usage: 296.0+ bytes\n",
      "None\n"
     ]
    }
   ],
   "source": [
    "print('-------------------- data frame --------------------')\n",
    "print()\n",
    "print(df)\n",
    "print()\n",
    "print('-------------------- NaN --------------------')\n",
    "print()\n",
    "print(df.isna())\n",
    "print()\n",
    "print('-------------------- data type --------------------')\n",
    "print()\n",
    "print(df.info())"
   ]
  },
  {
   "cell_type": "code",
   "execution_count": null,
   "id": "e82532cb",
   "metadata": {},
   "outputs": [],
   "source": []
  }
 ],
 "metadata": {
  "kernelspec": {
   "display_name": "Python 3 (ipykernel)",
   "language": "python",
   "name": "python3"
  },
  "language_info": {
   "codemirror_mode": {
    "name": "ipython",
    "version": 3
   },
   "file_extension": ".py",
   "mimetype": "text/x-python",
   "name": "python",
   "nbconvert_exporter": "python",
   "pygments_lexer": "ipython3",
   "version": "3.10.9"
  }
 },
 "nbformat": 4,
 "nbformat_minor": 5
}
